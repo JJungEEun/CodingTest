{
 "cells": [
  {
   "cell_type": "markdown",
   "id": "7b502ec3",
   "metadata": {},
   "source": [
    "## programmers 42888. 오픈채팅방\n",
    "---\n",
    "\n",
    "- 2019 KAKAO BLIND RECRUITMENT\n",
    "- https://programmers.co.kr/learn/courses/30/lessons/42888"
   ]
  },
  {
   "cell_type": "markdown",
   "id": "2fddf188",
   "metadata": {},
   "source": [
    "### My Solution "
   ]
  },
  {
   "cell_type": "code",
   "execution_count": 9,
   "id": "ba5cdc2f",
   "metadata": {},
   "outputs": [],
   "source": [
    "import collections\n",
    "\n",
    "def solution(record):\n",
    "    answer = []\n",
    "    name = collections.defaultdict()\n",
    "    \n",
    "        \n",
    "    for nick in record:\n",
    "        nick = nick.split(\" \")\n",
    "        if nick[0] == 'Enter' or nick[0] == 'Change':\n",
    "            name[nick[1]] = nick[2]\n",
    "            \n",
    "    for action in record:\n",
    "        action = action.split(\" \")\n",
    "        if action[0] == 'Enter':\n",
    "            answer.append(name[action[1]] + \"님이 들어왔습니다.\")\n",
    "        elif action[0] == 'Leave':\n",
    "            answer.append(name[action[1]] + \"님이 나갔습니다.\")\n",
    "\n",
    "        \n",
    "    return answer"
   ]
  },
  {
   "cell_type": "code",
   "execution_count": 10,
   "id": "249fbbb1",
   "metadata": {},
   "outputs": [
    {
     "data": {
      "text/plain": [
       "['Prodo님이 들어왔습니다.', 'Ryan님이 들어왔습니다.', 'Prodo님이 나갔습니다.', 'Prodo님이 들어왔습니다.']"
      ]
     },
     "execution_count": 10,
     "metadata": {},
     "output_type": "execute_result"
    }
   ],
   "source": [
    "record = [\"Enter uid1234 Muzi\", \"Enter uid4567 Prodo\",\"Leave uid1234\",\"Enter uid1234 Prodo\",\"Change uid4567 Ryan\"]\n",
    "solution(record)"
   ]
  },
  {
   "cell_type": "markdown",
   "id": "d4f724aa",
   "metadata": {},
   "source": [
    "### Solution 01"
   ]
  },
  {
   "cell_type": "code",
   "execution_count": 6,
   "id": "7a1f3285",
   "metadata": {},
   "outputs": [],
   "source": [
    "def solution(record):\n",
    "    name = {} #id와 닉네임\n",
    "    state = {'Enter':'들어왔습니다.', 'Leave': '나갔습니다.'} \n",
    "    ans = []\n",
    "    \n",
    "    for r in record:\n",
    "        r = r.split(\" \")\n",
    "        if r[0] != 'Leave': #들어오거나 이름을 변경하는 경우만 닉네임 저장\n",
    "            name[r[1]] = r[2]\n",
    "\n",
    "        if r[0] != 'Change': #들어오거나 나가는 경우 상태 저장\n",
    "            ans.append([r[1],state[r[0]]])\n",
    "            \n",
    "            \n",
    "    for i in range(0, len(ans)):\n",
    "        str = name[ans[i][0]]+ \"님이 \"+ ans[i][1] #문자열로 변경 후 \n",
    "        ans[i] = str #ans에 저장\n",
    "    \n",
    "    return ans"
   ]
  },
  {
   "cell_type": "code",
   "execution_count": 7,
   "id": "4a90e147",
   "metadata": {},
   "outputs": [
    {
     "name": "stdout",
     "output_type": "stream",
     "text": [
      "[['uid1234', '들어왔습니다.'], ['uid4567', '들어왔습니다.'], ['uid1234', '나갔습니다.'], ['uid1234', '들어왔습니다.']]\n"
     ]
    },
    {
     "data": {
      "text/plain": [
       "['Prodo님이 들어왔습니다.', 'Ryan님이 들어왔습니다.', 'Prodo님이 나갔습니다.', 'Prodo님이 들어왔습니다.']"
      ]
     },
     "execution_count": 7,
     "metadata": {},
     "output_type": "execute_result"
    }
   ],
   "source": [
    "record = [\"Enter uid1234 Muzi\", \"Enter uid4567 Prodo\",\"Leave uid1234\",\"Enter uid1234 Prodo\",\"Change uid4567 Ryan\"]\n",
    "solution(record)"
   ]
  },
  {
   "cell_type": "code",
   "execution_count": null,
   "id": "8ab00586",
   "metadata": {},
   "outputs": [],
   "source": []
  }
 ],
 "metadata": {
  "kernelspec": {
   "display_name": "Python 3",
   "language": "python",
   "name": "python3"
  },
  "language_info": {
   "codemirror_mode": {
    "name": "ipython",
    "version": 3
   },
   "file_extension": ".py",
   "mimetype": "text/x-python",
   "name": "python",
   "nbconvert_exporter": "python",
   "pygments_lexer": "ipython3",
   "version": "3.8.8"
  }
 },
 "nbformat": 4,
 "nbformat_minor": 5
}
