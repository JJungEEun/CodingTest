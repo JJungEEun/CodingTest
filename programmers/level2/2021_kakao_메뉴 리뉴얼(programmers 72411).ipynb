{
 "cells": [
  {
   "cell_type": "markdown",
   "id": "0dd5aef0",
   "metadata": {},
   "source": [
    "## 메뉴 리뉴얼 \n",
    "---\n",
    "- 2021 KAKAO BLIND RECRUITMENT\n",
    "- https://programmers.co.kr/learn/courses/30/lessons/72411"
   ]
  },
  {
   "cell_type": "code",
   "execution_count": 3,
   "id": "353a383d",
   "metadata": {},
   "outputs": [],
   "source": [
    "import collections\n",
    "from itertools import combinations\n",
    "\n",
    "def solution(orders, course):\n",
    "    answer = []\n",
    "    for c in course:\n",
    "        array = []\n",
    "        for order in orders:\n",
    "            # 주문 문자열 정렬\n",
    "            order = sorted(order) \n",
    "            # 현재 주문에서 c개만큼 뽑아 나올 수 있는 조합 추출\n",
    "            array.extend(list(combinations(order, c)))\n",
    "        \n",
    "        # 해당 조합 count\n",
    "        cnt =  collections.Counter(array)\n",
    "        for c in cnt:\n",
    "            if cnt[c] == max([cnt[c] for c in cnt]): #max인 값이\n",
    "                    if cnt[c] > 1: #최소 2가지 이상이라면\n",
    "                        answer.append(''.join(c)) #tuple -> str\n",
    "\n",
    "    answer.sort() #문자열 정렬\n",
    "    return (answer)"
   ]
  },
  {
   "cell_type": "code",
   "execution_count": 4,
   "id": "74a70bf4",
   "metadata": {},
   "outputs": [
    {
     "data": {
      "text/plain": [
       "['AC', 'ACDE', 'BCFG', 'CDE']"
      ]
     },
     "execution_count": 4,
     "metadata": {},
     "output_type": "execute_result"
    }
   ],
   "source": [
    "orders = [\"ABCFG\", \"AC\", \"CDE\", \"ACDE\", \"BCFG\", \"ACDEH\"]\n",
    "course = [2,3,4]\n",
    "solution(orders, course)"
   ]
  },
  {
   "cell_type": "code",
   "execution_count": 5,
   "id": "f2f614dd",
   "metadata": {},
   "outputs": [
    {
     "data": {
      "text/plain": [
       "['ACD', 'AD', 'ADE', 'CD', 'XYZ']"
      ]
     },
     "execution_count": 5,
     "metadata": {},
     "output_type": "execute_result"
    }
   ],
   "source": [
    "orders = [\"ABCDE\", \"AB\", \"CD\", \"ADE\", \"XYZ\", \"XYZ\", \"ACD\"]\n",
    "course = [2,3,5]\n",
    "solution(orders, course)"
   ]
  },
  {
   "cell_type": "code",
   "execution_count": 6,
   "id": "e3c8de9a",
   "metadata": {},
   "outputs": [
    {
     "data": {
      "text/plain": [
       "['WX', 'XY']"
      ]
     },
     "execution_count": 6,
     "metadata": {},
     "output_type": "execute_result"
    }
   ],
   "source": [
    "orders =[\"XYZ\", \"XWY\", \"WXA\"]\n",
    "course = [2,3,4]\n",
    "solution(orders, course)"
   ]
  },
  {
   "cell_type": "markdown",
   "id": "2e5a2f16",
   "metadata": {},
   "source": [
    "### 2: 좀 더 똑똑한 풀이 ,,, !"
   ]
  },
  {
   "cell_type": "code",
   "execution_count": 11,
   "id": "57dbdd9a",
   "metadata": {},
   "outputs": [],
   "source": [
    "import collections\n",
    "import itertools\n",
    "\n",
    "def solution(orders, course):\n",
    "    result = []\n",
    "\n",
    "    for course_size in course:\n",
    "        order_combinations = []\n",
    "        for order in orders:\n",
    "            order_combinations += itertools.combinations(sorted(order), course_size)\n",
    "\n",
    "        most_ordered = collections.Counter(order_combinations).most_common() #최빈값 순으로\n",
    "        result += [ k for k, v in most_ordered if v > 1 and v == most_ordered[0][1] ] #max값과 동일하고 2 이상이면\n",
    " \n",
    "    return [ ''.join(v) for v in sorted(result) ]"
   ]
  },
  {
   "cell_type": "code",
   "execution_count": 12,
   "id": "0efff4bc",
   "metadata": {},
   "outputs": [
    {
     "data": {
      "text/plain": [
       "['AC', 'ACDE', 'BCFG', 'CDE']"
      ]
     },
     "execution_count": 12,
     "metadata": {},
     "output_type": "execute_result"
    }
   ],
   "source": [
    "orders = [\"ABCFG\", \"AC\", \"CDE\", \"ACDE\", \"BCFG\", \"ACDEH\"]\n",
    "course = [2,3,4]\n",
    "solution(orders, course)"
   ]
  },
  {
   "cell_type": "code",
   "execution_count": 13,
   "id": "1bf49d84",
   "metadata": {},
   "outputs": [
    {
     "data": {
      "text/plain": [
       "['ACD', 'AD', 'ADE', 'CD', 'XYZ']"
      ]
     },
     "execution_count": 13,
     "metadata": {},
     "output_type": "execute_result"
    }
   ],
   "source": [
    "orders = [\"ABCDE\", \"AB\", \"CD\", \"ADE\", \"XYZ\", \"XYZ\", \"ACD\"]\n",
    "course = [2,3,5]\n",
    "solution(orders, course)"
   ]
  },
  {
   "cell_type": "code",
   "execution_count": 14,
   "id": "285ff580",
   "metadata": {},
   "outputs": [
    {
     "data": {
      "text/plain": [
       "['WX', 'XY']"
      ]
     },
     "execution_count": 14,
     "metadata": {},
     "output_type": "execute_result"
    }
   ],
   "source": [
    "orders =[\"XYZ\", \"XWY\", \"WXA\"]\n",
    "course = [2,3,4] \n",
    "solution(orders, course)"
   ]
  }
 ],
 "metadata": {
  "kernelspec": {
   "display_name": "Python 3",
   "language": "python",
   "name": "python3"
  },
  "language_info": {
   "codemirror_mode": {
    "name": "ipython",
    "version": 3
   },
   "file_extension": ".py",
   "mimetype": "text/x-python",
   "name": "python",
   "nbconvert_exporter": "python",
   "pygments_lexer": "ipython3",
   "version": "3.8.8"
  }
 },
 "nbformat": 4,
 "nbformat_minor": 5
}
