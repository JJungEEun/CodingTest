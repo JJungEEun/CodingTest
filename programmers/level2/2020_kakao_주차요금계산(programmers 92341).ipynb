{
 "cells": [
  {
   "cell_type": "markdown",
   "id": "b032e09a",
   "metadata": {},
   "source": [
    "## 주차요금 계산\n",
    "---\n",
    "- 2022 KAKAO BLIND RECRUITMENT\n",
    "- https://programmers.co.kr/learn/courses/30/lessons/92341"
   ]
  },
  {
   "cell_type": "code",
   "execution_count": 3,
   "id": "5dfd1b81",
   "metadata": {},
   "outputs": [],
   "source": [
    "import collections\n",
    "import math\n",
    "\n",
    "def getTime(time):    \n",
    "    h, m = time.split(':')    \n",
    "    return int(h) * 60 + int(m) \n",
    "\n",
    "def solution(fees, records):\n",
    "    parkRecord = collections.defaultdict(int)    \n",
    "    parkingLot = dict()\n",
    "    ans = []\n",
    "\n",
    "    for i in range(len(records)):\n",
    "        record = records[i].split()\n",
    "        time = getTime(record[0])\n",
    "        if record[2] == 'IN': \n",
    "            parkingLot[record[1]] = time\n",
    "        else: \n",
    "            parkRecord[record[1]] += time - (parkingLot[record[1]]) #나갈 때 시간 차 저장\n",
    "            del parkingLot[record[1]]\n",
    "    \n",
    "    for k,v in parkingLot.items(): #출차하지 않은 차 계산\n",
    "        time = getTime('23:59')\n",
    "        parkRecord[k] += time- v\n",
    "    \n",
    "    for k,v in parkRecord.items(): \n",
    "        if v < fees[0]:\n",
    "            pay = fees[1]\n",
    "        else:\n",
    "            pay = fees[1] + (math.ceil((v-fees[0])/fees[2]))*fees[3] \n",
    "        ans.append([k,pay])\n",
    "        \n",
    "    ans.sort()    \n",
    "    ans = [x[1] for x in ans]\n",
    "    \n",
    "    return ans\n",
    "    "
   ]
  },
  {
   "cell_type": "code",
   "execution_count": 4,
   "id": "b9ceeaba",
   "metadata": {},
   "outputs": [
    {
     "data": {
      "text/plain": [
       "[14600, 34400, 5000]"
      ]
     },
     "execution_count": 4,
     "metadata": {},
     "output_type": "execute_result"
    }
   ],
   "source": [
    "fees = [180, 5000, 10, 600]\n",
    "records = [\"05:34 5961 IN\", \"06:00 0000 IN\", \"06:34 0000 OUT\", \"07:59 5961 OUT\", \"07:59 0148 IN\", \"18:59 0000 IN\", \"19:09 0148 OUT\", \"22:59 5961 IN\", \"23:00 5961 OUT\"]\n",
    "solution(fees, records)"
   ]
  },
  {
   "cell_type": "code",
   "execution_count": 5,
   "id": "65bb0617",
   "metadata": {},
   "outputs": [
    {
     "data": {
      "text/plain": [
       "[0, 591]"
      ]
     },
     "execution_count": 5,
     "metadata": {},
     "output_type": "execute_result"
    }
   ],
   "source": [
    "fees = [120, 0, 60, 591]\n",
    "records = [\"16:00 3961 IN\",\"16:00 0202 IN\",\"18:00 3961 OUT\",\"18:00 0202 OUT\",\"23:58 3961 IN\"]\n",
    "solution(fees, records)"
   ]
  },
  {
   "cell_type": "code",
   "execution_count": 6,
   "id": "bcfbfc3c",
   "metadata": {},
   "outputs": [
    {
     "data": {
      "text/plain": [
       "[14841]"
      ]
     },
     "execution_count": 6,
     "metadata": {},
     "output_type": "execute_result"
    }
   ],
   "source": [
    "fees = [1, 461, 1, 10]\n",
    "records = [\"00:00 1234 IN\"]\n",
    "solution(fees, records)"
   ]
  },
  {
   "cell_type": "code",
   "execution_count": null,
   "id": "98612a33",
   "metadata": {},
   "outputs": [],
   "source": []
  }
 ],
 "metadata": {
  "kernelspec": {
   "display_name": "Python 3",
   "language": "python",
   "name": "python3"
  },
  "language_info": {
   "codemirror_mode": {
    "name": "ipython",
    "version": 3
   },
   "file_extension": ".py",
   "mimetype": "text/x-python",
   "name": "python",
   "nbconvert_exporter": "python",
   "pygments_lexer": "ipython3",
   "version": "3.8.8"
  }
 },
 "nbformat": 4,
 "nbformat_minor": 5
}
