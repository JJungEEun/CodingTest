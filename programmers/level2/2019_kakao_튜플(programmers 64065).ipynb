{
 "cells": [
  {
   "cell_type": "markdown",
   "id": "4d0609b6",
   "metadata": {},
   "source": [
    "## 튜플\n",
    "- https://programmers.co.kr/learn/courses/30/lessons/64065\n",
    "- 2019 카카오 개발자 겨울 인턴십"
   ]
  },
  {
   "cell_type": "code",
   "execution_count": 1,
   "id": "6de25319",
   "metadata": {},
   "outputs": [],
   "source": [
    "def solution(s):\n",
    "    ans = []\n",
    "    S = s[2:-2]\n",
    "    S = S.split(\"},{\")\n",
    "    S.sort(key = len)\n",
    "    \n",
    "    for s in S:\n",
    "        s = s.split(',')\n",
    "        for j in s:\n",
    "            if int(j) not in ans:\n",
    "                ans.append(int(j))\n",
    "    return ans"
   ]
  },
  {
   "cell_type": "code",
   "execution_count": 2,
   "id": "8b611165",
   "metadata": {},
   "outputs": [
    {
     "data": {
      "text/plain": [
       "[2, 1, 3, 4]"
      ]
     },
     "execution_count": 2,
     "metadata": {},
     "output_type": "execute_result"
    }
   ],
   "source": [
    "s = \"{{2},{2,1},{2,1,3},{2,1,3,4}}\"\n",
    "solution(s)"
   ]
  }
 ],
 "metadata": {
  "kernelspec": {
   "display_name": "Python 3",
   "language": "python",
   "name": "python3"
  },
  "language_info": {
   "codemirror_mode": {
    "name": "ipython",
    "version": 3
   },
   "file_extension": ".py",
   "mimetype": "text/x-python",
   "name": "python",
   "nbconvert_exporter": "python",
   "pygments_lexer": "ipython3",
   "version": "3.8.8"
  }
 },
 "nbformat": 4,
 "nbformat_minor": 5
}
