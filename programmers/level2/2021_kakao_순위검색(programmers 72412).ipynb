{
 "cells": [
  {
   "cell_type": "markdown",
   "id": "779c44e9",
   "metadata": {},
   "source": [
    "## 순위검색\n",
    "\n",
    "---\n",
    "\n",
    "- https://programmers.co.kr/learn/courses/30/lessons/72412\n",
    "- 2021 KAKAO BLIND RECRUITMENT"
   ]
  },
  {
   "cell_type": "code",
   "execution_count": 1,
   "id": "b59be370",
   "metadata": {},
   "outputs": [],
   "source": [
    "def solution(info, query):\n",
    "    \n",
    "    language = {'cpp':1, 'java':2, 'python':3, '-':0}\n",
    "    job = {'backend':4, 'frontend':5, '-':0}\n",
    "    career = {'junior':1, 'senior':2, '-':0}\n",
    "    food = {'chicken':1, 'pizza':2, '-':0}\n",
    "    \n",
    "    for i in info:\n",
    "        i = i.split(\" \")\n",
    "        # A.append(i)\n",
    "        A.append([language[i[0]], job[i[1]], career[i[2]], food[i[3]], i[4]])\n",
    "    for q in query:\n",
    "        q = q.replace(\" and \", \" \").split(\" \")\n",
    "        # Q.append(q)\n",
    "        Q.append([language[q[0]], job[q[1]], career[q[2]], food[q[3]], q[4]])\n",
    "\n",
    "\n",
    "    answer = []\n",
    "    for i in range(len(Q)):\n",
    "        # print(\"Q: \",Q[i])\n",
    "        ans = 0\n",
    "        for j in range(len(A)):\n",
    "            # print(\"A: \", A[j])\n",
    "            cnt = 0\n",
    "            for k in range(0,4):\n",
    "                if Q[i][k] == A[j][k] or Q[i][k] =='-':\n",
    "                    cnt += 1\n",
    "            if cnt == 4 and int(Q[i][-1]) <= int(A[j][-1]):\n",
    "                ans +=1\n",
    "        answer.append(ans)\n",
    "                    \n",
    "    return (answer)\n",
    "        "
   ]
  },
  {
   "cell_type": "code",
   "execution_count": null,
   "id": "942c3bd4",
   "metadata": {},
   "outputs": [],
   "source": []
  }
 ],
 "metadata": {
  "kernelspec": {
   "display_name": "Python 3",
   "language": "python",
   "name": "python3"
  },
  "language_info": {
   "codemirror_mode": {
    "name": "ipython",
    "version": 3
   },
   "file_extension": ".py",
   "mimetype": "text/x-python",
   "name": "python",
   "nbconvert_exporter": "python",
   "pygments_lexer": "ipython3",
   "version": "3.8.8"
  }
 },
 "nbformat": 4,
 "nbformat_minor": 5
}
