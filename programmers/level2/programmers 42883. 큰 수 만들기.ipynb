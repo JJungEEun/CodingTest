{
 "cells": [
  {
   "cell_type": "markdown",
   "id": "076be65e",
   "metadata": {},
   "source": [
    "### programmers 42883. 큰 수 만들기\n",
    "- https://programmers.co.kr/learn/courses/30/lessons/42883"
   ]
  },
  {
   "cell_type": "markdown",
   "id": "fd847886",
   "metadata": {},
   "source": [
    "### solution 01"
   ]
  },
  {
   "cell_type": "code",
   "execution_count": 9,
   "id": "475edc6c",
   "metadata": {},
   "outputs": [],
   "source": [
    "from itertools import combinations\n",
    "import re\n",
    "\n",
    "def solution(number, k):\n",
    "\n",
    "    number = list(number.strip(\" \"))\n",
    "    nCr = [''.join(n) for n in list(combinations(number, len(number)-k))]\n",
    "\n",
    "    return max(nCr)\n"
   ]
  },
  {
   "cell_type": "code",
   "execution_count": 2,
   "id": "1fa13fea",
   "metadata": {},
   "outputs": [
    {
     "data": {
      "text/plain": [
       "'94'"
      ]
     },
     "execution_count": 2,
     "metadata": {},
     "output_type": "execute_result"
    }
   ],
   "source": [
    "number = \"1924\"\n",
    "k = 2\n",
    "solution(number, k)"
   ]
  },
  {
   "cell_type": "code",
   "execution_count": 3,
   "id": "f1fc7b2c",
   "metadata": {},
   "outputs": [
    {
     "data": {
      "text/plain": [
       "'3234'"
      ]
     },
     "execution_count": 3,
     "metadata": {},
     "output_type": "execute_result"
    }
   ],
   "source": [
    "number = \"1231234\"\n",
    "k = 3\n",
    "solution(number, k)"
   ]
  },
  {
   "cell_type": "code",
   "execution_count": 10,
   "id": "f28e2cc1",
   "metadata": {},
   "outputs": [
    {
     "data": {
      "text/plain": [
       "'775841'"
      ]
     },
     "execution_count": 10,
     "metadata": {},
     "output_type": "execute_result"
    }
   ],
   "source": [
    "number = \"4177252841\"\n",
    "k = 4\n",
    "solution(number, k)"
   ]
  },
  {
   "cell_type": "markdown",
   "id": "f1267b7a",
   "metadata": {},
   "source": [
    "채점 결과\n",
    "정확성: 33.3\n",
    "합계: 33.3 / 100.0\n",
    "\n",
    "**시간 초과**"
   ]
  },
  {
   "cell_type": "markdown",
   "id": "f8d7ab24",
   "metadata": {},
   "source": [
    "### Solution 02"
   ]
  },
  {
   "cell_type": "code",
   "execution_count": 11,
   "id": "2c3661c1",
   "metadata": {},
   "outputs": [],
   "source": [
    "def solution(number, k):\n",
    "\n",
    "    answer = [] \n",
    "    for num in number:\n",
    "        while k > 0 and answer and answer[-1] < num:\n",
    "            answer.pop()\n",
    "            k -= 1\n",
    "        answer.append(num)\n",
    "        \n",
    "    answer = answer[:-k] if k > 0 else answer\n",
    "    return ''.join(answer)"
   ]
  },
  {
   "cell_type": "code",
   "execution_count": 13,
   "id": "4bc5bbdf",
   "metadata": {},
   "outputs": [
    {
     "data": {
      "text/plain": [
       "'94'"
      ]
     },
     "execution_count": 13,
     "metadata": {},
     "output_type": "execute_result"
    }
   ],
   "source": [
    "number = \"1924\"\n",
    "k = 2\n",
    "solution(number, k)"
   ]
  },
  {
   "cell_type": "code",
   "execution_count": 14,
   "id": "32156db8",
   "metadata": {},
   "outputs": [
    {
     "data": {
      "text/plain": [
       "'3234'"
      ]
     },
     "execution_count": 14,
     "metadata": {},
     "output_type": "execute_result"
    }
   ],
   "source": [
    "number = \"1231234\"\n",
    "k = 3\n",
    "solution(number, k)"
   ]
  },
  {
   "cell_type": "code",
   "execution_count": 15,
   "id": "f68a331d",
   "metadata": {},
   "outputs": [
    {
     "data": {
      "text/plain": [
       "'775841'"
      ]
     },
     "execution_count": 15,
     "metadata": {},
     "output_type": "execute_result"
    }
   ],
   "source": [
    "number = \"4177252841\"\n",
    "k = 4\n",
    "solution(number, k)"
   ]
  },
  {
   "cell_type": "code",
   "execution_count": null,
   "id": "93b8fbee",
   "metadata": {},
   "outputs": [],
   "source": []
  }
 ],
 "metadata": {
  "kernelspec": {
   "display_name": "Python 3",
   "language": "python",
   "name": "python3"
  },
  "language_info": {
   "codemirror_mode": {
    "name": "ipython",
    "version": 3
   },
   "file_extension": ".py",
   "mimetype": "text/x-python",
   "name": "python",
   "nbconvert_exporter": "python",
   "pygments_lexer": "ipython3",
   "version": "3.8.8"
  }
 },
 "nbformat": 4,
 "nbformat_minor": 5
}
