{
 "cells": [
  {
   "cell_type": "markdown",
   "id": "71225628",
   "metadata": {},
   "source": [
    "### 셔틀버스\n",
    "\n",
    "---\n",
    "- https://programmers.co.kr/learn/courses/30/lessons/17678\n",
    "\n",
    "카카오에서는 무료 셔틀버스를 운행하기 때문에 판교역에서 편하게 사무실로 올 수 있다. 카카오의 직원은 서로를 '크루'라고 부르는데, 아침마다 많은 크루들이 이 셔틀을 이용하여 출근한다.\n",
    "\n",
    "이 문제에서는 편의를 위해 셔틀은 다음과 같은 규칙으로 운행한다고 가정하자.\n",
    "\n",
    "셔틀은 09:00부터 총 n회 t분 간격으로 역에 도착하며, 하나의 셔틀에는 최대 m명의 승객이 탈 수 있다.\n",
    "셔틀은 도착했을 때 도착한 순간에 대기열에 선 크루까지 포함해서 대기 순서대로 태우고 바로 출발한다. 예를 들어 09:00에 도착한 셔틀은 자리가 있다면 09:00에 줄을 선 크루도 탈 수 있다.\n",
    "일찍 나와서 셔틀을 기다리는 것이 귀찮았던 콘은, 일주일간의 집요한 관찰 끝에 어떤 크루가 몇 시에 셔틀 대기열에 도착하는지 알아냈다. 콘이 셔틀을 타고 사무실로 갈 수 있는 도착 시각 중 제일 늦은 시각을 구하여라.\n",
    "\n",
    "단, 콘은 게으르기 때문에 같은 시각에 도착한 크루 중 대기열에서 제일 뒤에 선다. 또한, 모든 크루는 잠을 자야 하므로 23:59에 집에 돌아간다. 따라서 어떤 크루도 다음날 셔틀을 타는 일은 없다.\n",
    "\n",
    "\n",
    "**[입력 형식]**\n",
    "셔틀 운행 횟수 n, 셔틀 운행 간격 t, 한 셔틀에 탈 수 있는 최대 크루 수 m, 크루가 대기열에 도착하는 시각을 모은 배열 timetable이 입력으로 주어진다.\n",
    "\n",
    "0 ＜ n ≦ 10\n",
    "0 ＜ t ≦ 60\n",
    "0 ＜ m ≦ 45\n",
    "timetable은 최소 길이 1이고 최대 길이 2000인 배열로, 하루 동안 크루가 대기열에 도착하는 시각이 HH:MM 형식으로 이루어져 있다.\n",
    "크루의 도착 시각 HH:MM은 00:01에서 23:59 사이이다.\n",
    "\n",
    "\n",
    "**[출력 형식]**\n",
    "콘이 무사히 셔틀을 타고 사무실로 갈 수 있는 제일 늦은 도착 시각을 출력한다. 도착 시각은 HH:MM 형식이며, 00:00에서 23:59 사이의 값이 될 수 있다.\n",
    "\n",
    "**[입출력 예제]**\n",
    "<center>n</center>|<center>t</center>|<center>m</center>|<center>timetable</center>|<center>answer</center>\n",
    ":---:|:---:|:---:|:---:|:---:|\n",
    "1|1|5|\t[\"08:00\", \"08:01\", \"08:02\", \"08:03\"]|\"09:00\"|\n",
    "2|10|2|\t[\"09:10\", \"09:09\", \"08:00\"]|\"09:09\"|\n",
    "2|1|2|[\"09:00\", \"09:00\", \"09:00\", \"09:00\"]|\"08:59\"|\n",
    "1|1|5|[\"00:01\", \"00:01\", \"00:01\", \"00:01\", \"00:01\"]|\"00:00\"|\n",
    "1|1|1|[\"23:59\"]|\"09:00\"|\n",
    "10|60|45|[\"23:59\",\"23:59\", \"23:59\", \"23:59\", \"23:59\", \"23:59\", \"23:59\", \"23:59\", \"23:59\", \"23:59\", \"23:59\", \"23:59\", \"23:59\", \"23:59\", \"23:59\", \"23:59\"]|\"18:00\"|"
   ]
  },
  {
   "cell_type": "markdown",
   "id": "624f9ac9",
   "metadata": {},
   "source": [
    "#### Solution "
   ]
  },
  {
   "cell_type": "code",
   "execution_count": 1,
   "id": "97ec9ec5",
   "metadata": {},
   "outputs": [],
   "source": [
    "def solution(n, t, m, timetable):\n",
    "     # 입력값 분 단위 전처리\n",
    "    timetable = [\n",
    "        int(time[:2]) * 60 + int(time[3:])\n",
    "        for time in timetable\n",
    "    ]\n",
    "    timetable.sort()\n",
    "\n",
    "    current = 540\n",
    "    for _ in range(n):\n",
    "        for _ in range(m):\n",
    "            # 대기가 있는 경우 1분 전 도착\n",
    "            if timetable and timetable[0] <= current:\n",
    "                candidate = timetable.pop(0) - 1\n",
    "            else:  # 대기가 없는 경우 정시 도착\n",
    "                candidate = current\n",
    "\n",
    "        current += t\n",
    "    # 시, 분으로 다시 변경\n",
    "    h, m = divmod(candidate, 60)\n",
    "    return str(h).zfill(2) + ':' + str(m).zfill(2)"
   ]
  },
  {
   "cell_type": "code",
   "execution_count": 2,
   "id": "3fb4382c",
   "metadata": {},
   "outputs": [
    {
     "data": {
      "text/plain": [
       "'09:00'"
      ]
     },
     "execution_count": 2,
     "metadata": {},
     "output_type": "execute_result"
    }
   ],
   "source": [
    "solution(1,1,5,[\"08:00\", \"08:01\", \"08:02\", \"08:03\"])"
   ]
  },
  {
   "cell_type": "code",
   "execution_count": 3,
   "id": "4c31e64d",
   "metadata": {},
   "outputs": [
    {
     "data": {
      "text/plain": [
       "'08:59'"
      ]
     },
     "execution_count": 3,
     "metadata": {},
     "output_type": "execute_result"
    }
   ],
   "source": [
    "solution(2,1,2 ,[\"09:00\", \"09:00\", \"09:00\", \"09:00\"])"
   ]
  },
  {
   "cell_type": "code",
   "execution_count": 4,
   "id": "5ccc33e3",
   "metadata": {},
   "outputs": [
    {
     "data": {
      "text/plain": [
       "'00:00'"
      ]
     },
     "execution_count": 4,
     "metadata": {},
     "output_type": "execute_result"
    }
   ],
   "source": [
    "solution(1,1,5,[\"00:01\", \"00:01\", \"00:01\", \"00:01\", \"00:01\"])"
   ]
  }
 ],
 "metadata": {
  "kernelspec": {
   "display_name": "Python 3",
   "language": "python",
   "name": "python3"
  },
  "language_info": {
   "codemirror_mode": {
    "name": "ipython",
    "version": 3
   },
   "file_extension": ".py",
   "mimetype": "text/x-python",
   "name": "python",
   "nbconvert_exporter": "python",
   "pygments_lexer": "ipython3",
   "version": "3.8.8"
  }
 },
 "nbformat": 4,
 "nbformat_minor": 5
}
