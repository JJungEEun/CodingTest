{
 "cells": [
  {
   "cell_type": "code",
   "execution_count": 82,
   "id": "dcb4fa7c",
   "metadata": {},
   "outputs": [],
   "source": [
    "def solution(n, results):\n",
    "    answer = 0\n",
    "    \n",
    "    winner = collections.defaultdict(set)\n",
    "    loser = collections.defaultdict(set)\n",
    "    \n",
    "    for i in range(1,n+1):\n",
    "        for battle in results:\n",
    "            if battle[0] == i: #i가 이긴 사람\n",
    "                winner[i].add(battle[1])\n",
    "            if battle[1] == i: #i가 진 람\n",
    "                loser[i].add(battle[0])\n",
    "        \n",
    "        for w in loser[i]:\n",
    "            winner[w].update(winner[i])\n",
    "        for l in winner[i]:\n",
    "            loser[l].update(loser[i])\n",
    "    \n",
    "    for i in range(1,n+1):\n",
    "        if (len(winner[i]) +len(loser[i]) ==  n-1):\n",
    "            answer += 1\n",
    "        \n",
    "    return answer\n"
   ]
  },
  {
   "cell_type": "code",
   "execution_count": 83,
   "id": "3a19c7a7",
   "metadata": {},
   "outputs": [
    {
     "data": {
      "text/plain": [
       "2"
      ]
     },
     "execution_count": 83,
     "metadata": {},
     "output_type": "execute_result"
    }
   ],
   "source": [
    "n = 5\n",
    "result = [[4, 3], [4, 2], [3, 2], [1, 2], [2, 5]]\n",
    "solution(n,result)"
   ]
  },
  {
   "cell_type": "code",
   "execution_count": null,
   "id": "b13289e7",
   "metadata": {},
   "outputs": [],
   "source": []
  },
  {
   "cell_type": "code",
   "execution_count": null,
   "id": "535f2047",
   "metadata": {},
   "outputs": [],
   "source": []
  }
 ],
 "metadata": {
  "kernelspec": {
   "display_name": "Python 3",
   "language": "python",
   "name": "python3"
  },
  "language_info": {
   "codemirror_mode": {
    "name": "ipython",
    "version": 3
   },
   "file_extension": ".py",
   "mimetype": "text/x-python",
   "name": "python",
   "nbconvert_exporter": "python",
   "pygments_lexer": "ipython3",
   "version": "3.8.8"
  }
 },
 "nbformat": 4,
 "nbformat_minor": 5
}
