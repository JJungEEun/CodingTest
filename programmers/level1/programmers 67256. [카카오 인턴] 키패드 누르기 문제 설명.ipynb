{
 "cells": [
  {
   "cell_type": "markdown",
   "id": "8d3a4b9a",
   "metadata": {},
   "source": [
    "### programmers 67256. [카카오 인턴] 키패드 누르기 문제 설명\n",
    "[문제 설명]스마트폰 전화 키패드의 각 칸에 다음과 같이 숫자들이 적혀 있습니다."
   ]
  },
  {
   "cell_type": "code",
   "execution_count": 1,
   "id": "06f2ca06",
   "metadata": {},
   "outputs": [],
   "source": [
    "def solution(numbers, hand):\n",
    "    answer = ''\n",
    "    \n",
    "    # 키패드 좌표료 변경\n",
    "    dic = {1: [0, 0], 2: [0, 1], 3: [0, 2],\n",
    "           4: [1, 0], 5: [1, 1], 6: [1, 2],\n",
    "           7: [2, 0], 8: [2, 1], 9: [2, 2],\n",
    "           '*':[3, 0], 0: [3, 1], '#': [3, 2]}\n",
    "    \n",
    "    # 시작 위치\n",
    "    left_s = dic['*']\n",
    "    right_s = dic['#']\n",
    "    \n",
    "    for i in numbers:\n",
    "        now = dic[i]\n",
    "        # 1, 4, 7을 누르는 경우 무조건 왼손\n",
    "        if i in [1, 4, 7]:\n",
    "            answer += 'L'\n",
    "            left_s = now\n",
    "            \n",
    "        # 3, 6, 9를 누르는 경우 무조건 오른손\n",
    "        elif i in [3, 6, 9]:\n",
    "            answer += 'R'\n",
    "            right_s = now\n",
    "            \n",
    "        # 2, 5, 8, 0을 누르는 경우\n",
    "        else:\n",
    "            left_d = 0\n",
    "            right_d = 0\n",
    "            \n",
    "            # 좌표 거리 계산해주기\n",
    "            for a, b, c in zip(left_s, right_s, now):\n",
    "                left_d += abs(a-c)\n",
    "                right_d += abs(b-c)\n",
    "            \n",
    "            # 왼손이 더 가까운 경우\n",
    "            if left_d < right_d:\n",
    "                answer += 'L'\n",
    "                left_s = now\n",
    "                \n",
    "            # 오른손이 더 가까운 경우\n",
    "            elif left_d > right_d:\n",
    "                answer += 'R'\n",
    "                right_s = now\n",
    "            \n",
    "            # 두 거리가 같은 경우\n",
    "            else:\n",
    "                # 왼손잡이 경우\n",
    "                if hand == 'left':\n",
    "                    answer += 'L'\n",
    "                    left_s = now\n",
    "                    \n",
    "                # 오른손잡이 경우\n",
    "                else:\n",
    "                    answer += 'R'\n",
    "                    right_s = now\n",
    "            \n",
    "    return answer"
   ]
  },
  {
   "cell_type": "code",
   "execution_count": 2,
   "id": "6e7264ec",
   "metadata": {},
   "outputs": [
    {
     "data": {
      "text/plain": [
       "'LRLLLRLLRRL'"
      ]
     },
     "execution_count": 2,
     "metadata": {},
     "output_type": "execute_result"
    }
   ],
   "source": [
    "numbers = [1, 3, 4, 5, 8, 2, 1, 4, 5, 9, 5]\n",
    "hand = \"right\"\n",
    "solution(numbers, hand)"
   ]
  },
  {
   "cell_type": "code",
   "execution_count": 3,
   "id": "6ca5e3d5",
   "metadata": {},
   "outputs": [
    {
     "data": {
      "text/plain": [
       "'LRLLRRLLLRR'"
      ]
     },
     "execution_count": 3,
     "metadata": {},
     "output_type": "execute_result"
    }
   ],
   "source": [
    "numbers = [7, 0, 8, 2, 8, 3, 1, 5, 7, 6, 2]\n",
    "hand = \"left\"\n",
    "solution(numbers, hand)"
   ]
  },
  {
   "cell_type": "code",
   "execution_count": null,
   "id": "f4104cdf",
   "metadata": {},
   "outputs": [],
   "source": []
  }
 ],
 "metadata": {
  "kernelspec": {
   "display_name": "Python 3",
   "language": "python",
   "name": "python3"
  },
  "language_info": {
   "codemirror_mode": {
    "name": "ipython",
    "version": 3
   },
   "file_extension": ".py",
   "mimetype": "text/x-python",
   "name": "python",
   "nbconvert_exporter": "python",
   "pygments_lexer": "ipython3",
   "version": "3.8.8"
  }
 },
 "nbformat": 4,
 "nbformat_minor": 5
}
