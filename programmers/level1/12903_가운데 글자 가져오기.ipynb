{
 "cells": [
  {
   "cell_type": "markdown",
   "id": "9bf2cac4",
   "metadata": {},
   "source": [
    "# 가운데 글자 가져오기"
   ]
  },
  {
   "cell_type": "markdown",
   "id": "cba708a1",
   "metadata": {},
   "source": [
    "https://programmers.co.kr/learn/courses/30/lessons/12903"
   ]
  },
  {
   "cell_type": "code",
   "execution_count": 1,
   "id": "02b37c5d",
   "metadata": {},
   "outputs": [],
   "source": [
    "def solution(s):\n",
    "    div = int(len(s)/2)\n",
    "    \n",
    "    if len(s)%2 == 0:\n",
    "        return (s[div-1:div+1])\n",
    "    else:\n",
    "        return s[div]"
   ]
  },
  {
   "cell_type": "code",
   "execution_count": 2,
   "id": "5933bfe0",
   "metadata": {},
   "outputs": [
    {
     "data": {
      "text/plain": [
       "'c'"
      ]
     },
     "execution_count": 2,
     "metadata": {},
     "output_type": "execute_result"
    }
   ],
   "source": [
    "s= \"abcde\"\n",
    "solution(s)"
   ]
  },
  {
   "cell_type": "code",
   "execution_count": 3,
   "id": "80702f9f",
   "metadata": {},
   "outputs": [
    {
     "data": {
      "text/plain": [
       "'we'"
      ]
     },
     "execution_count": 3,
     "metadata": {},
     "output_type": "execute_result"
    }
   ],
   "source": [
    "s = \"qwer\"\n",
    "solution(s)"
   ]
  },
  {
   "cell_type": "code",
   "execution_count": 15,
   "id": "9fa15e2d",
   "metadata": {},
   "outputs": [],
   "source": [
    "def solution(str):\n",
    "    return str[(len(str)-1)//2:len(str)//2+1]"
   ]
  },
  {
   "cell_type": "code",
   "execution_count": 16,
   "id": "03d567a4",
   "metadata": {},
   "outputs": [
    {
     "name": "stdout",
     "output_type": "stream",
     "text": [
      "2 3\n"
     ]
    },
    {
     "data": {
      "text/plain": [
       "'c'"
      ]
     },
     "execution_count": 16,
     "metadata": {},
     "output_type": "execute_result"
    }
   ],
   "source": [
    "s= \"abcde\"\n",
    "solution(s)"
   ]
  },
  {
   "cell_type": "code",
   "execution_count": 17,
   "id": "836508d1",
   "metadata": {},
   "outputs": [
    {
     "name": "stdout",
     "output_type": "stream",
     "text": [
      "1 3\n"
     ]
    },
    {
     "data": {
      "text/plain": [
       "'we'"
      ]
     },
     "execution_count": 17,
     "metadata": {},
     "output_type": "execute_result"
    }
   ],
   "source": [
    "s = \"qwer\"\n",
    "solution(s)"
   ]
  },
  {
   "cell_type": "code",
   "execution_count": 26,
   "id": "d4e4194d",
   "metadata": {},
   "outputs": [
    {
     "name": "stdout",
     "output_type": "stream",
     "text": [
      "1\n",
      "3\n"
     ]
    }
   ],
   "source": [
    "s = 4\n",
    "\n",
    "print((s-1)//2)\n",
    "print(s//2+1)"
   ]
  },
  {
   "cell_type": "code",
   "execution_count": 27,
   "id": "00ab5519",
   "metadata": {},
   "outputs": [
    {
     "name": "stdout",
     "output_type": "stream",
     "text": [
      "2\n",
      "3\n"
     ]
    }
   ],
   "source": [
    "s = 5\n",
    "\n",
    "print((s-1)//2)\n",
    "print(s//2+1)"
   ]
  }
 ],
 "metadata": {
  "kernelspec": {
   "display_name": "Python 3",
   "language": "python",
   "name": "python3"
  },
  "language_info": {
   "codemirror_mode": {
    "name": "ipython",
    "version": 3
   },
   "file_extension": ".py",
   "mimetype": "text/x-python",
   "name": "python",
   "nbconvert_exporter": "python",
   "pygments_lexer": "ipython3",
   "version": "3.8.8"
  }
 },
 "nbformat": 4,
 "nbformat_minor": 5
}
