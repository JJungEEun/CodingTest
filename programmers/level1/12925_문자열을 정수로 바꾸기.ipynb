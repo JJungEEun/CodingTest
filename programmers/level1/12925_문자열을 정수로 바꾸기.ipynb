{
 "cells": [
  {
   "cell_type": "markdown",
   "id": "ac4d43a4",
   "metadata": {},
   "source": [
    "# 문자열을 정수로 바꾸기"
   ]
  },
  {
   "cell_type": "markdown",
   "id": "c59f58b3",
   "metadata": {},
   "source": [
    "https://programmers.co.kr/learn/courses/30/lessons/12925"
   ]
  },
  {
   "cell_type": "code",
   "execution_count": 4,
   "id": "4dce3843",
   "metadata": {},
   "outputs": [],
   "source": [
    "def solution(s):\n",
    "\n",
    "    return int(s)"
   ]
  },
  {
   "cell_type": "code",
   "execution_count": 5,
   "id": "f12d052f",
   "metadata": {},
   "outputs": [
    {
     "data": {
      "text/plain": [
       "1234"
      ]
     },
     "execution_count": 5,
     "metadata": {},
     "output_type": "execute_result"
    }
   ],
   "source": [
    "s =\"1234\"\n",
    "solution(s)"
   ]
  },
  {
   "cell_type": "code",
   "execution_count": 6,
   "id": "7aab49c4",
   "metadata": {},
   "outputs": [
    {
     "data": {
      "text/plain": [
       "-1234"
      ]
     },
     "execution_count": 6,
     "metadata": {},
     "output_type": "execute_result"
    }
   ],
   "source": [
    "s=\"-1234\"\n",
    "solution(s)"
   ]
  },
  {
   "cell_type": "code",
   "execution_count": 1,
   "id": "d69abc91",
   "metadata": {},
   "outputs": [],
   "source": [
    "def solution(s):\n",
    "            \n",
    "    def StringToNum(number):\n",
    "        n = 0\n",
    "        for i, j in enumerate(number):\n",
    "            n += pow(10,len(number)-i-1) * int(j)\n",
    "        return n\n",
    "\n",
    "    if s[0] == \"-\":\n",
    "        return StringToNum(s[1:])*(-1)\n",
    "    elif s[0] == \"+\":\n",
    "        return StringToNum(s[1:])\n",
    "    else:\n",
    "        return StringToNum(s)"
   ]
  },
  {
   "cell_type": "code",
   "execution_count": 2,
   "id": "32246664",
   "metadata": {},
   "outputs": [
    {
     "data": {
      "text/plain": [
       "1234"
      ]
     },
     "execution_count": 2,
     "metadata": {},
     "output_type": "execute_result"
    }
   ],
   "source": [
    "s =\"1234\"\n",
    "solution(s)"
   ]
  },
  {
   "cell_type": "code",
   "execution_count": 3,
   "id": "e187e2a3",
   "metadata": {},
   "outputs": [
    {
     "data": {
      "text/plain": [
       "-1234"
      ]
     },
     "execution_count": 3,
     "metadata": {},
     "output_type": "execute_result"
    }
   ],
   "source": [
    "s=\"-1234\"\n",
    "solution(s)"
   ]
  },
  {
   "cell_type": "code",
   "execution_count": null,
   "id": "c3d1cc54",
   "metadata": {},
   "outputs": [],
   "source": []
  }
 ],
 "metadata": {
  "kernelspec": {
   "display_name": "Python 3",
   "language": "python",
   "name": "python3"
  },
  "language_info": {
   "codemirror_mode": {
    "name": "ipython",
    "version": 3
   },
   "file_extension": ".py",
   "mimetype": "text/x-python",
   "name": "python",
   "nbconvert_exporter": "python",
   "pygments_lexer": "ipython3",
   "version": "3.8.8"
  }
 },
 "nbformat": 4,
 "nbformat_minor": 5
}
