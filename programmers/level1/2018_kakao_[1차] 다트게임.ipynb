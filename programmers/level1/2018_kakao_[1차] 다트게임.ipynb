{
 "cells": [
  {
   "cell_type": "markdown",
   "id": "e49102e1",
   "metadata": {},
   "source": [
    "### [1차] 다트 게임\n",
    "---\n",
    "- https://programmers.co.kr/learn/courses/30/lessons/17682\n",
    "\n",
    "카카오톡 게임별의 하반기 신규 서비스로 다트 게임을 출시하기로 했다. 다트 게임은 다트판에 다트를 세 차례 던져 그 점수의 합계로 실력을 겨루는 게임으로, 모두가 간단히 즐길 수 있다. 갓 입사한 무지는 코딩 실력을 인정받아 게임의 핵심 부분인 점수 계산 로직을 맡게 되었다. 다트 게임의 점수 계산 로직은 아래와 같다.\n",
    "\n",
    "1. 다트 게임은 총 3번의 기회로 구성된다.\n",
    "2. 각 기회마다 얻을 수 있는 점수는 0점에서 10점까지이다.\n",
    "3. 점수와 함께 Single(S), Double(D), Triple(T) 영역이 존재하고 각 영역 당첨 시 점수에서 1제곱, 2제곱, 3제곱 (점수1 , 점수2 , 점수3 )으로 계산된다.\n",
    "4. 옵션으로 스타상(*) , 아차상(#)이 존재하며 스타상(*) 당첨 시 해당 점수와 바로 전에 얻은 점수를 각 2배로 만든다. 아차상(#) 당첨 시 해당 점수는 마이너스된다.\n",
    "5. 스타상(*)은 첫 번째 기회에서도 나올 수 있다. 이 경우 첫 번째 스타상(*)의 점수만 2배가 된다. (예제 4번 참고)\n",
    "6. 스타상(*)의 효과는 다른 스타상(*)의 효과와 중첩될 수 있다. 이 경우 중첩된 스타상(*) 점수는 4배가 된다. (예제 4번 참고)\n",
    "7. 스타상(*)의 효과는 아차상(#)의 효과와 중첩될 수 있다. 이 경우 중첩된 아차상(#)의 점수는 -2배가 된다. (예제 5번 참고)\n",
    "8. Single(S), Double(D), Triple(T)은 점수마다 하나씩 존재한다.\n",
    "9. 스타상(*), 아차상(#)은 점수마다 둘 중 하나만 존재할 수 있으며, 존재하지 않을 수도 있다.\n",
    "\n",
    "0~10의 정수와 문자 S, D, T, *, #로 구성된 문자열이 입력될 시 총점수를 반환하는 함수를 작성하라."
   ]
  },
  {
   "cell_type": "markdown",
   "id": "76db7de5",
   "metadata": {},
   "source": [
    "**입력 형식**\n",
    "\n",
    "\"점수|보너스|[옵션]\"으로 이루어진 문자열 3세트.\n",
    "예) 1S2D*3T\n",
    "\n",
    "점수는 0에서 10 사이의 정수이다.\n",
    "보너스는 S, D, T 중 하나이다.\n",
    "옵선은 *이나 # 중 하나이며, 없을 수도 있다."
   ]
  },
  {
   "cell_type": "markdown",
   "id": "8c25511b",
   "metadata": {},
   "source": [
    "#### Solution 01"
   ]
  },
  {
   "cell_type": "code",
   "execution_count": 77,
   "id": "c81be500",
   "metadata": {},
   "outputs": [],
   "source": [
    "def solution1(dartResult):\n",
    "    ans = []\n",
    "    \n",
    "    dict = {'S':1, 'D':2, 'T':3}\n",
    "    op = {'#':-1, '*':2}\n",
    "    \n",
    "    for i in range(0, len(dartResult)):\n",
    "        if dartResult[i] in dict:\n",
    "            if (dartResult[i-2]) + (dartResult[i-1]) == '10':\n",
    "                ans.append(10**dict[dartResult[i]])\n",
    "            else:\n",
    "                ans.append(int(dartResult[i-1])**dict[dartResult[i]])\n",
    "                \n",
    "        elif dartResult[i] in op:\n",
    "            if dartResult[i] == \"*\" and len(ans) > 1:\n",
    "                ans[-2] *= op[dartResult[i]]\n",
    "            ans[-1] *= op[dartResult[i]]\n",
    "            \n",
    "        \n",
    "    return sum(ans)"
   ]
  },
  {
   "cell_type": "code",
   "execution_count": 78,
   "id": "7e7f5dc5",
   "metadata": {},
   "outputs": [
    {
     "name": "stdout",
     "output_type": "stream",
     "text": [
      "37\n",
      "9\n",
      "3\n"
     ]
    }
   ],
   "source": [
    "print(solution1(\"1S2D*3T\"))\n",
    "print(solution1(\"1D2S#10S\"))\n",
    "print(solution1(\"1D2S0T\"))"
   ]
  },
  {
   "cell_type": "markdown",
   "id": "18d7f375",
   "metadata": {},
   "source": [
    "채점 결과\n",
    "\n",
    "정확성: 100.0\n",
    "합계: 100.0 / 100.0"
   ]
  },
  {
   "cell_type": "markdown",
   "id": "e1432352",
   "metadata": {},
   "source": [
    "#### Solution 02"
   ]
  },
  {
   "cell_type": "code",
   "execution_count": 87,
   "id": "9fbfd877",
   "metadata": {},
   "outputs": [],
   "source": [
    "def solution2(dartResult):\n",
    "    nums = [0]\n",
    "    \n",
    "    for s in dartResult:\n",
    "        if s == 'S':\n",
    "            nums[-1] **= 1\n",
    "            nums.append(0)\n",
    "        elif s == \"D\":\n",
    "            nums[-1] **= 2\n",
    "            nums.append(0)\n",
    "        elif s == \"T\":\n",
    "            nums[-1] **= 3\n",
    "            nums.append(0)\n",
    "        elif s == \"*\":\n",
    "            nums[-2] *= 2\n",
    "            if len(nums) >  2:\n",
    "                nums[-3] *=2\n",
    "        elif s == '#':\n",
    "            nums[-2] *= -1\n",
    "        else:\n",
    "            nums[-1] = nums[-1]*10 + int(s)\n",
    "            \n",
    "        \n",
    "    return sum(nums)"
   ]
  },
  {
   "cell_type": "code",
   "execution_count": 88,
   "id": "b7db0020",
   "metadata": {},
   "outputs": [
    {
     "name": "stdout",
     "output_type": "stream",
     "text": [
      "37\n",
      "9\n",
      "3\n"
     ]
    }
   ],
   "source": [
    "print(solution2(\"1S2D*3T\"))\n",
    "print(solution2(\"1D2S#10S\"))\n",
    "print(solution2(\"1D2S0T\"))"
   ]
  },
  {
   "cell_type": "markdown",
   "id": "250e1c3d",
   "metadata": {},
   "source": [
    "#### Solution 03"
   ]
  },
  {
   "cell_type": "code",
   "execution_count": 52,
   "id": "e4068fb3",
   "metadata": {},
   "outputs": [],
   "source": [
    "import re\n",
    "\n",
    "\n",
    "def solution3(dartResult):\n",
    "    bonus = {'S' : 1, 'D' : 2, 'T' : 3}\n",
    "    option = {'' : 1, '*' : 2, '#' : -1}\n",
    "    p = re.compile('(\\d+)([SDT])([*#]?)')\n",
    "    \n",
    "    dart = p.findall(dartResult)\n",
    "    for i in range(len(dart)):\n",
    "        if dart[i][2] == '*' and i > 0:\n",
    "            dart[i-1] *= 2\n",
    "        dart[i] = int(dart[i][0]) ** bonus[dart[i][1]] * option[dart[i][2]]\n",
    "\n",
    "    answer = sum(dart)\n",
    "    return answer"
   ]
  },
  {
   "cell_type": "code",
   "execution_count": 53,
   "id": "86fffa68",
   "metadata": {},
   "outputs": [
    {
     "name": "stdout",
     "output_type": "stream",
     "text": [
      "37\n",
      "9\n",
      "3\n"
     ]
    }
   ],
   "source": [
    "print(solution3(\"1S2D*3T\"))\n",
    "print(solution3(\"1D2S#10S\"))\n",
    "print(solution3(\"1D2S0T\"))"
   ]
  },
  {
   "cell_type": "markdown",
   "id": "18b13ad3",
   "metadata": {},
   "source": [
    "---"
   ]
  },
  {
   "cell_type": "markdown",
   "id": "1b7e3e56",
   "metadata": {},
   "source": [
    "### 정규표현식"
   ]
  },
  {
   "cell_type": "markdown",
   "id": "710a94c1",
   "metadata": {},
   "source": [
    "원래 표현식|축약 표현|부연 설명|사용처|\n",
    "---|---|---|---|\n",
    "[0-9]|\\d|숫자를 찾는다|숫자\n",
    "[^0-9]|\\D|숫자가 아닌 것을 찾는다|텍스트+특수문자+화이트스페이스\n",
    "[ \\t\\n\\r\\f\\v]|\\s|whitespace 문자인 것을 찾는다|스페이스, TAB, 개행(new line)\n",
    "[^ \\t\\n\\r\\f\\v]|\\S|whitespace 문자가 아닌 것을 찾는다|텍스트 + 특수문자 + 숫자\n",
    "[a-zA-Z0-9]|\\w|문자+숫자인 것을 찾는다.(특수문자는 제외. 단, 언더스코어 포함)|텍스트 + 숫자\n",
    "[^a-zA-Z0-9]|\\W|문자+숫자가 아닌 것을 찾는다.|특수문자 + 공백"
   ]
  },
  {
   "cell_type": "code",
   "execution_count": 51,
   "id": "1de868fb",
   "metadata": {},
   "outputs": [
    {
     "name": "stdout",
     "output_type": "stream",
     "text": [
      "문자: ['dog', 'apple', 'cat']\n",
      "SDT: ['S', 'S', 'D', 'D', 'D', 'T']\n",
      "숫자: ['1', '0', '3', '1', '2', '3', '8', '9', '4']\n",
      "숫자 아닌: ['d', 'o', 'g', ' ', '*', 'S', 'a', 'p', 'p', 'l', 'e', 'S', '#', 'D', 'D', 'D', '#', 'T', '*', 'c', 'a', 't']\n",
      "숫자: ['10', '3', '1', '23894']\n",
      "#*: ['*', '#', '#', '*']\n",
      "[('3', 'S', '#'), ('1', 'T', '*')]\n"
     ]
    }
   ],
   "source": [
    "import re # 정규표현식 모듈 \n",
    "\n",
    "str ='dog10 *Sapple3S#DDD#1T*23894cat'\n",
    "\n",
    "p1 = re.compile('[a-z]+')\n",
    "p2 = re.compile('[SDT]')\n",
    "p3 = re.compile('[0-9]')\n",
    "p4 = re.compile('[^0-9]')\n",
    "p5 = re.compile('[\\d]+')\n",
    "p6 = re.compile('[#*]+')\n",
    "\n",
    "p = re.compile('(\\d+)([SDT])([*#]?)')\n",
    "\n",
    "print('문자:',(p1.findall(str)))\n",
    "print('SDT:',p2.findall(str))\n",
    "print('숫자:',p3.findall(str))\n",
    "print(\"숫자 아닌:\",p4.findall(str))\n",
    "print(\"숫자:\",p5.findall(str))\n",
    "print(\"#*:\", p6.findall(str))\n",
    "\n",
    "print(p.findall(str))"
   ]
  }
 ],
 "metadata": {
  "kernelspec": {
   "display_name": "Python 3",
   "language": "python",
   "name": "python3"
  },
  "language_info": {
   "codemirror_mode": {
    "name": "ipython",
    "version": 3
   },
   "file_extension": ".py",
   "mimetype": "text/x-python",
   "name": "python",
   "nbconvert_exporter": "python",
   "pygments_lexer": "ipython3",
   "version": "3.8.8"
  }
 },
 "nbformat": 4,
 "nbformat_minor": 5
}
