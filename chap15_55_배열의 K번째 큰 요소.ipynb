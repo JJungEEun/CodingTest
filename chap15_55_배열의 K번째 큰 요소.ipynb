{
 "cells": [
  {
   "cell_type": "markdown",
   "id": "1439cbe8",
   "metadata": {},
   "source": [
    "## 배열의 K번째 큰 요소"
   ]
  },
  {
   "cell_type": "markdown",
   "id": "5c0e6f04",
   "metadata": {},
   "source": [
    "### solution 01"
   ]
  },
  {
   "cell_type": "code",
   "execution_count": 1,
   "id": "c68bc216",
   "metadata": {},
   "outputs": [],
   "source": [
    "class Solution(object):\n",
    "    def findKthLargest(nums, k):\n",
    "        \"\"\"\n",
    "        :type nums: List[int]\n",
    "        :type k: int\n",
    "        :rtype: int\n",
    "        \"\"\"\n",
    "        \n",
    "        nums.sort()\n",
    "        return nums[-k]"
   ]
  },
  {
   "cell_type": "code",
   "execution_count": 2,
   "id": "2692bfd8",
   "metadata": {},
   "outputs": [
    {
     "data": {
      "text/plain": [
       "5"
      ]
     },
     "execution_count": 2,
     "metadata": {},
     "output_type": "execute_result"
    }
   ],
   "source": [
    "nums = [3,2,1,5,6,4]\n",
    "k = 2\n",
    "Solution.findKthLargest(nums, k)"
   ]
  },
  {
   "cell_type": "code",
   "execution_count": 3,
   "id": "345b2285",
   "metadata": {},
   "outputs": [
    {
     "data": {
      "text/plain": [
       "4"
      ]
     },
     "execution_count": 3,
     "metadata": {},
     "output_type": "execute_result"
    }
   ],
   "source": [
    "nums = [3,2,3,1,2,4,5,5,6]\n",
    "k = 4\n",
    "Solution.findKthLargest(nums, k)"
   ]
  },
  {
   "cell_type": "markdown",
   "id": "2ca362e4",
   "metadata": {},
   "source": [
    "Runtime: 61 ms, faster than 78.59% of Python online submissions for Kth Largest Element in an Array.\n",
    "Memory Usage: 14.1 MB, less than 71.31% of Python online submissions for Kth Largest Element in an Array."
   ]
  },
  {
   "cell_type": "markdown",
   "id": "7d5498ce",
   "metadata": {},
   "source": [
    "### Solution 02"
   ]
  },
  {
   "cell_type": "code",
   "execution_count": 6,
   "id": "8d0a41f8",
   "metadata": {},
   "outputs": [],
   "source": [
    "import heapq\n",
    "\n",
    "class Solution(object):\n",
    "    def findKthLargest(nums, k):\n",
    "        \"\"\"\n",
    "        :type nums: List[int]\n",
    "        :type k: int\n",
    "        :rtype: int\n",
    "        \"\"\"\n",
    "        \n",
    "        heap = []\n",
    "        for n in nums:\n",
    "            heapq.heappush(heap, -n) #minheap이기 때문에 부호 바꿔서 넣기\n",
    "\n",
    "        for _ in range(1, k):\n",
    "            heapq.heappop(heap)\n",
    "\n",
    "        return -heapq.heappop(heap)"
   ]
  },
  {
   "cell_type": "code",
   "execution_count": 7,
   "id": "0cdb7e1c",
   "metadata": {},
   "outputs": [
    {
     "data": {
      "text/plain": [
       "5"
      ]
     },
     "execution_count": 7,
     "metadata": {},
     "output_type": "execute_result"
    }
   ],
   "source": [
    "nums = [3,2,1,5,6,4]\n",
    "k = 2\n",
    "Solution.findKthLargest(nums, k)"
   ]
  },
  {
   "cell_type": "code",
   "execution_count": 8,
   "id": "88f5368a",
   "metadata": {},
   "outputs": [
    {
     "data": {
      "text/plain": [
       "4"
      ]
     },
     "execution_count": 8,
     "metadata": {},
     "output_type": "execute_result"
    }
   ],
   "source": [
    "nums = [3,2,3,1,2,4,5,5,6]\n",
    "k = 4\n",
    "Solution.findKthLargest(nums, k)"
   ]
  },
  {
   "cell_type": "markdown",
   "id": "3b665f34",
   "metadata": {},
   "source": [
    "Runtime: 120 ms, faster than 24.60% of Python online submissions for Kth Largest Element in an Array.\n",
    "Memory Usage: 14.1 MB, less than 71.31% of Python online submissions for Kth Largest Element in an Array."
   ]
  },
  {
   "cell_type": "markdown",
   "id": "7da4ea2a",
   "metadata": {},
   "source": [
    "### Solution 03"
   ]
  },
  {
   "cell_type": "code",
   "execution_count": 14,
   "id": "dd1d8794",
   "metadata": {},
   "outputs": [],
   "source": [
    "class Solution(object):\n",
    "    def findKthLargest(nums, k):\n",
    "        \"\"\"\n",
    "        :type nums: List[int]\n",
    "        :type k: int\n",
    "        :rtype: int\n",
    "        \"\"\"\n",
    "        \n",
    "        heapq.heapify(nums)\n",
    "\n",
    "        for _ in range(len(nums) - k):\n",
    "            heapq.heappop(nums)\n",
    "\n",
    "        return heapq.heappop(nums)"
   ]
  },
  {
   "cell_type": "code",
   "execution_count": 15,
   "id": "1755ba11",
   "metadata": {},
   "outputs": [
    {
     "data": {
      "text/plain": [
       "5"
      ]
     },
     "execution_count": 15,
     "metadata": {},
     "output_type": "execute_result"
    }
   ],
   "source": [
    "nums = [3,2,1,5,6,4]\n",
    "k = 2\n",
    "Solution.findKthLargest(nums, k)"
   ]
  },
  {
   "cell_type": "code",
   "execution_count": 17,
   "id": "a42e06f9",
   "metadata": {},
   "outputs": [
    {
     "data": {
      "text/plain": [
       "4"
      ]
     },
     "execution_count": 17,
     "metadata": {},
     "output_type": "execute_result"
    }
   ],
   "source": [
    "nums = [3,2,3,1,2,4,5,5,6]\n",
    "k = 4\n",
    "Solution.findKthLargest(nums, k)"
   ]
  },
  {
   "cell_type": "markdown",
   "id": "0a656efb",
   "metadata": {},
   "source": [
    "Runtime: 115 ms, faster than 26.73% of Python online submissions for Kth Largest Element in an Array.\n",
    "Memory Usage: 14.3 MB, less than 28.33% of Python online submissions for Kth Largest Element in an Array.\n",
    "Next challenges:"
   ]
  },
  {
   "cell_type": "markdown",
   "id": "7b41e66c",
   "metadata": {},
   "source": [
    "### Solution 04"
   ]
  },
  {
   "cell_type": "code",
   "execution_count": 11,
   "id": "4156beb0",
   "metadata": {},
   "outputs": [],
   "source": [
    "class Solution(object):\n",
    "    def findKthLargest(nums, k):\n",
    "        \"\"\"\n",
    "        :type nums: List[int]\n",
    "        :type k: int\n",
    "        :rtype: int\n",
    "        \"\"\"\n",
    "        \n",
    "        return heapq.nlargest(k, nums)[-1]"
   ]
  },
  {
   "cell_type": "code",
   "execution_count": 12,
   "id": "c373b82b",
   "metadata": {},
   "outputs": [
    {
     "data": {
      "text/plain": [
       "5"
      ]
     },
     "execution_count": 12,
     "metadata": {},
     "output_type": "execute_result"
    }
   ],
   "source": [
    "nums = [3,2,1,5,6,4]\n",
    "k = 2\n",
    "Solution.findKthLargest(nums, k)"
   ]
  },
  {
   "cell_type": "code",
   "execution_count": 13,
   "id": "d9d0f4cd",
   "metadata": {},
   "outputs": [
    {
     "data": {
      "text/plain": [
       "4"
      ]
     },
     "execution_count": 13,
     "metadata": {},
     "output_type": "execute_result"
    }
   ],
   "source": [
    "nums = [3,2,3,1,2,4,5,5,6]\n",
    "k = 4\n",
    "Solution.findKthLargest(nums, k)"
   ]
  },
  {
   "cell_type": "markdown",
   "id": "0c0fa86a",
   "metadata": {},
   "source": [
    "Runtime: 100 ms, faster than 34.43% of Python online submissions for Kth Largest Element in an Array.\n",
    "Memory Usage: 14.2 MB, less than 71.31% of Python online submissions for Kth Largest Element in an Array."
   ]
  },
  {
   "cell_type": "code",
   "execution_count": null,
   "id": "a919dd17",
   "metadata": {},
   "outputs": [],
   "source": []
  }
 ],
 "metadata": {
  "kernelspec": {
   "display_name": "Python 3",
   "language": "python",
   "name": "python3"
  },
  "language_info": {
   "codemirror_mode": {
    "name": "ipython",
    "version": 3
   },
   "file_extension": ".py",
   "mimetype": "text/x-python",
   "name": "python",
   "nbconvert_exporter": "python",
   "pygments_lexer": "ipython3",
   "version": "3.8.8"
  }
 },
 "nbformat": 4,
 "nbformat_minor": 5
}
