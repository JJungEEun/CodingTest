{
 "cells": [
  {
   "cell_type": "markdown",
   "id": "e1aa1fd0",
   "metadata": {},
   "source": [
    "### 106. Construct Binary Tree from Inorder and Postorder Traversal"
   ]
  },
  {
   "cell_type": "code",
   "execution_count": 2,
   "id": "519b3789",
   "metadata": {},
   "outputs": [],
   "source": [
    "class Solution(object):\n",
    "    def buildTree(self, inorder, postorder):\n",
    "        if len(postorder) == 0:\n",
    "            return\n",
    "        \n",
    "        index = inorder.index(postorder[-1])\n",
    "        \n",
    "        node = TreeNode(inorder[index])\n",
    "        node.left  = self.buildTree(inorder[0:index], postorder[0:index])\n",
    "        node.right = self.buildTree(inorder[index+1:], postorder[index:-1])\n",
    "        \n",
    "        return node"
   ]
  },
  {
   "cell_type": "code",
   "execution_count": null,
   "id": "5fe8ab6a",
   "metadata": {},
   "outputs": [],
   "source": []
  }
 ],
 "metadata": {
  "kernelspec": {
   "display_name": "Python 3",
   "language": "python",
   "name": "python3"
  },
  "language_info": {
   "codemirror_mode": {
    "name": "ipython",
    "version": 3
   },
   "file_extension": ".py",
   "mimetype": "text/x-python",
   "name": "python",
   "nbconvert_exporter": "python",
   "pygments_lexer": "ipython3",
   "version": "3.8.8"
  }
 },
 "nbformat": 4,
 "nbformat_minor": 5
}
