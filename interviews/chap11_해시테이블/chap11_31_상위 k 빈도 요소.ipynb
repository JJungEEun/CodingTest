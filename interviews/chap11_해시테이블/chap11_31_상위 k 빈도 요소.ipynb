{
 "cells": [
  {
   "cell_type": "markdown",
   "id": "e5954163",
   "metadata": {},
   "source": [
    "### 내 풀이"
   ]
  },
  {
   "cell_type": "code",
   "execution_count": 11,
   "id": "5b10f235",
   "metadata": {},
   "outputs": [],
   "source": [
    "def topKFrequent(nums, k): \n",
    "    a =  collections.Counter(nums).most_common(k)\n",
    "    return ([n[0] for n in a])"
   ]
  },
  {
   "cell_type": "code",
   "execution_count": 12,
   "id": "37627898",
   "metadata": {},
   "outputs": [
    {
     "data": {
      "text/plain": [
       "[1, 2]"
      ]
     },
     "execution_count": 12,
     "metadata": {},
     "output_type": "execute_result"
    }
   ],
   "source": [
    "nums = [1,1,1,2,2,3]\n",
    "k = 2\n",
    "topKFrequent(nums, k)"
   ]
  },
  {
   "cell_type": "code",
   "execution_count": 13,
   "id": "be401ef3",
   "metadata": {},
   "outputs": [
    {
     "data": {
      "text/plain": [
       "[1]"
      ]
     },
     "execution_count": 13,
     "metadata": {},
     "output_type": "execute_result"
    }
   ],
   "source": [
    "nums = [1]\n",
    "k = 1\n",
    "topKFrequent(nums, k)"
   ]
  },
  {
   "cell_type": "markdown",
   "id": "ccb5ad77",
   "metadata": {},
   "source": [
    "### 파이썬다운 방식"
   ]
  },
  {
   "cell_type": "code",
   "execution_count": 14,
   "id": "e93b2a90",
   "metadata": {},
   "outputs": [],
   "source": [
    "def topKFrequent(nums, k): \n",
    "    return list(zip(*collections.Counter(nums).most_common(k)))[0]"
   ]
  },
  {
   "cell_type": "code",
   "execution_count": 15,
   "id": "ece6f270",
   "metadata": {},
   "outputs": [
    {
     "data": {
      "text/plain": [
       "(1, 2)"
      ]
     },
     "execution_count": 15,
     "metadata": {},
     "output_type": "execute_result"
    }
   ],
   "source": [
    "nums = [1,1,1,2,2,3]\n",
    "k = 2\n",
    "topKFrequent(nums, k)"
   ]
  },
  {
   "cell_type": "code",
   "execution_count": 16,
   "id": "a3f6a2ef",
   "metadata": {},
   "outputs": [
    {
     "data": {
      "text/plain": [
       "(1,)"
      ]
     },
     "execution_count": 16,
     "metadata": {},
     "output_type": "execute_result"
    }
   ],
   "source": [
    "nums = [1]\n",
    "k = 1\n",
    "topKFrequent(nums, k)"
   ]
  },
  {
   "cell_type": "markdown",
   "id": "e15f4b40",
   "metadata": {},
   "source": [
    "### Counter를 이용한 음수 순 추출"
   ]
  },
  {
   "cell_type": "code",
   "execution_count": 8,
   "id": "e4c19cb3",
   "metadata": {},
   "outputs": [],
   "source": [
    "import collections\n",
    "import heapq\n",
    "\n",
    "def topKFrequent(nums, k):\n",
    "    freqs = collections.Counter(nums)\n",
    "    freqs_heap = []\n",
    "\n",
    "    # 힙에 음수로 삽입\n",
    "    for f in freqs:\n",
    "        heapq.heappush(freqs_heap, (-freqs[f], f))\n",
    "\n",
    "    topk = list()\n",
    "    # k번 만큼 추출, 최소 힙(Min Heap)이므로 가장 작은 음수 순으로 추출\n",
    "    for _ in range(k):\n",
    "        topk.append(heapq.heappop(freqs_heap)[1])\n",
    "\n",
    "    return topk"
   ]
  },
  {
   "cell_type": "code",
   "execution_count": 9,
   "id": "b6b5cb88",
   "metadata": {},
   "outputs": [
    {
     "data": {
      "text/plain": [
       "[1, 2]"
      ]
     },
     "execution_count": 9,
     "metadata": {},
     "output_type": "execute_result"
    }
   ],
   "source": [
    "nums = [1,1,1,2,2,3]\n",
    "k = 2\n",
    "topKFrequent(nums, k)"
   ]
  },
  {
   "cell_type": "code",
   "execution_count": 10,
   "id": "8c625fdb",
   "metadata": {},
   "outputs": [
    {
     "data": {
      "text/plain": [
       "[1]"
      ]
     },
     "execution_count": 10,
     "metadata": {},
     "output_type": "execute_result"
    }
   ],
   "source": [
    "nums = [1]\n",
    "k = 1\n",
    "topKFrequent(nums, k)"
   ]
  },
  {
   "cell_type": "code",
   "execution_count": null,
   "id": "28bd5d46",
   "metadata": {},
   "outputs": [],
   "source": []
  }
 ],
 "metadata": {
  "kernelspec": {
   "display_name": "Python 3",
   "language": "python",
   "name": "python3"
  },
  "language_info": {
   "codemirror_mode": {
    "name": "ipython",
    "version": 3
   },
   "file_extension": ".py",
   "mimetype": "text/x-python",
   "name": "python",
   "nbconvert_exporter": "python",
   "pygments_lexer": "ipython3",
   "version": "3.8.8"
  }
 },
 "nbformat": 4,
 "nbformat_minor": 5
}
