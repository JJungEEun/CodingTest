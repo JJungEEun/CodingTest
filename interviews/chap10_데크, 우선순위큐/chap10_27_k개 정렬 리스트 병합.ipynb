{
 "cells": [
  {
   "cell_type": "markdown",
   "id": "23cc75a9",
   "metadata": {},
   "source": [
    "## k개 정렬 리스트 병합"
   ]
  },
  {
   "cell_type": "markdown",
   "id": "5b27888a",
   "metadata": {},
   "source": [
    "### 01) My Solution"
   ]
  },
  {
   "cell_type": "code",
   "execution_count": 1,
   "id": "9ae5810d",
   "metadata": {},
   "outputs": [],
   "source": [
    "class ListNode(object):\n",
    "    def __init__(self, val=0, next=None):\n",
    "        self.val = val\n",
    "        self.next = next\n",
    "        \n",
    "class Solution(object):\n",
    "    def mergeKLists(self, lists):\n",
    "        \n",
    "        data = []\n",
    "        for list in lists:\n",
    "            while list:\n",
    "                data.append(list.val)\n",
    "                list = list.next\n",
    "            \n",
    "        data.sort()\n",
    "        node = tmp = ListNode()\n",
    "        for i in data:\n",
    "            tmp.next = ListNode(i)\n",
    "            tmp = tmp.next\n",
    "            \n",
    "        return node.next   "
   ]
  },
  {
   "cell_type": "markdown",
   "id": "74b82cf1",
   "metadata": {},
   "source": [
    "### 02) 우선순위 큐를 이용한 리스트 병합"
   ]
  },
  {
   "cell_type": "code",
   "execution_count": 3,
   "id": "72c3e415",
   "metadata": {},
   "outputs": [],
   "source": [
    "class Solution(object):\n",
    "    def mergeKLists(self, lists):\n",
    "        root = result = ListNode(None)\n",
    "        heap = []\n",
    "        \n",
    "        #각 연결리스트의 루프를 힙에 저장\n",
    "        for i in range(len(lists)):\n",
    "            if lists[i]:\n",
    "                heapq.heappush(heap, (lists[i].val, i, lists[i]))\n",
    "\n",
    "        \n",
    "        while heap:\n",
    "            node = heapq.heappop(heap)\n",
    "            idx = node[1]\n",
    "            result.next = node[2]\n",
    "            result = result.next\n",
    "\n",
    "            if result.next:\n",
    "                heapq.heappush(heap, (result.next.val, idx, result.next))\n",
    "                \n",
    "                \n",
    "        return root.next"
   ]
  },
  {
   "cell_type": "code",
   "execution_count": null,
   "id": "e08f6eb0",
   "metadata": {},
   "outputs": [],
   "source": []
  }
 ],
 "metadata": {
  "kernelspec": {
   "display_name": "Python 3",
   "language": "python",
   "name": "python3"
  },
  "language_info": {
   "codemirror_mode": {
    "name": "ipython",
    "version": 3
   },
   "file_extension": ".py",
   "mimetype": "text/x-python",
   "name": "python",
   "nbconvert_exporter": "python",
   "pygments_lexer": "ipython3",
   "version": "3.8.8"
  }
 },
 "nbformat": 4,
 "nbformat_minor": 5
}
