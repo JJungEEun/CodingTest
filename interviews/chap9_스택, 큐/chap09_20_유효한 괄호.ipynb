{
 "cells": [
  {
   "cell_type": "code",
   "execution_count": 1,
   "id": "0fdc4e21",
   "metadata": {},
   "outputs": [],
   "source": [
    "def isValid(self, s):\n",
    "    stack = []\n",
    "    table = {')':'(', '}':'{', ']':'['} #매핑 테이블\n",
    "    \n",
    "    #스택 이용 예외 처리 및 일치 여부 판별\n",
    "    for char in s:\n",
    "        if char not in table:\n",
    "            stack.append(char)\n",
    "        elif not stack or table[char] != stack.pop():\n",
    "            return False\n",
    "        \n",
    "    return len(stack) == 0 "
   ]
  },
  {
   "cell_type": "code",
   "execution_count": null,
   "id": "f3bf4a9e",
   "metadata": {},
   "outputs": [],
   "source": []
  }
 ],
 "metadata": {
  "kernelspec": {
   "display_name": "Python 3",
   "language": "python",
   "name": "python3"
  },
  "language_info": {
   "codemirror_mode": {
    "name": "ipython",
    "version": 3
   },
   "file_extension": ".py",
   "mimetype": "text/x-python",
   "name": "python",
   "nbconvert_exporter": "python",
   "pygments_lexer": "ipython3",
   "version": "3.8.8"
  }
 },
 "nbformat": 4,
 "nbformat_minor": 5
}
