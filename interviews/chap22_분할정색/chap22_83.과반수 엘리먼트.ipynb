{
 "cells": [
  {
   "cell_type": "markdown",
   "id": "b30a63c7",
   "metadata": {},
   "source": [
    "### 83. 과반수 엘리먼트 / 241. Different Ways to Add Parentheses"
   ]
  },
  {
   "cell_type": "markdown",
   "id": "0edcce06",
   "metadata": {},
   "source": [
    "Given an array nums of size n, return the majority element.\n",
    "\n",
    "The majority element is the element that appears more than ⌊n / 2⌋ times. You may assume that the majority element always exists in the array."
   ]
  },
  {
   "cell_type": "markdown",
   "id": "b0c2e100",
   "metadata": {},
   "source": [
    "---"
   ]
  },
  {
   "cell_type": "markdown",
   "id": "68e1f864",
   "metadata": {},
   "source": [
    "#### Solution 01"
   ]
  },
  {
   "cell_type": "code",
   "execution_count": 3,
   "id": "d2622669",
   "metadata": {},
   "outputs": [],
   "source": [
    "import collections\n",
    "\n",
    "def majorityElement(nums):\n",
    "        \"\"\"\n",
    "        :type nums: List[int]\n",
    "        :rtype: int\n",
    "        \"\"\"\n",
    "        \n",
    "        return (collections.Counter(nums).most_common(1)[0][0])"
   ]
  },
  {
   "cell_type": "code",
   "execution_count": 4,
   "id": "ced6eae8",
   "metadata": {},
   "outputs": [
    {
     "data": {
      "text/plain": [
       "3"
      ]
     },
     "execution_count": 4,
     "metadata": {},
     "output_type": "execute_result"
    }
   ],
   "source": [
    "nums = [3,2,3]\n",
    "majorityElement(nums)"
   ]
  },
  {
   "cell_type": "code",
   "execution_count": 5,
   "id": "476898b7",
   "metadata": {},
   "outputs": [
    {
     "data": {
      "text/plain": [
       "2"
      ]
     },
     "execution_count": 5,
     "metadata": {},
     "output_type": "execute_result"
    }
   ],
   "source": [
    "nums = [2,2,1,1,1,2,2]\n",
    "majorityElement(nums)"
   ]
  },
  {
   "cell_type": "markdown",
   "id": "c6c86469",
   "metadata": {},
   "source": [
    "Runtime: 137 ms, faster than 86.21% of Python online submissions for Majority Element.\n",
    "Memory Usage: 15 MB, less than 31.29% of Python online submissions for Majority Element."
   ]
  },
  {
   "cell_type": "markdown",
   "id": "b781b895",
   "metadata": {},
   "source": [
    "#### Solution 02"
   ]
  },
  {
   "cell_type": "code",
   "execution_count": 6,
   "id": "1a509e5f",
   "metadata": {},
   "outputs": [],
   "source": [
    "def majorityElement(nums):\n",
    "        \"\"\"\n",
    "        :type nums: List[int]\n",
    "        :rtype: int\n",
    "        \"\"\"\n",
    "        for num in nums:\n",
    "            if nums.count(num) > len(nums) // 2:\n",
    "                return num"
   ]
  },
  {
   "cell_type": "code",
   "execution_count": 7,
   "id": "1acaa960",
   "metadata": {},
   "outputs": [
    {
     "data": {
      "text/plain": [
       "3"
      ]
     },
     "execution_count": 7,
     "metadata": {},
     "output_type": "execute_result"
    }
   ],
   "source": [
    "nums = [3,2,3]\n",
    "majorityElement(nums)"
   ]
  },
  {
   "cell_type": "code",
   "execution_count": 8,
   "id": "e218b32b",
   "metadata": {},
   "outputs": [
    {
     "data": {
      "text/plain": [
       "2"
      ]
     },
     "execution_count": 8,
     "metadata": {},
     "output_type": "execute_result"
    }
   ],
   "source": [
    "nums = [2,2,1,1,1,2,2]\n",
    "majorityElement(nums)"
   ]
  },
  {
   "cell_type": "markdown",
   "id": "791a9f28",
   "metadata": {},
   "source": [
    "Time Limit Exceeded"
   ]
  },
  {
   "cell_type": "markdown",
   "id": "b6a55e18",
   "metadata": {},
   "source": [
    "#### Solution 03"
   ]
  },
  {
   "cell_type": "code",
   "execution_count": 9,
   "id": "a24f3825",
   "metadata": {},
   "outputs": [],
   "source": [
    "def majorityElement(nums):\n",
    "        \"\"\"\n",
    "        :type nums: List[int]\n",
    "        :rtype: int\n",
    "        \"\"\"\n",
    "    \n",
    "        counts = collections.defaultdict(int)\n",
    "        for num in nums:\n",
    "            if counts[num] == 0:\n",
    "                counts[num] = nums.count(num)\n",
    "\n",
    "            if counts[num] > len(nums) // 2:\n",
    "                return num"
   ]
  },
  {
   "cell_type": "code",
   "execution_count": 10,
   "id": "6921bc4c",
   "metadata": {},
   "outputs": [
    {
     "data": {
      "text/plain": [
       "3"
      ]
     },
     "execution_count": 10,
     "metadata": {},
     "output_type": "execute_result"
    }
   ],
   "source": [
    "nums = [3,2,3]\n",
    "majorityElement(nums)"
   ]
  },
  {
   "cell_type": "code",
   "execution_count": 11,
   "id": "feec949b",
   "metadata": {},
   "outputs": [
    {
     "data": {
      "text/plain": [
       "2"
      ]
     },
     "execution_count": 11,
     "metadata": {},
     "output_type": "execute_result"
    }
   ],
   "source": [
    "nums = [2,2,1,1,1,2,2]\n",
    "majorityElement(nums)"
   ]
  },
  {
   "cell_type": "markdown",
   "id": "a1542c83",
   "metadata": {},
   "source": [
    "Runtime: 138 ms, faster than 85.29% of Python online submissions for Majority Element.\n",
    "Memory Usage: 15 MB, less than 31.29% of Python online submissions for Majority Element."
   ]
  },
  {
   "cell_type": "markdown",
   "id": "8f3addf0",
   "metadata": {},
   "source": [
    "#### Solution 04"
   ]
  },
  {
   "cell_type": "code",
   "execution_count": 12,
   "id": "372e62cc",
   "metadata": {},
   "outputs": [],
   "source": [
    " def majorityElement(nums):\n",
    "        \"\"\"\n",
    "        :type nums: List[int]\n",
    "        :rtype: int\n",
    "        \"\"\"\n",
    "        \n",
    "        return sorted(nums)[len(nums) // 2]"
   ]
  },
  {
   "cell_type": "code",
   "execution_count": 13,
   "id": "2d2d0dee",
   "metadata": {},
   "outputs": [
    {
     "data": {
      "text/plain": [
       "3"
      ]
     },
     "execution_count": 13,
     "metadata": {},
     "output_type": "execute_result"
    }
   ],
   "source": [
    "nums = [3,2,3]\n",
    "majorityElement(nums)"
   ]
  },
  {
   "cell_type": "code",
   "execution_count": 14,
   "id": "6feba85f",
   "metadata": {},
   "outputs": [
    {
     "data": {
      "text/plain": [
       "2"
      ]
     },
     "execution_count": 14,
     "metadata": {},
     "output_type": "execute_result"
    }
   ],
   "source": [
    "nums = [2,2,1,1,1,2,2]\n",
    "majorityElement(nums)"
   ]
  },
  {
   "cell_type": "markdown",
   "id": "1291f066",
   "metadata": {},
   "source": [
    "Runtime: 254 ms, faster than 11.51% of Python online submissions for Majority Element.\n",
    "Memory Usage: 14.9 MB, less than 53.44% of Python online submissions for Majority Element."
   ]
  },
  {
   "cell_type": "markdown",
   "id": "fb391e29",
   "metadata": {},
   "source": [
    "#### Solution 05"
   ]
  },
  {
   "cell_type": "code",
   "execution_count": 17,
   "id": "c5253fce",
   "metadata": {},
   "outputs": [],
   "source": [
    "def majorityElement(nums):\n",
    "    \"\"\"\n",
    "    :type nums: List[int]\n",
    "    :rtype: int\n",
    "    \"\"\"\n",
    "\n",
    "    if not nums:\n",
    "        return None\n",
    "    if len(nums) == 1:\n",
    "        return nums[0]\n",
    "\n",
    "    half = len(nums) // 2\n",
    "    a = majorityElement(nums[:half])\n",
    "    b = majorityElement(nums[half:])\n",
    "\n",
    "    return [b, a][nums.count(a) > half]"
   ]
  },
  {
   "cell_type": "code",
   "execution_count": 18,
   "id": "3ed1c283",
   "metadata": {},
   "outputs": [
    {
     "data": {
      "text/plain": [
       "3"
      ]
     },
     "execution_count": 18,
     "metadata": {},
     "output_type": "execute_result"
    }
   ],
   "source": [
    "nums = [3,2,3]\n",
    "majorityElement(nums)"
   ]
  },
  {
   "cell_type": "code",
   "execution_count": 19,
   "id": "4f93f433",
   "metadata": {},
   "outputs": [
    {
     "data": {
      "text/plain": [
       "2"
      ]
     },
     "execution_count": 19,
     "metadata": {},
     "output_type": "execute_result"
    }
   ],
   "source": [
    "nums = [2,2,1,1,1,2,2]\n",
    "majorityElement(nums)"
   ]
  },
  {
   "cell_type": "markdown",
   "id": "bcefa171",
   "metadata": {},
   "source": [
    "Runtime: 254 ms, faster than 11.51% of Python online submissions for Majority Element.\n",
    "Memory Usage: 14.9 MB, less than 53.44% of Python online submissions for Majority Element."
   ]
  }
 ],
 "metadata": {
  "kernelspec": {
   "display_name": "Python 3",
   "language": "python",
   "name": "python3"
  },
  "language_info": {
   "codemirror_mode": {
    "name": "ipython",
    "version": 3
   },
   "file_extension": ".py",
   "mimetype": "text/x-python",
   "name": "python",
   "nbconvert_exporter": "python",
   "pygments_lexer": "ipython3",
   "version": "3.8.8"
  }
 },
 "nbformat": 4,
 "nbformat_minor": 5
}
