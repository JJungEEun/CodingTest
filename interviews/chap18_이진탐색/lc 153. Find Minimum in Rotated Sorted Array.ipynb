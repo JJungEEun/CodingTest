{
 "cells": [
  {
   "cell_type": "markdown",
   "id": "dd695115",
   "metadata": {},
   "source": [
    "## lc 153. Find Minimum in Rotated Sorted Array\n",
    "\n",
    "--- \n",
    "Suppose an array of length n sorted in ascending order is **rotated** between 1 and n times. For example, the array nums = [0,1,2,4,5,6,7] might become:\n",
    "\n",
    "- [4,5,6,7,0,1,2] if it was rotated 4 times.\n",
    "- [0,1,2,4,5,6,7] if it was rotated 7 times.\n",
    "\n",
    "Notice that **rotating** an array [a[0], a[1], a[2], ..., a[n-1]] 1 time results in the array [a[n-1], a[0], a[1], a[2], ..., a[n-2]].\n",
    "\n",
    "Given the sorted rotated array nums of **unique** elements, return the minimum element of this array.\n",
    "\n",
    "You must write an algorithm that runs in O(log n) time.\n",
    " "
   ]
  },
  {
   "cell_type": "markdown",
   "id": "23639e72",
   "metadata": {},
   "source": [
    "### My Solution"
   ]
  },
  {
   "cell_type": "code",
   "execution_count": 1,
   "id": "d645a5ae",
   "metadata": {},
   "outputs": [],
   "source": [
    "class Solution(object):\n",
    "    def findMin(nums):\n",
    "        \n",
    "        n = len(nums)\n",
    "        start, last = 0, n -1\n",
    "        \n",
    "        while start < last:\n",
    "            mid = (start + last) // 2\n",
    "            if nums[last] > nums[mid]:\n",
    "                last = mid \n",
    "            else:        \n",
    "                start = mid + 1\n",
    "            \n",
    "        return nums[start]"
   ]
  },
  {
   "cell_type": "code",
   "execution_count": 3,
   "id": "76ef9656",
   "metadata": {},
   "outputs": [
    {
     "data": {
      "text/plain": [
       "1"
      ]
     },
     "execution_count": 3,
     "metadata": {},
     "output_type": "execute_result"
    }
   ],
   "source": [
    "nums = [3,4,5,1,2]\n",
    "Solution.findMin(nums)"
   ]
  },
  {
   "cell_type": "code",
   "execution_count": 4,
   "id": "6b910f50",
   "metadata": {},
   "outputs": [
    {
     "data": {
      "text/plain": [
       "0"
      ]
     },
     "execution_count": 4,
     "metadata": {},
     "output_type": "execute_result"
    }
   ],
   "source": [
    "nums = [4,5,6,7,0,1,2]\n",
    "Solution.findMin(nums)"
   ]
  },
  {
   "cell_type": "code",
   "execution_count": 5,
   "id": "dea93f0d",
   "metadata": {},
   "outputs": [
    {
     "data": {
      "text/plain": [
       "11"
      ]
     },
     "execution_count": 5,
     "metadata": {},
     "output_type": "execute_result"
    }
   ],
   "source": [
    "nums = [11,13,15,17]\n",
    "Solution.findMin(nums)"
   ]
  },
  {
   "cell_type": "markdown",
   "id": "2dfa4960",
   "metadata": {},
   "source": [
    "Runtime: 51 ms, faster than 20.16% of Python online submissions for Find Minimum in Rotated Sorted Array.\n",
    "Memory Usage: 13.6 MB, less than 56.24% of Python online submissions for Find Minimum in Rotated Sorted Array."
   ]
  }
 ],
 "metadata": {
  "kernelspec": {
   "display_name": "Python 3",
   "language": "python",
   "name": "python3"
  },
  "language_info": {
   "codemirror_mode": {
    "name": "ipython",
    "version": 3
   },
   "file_extension": ".py",
   "mimetype": "text/x-python",
   "name": "python",
   "nbconvert_exporter": "python",
   "pygments_lexer": "ipython3",
   "version": "3.8.8"
  }
 },
 "nbformat": 4,
 "nbformat_minor": 5
}
