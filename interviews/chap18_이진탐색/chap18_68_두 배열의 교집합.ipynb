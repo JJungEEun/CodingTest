{
 "cells": [
  {
   "cell_type": "markdown",
   "id": "a1e77fa1",
   "metadata": {},
   "source": [
    "### 68. 두 배열의 교집합 / 349. Intersection of Two Arrays"
   ]
  },
  {
   "cell_type": "markdown",
   "id": "446e9997",
   "metadata": {},
   "source": [
    "#### Solution 01"
   ]
  },
  {
   "cell_type": "code",
   "execution_count": 2,
   "id": "48120d41",
   "metadata": {},
   "outputs": [],
   "source": [
    "def intersection(nums1, nums2):\n",
    "\n",
    "    n1 = set(nums1)\n",
    "    n2 = set(nums2)\n",
    "\n",
    "    ans = []\n",
    "    for i in n1:\n",
    "        for j in n2:\n",
    "            if i == j:\n",
    "                ans.append(i)\n",
    "\n",
    "    return ans"
   ]
  },
  {
   "cell_type": "code",
   "execution_count": 5,
   "id": "4bcfa626",
   "metadata": {},
   "outputs": [
    {
     "data": {
      "text/plain": [
       "[2]"
      ]
     },
     "execution_count": 5,
     "metadata": {},
     "output_type": "execute_result"
    }
   ],
   "source": [
    "nums1 = [1,2,2,1]\n",
    "nums2 = [2,2]\n",
    "\n",
    "intersection(nums1, nums2)"
   ]
  },
  {
   "cell_type": "code",
   "execution_count": 6,
   "id": "e1631095",
   "metadata": {},
   "outputs": [
    {
     "data": {
      "text/plain": [
       "[9, 4]"
      ]
     },
     "execution_count": 6,
     "metadata": {},
     "output_type": "execute_result"
    }
   ],
   "source": [
    "nums1 = [4,9,5]\n",
    "nums2 = [9,4,9,8,4]\n",
    "\n",
    "intersection(nums1, nums2)"
   ]
  },
  {
   "cell_type": "markdown",
   "id": "a83d78f0",
   "metadata": {},
   "source": [
    "Runtime: 84 ms, faster than 9.21% of Python online submissions for Intersection of Two Arrays.\n",
    "Memory Usage: 13.9 MB, less than 13.84% of Python online submissions for Intersection of Two Arrays."
   ]
  },
  {
   "cell_type": "markdown",
   "id": "7464e3bf",
   "metadata": {},
   "source": [
    "#### Solution 02"
   ]
  },
  {
   "cell_type": "code",
   "execution_count": 12,
   "id": "7af35b2c",
   "metadata": {},
   "outputs": [],
   "source": [
    "import bisect\n",
    "def intersection(nums1, nums2):\n",
    "        result = set()\n",
    "        nums2.sort()\n",
    "        for n1 in nums1:\n",
    "            # 이진 검색으로 일치 여부 판별\n",
    "            i2 = bisect.bisect_left(nums2, n1)\n",
    "            if len(nums2) > 0 and len(nums2) > i2 and n1 == nums2[i2]:\n",
    "                result.add(n1)\n",
    "\n",
    "        return result"
   ]
  },
  {
   "cell_type": "code",
   "execution_count": 13,
   "id": "fcc526ba",
   "metadata": {},
   "outputs": [
    {
     "data": {
      "text/plain": [
       "{2}"
      ]
     },
     "execution_count": 13,
     "metadata": {},
     "output_type": "execute_result"
    }
   ],
   "source": [
    "nums1 = [1,2,2,1]\n",
    "nums2 = [2,2]\n",
    "\n",
    "intersection(nums1, nums2)"
   ]
  },
  {
   "cell_type": "code",
   "execution_count": 14,
   "id": "035477d6",
   "metadata": {},
   "outputs": [
    {
     "data": {
      "text/plain": [
       "{4, 9}"
      ]
     },
     "execution_count": 14,
     "metadata": {},
     "output_type": "execute_result"
    }
   ],
   "source": [
    "nums1 = [4,9,5]\n",
    "nums2 = [9,4,9,8,4]\n",
    "\n",
    "intersection(nums1, nums2)"
   ]
  },
  {
   "cell_type": "markdown",
   "id": "4f766be0",
   "metadata": {},
   "source": [
    "Runtime: 82 ms, faster than 9.79% of Python online submissions for Intersection of Two Arrays.\n",
    "Memory Usage: 13.6 MB, less than 35.43% of Python online submissions for Intersection of Two Arrays."
   ]
  },
  {
   "cell_type": "markdown",
   "id": "3269d5ff",
   "metadata": {},
   "source": [
    "#### Solution 03"
   ]
  },
  {
   "cell_type": "code",
   "execution_count": 15,
   "id": "681919cf",
   "metadata": {},
   "outputs": [],
   "source": [
    "def intersection(nums1, nums2):\n",
    "        result= set()\n",
    "        # 양쪽 모두 정렬\n",
    "        nums1.sort()\n",
    "        nums2.sort()\n",
    "        i = j = 0\n",
    "        # 투 포인터 우측으로 이동하며 일치 여부 판별\n",
    "        while i < len(nums1) and j < len(nums2):\n",
    "            if nums1[i] > nums2[j]:\n",
    "                j += 1\n",
    "            elif nums1[i] < nums2[j]:\n",
    "                i += 1\n",
    "            else:\n",
    "                result.add(nums1[i])\n",
    "                i += 1\n",
    "                j += 1\n",
    "\n",
    "        return result"
   ]
  },
  {
   "cell_type": "code",
   "execution_count": 16,
   "id": "418bf6e2",
   "metadata": {},
   "outputs": [
    {
     "data": {
      "text/plain": [
       "{2}"
      ]
     },
     "execution_count": 16,
     "metadata": {},
     "output_type": "execute_result"
    }
   ],
   "source": [
    "nums1 = [1,2,2,1]\n",
    "nums2 = [2,2]\n",
    "\n",
    "intersection(nums1, nums2)"
   ]
  },
  {
   "cell_type": "code",
   "execution_count": 17,
   "id": "3a856acb",
   "metadata": {},
   "outputs": [
    {
     "data": {
      "text/plain": [
       "{4, 9}"
      ]
     },
     "execution_count": 17,
     "metadata": {},
     "output_type": "execute_result"
    }
   ],
   "source": [
    "nums1 = [4,9,5]\n",
    "nums2 = [9,4,9,8,4]\n",
    "\n",
    "intersection(nums1, nums2)"
   ]
  },
  {
   "cell_type": "markdown",
   "id": "6584141f",
   "metadata": {},
   "source": [
    "Runtime: 36 ms, faster than 76.89% of Python online submissions for Intersection of Two Arrays.\n",
    "Memory Usage: 13.5 MB, less than 82.64% of Python online submissions for Intersection of Two Arrays."
   ]
  },
  {
   "cell_type": "code",
   "execution_count": 19,
   "id": "5c4da468",
   "metadata": {},
   "outputs": [],
   "source": [
    "def intersection(nums1, nums2):\n",
    "    mem = set(nums1)\n",
    "    res = set()\n",
    "    for j in nums2:\n",
    "        if(j in mem):\n",
    "            res.add(j)\n",
    "    return (res)"
   ]
  },
  {
   "cell_type": "code",
   "execution_count": 20,
   "id": "8ac187a7",
   "metadata": {},
   "outputs": [
    {
     "data": {
      "text/plain": [
       "{2}"
      ]
     },
     "execution_count": 20,
     "metadata": {},
     "output_type": "execute_result"
    }
   ],
   "source": [
    "nums1 = [1,2,2,1]\n",
    "nums2 = [2,2]\n",
    "\n",
    "intersection(nums1, nums2)"
   ]
  },
  {
   "cell_type": "code",
   "execution_count": 21,
   "id": "812d2e07",
   "metadata": {},
   "outputs": [
    {
     "data": {
      "text/plain": [
       "{4, 9}"
      ]
     },
     "execution_count": 21,
     "metadata": {},
     "output_type": "execute_result"
    }
   ],
   "source": [
    "nums1 = [4,9,5]\n",
    "nums2 = [9,4,9,8,4]\n",
    "\n",
    "intersection(nums1, nums2)"
   ]
  },
  {
   "cell_type": "markdown",
   "id": "a6edbea9",
   "metadata": {},
   "source": [
    "Runtime: 40 ms, faster than 67.10% of Python online submissions for Intersection of Two Arrays.\n",
    "Memory Usage: 13.5 MB, less than 62.52% of Python online submissions for Intersection of Two Arrays."
   ]
  }
 ],
 "metadata": {
  "kernelspec": {
   "display_name": "Python 3",
   "language": "python",
   "name": "python3"
  },
  "language_info": {
   "codemirror_mode": {
    "name": "ipython",
    "version": 3
   },
   "file_extension": ".py",
   "mimetype": "text/x-python",
   "name": "python",
   "nbconvert_exporter": "python",
   "pygments_lexer": "ipython3",
   "version": "3.8.8"
  }
 },
 "nbformat": 4,
 "nbformat_minor": 5
}
