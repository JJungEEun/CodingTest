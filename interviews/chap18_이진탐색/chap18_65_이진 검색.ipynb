{
 "cells": [
  {
   "cell_type": "markdown",
   "id": "a9da1424",
   "metadata": {},
   "source": [
    "### 65. 이진 검색 / lc704. Binary Search"
   ]
  },
  {
   "cell_type": "markdown",
   "id": "82c63f92",
   "metadata": {},
   "source": [
    "정렬된 nums를 입력받아 이진 검색으로 target에 해당하는 인덱스를 찾아라"
   ]
  },
  {
   "cell_type": "markdown",
   "id": "6c4705d5",
   "metadata": {},
   "source": [
    "#### Solution 01"
   ]
  },
  {
   "cell_type": "code",
   "execution_count": 4,
   "id": "2e8c3a19",
   "metadata": {},
   "outputs": [],
   "source": [
    "def search(nums, target):\n",
    "    for i in range(len(nums)):\n",
    "        if nums[i] < target:\n",
    "            search(nums[:i], target)\n",
    "        elif nums[i] > target:\n",
    "            search(nums[i+1:], target)\n",
    "        elif nums[i] == target:               \n",
    "            return i\n",
    "    return -1"
   ]
  },
  {
   "cell_type": "code",
   "execution_count": 5,
   "id": "052d7ee9",
   "metadata": {},
   "outputs": [
    {
     "data": {
      "text/plain": [
       "4"
      ]
     },
     "execution_count": 5,
     "metadata": {},
     "output_type": "execute_result"
    }
   ],
   "source": [
    "nums = [-1,0,3,5,9,12]\n",
    "target = 9\n",
    "\n",
    "search(nums, target)"
   ]
  },
  {
   "cell_type": "code",
   "execution_count": 6,
   "id": "18f20b21",
   "metadata": {},
   "outputs": [
    {
     "data": {
      "text/plain": [
       "-1"
      ]
     },
     "execution_count": 6,
     "metadata": {},
     "output_type": "execute_result"
    }
   ],
   "source": [
    "nums = [-1,0,3,5,9,12]\n",
    "target = 2\n",
    "\n",
    "search(nums, target)"
   ]
  },
  {
   "cell_type": "code",
   "execution_count": null,
   "id": "1162d9de",
   "metadata": {},
   "outputs": [],
   "source": [
    "nums = [-998,-997,-995,-994,-991,-986,-984,-982,-981,-980,-978,-975,-973,-972,-970,-968,-967,-966,-962,-961,-960,-959,-958,-954,-953,-952,-950,-947,-946,-945,-944,-943,-942,-941,-939,-937,-936,-934,-931,-929,-928,-925,-924,-923,-922,-921,-918,-917,-916,-914,-912,-910,-909,-908,-905,-900,-897,-896,-895,-894,-893,-892,-891,-886,-882,-881,-880,-879,-878,-876,-873,-872,-871,-870,-864,-863,-860,-859,-857,-856,-853,-852,-851,-846,-844,-843,-841,-840,-835,-831,-829,-825,-822,-820,-819,-817,-815,-814,-812,-810,-808,-807,-804,-801,-800,-798,-797,-794,-793,-792,-790,-787,-786,-785,-782,-781,-778,-777,-776,-773,-772,-770,-767,-766,-763,-762,-759,-757,-751,-750,-748,-744,-743,-741,-740,-738,-737,-736,-733,-729,-727,-726,-725,-724,-723,-720,-718,-716,-715,-714,-710,-709,-703,-702,-701,-699,-698,-695,-694,-693,-690,-688,-686,-685,-682,-681,-680,-678,-674,-673,-672,-670,-668,-667,-666,-661,-657,-656,-655,-653,-651,-650,-646,-645,-644,-643,-642,-636,-635,-634,-633,-632,-631,-630,-629,-627,-626,-625,-624,-623]\n",
    "target = 988\n",
    "\n",
    "search(nums, target)"
   ]
  },
  {
   "cell_type": "markdown",
   "id": "af5d7b1e",
   "metadata": {},
   "source": [
    "Time Limit Exceeded"
   ]
  },
  {
   "cell_type": "markdown",
   "id": "89a7653f",
   "metadata": {},
   "source": [
    "#### Solution 2"
   ]
  },
  {
   "cell_type": "code",
   "execution_count": 3,
   "id": "2bf0b1c6",
   "metadata": {},
   "outputs": [],
   "source": [
    "def search(nums, target):\n",
    "    def bs(left, right):\n",
    "        if left <= right:\n",
    "            mid = (left+right) // 2\n",
    "\n",
    "            if nums[mid] < target:\n",
    "                return bs(mid+1, right)\n",
    "            elif nums[mid] > target:\n",
    "                return bs(left, mid-1)\n",
    "            else:\n",
    "                return mid\n",
    "        return -1\n",
    "\n",
    "    return bs(0, len(nums)-1)"
   ]
  },
  {
   "cell_type": "code",
   "execution_count": 4,
   "id": "db80ece0",
   "metadata": {},
   "outputs": [
    {
     "data": {
      "text/plain": [
       "4"
      ]
     },
     "execution_count": 4,
     "metadata": {},
     "output_type": "execute_result"
    }
   ],
   "source": [
    "nums = [-1,0,3,5,9,12]\n",
    "target = 9\n",
    "\n",
    "search(nums, target)"
   ]
  },
  {
   "cell_type": "code",
   "execution_count": 5,
   "id": "624ee832",
   "metadata": {},
   "outputs": [
    {
     "data": {
      "text/plain": [
       "-1"
      ]
     },
     "execution_count": 5,
     "metadata": {},
     "output_type": "execute_result"
    }
   ],
   "source": [
    "nums = [-1,0,3,5,9,12]\n",
    "target = 2\n",
    "\n",
    "search(nums, target)"
   ]
  },
  {
   "cell_type": "markdown",
   "id": "baa9a704",
   "metadata": {},
   "source": [
    "Runtime: 254 ms, faster than 52.71% of Python online submissions for Binary Search.\n",
    "Memory Usage: 20.5 MB, less than 8.52% of Python online submissions for Binary Search."
   ]
  },
  {
   "cell_type": "markdown",
   "id": "812c66cc",
   "metadata": {},
   "source": [
    "#### Solution 3"
   ]
  },
  {
   "cell_type": "code",
   "execution_count": 6,
   "id": "f4dcd6ac",
   "metadata": {},
   "outputs": [],
   "source": [
    "def search(nums, target):\n",
    "    left, right = 0, len(nums)-1\n",
    "    while left <= right:\n",
    "        mid = (left+right) // 2\n",
    "\n",
    "        if nums[mid] < target:\n",
    "            left = mid + 1\n",
    "        elif nums[mid] > target:\n",
    "            right = mid - 1\n",
    "        else:\n",
    "            return mid\n",
    "\n",
    "    return -1"
   ]
  },
  {
   "cell_type": "code",
   "execution_count": 7,
   "id": "1b304799",
   "metadata": {},
   "outputs": [
    {
     "data": {
      "text/plain": [
       "4"
      ]
     },
     "execution_count": 7,
     "metadata": {},
     "output_type": "execute_result"
    }
   ],
   "source": [
    "nums = [-1,0,3,5,9,12]\n",
    "target = 9\n",
    "\n",
    "search(nums, target)"
   ]
  },
  {
   "cell_type": "code",
   "execution_count": 8,
   "id": "784133af",
   "metadata": {},
   "outputs": [
    {
     "data": {
      "text/plain": [
       "-1"
      ]
     },
     "execution_count": 8,
     "metadata": {},
     "output_type": "execute_result"
    }
   ],
   "source": [
    "nums = [-1,0,3,5,9,12]\n",
    "target = 2\n",
    "\n",
    "search(nums, target)"
   ]
  },
  {
   "cell_type": "markdown",
   "id": "ed3a3f67",
   "metadata": {},
   "source": [
    "Runtime: 321 ms, faster than 24.51% of Python online submissions for Binary Search.\n",
    "Memory Usage: 14.5 MB, less than 94.47% of Python online submissions for Binary Search."
   ]
  },
  {
   "cell_type": "markdown",
   "id": "44743ffc",
   "metadata": {},
   "source": [
    "#### Solution 4"
   ]
  },
  {
   "cell_type": "code",
   "execution_count": 11,
   "id": "66b522a6",
   "metadata": {},
   "outputs": [],
   "source": [
    "import bisect\n",
    "def search(nums, target):\n",
    "    index = bisect.bisect_left(nums, target)\n",
    "\n",
    "    if index < len(nums) and nums[index] == target:\n",
    "        return index\n",
    "    else:\n",
    "        return - 1"
   ]
  },
  {
   "cell_type": "code",
   "execution_count": 12,
   "id": "4b7f3703",
   "metadata": {},
   "outputs": [
    {
     "data": {
      "text/plain": [
       "4"
      ]
     },
     "execution_count": 12,
     "metadata": {},
     "output_type": "execute_result"
    }
   ],
   "source": [
    "nums = [-1,0,3,5,9,12]\n",
    "target = 9\n",
    "\n",
    "search(nums, target)"
   ]
  },
  {
   "cell_type": "code",
   "execution_count": 13,
   "id": "7d91439c",
   "metadata": {},
   "outputs": [
    {
     "data": {
      "text/plain": [
       "-1"
      ]
     },
     "execution_count": 13,
     "metadata": {},
     "output_type": "execute_result"
    }
   ],
   "source": [
    "nums = [-1,0,3,5,9,12]\n",
    "target = 2\n",
    "\n",
    "search(nums, target)"
   ]
  },
  {
   "cell_type": "markdown",
   "id": "cab5cd0e",
   "metadata": {},
   "source": [
    "Runtime: 235 ms, faster than 60.56% of Python online submissions for Binary Search.\n",
    "Memory Usage: 14.7 MB, less than 26.33% of Python online submissions for Binary Search."
   ]
  },
  {
   "cell_type": "markdown",
   "id": "f6c23ab1",
   "metadata": {},
   "source": [
    "#### Solution 5"
   ]
  },
  {
   "cell_type": "code",
   "execution_count": 15,
   "id": "7579c1e3",
   "metadata": {},
   "outputs": [],
   "source": [
    "def search(nums, target):\n",
    "        try: \n",
    "            return nums.index(target)\n",
    "        except ValueError:\n",
    "            return -1"
   ]
  },
  {
   "cell_type": "code",
   "execution_count": 16,
   "id": "27c950c3",
   "metadata": {},
   "outputs": [
    {
     "data": {
      "text/plain": [
       "4"
      ]
     },
     "execution_count": 16,
     "metadata": {},
     "output_type": "execute_result"
    }
   ],
   "source": [
    "nums = [-1,0,3,5,9,12]\n",
    "target = 9\n",
    "\n",
    "search(nums, target)"
   ]
  },
  {
   "cell_type": "code",
   "execution_count": 17,
   "id": "44f97873",
   "metadata": {},
   "outputs": [
    {
     "data": {
      "text/plain": [
       "-1"
      ]
     },
     "execution_count": 17,
     "metadata": {},
     "output_type": "execute_result"
    }
   ],
   "source": [
    "nums = [-1,0,3,5,9,12]\n",
    "target = 2\n",
    "\n",
    "search(nums, target)"
   ]
  },
  {
   "cell_type": "markdown",
   "id": "2adef68c",
   "metadata": {},
   "source": [
    "Runtime: 200 ms, faster than 91.47% of Python online submissions for Binary Search.\n",
    "Memory Usage: 14.5 MB, less than 78.55% of Python online submissions for Binary Search."
   ]
  }
 ],
 "metadata": {
  "kernelspec": {
   "display_name": "Python 3",
   "language": "python",
   "name": "python3"
  },
  "language_info": {
   "codemirror_mode": {
    "name": "ipython",
    "version": 3
   },
   "file_extension": ".py",
   "mimetype": "text/x-python",
   "name": "python",
   "nbconvert_exporter": "python",
   "pygments_lexer": "ipython3",
   "version": "3.8.8"
  }
 },
 "nbformat": 4,
 "nbformat_minor": 5
}
