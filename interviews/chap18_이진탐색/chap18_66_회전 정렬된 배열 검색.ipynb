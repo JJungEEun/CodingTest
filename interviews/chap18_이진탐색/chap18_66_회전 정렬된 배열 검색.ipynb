{
 "cells": [
  {
   "cell_type": "code",
   "execution_count": 2,
   "id": "22539b0e",
   "metadata": {},
   "outputs": [],
   "source": [
    "def search(nums, target):  \n",
    "        if not nums:\n",
    "            return - 1\n",
    "    \n",
    "       # 최솟값 찾아 피벗 설정\n",
    "        left, right = 0, len(nums) - 1\n",
    "        while left < right:\n",
    "            mid = left + (right-left) // 2           \n",
    "            if nums[mid] > nums[right]:\n",
    "                left = mid+1\n",
    "               \n",
    "            else:\n",
    "                right = mid\n",
    "          \n",
    "        pivot = left\n",
    "        \n",
    "        # 피벗 기준 이진 검색\n",
    "        left, right = 0, len(nums)-1\n",
    "        while left <= right:\n",
    "            mid = left +  (right-left) // 2\n",
    "            mid_pivot = (mid + pivot) % len(nums)\n",
    "      \n",
    "            if nums[mid_pivot] < target:\n",
    "                left = mid + 1\n",
    "            elif nums[mid_pivot] > target:\n",
    "                right = mid - 1\n",
    "            else:\n",
    "                return mid_pivot\n",
    "        \n",
    "        return - 1"
   ]
  },
  {
   "cell_type": "code",
   "execution_count": 3,
   "id": "b00052f2",
   "metadata": {},
   "outputs": [
    {
     "data": {
      "text/plain": [
       "4"
      ]
     },
     "execution_count": 3,
     "metadata": {},
     "output_type": "execute_result"
    }
   ],
   "source": [
    "nums = [4,5,6,7,0,1,2]\n",
    "target = 0\n",
    "\n",
    "search(nums, target)"
   ]
  },
  {
   "cell_type": "code",
   "execution_count": 4,
   "id": "fc671c7d",
   "metadata": {},
   "outputs": [
    {
     "data": {
      "text/plain": [
       "-1"
      ]
     },
     "execution_count": 4,
     "metadata": {},
     "output_type": "execute_result"
    }
   ],
   "source": [
    "nums = [4,5,6,7,0,1,2]\n",
    "target = 3\n",
    "\n",
    "search(nums, target)"
   ]
  },
  {
   "cell_type": "code",
   "execution_count": null,
   "id": "a38d9021",
   "metadata": {},
   "outputs": [],
   "source": []
  }
 ],
 "metadata": {
  "kernelspec": {
   "display_name": "Python 3",
   "language": "python",
   "name": "python3"
  },
  "language_info": {
   "codemirror_mode": {
    "name": "ipython",
    "version": 3
   },
   "file_extension": ".py",
   "mimetype": "text/x-python",
   "name": "python",
   "nbconvert_exporter": "python",
   "pygments_lexer": "ipython3",
   "version": "3.8.8"
  }
 },
 "nbformat": 4,
 "nbformat_minor": 5
}
