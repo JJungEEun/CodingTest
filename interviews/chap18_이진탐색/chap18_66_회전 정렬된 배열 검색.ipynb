{
 "cells": [
  {
   "cell_type": "markdown",
   "id": "9f6ba86e",
   "metadata": {},
   "source": [
    "## 33. Search in Rotated Sorted Array"
   ]
  },
  {
   "cell_type": "markdown",
   "id": "8b4c4487",
   "metadata": {},
   "source": [
    "#### solution 01"
   ]
  },
  {
   "cell_type": "code",
   "execution_count": 2,
   "id": "22539b0e",
   "metadata": {},
   "outputs": [],
   "source": [
    "def search(nums, target):  \n",
    "        if not nums:\n",
    "            return - 1\n",
    "    \n",
    "       # 최솟값 찾아 피벗 설정\n",
    "        left, right = 0, len(nums) - 1\n",
    "        while left < right:\n",
    "            mid = left + (right-left) // 2           \n",
    "            if nums[mid] > nums[right]:\n",
    "                left = mid+1\n",
    "               \n",
    "            else:\n",
    "                right = mid\n",
    "          \n",
    "        pivot = left\n",
    "        \n",
    "        # 피벗 기준 이진 검색\n",
    "        left, right = 0, len(nums)-1\n",
    "        while left <= right:\n",
    "            mid = left +  (right-left) // 2\n",
    "            mid_pivot = (mid + pivot) % len(nums)\n",
    "      \n",
    "            if nums[mid_pivot] < target:\n",
    "                left = mid + 1\n",
    "            elif nums[mid_pivot] > target:\n",
    "                right = mid - 1\n",
    "            else:\n",
    "                return mid_pivot\n",
    "        \n",
    "        return - 1"
   ]
  },
  {
   "cell_type": "code",
   "execution_count": 3,
   "id": "b00052f2",
   "metadata": {},
   "outputs": [
    {
     "data": {
      "text/plain": [
       "4"
      ]
     },
     "execution_count": 3,
     "metadata": {},
     "output_type": "execute_result"
    }
   ],
   "source": [
    "nums = [4,5,6,7,0,1,2]\n",
    "target = 0\n",
    "\n",
    "search(nums, target)"
   ]
  },
  {
   "cell_type": "code",
   "execution_count": 4,
   "id": "fc671c7d",
   "metadata": {},
   "outputs": [
    {
     "data": {
      "text/plain": [
       "-1"
      ]
     },
     "execution_count": 4,
     "metadata": {},
     "output_type": "execute_result"
    }
   ],
   "source": [
    "nums = [4,5,6,7,0,1,2]\n",
    "target = 3\n",
    "\n",
    "search(nums, target)"
   ]
  },
  {
   "cell_type": "markdown",
   "id": "27186fd7",
   "metadata": {},
   "source": [
    "#### solution 02"
   ]
  },
  {
   "cell_type": "markdown",
   "id": "326ad163",
   "metadata": {},
   "source": [
    "- 이분 탐색\n",
    "- 현재 pivot 기준으로 왼쪽을 봐야할지, 오른쪽을 봐야할지 조건을 생각하는 것이 관건이다.\n",
    "\n",
    "```\n",
    "\n",
    "[4,5,6,7,0,1,2]\n",
    "↑     ↑    ↑ \n",
    "[4,5,6,7,0,1,2]\n",
    "       ↑ ↑ ↑ \n",
    "[4,5,6,7,0,1,2]\n",
    "        ↑↑\n",
    "        \n",
    "```"
   ]
  },
  {
   "cell_type": "code",
   "execution_count": 7,
   "id": "a38d9021",
   "metadata": {},
   "outputs": [],
   "source": [
    "class Solution(object):\n",
    "    def search(nums, target):\n",
    "        \"\"\"\n",
    "        :type nums: List[int]\n",
    "        :type target: int\n",
    "        :rtype: int\n",
    "        \"\"\"        \n",
    "        \n",
    "        \n",
    "        l, r = 0, len(nums)-1\n",
    "        while l <= r:\n",
    "            mid = (l+r)//2\n",
    "            if nums[mid] == target:\n",
    "                return mid\n",
    "            if nums[l] <= nums[mid]: # 왼쪽 subarray: 정렬 상태\n",
    "                if nums[l] <= target < nums[mid]: #타겟이 범위 내에 있으면 왼쪽 subarray로 이동\n",
    "                    r = mid-1\n",
    "                else: #타겟이 범위 밖에 있으면 오른쪽 subarray로 이동\n",
    "                    l = mid+1\n",
    "            else: # 오른쪽 subarray: 정렬 상태\n",
    "                if nums[mid] < target <= nums[r]:\n",
    "                    l = mid+1\n",
    "                else:\n",
    "                    r = mid-1\n",
    "        return -1\n",
    "    "
   ]
  },
  {
   "cell_type": "code",
   "execution_count": 8,
   "id": "63d47c15",
   "metadata": {},
   "outputs": [
    {
     "data": {
      "text/plain": [
       "4"
      ]
     },
     "execution_count": 8,
     "metadata": {},
     "output_type": "execute_result"
    }
   ],
   "source": [
    "nums = [4,5,6,7,0,1,2]\n",
    "target = 0\n",
    "\n",
    "Solution.search(nums, target)"
   ]
  },
  {
   "cell_type": "markdown",
   "id": "72ede53c",
   "metadata": {},
   "source": [
    "Runtime: 43 ms, faster than 44.67% of Python online submissions for Search in Rotated Sorted Array.\n",
    "Memory Usage: 14.1 MB, less than 13.94% of Python online submissions for Search in Rotated Sorted Array."
   ]
  },
  {
   "cell_type": "code",
   "execution_count": null,
   "id": "49adc5a5",
   "metadata": {},
   "outputs": [],
   "source": []
  }
 ],
 "metadata": {
  "kernelspec": {
   "display_name": "Python 3",
   "language": "python",
   "name": "python3"
  },
  "language_info": {
   "codemirror_mode": {
    "name": "ipython",
    "version": 3
   },
   "file_extension": ".py",
   "mimetype": "text/x-python",
   "name": "python",
   "nbconvert_exporter": "python",
   "pygments_lexer": "ipython3",
   "version": "3.8.8"
  }
 },
 "nbformat": 4,
 "nbformat_minor": 5
}
