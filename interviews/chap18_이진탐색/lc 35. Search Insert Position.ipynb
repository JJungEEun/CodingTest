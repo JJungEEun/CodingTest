{
 "cells": [
  {
   "cell_type": "markdown",
   "id": "4ac42b19",
   "metadata": {},
   "source": [
    "###  35. Search Insert Position\n",
    "\n",
    "---\n",
    "\n",
    "Given a sorted array of distinct integers and a target value, return the index if the target is found. If not, return the index where it would be if it were inserted in order.\n",
    "\n",
    "You must write an algorithm with O(log n) runtime complexity.\n",
    "\n",
    "\n",
    "    Input: nums = [1,3,5,6], target = 5\n",
    "    Output: 2\n",
    "\n",
    "    Input: nums = [1,3,5,6], target = 2\n",
    "    Output: 1\n",
    "\n",
    "    Input: nums = [1,3,5,6], target = 7\n",
    "    Output: 4"
   ]
  },
  {
   "cell_type": "markdown",
   "id": "b19db2c2",
   "metadata": {},
   "source": [
    "### Solution 01"
   ]
  },
  {
   "cell_type": "code",
   "execution_count": 2,
   "id": "e510ea6e",
   "metadata": {},
   "outputs": [],
   "source": [
    "class Solution(object):\n",
    "    def searchInsert(nums, target):\n",
    "        \"\"\"\n",
    "        :type nums: List[int]\n",
    "        :type target: int\n",
    "        :rtype: int\n",
    "        \"\"\"\n",
    "        \n",
    "        if target in nums:\n",
    "            return nums.index(target)\n",
    "        \n",
    "        \n",
    "        low, high = 0, len(nums)\n",
    "        while low < high:\n",
    "            mid = (low + high) //2\n",
    "            if target > nums[mid]:\n",
    "                low = mid + 1\n",
    "            else:\n",
    "                high = mid\n",
    "        \n",
    "        return low"
   ]
  },
  {
   "cell_type": "code",
   "execution_count": 3,
   "id": "b953fe72",
   "metadata": {},
   "outputs": [
    {
     "data": {
      "text/plain": [
       "2"
      ]
     },
     "execution_count": 3,
     "metadata": {},
     "output_type": "execute_result"
    }
   ],
   "source": [
    "nums = [1,3,5,6]\n",
    "target = 5\n",
    "Solution.searchInsert(nums, target)"
   ]
  },
  {
   "cell_type": "code",
   "execution_count": 4,
   "id": "0f1a97b7",
   "metadata": {},
   "outputs": [
    {
     "data": {
      "text/plain": [
       "1"
      ]
     },
     "execution_count": 4,
     "metadata": {},
     "output_type": "execute_result"
    }
   ],
   "source": [
    "nums = [1,3,5,6]\n",
    "target = 2\n",
    "Solution.searchInsert(nums, target)"
   ]
  },
  {
   "cell_type": "code",
   "execution_count": 5,
   "id": "1cd921ad",
   "metadata": {},
   "outputs": [
    {
     "data": {
      "text/plain": [
       "4"
      ]
     },
     "execution_count": 5,
     "metadata": {},
     "output_type": "execute_result"
    }
   ],
   "source": [
    "nums = [1,3,5,6]\n",
    "target = 7\n",
    "Solution.searchInsert(nums, target)"
   ]
  },
  {
   "cell_type": "markdown",
   "id": "739b0dc6",
   "metadata": {},
   "source": [
    "Runtime: 53 ms, faster than 47.94% of Python online submissions for Search Insert Position.\n",
    "Memory Usage: 14.2 MB, less than 55.34% of Python online submissions for Search Insert Position."
   ]
  },
  {
   "cell_type": "markdown",
   "id": "120043dd",
   "metadata": {},
   "source": [
    "### Solution 02"
   ]
  },
  {
   "cell_type": "code",
   "execution_count": 9,
   "id": "cfb32887",
   "metadata": {},
   "outputs": [],
   "source": [
    "class Solution(object):\n",
    "    def searchInsert(nums, target):\n",
    "        \"\"\"\n",
    "        :type nums: List[int]\n",
    "        :type target: int\n",
    "        :rtype: int\n",
    "        \"\"\"       \n",
    "        \n",
    "        low, high = 0, len(nums)\n",
    "        while low < high:\n",
    "            mid = (low + high) //2\n",
    "            if target > nums[mid]:\n",
    "                low = mid + 1\n",
    "            else:\n",
    "                high = mid\n",
    "        \n",
    "        return low"
   ]
  },
  {
   "cell_type": "code",
   "execution_count": 10,
   "id": "4023a635",
   "metadata": {},
   "outputs": [
    {
     "data": {
      "text/plain": [
       "2"
      ]
     },
     "execution_count": 10,
     "metadata": {},
     "output_type": "execute_result"
    }
   ],
   "source": [
    "nums = [1,3,5,6]\n",
    "target = 5\n",
    "Solution.searchInsert(nums, target)"
   ]
  },
  {
   "cell_type": "markdown",
   "id": "b16ee934",
   "metadata": {},
   "source": [
    "Runtime: 39 ms, faster than 80.24% of Python online submissions for Search Insert Position.\n",
    "Memory Usage: 14 MB, less than 79.59% of Python online submissions for Search Insert Position."
   ]
  },
  {
   "cell_type": "markdown",
   "id": "35f2b931",
   "metadata": {},
   "source": [
    "    if target in nums:\n",
    "        return nums.index(target)\n",
    "        \n",
    "- 없는 것이 시간과 메모리가 더 빠름"
   ]
  },
  {
   "cell_type": "code",
   "execution_count": 14,
   "id": "aa9bb08c",
   "metadata": {},
   "outputs": [],
   "source": [
    "class Solution(object):\n",
    "    def searchInsert(nums, target):\n",
    "        if target in nums:\n",
    "            for i, v in enumerate(nums):\n",
    "                if v == target:\n",
    "                    return i\n",
    "        else:\n",
    "            for i, v in enumerate(nums):\n",
    "                if v > target:\n",
    "                    return i\n",
    "                elif i == len(nums) - 1:\n",
    "                    return i+1"
   ]
  },
  {
   "cell_type": "code",
   "execution_count": 15,
   "id": "a3e9fa63",
   "metadata": {},
   "outputs": [
    {
     "data": {
      "text/plain": [
       "2"
      ]
     },
     "execution_count": 15,
     "metadata": {},
     "output_type": "execute_result"
    }
   ],
   "source": [
    "nums = [1,3,5,6]\n",
    "target = 5\n",
    "Solution.searchInsert(nums, target)"
   ]
  },
  {
   "cell_type": "code",
   "execution_count": null,
   "id": "865b0c9b",
   "metadata": {},
   "outputs": [],
   "source": []
  }
 ],
 "metadata": {
  "kernelspec": {
   "display_name": "Python 3",
   "language": "python",
   "name": "python3"
  },
  "language_info": {
   "codemirror_mode": {
    "name": "ipython",
    "version": 3
   },
   "file_extension": ".py",
   "mimetype": "text/x-python",
   "name": "python",
   "nbconvert_exporter": "python",
   "pygments_lexer": "ipython3",
   "version": "3.8.8"
  }
 },
 "nbformat": 4,
 "nbformat_minor": 5
}
