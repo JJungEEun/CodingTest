{
 "cells": [
  {
   "cell_type": "markdown",
   "id": "8360b7a3",
   "metadata": {},
   "source": [
    "### 540. Single Element in a Sorted Array"
   ]
  },
  {
   "cell_type": "markdown",
   "id": "a0e0fb28",
   "metadata": {},
   "source": [
    "---"
   ]
  },
  {
   "cell_type": "markdown",
   "id": "ecfbfe8e",
   "metadata": {},
   "source": [
    "##### Solution 01"
   ]
  },
  {
   "cell_type": "code",
   "execution_count": 1,
   "id": "7b78e1ca",
   "metadata": {},
   "outputs": [],
   "source": [
    "def singleNonDuplicate(nums):        \n",
    "        for i in range(0, len(nums)-1,2):\n",
    "            if nums[i] != nums[i+1]:\n",
    "                return nums[i]\n",
    "        return nums[-1] #[1,1,2]"
   ]
  },
  {
   "cell_type": "markdown",
   "id": "fbe86f43",
   "metadata": {},
   "source": [
    "Runtime: 177 ms, faster than 59.02% of Python online submissions for Single Element in a Sorted Array.\n",
    "Memory Usage: 20.7 MB, less than 9.76% of Python online submissions for Single Element in a Sorted Array."
   ]
  },
  {
   "cell_type": "markdown",
   "id": "330d6f6f",
   "metadata": {},
   "source": [
    "##### Solution 02"
   ]
  },
  {
   "cell_type": "code",
   "execution_count": 2,
   "id": "5f88521b",
   "metadata": {},
   "outputs": [],
   "source": [
    " def singleNonDuplicate(nums):\n",
    "        res = 0\n",
    "        for num in nums:\n",
    "            res ^= num\n",
    "            \n",
    "        return res"
   ]
  },
  {
   "cell_type": "markdown",
   "id": "ca45d0b5",
   "metadata": {},
   "source": [
    "Runtime: 154 ms, faster than 76.10% of Python online submissions for Single Element in a Sorted Array.\n",
    "Memory Usage: 20.3 MB, less than 92.20% of Python online submissions for Single Element in a Sorted Array."
   ]
  },
  {
   "cell_type": "markdown",
   "id": "e081df60",
   "metadata": {},
   "source": [
    "##### Solution 03"
   ]
  },
  {
   "cell_type": "code",
   "execution_count": 3,
   "id": "25002dbd",
   "metadata": {},
   "outputs": [],
   "source": [
    "def singleNonDuplicate(nums):\n",
    "        n = len(nums)\n",
    "        left, right = 0, n - 1 #[left, right]\n",
    "        while (left < right):\n",
    "            mid = left + (right - left) / 2\n",
    "            if mid % 2 == 1: \n",
    "                mid -= 1\n",
    "            if nums[mid] != nums[mid + 1]:\n",
    "                right = mid\n",
    "            else:\n",
    "                left = mid + 2\n",
    "        return nums[left]\n"
   ]
  },
  {
   "cell_type": "markdown",
   "id": "3c92990b",
   "metadata": {},
   "source": [
    "Runtime: 145 ms, faster than 85.61% of Python online submissions for Single Element in a Sorted Array.\n",
    "Memory Usage: 20.7 MB, less than 22.44% of Python online submissions for Single Element in a Sorted Array."
   ]
  },
  {
   "cell_type": "code",
   "execution_count": null,
   "id": "21563ea5",
   "metadata": {},
   "outputs": [],
   "source": []
  }
 ],
 "metadata": {
  "kernelspec": {
   "display_name": "Python 3",
   "language": "python",
   "name": "python3"
  },
  "language_info": {
   "codemirror_mode": {
    "name": "ipython",
    "version": 3
   },
   "file_extension": ".py",
   "mimetype": "text/x-python",
   "name": "python",
   "nbconvert_exporter": "python",
   "pygments_lexer": "ipython3",
   "version": "3.8.8"
  }
 },
 "nbformat": 4,
 "nbformat_minor": 5
}
