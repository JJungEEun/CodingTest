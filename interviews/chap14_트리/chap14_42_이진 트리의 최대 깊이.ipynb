{
 "cells": [
  {
   "cell_type": "markdown",
   "id": "b51df9e0",
   "metadata": {},
   "source": [
    "# 42 이진 트리의 최대 깊이 /  lc 104. Maximum Depth of Binary Tree"
   ]
  },
  {
   "cell_type": "markdown",
   "id": "01c8daa2",
   "metadata": {},
   "source": [
    "이진 트리의 최대 깊이를 구해라"
   ]
  },
  {
   "cell_type": "code",
   "execution_count": 19,
   "id": "eded9b30",
   "metadata": {},
   "outputs": [],
   "source": [
    "import collections    "
   ]
  },
  {
   "cell_type": "code",
   "execution_count": 18,
   "id": "6a085965",
   "metadata": {},
   "outputs": [],
   "source": [
    "class TreeNode(object):\n",
    "    def __init__(self,val=0, left=None, right=None):\n",
    "        self.val = val\n",
    "        self.left = left\n",
    "        self.right = right"
   ]
  },
  {
   "cell_type": "markdown",
   "id": "5047bd6d",
   "metadata": {},
   "source": [
    "### 1: BFS-  반복 구조"
   ]
  },
  {
   "cell_type": "code",
   "execution_count": 20,
   "id": "8a97b74f",
   "metadata": {},
   "outputs": [],
   "source": [
    "def maxDepth(root):\n",
    "    Q = collections.deque(TreeNode[root])\n",
    "    ans = 0\n",
    "\n",
    "    if root is None:\n",
    "        return 0\n",
    "    while Q:\n",
    "        ans += 1\n",
    "        for _ in range(len(Q)):\n",
    "            cur = Q.popleft()\n",
    "            if cur.left:\n",
    "                Q.append(cur.left)\n",
    "            if cur.right:\n",
    "                Q.append(cur.right)  \n",
    "    return ans"
   ]
  },
  {
   "cell_type": "markdown",
   "id": "4673fe86",
   "metadata": {},
   "source": [
    "### 2: bfs"
   ]
  },
  {
   "cell_type": "code",
   "execution_count": 24,
   "id": "7db18c24",
   "metadata": {},
   "outputs": [],
   "source": [
    "def __init__(self):\n",
    "        self.max_depth =0\n",
    "            \n",
    "def maxDepth(self, root):  \n",
    "        def bfs(node, depth):\n",
    "            if not node:\n",
    "                return \n",
    "            if self.max_depth < depth:\n",
    "                self.max_depth = depth\n",
    "            if node.left:\n",
    "                bfs(node.left, depth+1)\n",
    "            if node.right:\n",
    "                bfs(node.right, depth+1)\n",
    "\n",
    "        if root is None:\n",
    "            return 0\n",
    "        bfs(root,1)\n",
    "        return self.max_depth"
   ]
  },
  {
   "cell_type": "markdown",
   "id": "e5a34446",
   "metadata": {},
   "source": [
    "### 3"
   ]
  },
  {
   "cell_type": "code",
   "execution_count": 25,
   "id": "367bfefe",
   "metadata": {},
   "outputs": [],
   "source": [
    "def maxDepth(self, root):\n",
    "        if root == None:\n",
    "            return 0\n",
    "\n",
    "        return 1 + max(self.maxDepth(root.left), self.maxDepth(root.right))\n",
    "\n",
    "\n",
    "            "
   ]
  }
 ],
 "metadata": {
  "kernelspec": {
   "display_name": "Python 3",
   "language": "python",
   "name": "python3"
  },
  "language_info": {
   "codemirror_mode": {
    "name": "ipython",
    "version": 3
   },
   "file_extension": ".py",
   "mimetype": "text/x-python",
   "name": "python",
   "nbconvert_exporter": "python",
   "pygments_lexer": "ipython3",
   "version": "3.8.8"
  }
 },
 "nbformat": 4,
 "nbformat_minor": 5
}
