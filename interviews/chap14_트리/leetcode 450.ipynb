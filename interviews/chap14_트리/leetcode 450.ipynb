{
 "cells": [
  {
   "cell_type": "markdown",
   "id": "17ee7ebf",
   "metadata": {},
   "source": [
    "### leetcode 450. Delete Node in a BST"
   ]
  },
  {
   "cell_type": "code",
   "execution_count": 1,
   "id": "164e7463",
   "metadata": {},
   "outputs": [],
   "source": [
    "class Solution:\n",
    "    def deleteNode(self, root, key):\n",
    "\n",
    "        if not root: return None \n",
    "        \n",
    "        if root.val > key:\n",
    "            root.left = self.deleteNode(root.left, key)\n",
    "        elif root.val < key:\n",
    "            root.right = self.deleteNode(root.right, key)\n",
    "        else:\n",
    "            if not root.right:\n",
    "                return root.left\n",
    "            elif not root.left:\n",
    "                return root.right\n",
    "            else:\n",
    "                tmp = root.right\n",
    "                while tmp.left:\n",
    "                    tmp = tmp.left\n",
    "                root.val, root.right = tmp.val, self.deleteNode(root.right, tmp.val)\n",
    "                \n",
    "        return root\n",
    "    "
   ]
  }
 ],
 "metadata": {
  "kernelspec": {
   "display_name": "Python 3",
   "language": "python",
   "name": "python3"
  },
  "language_info": {
   "codemirror_mode": {
    "name": "ipython",
    "version": 3
   },
   "file_extension": ".py",
   "mimetype": "text/x-python",
   "name": "python",
   "nbconvert_exporter": "python",
   "pygments_lexer": "ipython3",
   "version": "3.8.8"
  }
 },
 "nbformat": 4,
 "nbformat_minor": 5
}
