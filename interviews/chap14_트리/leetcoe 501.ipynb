{
 "cells": [
  {
   "cell_type": "markdown",
   "id": "ed93dfa6",
   "metadata": {},
   "source": [
    "### leetcode 501. Find Mode in Binary Search Tree"
   ]
  },
  {
   "cell_type": "markdown",
   "id": "2dadec33",
   "metadata": {},
   "source": [
    "### 1"
   ]
  },
  {
   "cell_type": "code",
   "execution_count": 2,
   "id": "2545e10c",
   "metadata": {},
   "outputs": [],
   "source": [
    "from collections import Counter\n",
    "\n",
    "class TreeNode(object):\n",
    "    def __init__(self, val=0, left=None, right=None):\n",
    "        self.val = val\n",
    "        self.left = left\n",
    "        self.right = right\n",
    "\n",
    "class Solution(object):\n",
    "    def findMode(self, root):\n",
    "        def count(node):\n",
    "            if node: \n",
    "                cnt[node.val]+=1; \n",
    "                \n",
    "                count(node.left)\n",
    "                count(node.right)\n",
    "\n",
    "        mode = 0\n",
    "        cnt = collections.Counter()\n",
    "        mode = max(cnt.values())\n",
    "        return filter(lambda x: cnt[x] == mode, cnt) "
   ]
  },
  {
   "cell_type": "markdown",
   "id": "2b6c5b29",
   "metadata": {},
   "source": [
    "### 2"
   ]
  },
  {
   "cell_type": "code",
   "execution_count": 3,
   "id": "59c8caef",
   "metadata": {},
   "outputs": [],
   "source": [
    "class Solution(object):\n",
    "    def findMode(self, root):\n",
    "        nodes = collections.defaultdict(int)\n",
    "        stack = [root]\n",
    "        mode = 0\n",
    "        while stack:\n",
    "            root = stack.pop()\n",
    "            if root.val in nodes:\n",
    "                nodes[root.val] += 1\n",
    "            if root.left:\n",
    "                stack.append(root.left)\n",
    "            if root.right:\n",
    "                stack.append(root.right)\n",
    "            mode = max(mode, nodes[root.val])\n",
    "        return filter(lambda x: nodes[x] == mode, nodes)"
   ]
  },
  {
   "cell_type": "markdown",
   "id": "83d13256",
   "metadata": {},
   "source": [
    "### 3"
   ]
  },
  {
   "cell_type": "code",
   "execution_count": null,
   "id": "e35b2df0",
   "metadata": {},
   "outputs": [],
   "source": []
  }
 ],
 "metadata": {
  "kernelspec": {
   "display_name": "Python 3",
   "language": "python",
   "name": "python3"
  },
  "language_info": {
   "codemirror_mode": {
    "name": "ipython",
    "version": 3
   },
   "file_extension": ".py",
   "mimetype": "text/x-python",
   "name": "python",
   "nbconvert_exporter": "python",
   "pygments_lexer": "ipython3",
   "version": "3.8.8"
  }
 },
 "nbformat": 4,
 "nbformat_minor": 5
}
