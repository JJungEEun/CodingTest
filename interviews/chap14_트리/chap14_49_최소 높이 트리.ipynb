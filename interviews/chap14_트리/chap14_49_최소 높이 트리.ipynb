{
 "cells": [
  {
   "cell_type": "markdown",
   "id": "143a2f60",
   "metadata": {},
   "source": [
    "### 49) 최소 높이 트리 / lc 310) Minimum Height Trees"
   ]
  },
  {
   "cell_type": "markdown",
   "id": "98503bbe",
   "metadata": {},
   "source": [
    "노트 개수와 무방향 그래프를 입력받아 트리가 최소 높이가 되는 루트의 목록을 리턴하라"
   ]
  },
  {
   "cell_type": "code",
   "execution_count": 1,
   "id": "5ff28d51",
   "metadata": {},
   "outputs": [],
   "source": [
    "def findMinHeightTrees(self, n, edges):\n",
    "\n",
    "    if n <= 1:\n",
    "        return [0]\n",
    "\n",
    "    # 양방향 그래프 구성\n",
    "    graph = collections.defaultdict(list)\n",
    "    for i, j in edges:\n",
    "        graph[i].append(j)\n",
    "        graph[j].append(i)\n",
    "\n",
    "    new = []\n",
    "    for k, v in graph.items():\n",
    "        new.append(len(v))\n",
    "\n",
    "\n",
    "\n",
    "    # 첫 번째 리프 노드 추가\n",
    "    leaves = []\n",
    "    for i in range(n + 1):\n",
    "        if len(graph[i]) == 1:\n",
    "            leaves.append(i)\n",
    "\n",
    "    # 루트 노드만 남을 때까지 반복 제거\n",
    "    while n > 2:\n",
    "        n -= len(leaves)\n",
    "        new_leaves = []\n",
    "        for leaf in leaves:\n",
    "            neighbor = graph[leaf].pop()\n",
    "            graph[neighbor].remove(leaf)\n",
    "\n",
    "            if len(graph[neighbor]) == 1:\n",
    "                new_leaves.append(neighbor)\n",
    "\n",
    "        leaves = new_leaves\n",
    "\n",
    "    return leaves"
   ]
  },
  {
   "cell_type": "code",
   "execution_count": null,
   "id": "17956c0b",
   "metadata": {},
   "outputs": [],
   "source": []
  }
 ],
 "metadata": {
  "kernelspec": {
   "display_name": "Python 3",
   "language": "python",
   "name": "python3"
  },
  "language_info": {
   "codemirror_mode": {
    "name": "ipython",
    "version": 3
   },
   "file_extension": ".py",
   "mimetype": "text/x-python",
   "name": "python",
   "nbconvert_exporter": "python",
   "pygments_lexer": "ipython3",
   "version": "3.8.8"
  }
 },
 "nbformat": 4,
 "nbformat_minor": 5
}
