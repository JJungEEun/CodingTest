{
 "cells": [
  {
   "cell_type": "markdown",
   "id": "145ef10a",
   "metadata": {},
   "source": [
    "### 50 정렬된 배열의 이진 탐색 트리 변환 / 108. Conver Sorted Array to Bring Search Tree"
   ]
  },
  {
   "cell_type": "markdown",
   "id": "3de05b83",
   "metadata": {},
   "source": [
    "오름차순으로 정렬된 배열을 높이 균형 이진 탐색 트리로 변환하라"
   ]
  },
  {
   "cell_type": "code",
   "execution_count": 2,
   "id": "d9fa35c1",
   "metadata": {},
   "outputs": [],
   "source": [
    "class TreeNode(object):\n",
    "    def __init__(self, val=0, left=None, right=None):\n",
    "        self.val = val\n",
    "        self.left = left\n",
    "        self.right = right\n",
    "\n",
    "class Solution(object):\n",
    "    def sortedArrayToBST(self, nums):\n",
    "        if not nums: \n",
    "            return None\n",
    "        \n",
    "        mid = len(nums) // 2\n",
    "        node = TreeNode(nums[mid], self.sortedArrayToBST(nums[:mid]), self.sortedArrayToBST(nums[mid+1:]))\n",
    "            \n",
    "        return node"
   ]
  }
 ],
 "metadata": {
  "kernelspec": {
   "display_name": "Python 3",
   "language": "python",
   "name": "python3"
  },
  "language_info": {
   "codemirror_mode": {
    "name": "ipython",
    "version": 3
   },
   "file_extension": ".py",
   "mimetype": "text/x-python",
   "name": "python",
   "nbconvert_exporter": "python",
   "pygments_lexer": "ipython3",
   "version": "3.8.8"
  }
 },
 "nbformat": 4,
 "nbformat_minor": 5
}
