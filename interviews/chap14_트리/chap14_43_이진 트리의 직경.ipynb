{
 "cells": [
  {
   "cell_type": "markdown",
   "id": "7ead272c",
   "metadata": {},
   "source": [
    "# 43 이진 트리의 직경 / 543. Diameter of Binary Tree"
   ]
  },
  {
   "cell_type": "markdown",
   "id": "9ae6be14",
   "metadata": {},
   "source": [
    "이진트리에서 두 노드 간 가장 긴 경로의 길이를 출력하라"
   ]
  },
  {
   "cell_type": "code",
   "execution_count": 1,
   "id": "dd129a39",
   "metadata": {},
   "outputs": [],
   "source": [
    "class TreeNode(object):\n",
    "    def __init__(self, val=0, left=None, right=None):\n",
    "        self.val = val\n",
    "        self.left = left\n",
    "        self.right = right"
   ]
  },
  {
   "cell_type": "markdown",
   "id": "25284569",
   "metadata": {},
   "source": [
    "### 1"
   ]
  },
  {
   "cell_type": "code",
   "execution_count": 3,
   "id": "795ea20a",
   "metadata": {},
   "outputs": [],
   "source": [
    "class Solution(object):\n",
    "    ans = 0\n",
    "    \n",
    "    def diameterOfBinaryTree(self, root):\n",
    "        \"\"\"\n",
    "        :type root: TreeNode\n",
    "        :rtype: int\n",
    "        \"\"\"\n",
    "        ans = 0\n",
    "        if root is None:\n",
    "            return -1\n",
    "        def dfs(node):\n",
    "            if not node:\n",
    "                return -1\n",
    "            \n",
    "            left = dfs(node.left)\n",
    "            right = dfs(node.right)\n",
    "            \n",
    "            self.ans = max(self.ans, left+right+2)\n",
    "            return max(left, right)+1\n",
    "        \n",
    "        dfs(root)\n",
    "        return self.ans\n",
    "        "
   ]
  },
  {
   "cell_type": "markdown",
   "id": "30ad67dc",
   "metadata": {},
   "source": [
    "### 2"
   ]
  },
  {
   "cell_type": "code",
   "execution_count": 4,
   "id": "47ca1f17",
   "metadata": {},
   "outputs": [],
   "source": [
    "class Solution(object):\n",
    "    maxLength = 0\n",
    "    def diameterOfBinaryTree(self, root):\n",
    "        if not root:\n",
    "            return 0\n",
    "    \n",
    "        self.diameterOfBinaryTreeHelper(root)\n",
    "        return self.maxLength-1\n",
    "    \n",
    "    \n",
    "    def diameterOfBinaryTreeHelper(self,root):\n",
    "        \n",
    "        if not root:\n",
    "            return 0\n",
    "        \n",
    "        leftMax = self.diameterOfBinaryTreeHelper(root.left)\n",
    "        rightMax = self.diameterOfBinaryTreeHelper(root.right)\n",
    "\n",
    "        self.maxLength = max (self.maxLength , 1+leftMax + rightMax)\n",
    "        \n",
    "        return 1+ max(leftMax,rightMax)"
   ]
  }
 ],
 "metadata": {
  "kernelspec": {
   "display_name": "Python 3",
   "language": "python",
   "name": "python3"
  },
  "language_info": {
   "codemirror_mode": {
    "name": "ipython",
    "version": 3
   },
   "file_extension": ".py",
   "mimetype": "text/x-python",
   "name": "python",
   "nbconvert_exporter": "python",
   "pygments_lexer": "ipython3",
   "version": "3.8.8"
  }
 },
 "nbformat": 4,
 "nbformat_minor": 5
}
