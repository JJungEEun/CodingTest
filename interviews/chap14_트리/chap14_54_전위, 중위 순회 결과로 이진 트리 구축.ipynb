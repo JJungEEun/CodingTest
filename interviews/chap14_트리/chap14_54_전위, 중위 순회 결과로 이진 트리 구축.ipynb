{
 "cells": [
  {
   "cell_type": "code",
   "execution_count": 18,
   "id": "ed0f9455",
   "metadata": {},
   "outputs": [],
   "source": [
    "class TreeNode(object):\n",
    "    def __init__(self,val=0, left=None, right=None):\n",
    "        self.val = val\n",
    "        self.left = left\n",
    "        self.right = right\n",
    "        \n",
    "class Solution(object):\n",
    "    def buildTree(preorder, inorder):\n",
    "        \"\"\"\n",
    "        :type preorder: List[int]\n",
    "        :type inorder: List[int]\n",
    "        :rtype: TreeNode\n",
    "        \"\"\"\n",
    "        \n",
    "        if inorder:\n",
    "            # 전위 순회 결과는 중위 순회 분할 인덱스\n",
    "            index = inorder.index(preorder.pop(0))\n",
    "\n",
    "            # 중위 순회 결과 분할 정복\n",
    "            node = TreeNode(inorder[index]) #root\n",
    "            node.left = Solution.buildTree(preorder, inorder[0:index])\n",
    "            node.right = Solution.buildTree(preorder, inorder[index + 1:])\n",
    "\n",
    "            return node"
   ]
  },
  {
   "cell_type": "code",
   "execution_count": 40,
   "id": "f5416c7c",
   "metadata": {},
   "outputs": [],
   "source": [
    "preorder = [3,9,20,15,7]\n",
    "inorder = [9,3,15,20,7]\n",
    "\n",
    "node = Solution.buildTree(preorder, inorder)"
   ]
  },
  {
   "cell_type": "code",
   "execution_count": null,
   "id": "9267dda7",
   "metadata": {},
   "outputs": [],
   "source": []
  }
 ],
 "metadata": {
  "kernelspec": {
   "display_name": "Python 3",
   "language": "python",
   "name": "python3"
  },
  "language_info": {
   "codemirror_mode": {
    "name": "ipython",
    "version": 3
   },
   "file_extension": ".py",
   "mimetype": "text/x-python",
   "name": "python",
   "nbconvert_exporter": "python",
   "pygments_lexer": "ipython3",
   "version": "3.8.8"
  }
 },
 "nbformat": 4,
 "nbformat_minor": 5
}
