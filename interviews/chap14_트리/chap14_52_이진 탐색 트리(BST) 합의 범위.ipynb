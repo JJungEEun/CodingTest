{
 "cells": [
  {
   "cell_type": "markdown",
   "id": "1cef4adb",
   "metadata": {},
   "source": [
    "### 52. 이진 탐색 트리 합의 범위 / 938. Range Sum of BST"
   ]
  },
  {
   "cell_type": "markdown",
   "id": "aba22d30",
   "metadata": {},
   "source": [
    "이진 탐색 트리가 주어졌을 때 L 이상 R 이하의 갑슬 지닌 노드의 합을 구해라"
   ]
  },
  {
   "cell_type": "markdown",
   "id": "51cc2c8e",
   "metadata": {},
   "source": [
    "#### Solution 1"
   ]
  },
  {
   "cell_type": "code",
   "execution_count": 6,
   "id": "7cdf6948",
   "metadata": {},
   "outputs": [],
   "source": [
    "class TreeNode(object):\n",
    "    def __init__(self, val=0, left=None, right=None):\n",
    "        self.val = val\n",
    "        self.left = left\n",
    "        self.right = right"
   ]
  },
  {
   "cell_type": "code",
   "execution_count": 5,
   "id": "e6d745ef",
   "metadata": {},
   "outputs": [],
   "source": [
    "class Solution(object):\n",
    "    val = 0\n",
    "    def rangeSumBST(self, root, low, high):\n",
    "        if not root:\n",
    "            return 0\n",
    "        \n",
    "        if root.val >= low and root.val <= high:\n",
    "            self.val += root.val\n",
    "            \n",
    "        self.rangeSumBST(root.left, low, high)\n",
    "        self.rangeSumBST(root.right, low, high)\n",
    "        \n",
    "        return self.val"
   ]
  },
  {
   "cell_type": "markdown",
   "id": "43d235dd",
   "metadata": {},
   "source": [
    "#### Solution 2"
   ]
  },
  {
   "cell_type": "code",
   "execution_count": 7,
   "id": "317efa6b",
   "metadata": {},
   "outputs": [],
   "source": [
    "class Solution(object):\n",
    "    def rangeSumBST(self, root, low, high):\n",
    "        def dfs(node):\n",
    "            if not node: return 0\n",
    "\n",
    "            if node.val < low:\n",
    "                return dfs(node.right)\n",
    "            elif node.val > high:\n",
    "                return dfs(node.left)\n",
    "            return node.val + dfs(node.left) + dfs(node.right)\n",
    "        \n",
    "        return dfs(root)"
   ]
  },
  {
   "cell_type": "markdown",
   "id": "ecb95b24",
   "metadata": {},
   "source": [
    "#### Solution 3"
   ]
  },
  {
   "cell_type": "code",
   "execution_count": 8,
   "id": "ec96faff",
   "metadata": {},
   "outputs": [],
   "source": [
    "class Solution(object):\n",
    "    def rangeSumBST(self, root, low, high):\n",
    "        stack, sum = [root], 0 \n",
    "        # 스택 이용 필요한 노드 DFS 반복\n",
    "        while stack:\n",
    "            node = stack.pop()\n",
    "            if node:\n",
    "                if node.val > low:\n",
    "                    stack.append(node.left)\n",
    "                if node.val < high:\n",
    "                    stack.append(node.right)\n",
    "                if low <= node.val <= high:\n",
    "                    sum += node.val\n",
    "        \n",
    "        return sum"
   ]
  },
  {
   "cell_type": "markdown",
   "id": "3952032d",
   "metadata": {},
   "source": [
    "#### Solution 4"
   ]
  },
  {
   "cell_type": "code",
   "execution_count": 9,
   "id": "5eaeb5f6",
   "metadata": {},
   "outputs": [],
   "source": [
    "class Solution(object):\n",
    "    def rangeSumBST(self, root, low, high):\n",
    "        stack, sum = [root], 0 \n",
    "        # 스택 이용 필요한 노드 DFS 반복\n",
    "        while stack:\n",
    "            node = stack.pop(0)\n",
    "            if node:\n",
    "                if node.val > low:\n",
    "                    stack.append(node.left)\n",
    "                if node.val < high:\n",
    "                    stack.append(node.right)\n",
    "                if low <= node.val <= high:\n",
    "                    sum += node.val\n",
    "        \n",
    "        return sum"
   ]
  }
 ],
 "metadata": {
  "kernelspec": {
   "display_name": "Python 3",
   "language": "python",
   "name": "python3"
  },
  "language_info": {
   "codemirror_mode": {
    "name": "ipython",
    "version": 3
   },
   "file_extension": ".py",
   "mimetype": "text/x-python",
   "name": "python",
   "nbconvert_exporter": "python",
   "pygments_lexer": "ipython3",
   "version": "3.8.8"
  }
 },
 "nbformat": 4,
 "nbformat_minor": 5
}
