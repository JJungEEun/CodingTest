{
 "cells": [
  {
   "cell_type": "markdown",
   "id": "4436ece0",
   "metadata": {},
   "source": [
    "### 51. 이진 탐색 트리를 더 큰 수 합계 트리로 / 1038. Binary Search Tree To Greater Sum Tree"
   ]
  },
  {
   "cell_type": "markdown",
   "id": "643e03a8",
   "metadata": {},
   "source": [
    "BST의 각 노드를 현재값보다 더 큰 값을 가진 모든 노드의 합으로 만들어라"
   ]
  },
  {
   "cell_type": "code",
   "execution_count": 1,
   "id": "a2b0ec66",
   "metadata": {},
   "outputs": [],
   "source": [
    "class TreeNode(object):\n",
    "    def __init__(self, val=0, left=None, right=None):\n",
    "        self.val = val\n",
    "        self.left = left\n",
    "        self.right = right\n",
    "        \n",
    "class Solution(object):\n",
    "    val = 0\n",
    "    def bstToGst(self, root):\n",
    "        if root:\n",
    "            self.bstToGst(root.right)\n",
    "            self.val += root.val\n",
    "            root.val = self.val\n",
    "            self.bstToGst(root.left)\n",
    "        return root"
   ]
  },
  {
   "cell_type": "code",
   "execution_count": null,
   "id": "8e40f2c4",
   "metadata": {},
   "outputs": [],
   "source": []
  }
 ],
 "metadata": {
  "kernelspec": {
   "display_name": "Python 3",
   "language": "python",
   "name": "python3"
  },
  "language_info": {
   "codemirror_mode": {
    "name": "ipython",
    "version": 3
   },
   "file_extension": ".py",
   "mimetype": "text/x-python",
   "name": "python",
   "nbconvert_exporter": "python",
   "pygments_lexer": "ipython3",
   "version": "3.8.8"
  }
 },
 "nbformat": 4,
 "nbformat_minor": 5
}
