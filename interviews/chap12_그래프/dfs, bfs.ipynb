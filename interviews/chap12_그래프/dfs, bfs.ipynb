{
 "cells": [
  {
   "cell_type": "markdown",
   "id": "79a3e25c",
   "metadata": {},
   "source": [
    "### DFS"
   ]
  },
  {
   "cell_type": "code",
   "execution_count": 20,
   "id": "ac95b57b",
   "metadata": {},
   "outputs": [],
   "source": [
    "graph = {\n",
    "    1: [2,3,4],\n",
    "    2: [5],\n",
    "    3: [5],\n",
    "    4: [],\n",
    "    5: [6,7],\n",
    "    6: [],\n",
    "    7: [3]\n",
    "}"
   ]
  },
  {
   "cell_type": "markdown",
   "id": "42eb2cb9",
   "metadata": {},
   "source": [
    "#### 1) 재귀"
   ]
  },
  {
   "cell_type": "code",
   "execution_count": 24,
   "id": "eeb37ba6",
   "metadata": {},
   "outputs": [],
   "source": [
    "def re_dfs(v, dfs=[]):\n",
    "    dfs.append(v)\n",
    "    for w in graph[v]:\n",
    "        if w not in dfs:\n",
    "            dfs = re_dfs(w, dfs)\n",
    "    return dfs"
   ]
  },
  {
   "cell_type": "code",
   "execution_count": 25,
   "id": "7776467f",
   "metadata": {},
   "outputs": [
    {
     "data": {
      "text/plain": [
       "[1, 2, 5, 6, 7, 3, 4]"
      ]
     },
     "execution_count": 25,
     "metadata": {},
     "output_type": "execute_result"
    }
   ],
   "source": [
    "re_dfs(1)"
   ]
  },
  {
   "cell_type": "markdown",
   "id": "94ee3b45",
   "metadata": {},
   "source": [
    "#### 2) 스택 "
   ]
  },
  {
   "cell_type": "code",
   "execution_count": 19,
   "id": "f0b76516",
   "metadata": {},
   "outputs": [],
   "source": [
    "def iter_dfs(v):\n",
    "    dfs = []\n",
    "    stack = [v]\n",
    "    while stack:\n",
    "        v = stack.pop()\n",
    "        if v not in dfs:\n",
    "            dfs.append(v)\n",
    "            for w in graph[v]:\n",
    "                stack.append(w)\n",
    "    return dfs"
   ]
  },
  {
   "cell_type": "code",
   "execution_count": 23,
   "id": "6d23ff80",
   "metadata": {},
   "outputs": [
    {
     "data": {
      "text/plain": [
       "[1, 4, 3, 5, 7, 6, 2]"
      ]
     },
     "execution_count": 23,
     "metadata": {},
     "output_type": "execute_result"
    }
   ],
   "source": [
    "iter_dfs(1)"
   ]
  },
  {
   "cell_type": "markdown",
   "id": "ad049fa6",
   "metadata": {},
   "source": [
    "### BFS"
   ]
  },
  {
   "cell_type": "markdown",
   "id": "d37d46a5",
   "metadata": {},
   "source": [
    "#### 1) 큐"
   ]
  },
  {
   "cell_type": "code",
   "execution_count": 26,
   "id": "212d9d66",
   "metadata": {},
   "outputs": [],
   "source": [
    "def iter_bfs(v):\n",
    "    bfs = [v]\n",
    "    q = [v]\n",
    "    while q:\n",
    "        v = q.pop(0)\n",
    "        for w in graph[v]:\n",
    "            if w not in bfs:\n",
    "                bfs.append(w)\n",
    "                q.append(w)\n",
    "    return bfs"
   ]
  },
  {
   "cell_type": "code",
   "execution_count": 27,
   "id": "b363acca",
   "metadata": {},
   "outputs": [
    {
     "data": {
      "text/plain": [
       "[1, 2, 3, 4, 5, 6, 7]"
      ]
     },
     "execution_count": 27,
     "metadata": {},
     "output_type": "execute_result"
    }
   ],
   "source": [
    "iter_bfs(1)"
   ]
  },
  {
   "cell_type": "code",
   "execution_count": null,
   "id": "cf9269cd",
   "metadata": {},
   "outputs": [],
   "source": []
  }
 ],
 "metadata": {
  "kernelspec": {
   "display_name": "Python 3",
   "language": "python",
   "name": "python3"
  },
  "language_info": {
   "codemirror_mode": {
    "name": "ipython",
    "version": 3
   },
   "file_extension": ".py",
   "mimetype": "text/x-python",
   "name": "python",
   "nbconvert_exporter": "python",
   "pygments_lexer": "ipython3",
   "version": "3.8.8"
  }
 },
 "nbformat": 4,
 "nbformat_minor": 5
}
