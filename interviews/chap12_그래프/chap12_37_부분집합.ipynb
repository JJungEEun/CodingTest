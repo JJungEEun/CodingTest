{
 "cells": [
  {
   "cell_type": "markdown",
   "id": "43a50612",
   "metadata": {},
   "source": [
    "### 부분집합"
   ]
  },
  {
   "cell_type": "markdown",
   "id": "ac294e9e",
   "metadata": {},
   "source": [
    "모든 부분 집합을 리턴하라"
   ]
  },
  {
   "cell_type": "code",
   "execution_count": 6,
   "id": "243239b0",
   "metadata": {},
   "outputs": [],
   "source": [
    " def subsets(nums):\n",
    "        result = []\n",
    "        def dfs(cur, cnt):\n",
    "            result.append(cur[:])\n",
    "           \n",
    "            for i in range(cnt, len(nums)):\n",
    "                cur.append(nums[i])\n",
    "                dfs(cur, i+1)\n",
    "                cur.pop()\n",
    "                \n",
    "        dfs([],0)\n",
    "        return (result)       "
   ]
  },
  {
   "cell_type": "code",
   "execution_count": 7,
   "id": "36bc0e21",
   "metadata": {},
   "outputs": [
    {
     "data": {
      "text/plain": [
       "[[], [1], [1, 2], [1, 2, 3], [1, 3], [2], [2, 3], [3]]"
      ]
     },
     "execution_count": 7,
     "metadata": {},
     "output_type": "execute_result"
    }
   ],
   "source": [
    "nums = [1,2,3]\n",
    "subsets(nums)"
   ]
  },
  {
   "cell_type": "code",
   "execution_count": 8,
   "id": "4561aba5",
   "metadata": {},
   "outputs": [
    {
     "data": {
      "text/plain": [
       "[[], [0]]"
      ]
     },
     "execution_count": 8,
     "metadata": {},
     "output_type": "execute_result"
    }
   ],
   "source": [
    "nums = [0]\n",
    "subsets(nums)"
   ]
  },
  {
   "cell_type": "code",
   "execution_count": null,
   "id": "a704b3a7",
   "metadata": {},
   "outputs": [],
   "source": []
  }
 ],
 "metadata": {
  "kernelspec": {
   "display_name": "Python 3",
   "language": "python",
   "name": "python3"
  },
  "language_info": {
   "codemirror_mode": {
    "name": "ipython",
    "version": 3
   },
   "file_extension": ".py",
   "mimetype": "text/x-python",
   "name": "python",
   "nbconvert_exporter": "python",
   "pygments_lexer": "ipython3",
   "version": "3.8.8"
  }
 },
 "nbformat": 4,
 "nbformat_minor": 5
}
