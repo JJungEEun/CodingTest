{
 "cells": [
  {
   "cell_type": "markdown",
   "id": "30237504",
   "metadata": {},
   "source": [
    "### 조합"
   ]
  },
  {
   "cell_type": "markdown",
   "id": "81c9fcd2",
   "metadata": {},
   "source": [
    "전체 수 n을 입력 받아 k개의 조합을 리턴하라"
   ]
  },
  {
   "cell_type": "markdown",
   "id": "5f725667",
   "metadata": {},
   "source": [
    "## 1"
   ]
  },
  {
   "cell_type": "code",
   "execution_count": 1,
   "id": "815d0f1f",
   "metadata": {},
   "outputs": [],
   "source": [
    "def combine(n, k):\n",
    "        \n",
    "        result = []\n",
    "        cur = []\n",
    "        \n",
    "        def dfs(cur, start, count):\n",
    "            if count == k :\n",
    "                result.append(cur[:])\n",
    "            else:\n",
    "                for i in range(start, n+1):\n",
    "                    cur.append(i)\n",
    "                    dfs(cur, i+1, count+1)\n",
    "                    cur.pop()\n",
    "             \n",
    "        dfs(cur,1,0)\n",
    "        return result   "
   ]
  },
  {
   "cell_type": "code",
   "execution_count": 2,
   "id": "07feaa97",
   "metadata": {},
   "outputs": [
    {
     "data": {
      "text/plain": [
       "[[1, 2], [1, 3], [1, 4], [2, 3], [2, 4], [3, 4]]"
      ]
     },
     "execution_count": 2,
     "metadata": {},
     "output_type": "execute_result"
    }
   ],
   "source": [
    "n = 4\n",
    "k = 2\n",
    "combine(n, k)"
   ]
  },
  {
   "cell_type": "code",
   "execution_count": 3,
   "id": "a6615add",
   "metadata": {},
   "outputs": [
    {
     "data": {
      "text/plain": [
       "[[1]]"
      ]
     },
     "execution_count": 3,
     "metadata": {},
     "output_type": "execute_result"
    }
   ],
   "source": [
    "n = 1\n",
    "k = 1\n",
    "combine(n, k)"
   ]
  },
  {
   "cell_type": "code",
   "execution_count": null,
   "id": "de68f15a",
   "metadata": {},
   "outputs": [],
   "source": []
  }
 ],
 "metadata": {
  "kernelspec": {
   "display_name": "Python 3",
   "language": "python",
   "name": "python3"
  },
  "language_info": {
   "codemirror_mode": {
    "name": "ipython",
    "version": 3
   },
   "file_extension": ".py",
   "mimetype": "text/x-python",
   "name": "python",
   "nbconvert_exporter": "python",
   "pygments_lexer": "ipython3",
   "version": "3.8.8"
  }
 },
 "nbformat": 4,
 "nbformat_minor": 5
}
