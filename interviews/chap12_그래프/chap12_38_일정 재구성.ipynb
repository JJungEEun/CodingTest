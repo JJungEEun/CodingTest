{
 "cells": [
  {
   "cell_type": "markdown",
   "id": "49895db8",
   "metadata": {},
   "source": [
    "### 일정 재구성"
   ]
  },
  {
   "cell_type": "markdown",
   "id": "be0263d2",
   "metadata": {},
   "source": [
    "[from, to]로 구성된 항공권 목록을 이용해 JFK에서 출발하는 여행 일정을 구성하라. 여러 일정이 있는 경우 사전 어휘순으로 방문한다"
   ]
  },
  {
   "cell_type": "markdown",
   "id": "ac032c9b",
   "metadata": {},
   "source": [
    "## 1"
   ]
  },
  {
   "cell_type": "code",
   "execution_count": 5,
   "id": "d3ef4c49",
   "metadata": {},
   "outputs": [],
   "source": [
    "import collections \n",
    "def findItinerary(tickets):\n",
    "        result = []\n",
    "        graph = collections.defaultdict(list)\n",
    "        for a,b in sorted(tickets):\n",
    "            graph[a].append(b)\n",
    "                 \n",
    "        def dfs(cur):\n",
    "            while graph[cur]:\n",
    "                dfs(graph[cur].pop(0))\n",
    "            result.append(cur)\n",
    "            \n",
    "        \n",
    "        \n",
    "        dfs('JFK')\n",
    "        return (result[::-1])"
   ]
  },
  {
   "cell_type": "code",
   "execution_count": 6,
   "id": "0f77298f",
   "metadata": {},
   "outputs": [
    {
     "data": {
      "text/plain": [
       "['JFK', 'MUC', 'LHR', 'SFO', 'SJC']"
      ]
     },
     "execution_count": 6,
     "metadata": {},
     "output_type": "execute_result"
    }
   ],
   "source": [
    "tickets = [[\"MUC\",\"LHR\"],[\"JFK\",\"MUC\"],[\"SFO\",\"SJC\"],[\"LHR\",\"SFO\"]]\n",
    "findItinerary(tickets)"
   ]
  },
  {
   "cell_type": "code",
   "execution_count": 7,
   "id": "a589544c",
   "metadata": {},
   "outputs": [
    {
     "data": {
      "text/plain": [
       "['JFK', 'ATL', 'JFK', 'SFO', 'ATL', 'SFO']"
      ]
     },
     "execution_count": 7,
     "metadata": {},
     "output_type": "execute_result"
    }
   ],
   "source": [
    " tickets = [[\"JFK\",\"SFO\"],[\"JFK\",\"ATL\"],[\"SFO\",\"ATL\"],[\"ATL\",\"JFK\"],[\"ATL\",\"SFO\"]]\n",
    "findItinerary(tickets)"
   ]
  },
  {
   "cell_type": "markdown",
   "id": "c5971a56",
   "metadata": {},
   "source": [
    "## 2"
   ]
  }
 ],
 "metadata": {
  "kernelspec": {
   "display_name": "Python 3",
   "language": "python",
   "name": "python3"
  },
  "language_info": {
   "codemirror_mode": {
    "name": "ipython",
    "version": 3
   },
   "file_extension": ".py",
   "mimetype": "text/x-python",
   "name": "python",
   "nbconvert_exporter": "python",
   "pygments_lexer": "ipython3",
   "version": "3.8.8"
  }
 },
 "nbformat": 4,
 "nbformat_minor": 5
}
