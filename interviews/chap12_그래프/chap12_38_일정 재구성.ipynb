{
 "cells": [
  {
   "cell_type": "markdown",
   "id": "49895db8",
   "metadata": {},
   "source": [
    "### 일정 재구성"
   ]
  },
  {
   "cell_type": "markdown",
   "id": "be0263d2",
   "metadata": {},
   "source": [
    "[from, to]로 구성된 항공권 목록을 이용해 JFK에서 출발하는 여행 일정을 구성하라. 여러 일정이 있는 경우 사전 어휘순으로 방문한다"
   ]
  },
  {
   "cell_type": "markdown",
   "id": "ac032c9b",
   "metadata": {},
   "source": [
    "## 1"
   ]
  },
  {
   "cell_type": "code",
   "execution_count": 5,
   "id": "d3ef4c49",
   "metadata": {},
   "outputs": [],
   "source": [
    "import collections \n",
    "def findItinerary(tickets):\n",
    "        result = []\n",
    "        graph = collections.defaultdict(list)\n",
    "        \n",
    "        for a,b in sorted(tickets): #순서대로 그래프 구성\n",
    "            graph[a].append(b)\n",
    "                 \n",
    "        def dfs(cur):\n",
    "            while graph[cur]:\n",
    "                dfs(graph[cur].pop(0)) #다음 지점에서 새로운 연결 지점 탐색\n",
    "            result.append(cur)\n",
    "            \n",
    "        \n",
    "        \n",
    "        dfs('JFK') #JFK를 시작으로 연결되는 지점 탐색\n",
    "        return (result[::-1])"
   ]
  },
  {
   "cell_type": "code",
   "execution_count": 6,
   "id": "0f77298f",
   "metadata": {},
   "outputs": [
    {
     "data": {
      "text/plain": [
       "['JFK', 'MUC', 'LHR', 'SFO', 'SJC']"
      ]
     },
     "execution_count": 6,
     "metadata": {},
     "output_type": "execute_result"
    }
   ],
   "source": [
    "tickets = [[\"MUC\",\"LHR\"],[\"JFK\",\"MUC\"],[\"SFO\",\"SJC\"],[\"LHR\",\"SFO\"]]\n",
    "findItinerary(tickets)"
   ]
  },
  {
   "cell_type": "code",
   "execution_count": 7,
   "id": "a589544c",
   "metadata": {},
   "outputs": [
    {
     "data": {
      "text/plain": [
       "['JFK', 'ATL', 'JFK', 'SFO', 'ATL', 'SFO']"
      ]
     },
     "execution_count": 7,
     "metadata": {},
     "output_type": "execute_result"
    }
   ],
   "source": [
    " tickets = [[\"JFK\",\"SFO\"],[\"JFK\",\"ATL\"],[\"SFO\",\"ATL\"],[\"ATL\",\"JFK\"],[\"ATL\",\"SFO\"]]\n",
    "findItinerary(tickets)"
   ]
  },
  {
   "cell_type": "markdown",
   "id": "d8b996be",
   "metadata": {},
   "source": [
    "Runtime: 109 ms, faster than 37.03% of Python online submissions for Reconstruct Itinerary.\n",
    "Memory Usage: 14.1 MB, less than 64.56% of Python online submissions for Reconstruct Itinerary."
   ]
  },
  {
   "cell_type": "markdown",
   "id": "c5971a56",
   "metadata": {},
   "source": [
    "## 2"
   ]
  },
  {
   "cell_type": "code",
   "execution_count": 35,
   "id": "da783018",
   "metadata": {},
   "outputs": [],
   "source": [
    "import collections\n",
    "\n",
    "class Solution(object):\n",
    "    def findItinerary(tickets):\n",
    "        \"\"\"\n",
    "        :type tickets: List[List[str]]\n",
    "        :rtype: List[str]\n",
    "        \"\"\"\n",
    "        \n",
    "        result = []\n",
    "        graph = collections.defaultdict(list)\n",
    "        \n",
    "        # 그래프 역순 구성\n",
    "        for a,b in sorted(tickets, reverse=True):\n",
    "            graph[a].append(b)\n",
    "        \n",
    "        def dfs(cur):\n",
    "            while graph[cur]:\n",
    "                dfs(graph[cur].pop())\n",
    "                # pop(): 마지막 값을 꺼냄 O(1)\n",
    "                # pop(0):첫번째 값을 꺼냄 O(n)\n",
    "            result.append(cur)\n",
    "        \n",
    "        \n",
    "        dfs('JFK')\n",
    "        #어휘 결과순으로\n",
    "        return (result[::-1])"
   ]
  },
  {
   "cell_type": "code",
   "execution_count": 36,
   "id": "896d9f49",
   "metadata": {},
   "outputs": [
    {
     "data": {
      "text/plain": [
       "['JFK', 'MUC', 'LHR', 'SFO', 'SJC']"
      ]
     },
     "execution_count": 36,
     "metadata": {},
     "output_type": "execute_result"
    }
   ],
   "source": [
    "tickets = [[\"MUC\",\"LHR\"],[\"JFK\",\"MUC\"],[\"SFO\",\"SJC\"],[\"LHR\",\"SFO\"]]\n",
    "Solution.findItinerary(tickets)"
   ]
  },
  {
   "cell_type": "code",
   "execution_count": 8,
   "id": "e75d7923",
   "metadata": {},
   "outputs": [
    {
     "data": {
      "text/plain": [
       "['JFK', 'ATL', 'JFK', 'SFO', 'ATL', 'SFO']"
      ]
     },
     "execution_count": 8,
     "metadata": {},
     "output_type": "execute_result"
    }
   ],
   "source": [
    " tickets = [[\"JFK\",\"SFO\"],[\"JFK\",\"ATL\"],[\"SFO\",\"ATL\"],[\"ATL\",\"JFK\"],[\"ATL\",\"SFO\"]]\n",
    "Solution.findItinerary(tickets)"
   ]
  },
  {
   "cell_type": "markdown",
   "id": "c7d5b8f0",
   "metadata": {},
   "source": [
    "Runtime: 53 ms, faster than 99.05% of Python online submissions for Reconstruct Itinerary.\n",
    "Memory Usage: 13.9 MB, less than 75.63% of Python online submissions for Reconstruct Itinerary."
   ]
  },
  {
   "cell_type": "markdown",
   "id": "f0af870a",
   "metadata": {},
   "source": [
    "## 3"
   ]
  },
  {
   "cell_type": "code",
   "execution_count": 39,
   "id": "30db8afe",
   "metadata": {},
   "outputs": [],
   "source": [
    "class Solution(object):\n",
    "    def findItinerary(tickets):\n",
    "        \"\"\"\n",
    "        :type tickets: List[List[str]]\n",
    "        :rtype: List[str]\n",
    "        \"\"\"\n",
    "        \n",
    "        result = []\n",
    "        graph = collections.defaultdict(list)\n",
    "        \n",
    "        # 그래프 순서대로 구성\n",
    "        for a,b in sorted(tickets, reverse=True):\n",
    "            graph[a].append(b)\n",
    "        \n",
    "        route, stack = [], ['JFK']\n",
    "        while stack:\n",
    "            while graph[stack[-1]]:\n",
    "                stack.append(graph[stack[-1]].pop())\n",
    "            route.append(stack.pop())\n",
    "            \n",
    "    \n",
    "        return route[::-1]"
   ]
  },
  {
   "cell_type": "code",
   "execution_count": 40,
   "id": "ed3ead25",
   "metadata": {},
   "outputs": [
    {
     "data": {
      "text/plain": [
       "['JFK', 'MUC', 'LHR', 'SFO', 'SJC']"
      ]
     },
     "execution_count": 40,
     "metadata": {},
     "output_type": "execute_result"
    }
   ],
   "source": [
    "tickets = [[\"MUC\",\"LHR\"],[\"JFK\",\"MUC\"],[\"SFO\",\"SJC\"],[\"LHR\",\"SFO\"]]\n",
    "Solution.findItinerary(tickets)"
   ]
  },
  {
   "cell_type": "code",
   "execution_count": 41,
   "id": "6bfd0d81",
   "metadata": {},
   "outputs": [
    {
     "data": {
      "text/plain": [
       "['JFK', 'ATL', 'JFK', 'SFO', 'ATL', 'SFO']"
      ]
     },
     "execution_count": 41,
     "metadata": {},
     "output_type": "execute_result"
    }
   ],
   "source": [
    " tickets = [[\"JFK\",\"SFO\"],[\"JFK\",\"ATL\"],[\"SFO\",\"ATL\"],[\"ATL\",\"JFK\"],[\"ATL\",\"SFO\"]]\n",
    "Solution.findItinerary(tickets)"
   ]
  },
  {
   "cell_type": "markdown",
   "id": "b0fde881",
   "metadata": {},
   "source": [
    "Runtime: 68 ms, faster than 89.56% of Python online submissions for Reconstruct Itinerary.\n",
    "Memory Usage: 13.9 MB, less than 75.63% of Python online submissions for Reconstruct Itinerary."
   ]
  },
  {
   "cell_type": "code",
   "execution_count": null,
   "id": "b319cfac",
   "metadata": {},
   "outputs": [],
   "source": []
  }
 ],
 "metadata": {
  "kernelspec": {
   "display_name": "Python 3",
   "language": "python",
   "name": "python3"
  },
  "language_info": {
   "codemirror_mode": {
    "name": "ipython",
    "version": 3
   },
   "file_extension": ".py",
   "mimetype": "text/x-python",
   "name": "python",
   "nbconvert_exporter": "python",
   "pygments_lexer": "ipython3",
   "version": "3.8.8"
  }
 },
 "nbformat": 4,
 "nbformat_minor": 5
}
