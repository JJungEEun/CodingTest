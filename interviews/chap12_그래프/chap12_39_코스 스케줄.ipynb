{
 "cells": [
  {
   "cell_type": "markdown",
   "id": "9179e7bf",
   "metadata": {},
   "source": [
    "## 207. Course Schedule\n",
    "---"
   ]
  },
  {
   "cell_type": "markdown",
   "id": "d20ab54c",
   "metadata": {},
   "source": [
    "### 1"
   ]
  },
  {
   "cell_type": "code",
   "execution_count": 4,
   "id": "6e7cc6f6",
   "metadata": {},
   "outputs": [],
   "source": [
    "import collections\n",
    "class Solution(object):\n",
    "    def canFinish(numCourses, prerequisites):\n",
    "        \"\"\"\n",
    "        :type numCourses: int\n",
    "        :type prerequisites: List[List[int]]\n",
    "        :rtype: bool\n",
    "        \"\"\"\n",
    "        \n",
    "        graph = collections.defaultdict(list)\n",
    "        for x,y in prerequisites: #첫번 째 값을 x, 두번 째 값을 y(복수 허용)으로 하는 그래프 생성\n",
    "            graph[x].append(y)\n",
    "        \n",
    "        traced = set() #앞서 방문했던 노드를 저장하는 곳\n",
    "        \n",
    "        def dfs(i):\n",
    "            if i in traced: # 중복 방문 -> 순환 구조\n",
    "                return False\n",
    "        \n",
    "            traced.add(i)\n",
    "            for y in graph[i]: #i의 value값 탐색, 해당 노드의 연결 노드 탐색\n",
    "                if not dfs(y):\n",
    "                    return False\n",
    "\n",
    "            #탐색 종료 후 순환 노드 삭제\n",
    "            traced.remove(i)\n",
    "\n",
    "            return True\n",
    "        \n",
    "        for x in list(graph):\n",
    "            if not dfs(x):\n",
    "                return False\n",
    "\n",
    "        return True\n",
    "        "
   ]
  },
  {
   "cell_type": "code",
   "execution_count": 5,
   "id": "e7b50ea1",
   "metadata": {},
   "outputs": [
    {
     "data": {
      "text/plain": [
       "True"
      ]
     },
     "execution_count": 5,
     "metadata": {},
     "output_type": "execute_result"
    }
   ],
   "source": [
    "numCourses = 2\n",
    "prerequisites = [[1,0]]\n",
    "\n",
    "Solution.canFinish(numCourses, prerequisites)"
   ]
  },
  {
   "cell_type": "code",
   "execution_count": 6,
   "id": "6b1aee6b",
   "metadata": {},
   "outputs": [
    {
     "data": {
      "text/plain": [
       "False"
      ]
     },
     "execution_count": 6,
     "metadata": {},
     "output_type": "execute_result"
    }
   ],
   "source": [
    "numCourses = 2\n",
    "prerequisites = [[1,0],[0,1]]\n",
    "\n",
    "Solution.canFinish(numCourses, prerequisites)"
   ]
  },
  {
   "cell_type": "markdown",
   "id": "bcdf8e89",
   "metadata": {},
   "source": [
    "time limit"
   ]
  },
  {
   "cell_type": "markdown",
   "id": "cfe7113b",
   "metadata": {},
   "source": [
    "### 2"
   ]
  },
  {
   "cell_type": "code",
   "execution_count": 9,
   "id": "04b456eb",
   "metadata": {},
   "outputs": [],
   "source": [
    "class Solution(object):\n",
    "    def canFinish(numCourses, prerequisites):\n",
    "        \"\"\"\n",
    "        :type numCourses: int\n",
    "        :type prerequisites: List[List[int]]\n",
    "        :rtype: bool\n",
    "        \"\"\"\n",
    "        \n",
    "        graph = collections.defaultdict(list)\n",
    "        for x,y in prerequisites: #첫번 째 값을 x, 두번 째 값을 y(복수 허용)으로 하는 그래프 생성\n",
    "            graph[x].append(y)\n",
    "        \n",
    "        traced = set() #앞서 방문했던 노드를 저장하는 곳\n",
    "        visited = set()\n",
    "        \n",
    "        def dfs(i):\n",
    "            # 순환 구조이면 False\n",
    "            if i in traced:\n",
    "                return False\n",
    "            # 이미 방문했던 노드이면 True\n",
    "            if i in visited:\n",
    "                return True\n",
    "\n",
    "            traced.add(i)\n",
    "            for y in graph[i]:\n",
    "                if not dfs(y):\n",
    "                    return False\n",
    "            # 탐색 종료 후 순환 노드 삭제\n",
    "            traced.remove(i)\n",
    "            # 탐색 종료 후 방문 노드 추가\n",
    "            visited.add(i)\n",
    "\n",
    "            return True\n",
    "\n",
    "        # 순환 구조 판별\n",
    "        for x in list(graph):\n",
    "            if not dfs(x):\n",
    "                return False\n",
    "\n",
    "        return True"
   ]
  },
  {
   "cell_type": "code",
   "execution_count": 10,
   "id": "81d1d690",
   "metadata": {},
   "outputs": [
    {
     "data": {
      "text/plain": [
       "True"
      ]
     },
     "execution_count": 10,
     "metadata": {},
     "output_type": "execute_result"
    }
   ],
   "source": [
    "numCourses = 2\n",
    "prerequisites = [[1,0]]\n",
    "\n",
    "Solution.canFinish(numCourses, prerequisites)"
   ]
  },
  {
   "cell_type": "code",
   "execution_count": 11,
   "id": "c569abeb",
   "metadata": {},
   "outputs": [
    {
     "data": {
      "text/plain": [
       "False"
      ]
     },
     "execution_count": 11,
     "metadata": {},
     "output_type": "execute_result"
    }
   ],
   "source": [
    "numCourses = 2\n",
    "prerequisites = [[1,0],[0,1]]\n",
    "\n",
    "Solution.canFinish(numCourses, prerequisites)"
   ]
  },
  {
   "cell_type": "markdown",
   "id": "64dae1ff",
   "metadata": {},
   "source": [
    "Runtime: 139 ms, faster than 31.97% of Python online submissions for Course Schedule.\n",
    "Memory Usage: 16.4 MB, less than 33.39% of Python online submissions for Course Schedule."
   ]
  },
  {
   "cell_type": "code",
   "execution_count": null,
   "id": "774d5cc7",
   "metadata": {},
   "outputs": [],
   "source": []
  }
 ],
 "metadata": {
  "kernelspec": {
   "display_name": "Python 3",
   "language": "python",
   "name": "python3"
  },
  "language_info": {
   "codemirror_mode": {
    "name": "ipython",
    "version": 3
   },
   "file_extension": ".py",
   "mimetype": "text/x-python",
   "name": "python",
   "nbconvert_exporter": "python",
   "pygments_lexer": "ipython3",
   "version": "3.8.8"
  }
 },
 "nbformat": 4,
 "nbformat_minor": 5
}
