{
 "cells": [
  {
   "cell_type": "markdown",
   "id": "23faf0a0",
   "metadata": {},
   "source": [
    "### 순열\n",
    "서로 다른 정수를 입력받아 가능한 모든 순열을 리턴하라"
   ]
  },
  {
   "cell_type": "markdown",
   "id": "54e5ad92",
   "metadata": {},
   "source": [
    "1"
   ]
  },
  {
   "cell_type": "code",
   "execution_count": 1,
   "id": "56cc26f0",
   "metadata": {},
   "outputs": [],
   "source": [
    "def permute(nums):\n",
    "    def dfs(sub, res):\n",
    "        if len(nums)==len(sub):\n",
    "            result.append(sub)\n",
    "            return \n",
    "        for i, v in enumerate(res):\n",
    "            dfs(sub+[v], res[:i]+res[i+1:])\n",
    "\n",
    "\n",
    "    result = []\n",
    "    dfs([], nums)\n",
    "    return result"
   ]
  },
  {
   "cell_type": "code",
   "execution_count": 2,
   "id": "ca5b5c8b",
   "metadata": {},
   "outputs": [
    {
     "data": {
      "text/plain": [
       "[[1, 2, 3], [1, 3, 2], [2, 1, 3], [2, 3, 1], [3, 1, 2], [3, 2, 1]]"
      ]
     },
     "execution_count": 2,
     "metadata": {},
     "output_type": "execute_result"
    }
   ],
   "source": [
    "nums = [1,2,3]\n",
    "permute(nums)"
   ]
  },
  {
   "cell_type": "code",
   "execution_count": 3,
   "id": "7a0e0134",
   "metadata": {
    "scrolled": true
   },
   "outputs": [
    {
     "data": {
      "text/plain": [
       "[[0, 1], [1, 0]]"
      ]
     },
     "execution_count": 3,
     "metadata": {},
     "output_type": "execute_result"
    }
   ],
   "source": [
    "nums = [0,1]\n",
    "permute(nums)"
   ]
  },
  {
   "cell_type": "code",
   "execution_count": 4,
   "id": "41b81b7f",
   "metadata": {},
   "outputs": [
    {
     "data": {
      "text/plain": [
       "[[1]]"
      ]
     },
     "execution_count": 4,
     "metadata": {},
     "output_type": "execute_result"
    }
   ],
   "source": [
    "nums = [1]\n",
    "permute(nums)"
   ]
  },
  {
   "cell_type": "markdown",
   "id": "87924d13",
   "metadata": {},
   "source": [
    "2"
   ]
  },
  {
   "cell_type": "code",
   "execution_count": 5,
   "id": "4a8b4766",
   "metadata": {},
   "outputs": [],
   "source": [
    "def permute(nums):            \n",
    "        res = []\n",
    "        prev = []\n",
    "        \n",
    "        def dfs(elements):\n",
    "            if len(elements) == 0:\n",
    "                res.append(prev[:])\n",
    "                \n",
    "            for e in elements:\n",
    "                n = elements[:]\n",
    "                n.remove(e)\n",
    "                \n",
    "                prev.append(e)\n",
    "                dfs(n)\n",
    "                prev.pop()\n",
    "        \n",
    "        dfs(nums)\n",
    "        return res"
   ]
  },
  {
   "cell_type": "code",
   "execution_count": 2,
   "id": "bd38c119",
   "metadata": {},
   "outputs": [
    {
     "data": {
      "text/plain": [
       "[[1, 2, 3], [1, 3, 2], [2, 1, 3], [2, 3, 1], [3, 1, 2], [3, 2, 1]]"
      ]
     },
     "execution_count": 2,
     "metadata": {},
     "output_type": "execute_result"
    }
   ],
   "source": [
    "nums = [1,2,3]\n",
    "permute(nums)"
   ]
  },
  {
   "cell_type": "code",
   "execution_count": 7,
   "id": "8aa77726",
   "metadata": {},
   "outputs": [
    {
     "data": {
      "text/plain": [
       "[[0, 1], [1, 0]]"
      ]
     },
     "execution_count": 7,
     "metadata": {},
     "output_type": "execute_result"
    }
   ],
   "source": [
    "nums = [0,1]\n",
    "permute(nums)"
   ]
  },
  {
   "cell_type": "code",
   "execution_count": 8,
   "id": "f7e899da",
   "metadata": {},
   "outputs": [
    {
     "data": {
      "text/plain": [
       "[[1]]"
      ]
     },
     "execution_count": 8,
     "metadata": {},
     "output_type": "execute_result"
    }
   ],
   "source": [
    "nums = [1]\n",
    "permute(nums)"
   ]
  },
  {
   "cell_type": "markdown",
   "id": "62ffd6f8",
   "metadata": {},
   "source": [
    "3"
   ]
  },
  {
   "cell_type": "code",
   "execution_count": 9,
   "id": "49c5215c",
   "metadata": {},
   "outputs": [],
   "source": [
    "import itertools\n",
    "\n",
    "def permute(nums):\n",
    "    return list(itertools.permutations(nums))"
   ]
  },
  {
   "cell_type": "code",
   "execution_count": 10,
   "id": "1a904622",
   "metadata": {},
   "outputs": [
    {
     "data": {
      "text/plain": [
       "[(1, 2, 3), (1, 3, 2), (2, 1, 3), (2, 3, 1), (3, 1, 2), (3, 2, 1)]"
      ]
     },
     "execution_count": 10,
     "metadata": {},
     "output_type": "execute_result"
    }
   ],
   "source": [
    "nums = [1,2,3]\n",
    "permute(nums)"
   ]
  },
  {
   "cell_type": "code",
   "execution_count": 11,
   "id": "dba714e9",
   "metadata": {},
   "outputs": [
    {
     "data": {
      "text/plain": [
       "[(1, 2, 3), (1, 3, 2), (2, 1, 3), (2, 3, 1), (3, 1, 2), (3, 2, 1)]"
      ]
     },
     "execution_count": 11,
     "metadata": {},
     "output_type": "execute_result"
    }
   ],
   "source": [
    "nums = [1,2,3]\n",
    "permute(nums)"
   ]
  },
  {
   "cell_type": "code",
   "execution_count": 8,
   "id": "483529d2",
   "metadata": {},
   "outputs": [
    {
     "data": {
      "text/plain": [
       "[[1]]"
      ]
     },
     "execution_count": 8,
     "metadata": {},
     "output_type": "execute_result"
    }
   ],
   "source": [
    "nums = [1]\n",
    "permute(nums)"
   ]
  }
 ],
 "metadata": {
  "kernelspec": {
   "display_name": "Python 3",
   "language": "python",
   "name": "python3"
  },
  "language_info": {
   "codemirror_mode": {
    "name": "ipython",
    "version": 3
   },
   "file_extension": ".py",
   "mimetype": "text/x-python",
   "name": "python",
   "nbconvert_exporter": "python",
   "pygments_lexer": "ipython3",
   "version": "3.8.8"
  }
 },
 "nbformat": 4,
 "nbformat_minor": 5
}
