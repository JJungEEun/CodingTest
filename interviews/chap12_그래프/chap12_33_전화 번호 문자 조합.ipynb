{
 "cells": [
  {
   "cell_type": "markdown",
   "id": "dd713d31",
   "metadata": {},
   "source": [
    "### 전화 번호 문자 조합\n",
    "\n",
    "2에서 9까지 숫자가 주어졌을 때 전화 번호로 조합 가능한 모든 문자를 출력하여라"
   ]
  },
  {
   "cell_type": "markdown",
   "id": "73b491ae",
   "metadata": {},
   "source": [
    "1"
   ]
  },
  {
   "cell_type": "code",
   "execution_count": 4,
   "id": "806a5678",
   "metadata": {},
   "outputs": [],
   "source": [
    "def letterCombinations(digits):\n",
    "\n",
    "    k = {\"2\": \"abc\", \"3\":\"def\", \"4\":\"ghi\", \"5\":\"jkl\", \"6\":\"mno\", \"7\":\"pqrs\", \"8\":\"tuv\", \"9\":\"wxyz\"}\n",
    "\n",
    "    if (len(digits)==0):\n",
    "        return []\n",
    "    resus = ['']\n",
    "    for d in digits:\n",
    "        select = []\n",
    "        for c in k[d]:\n",
    "            select = select +[r + c for r in resus]\n",
    "\n",
    "        resus = select\n",
    "    return (resus)"
   ]
  },
  {
   "cell_type": "code",
   "execution_count": 5,
   "id": "383840ff",
   "metadata": {},
   "outputs": [
    {
     "data": {
      "text/plain": [
       "['ad', 'bd', 'cd', 'ae', 'be', 'ce', 'af', 'bf', 'cf']"
      ]
     },
     "execution_count": 5,
     "metadata": {},
     "output_type": "execute_result"
    }
   ],
   "source": [
    "digits = \"23\"\n",
    "letterCombinations(digits)"
   ]
  },
  {
   "cell_type": "code",
   "execution_count": 6,
   "id": "a9540e3d",
   "metadata": {},
   "outputs": [
    {
     "data": {
      "text/plain": [
       "[]"
      ]
     },
     "execution_count": 6,
     "metadata": {},
     "output_type": "execute_result"
    }
   ],
   "source": [
    "digits = \"\"\n",
    "letterCombinations(digits)"
   ]
  },
  {
   "cell_type": "code",
   "execution_count": 7,
   "id": "7c590916",
   "metadata": {},
   "outputs": [
    {
     "data": {
      "text/plain": [
       "['a', 'b', 'c']"
      ]
     },
     "execution_count": 7,
     "metadata": {},
     "output_type": "execute_result"
    }
   ],
   "source": [
    "digits = \"2\"\n",
    "letterCombinations(digits)"
   ]
  },
  {
   "cell_type": "markdown",
   "id": "bbf5f153",
   "metadata": {},
   "source": [
    "2"
   ]
  },
  {
   "cell_type": "code",
   "execution_count": 8,
   "id": "27443282",
   "metadata": {},
   "outputs": [],
   "source": [
    "def letterCombinations(digits):\n",
    "\n",
    "    k = {\"2\": \"abc\", \"3\":\"def\", \"4\":\"ghi\", \"5\":\"jkl\", \"6\":\"mno\", \"7\":\"pqrs\", \"8\":\"tuv\", \"9\":\"wxyz\"}\n",
    "\n",
    "    if (len(digits)==0):\n",
    "        return []\n",
    "\n",
    "    result = []\n",
    "    for digit in digits:\n",
    "        if not result:\n",
    "            result = k[digit]\n",
    "        else:\n",
    "            tmp = []\n",
    "            for r in result:\n",
    "                for l in k[digit]:\n",
    "                    tmp.append(r+l)\n",
    "            result = tmp\n",
    "    return result"
   ]
  },
  {
   "cell_type": "code",
   "execution_count": 9,
   "id": "0c97cbf5",
   "metadata": {},
   "outputs": [
    {
     "data": {
      "text/plain": [
       "['ad', 'ae', 'af', 'bd', 'be', 'bf', 'cd', 'ce', 'cf']"
      ]
     },
     "execution_count": 9,
     "metadata": {},
     "output_type": "execute_result"
    }
   ],
   "source": [
    "digits = \"23\"\n",
    "letterCombinations(digits)"
   ]
  },
  {
   "cell_type": "code",
   "execution_count": 10,
   "id": "53f7c0e3",
   "metadata": {},
   "outputs": [
    {
     "data": {
      "text/plain": [
       "[]"
      ]
     },
     "execution_count": 10,
     "metadata": {},
     "output_type": "execute_result"
    }
   ],
   "source": [
    "digits = \"\"\n",
    "letterCombinations(digits)"
   ]
  },
  {
   "cell_type": "code",
   "execution_count": 11,
   "id": "fc888f77",
   "metadata": {},
   "outputs": [
    {
     "data": {
      "text/plain": [
       "'abc'"
      ]
     },
     "execution_count": 11,
     "metadata": {},
     "output_type": "execute_result"
    }
   ],
   "source": [
    "digits = \"2\"\n",
    "letterCombinations(digits) "
   ]
  },
  {
   "cell_type": "markdown",
   "id": "2dbdc123",
   "metadata": {},
   "source": [
    "3"
   ]
  },
  {
   "cell_type": "code",
   "execution_count": 14,
   "id": "220a04ad",
   "metadata": {},
   "outputs": [],
   "source": [
    "def letterCombinations(digits):\n",
    "\n",
    "    def dfs(index, path):\n",
    "        if len(path) == len(digits):\n",
    "            result.append(path)\n",
    "            return \n",
    "\n",
    "        for i in range(index, len(digits)):\n",
    "            for j in dic[digits[i]]:\n",
    "                dfs(i+1, path+j)\n",
    "\n",
    "\n",
    "    dic = {\"2\": \"abc\", \"3\":\"def\", \"4\":\"ghi\", \"5\":\"jkl\", \"6\":\"mno\", \"7\":\"pqrs\", \"8\":\"tuv\", \"9\":\"wxyz\"}\n",
    "\n",
    "    if (len(digits)==0):\n",
    "        return []\n",
    "\n",
    "    result = []\n",
    "    dfs(0,\"\")\n",
    "\n",
    "    return result"
   ]
  },
  {
   "cell_type": "code",
   "execution_count": 15,
   "id": "7699a856",
   "metadata": {},
   "outputs": [
    {
     "data": {
      "text/plain": [
       "['ad', 'ae', 'af', 'bd', 'be', 'bf', 'cd', 'ce', 'cf']"
      ]
     },
     "execution_count": 15,
     "metadata": {},
     "output_type": "execute_result"
    }
   ],
   "source": [
    "digits = \"23\"\n",
    "letterCombinations(digits)"
   ]
  },
  {
   "cell_type": "code",
   "execution_count": 16,
   "id": "b5d586da",
   "metadata": {},
   "outputs": [
    {
     "data": {
      "text/plain": [
       "[]"
      ]
     },
     "execution_count": 16,
     "metadata": {},
     "output_type": "execute_result"
    }
   ],
   "source": [
    "digits = \"\"\n",
    "letterCombinations(digits)"
   ]
  },
  {
   "cell_type": "code",
   "execution_count": 17,
   "id": "1da8559f",
   "metadata": {},
   "outputs": [
    {
     "data": {
      "text/plain": [
       "['a', 'b', 'c']"
      ]
     },
     "execution_count": 17,
     "metadata": {},
     "output_type": "execute_result"
    }
   ],
   "source": [
    "digits = \"2\"\n",
    "letterCombinations(digits) "
   ]
  }
 ],
 "metadata": {
  "kernelspec": {
   "display_name": "Python 3",
   "language": "python",
   "name": "python3"
  },
  "language_info": {
   "codemirror_mode": {
    "name": "ipython",
    "version": 3
   },
   "file_extension": ".py",
   "mimetype": "text/x-python",
   "name": "python",
   "nbconvert_exporter": "python",
   "pygments_lexer": "ipython3",
   "version": "3.8.8"
  }
 },
 "nbformat": 4,
 "nbformat_minor": 5
}
