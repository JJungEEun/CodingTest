{
 "cells": [
  {
   "cell_type": "markdown",
   "id": "42a277e7",
   "metadata": {},
   "source": [
    "### 조합의 합"
   ]
  },
  {
   "cell_type": "markdown",
   "id": "e019a294",
   "metadata": {},
   "source": [
    "숫자 집합candidates를 조합하여 합이 target이 되는 원소를 나열하라\n",
    "각 원소는 중복으로 나열 가능하다"
   ]
  },
  {
   "cell_type": "code",
   "execution_count": 4,
   "id": "a5e4578f",
   "metadata": {},
   "outputs": [],
   "source": [
    " def combinationSum(candidates, target):\n",
    "        \n",
    "        result = []\n",
    "        \n",
    "        def dfs(cur, start, target):\n",
    "            if target == 0:\n",
    "                result.append(cur[:])\n",
    "            if target < 0 :\n",
    "                return \n",
    "            for i in range(start, len(candidates)):\n",
    "                if target >= candidates[i]:\n",
    "                    cur.append(candidates[i])\n",
    "                    dfs(cur, i, target-candidates[i])\n",
    "                    cur.pop()\n",
    "                    \n",
    "        dfs([], 0, target)\n",
    "        return (result)       "
   ]
  },
  {
   "cell_type": "code",
   "execution_count": 5,
   "id": "0a5f50a7",
   "metadata": {},
   "outputs": [
    {
     "data": {
      "text/plain": [
       "[[2, 2, 3], [7]]"
      ]
     },
     "execution_count": 5,
     "metadata": {},
     "output_type": "execute_result"
    }
   ],
   "source": [
    "candidates = [2,3,6,7]\n",
    "target = 7\n",
    "combinationSum(candidates, target)"
   ]
  },
  {
   "cell_type": "code",
   "execution_count": 6,
   "id": "cd2a1d25",
   "metadata": {},
   "outputs": [
    {
     "data": {
      "text/plain": [
       "[[2, 2, 2, 2], [2, 3, 3], [3, 5]]"
      ]
     },
     "execution_count": 6,
     "metadata": {},
     "output_type": "execute_result"
    }
   ],
   "source": [
    "candidates = [2,3,5]\n",
    "target = 8\n",
    "combinationSum(candidates, target)"
   ]
  },
  {
   "cell_type": "code",
   "execution_count": 7,
   "id": "c600c722",
   "metadata": {},
   "outputs": [
    {
     "data": {
      "text/plain": [
       "[]"
      ]
     },
     "execution_count": 7,
     "metadata": {},
     "output_type": "execute_result"
    }
   ],
   "source": [
    "candidates = [2]\n",
    "target = 1\n",
    "combinationSum(candidates, target)"
   ]
  },
  {
   "cell_type": "code",
   "execution_count": null,
   "id": "18e8d800",
   "metadata": {},
   "outputs": [],
   "source": []
  }
 ],
 "metadata": {
  "kernelspec": {
   "display_name": "Python 3",
   "language": "python",
   "name": "python3"
  },
  "language_info": {
   "codemirror_mode": {
    "name": "ipython",
    "version": 3
   },
   "file_extension": ".py",
   "mimetype": "text/x-python",
   "name": "python",
   "nbconvert_exporter": "python",
   "pygments_lexer": "ipython3",
   "version": "3.8.8"
  }
 },
 "nbformat": 4,
 "nbformat_minor": 5
}
