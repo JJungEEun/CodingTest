{
 "cells": [
  {
   "cell_type": "markdown",
   "id": "8a9b2f35",
   "metadata": {},
   "source": [
    "### 59. 구간 병합 / lc 56. Merge Intervals"
   ]
  },
  {
   "cell_type": "markdown",
   "id": "50a4ca7a",
   "metadata": {},
   "source": [
    "#### Solution 1"
   ]
  },
  {
   "cell_type": "code",
   "execution_count": 1,
   "id": "c708a5c5",
   "metadata": {},
   "outputs": [],
   "source": [
    "class Solution:\n",
    "    def merge(intervals):\n",
    "        intervals.sort()\n",
    "        merged = []\n",
    "        \n",
    "        for interval in intervals:\n",
    "            # interval의 시작점이 merge(가장 마지막 배열) 구간 안에 있는 경우\n",
    "            if merged and interval[0] <= merged[-1][1]:\n",
    "                merged[-1][1] = max(merged[-1][1], interval[1])\n",
    "            else:\n",
    "                merged.append(interval)\n",
    "        return merged"
   ]
  },
  {
   "cell_type": "code",
   "execution_count": 2,
   "id": "7c01b846",
   "metadata": {},
   "outputs": [
    {
     "data": {
      "text/plain": [
       "[[1, 6], [8, 10], [15, 18]]"
      ]
     },
     "execution_count": 2,
     "metadata": {},
     "output_type": "execute_result"
    }
   ],
   "source": [
    "intervals = [[1,3],[2,6],[8,10],[15,18]]\n",
    "Solution.merge(intervals)"
   ]
  },
  {
   "cell_type": "code",
   "execution_count": 3,
   "id": "30491537",
   "metadata": {},
   "outputs": [
    {
     "data": {
      "text/plain": [
       "[[1, 5]]"
      ]
     },
     "execution_count": 3,
     "metadata": {},
     "output_type": "execute_result"
    }
   ],
   "source": [
    "intervals = [[1,4],[4,5]]\n",
    "Solution.merge(intervals)"
   ]
  },
  {
   "cell_type": "markdown",
   "id": "e6bc6f8b",
   "metadata": {},
   "source": [
    "Runtime: 139 ms, faster than 67.94% of Python online submissions for Merge Intervals.\n",
    "Memory Usage: 18.1 MB, less than 88.25% of Python online submissions for Merge Intervals."
   ]
  },
  {
   "cell_type": "markdown",
   "id": "563cac63",
   "metadata": {},
   "source": [
    "#### Solution 2"
   ]
  },
  {
   "cell_type": "code",
   "execution_count": 6,
   "id": "064cc7c0",
   "metadata": {},
   "outputs": [],
   "source": [
    "class Solution:\n",
    "    def merge(intervals) :\n",
    "        merged = []\n",
    "        for i in sorted(intervals, key=lambda x: x[0]):\n",
    "            if merged and i[0] <= merged[-1][1]:\n",
    "                merged[-1][1] = max(merged[-1][1], i[1])\n",
    "            else:\n",
    "                merged += i,\n",
    "                # a = [1]\n",
    "                # b = [2,3]\n",
    "                # a += b // returns [1,2,3]\n",
    "                # a += b, // returns [1, [2,3]]. a += [b]와 동일한 결과를 리턴한다.\n",
    "        return merged\n",
    "        return merged"
   ]
  },
  {
   "cell_type": "code",
   "execution_count": 7,
   "id": "999f2bd5",
   "metadata": {},
   "outputs": [
    {
     "data": {
      "text/plain": [
       "[[1, 6], [8, 10], [15, 18]]"
      ]
     },
     "execution_count": 7,
     "metadata": {},
     "output_type": "execute_result"
    }
   ],
   "source": [
    "intervals = [[1,3],[2,6],[8,10],[15,18]]\n",
    "Solution.merge(intervals)"
   ]
  },
  {
   "cell_type": "code",
   "execution_count": 8,
   "id": "5c7ca341",
   "metadata": {},
   "outputs": [
    {
     "data": {
      "text/plain": [
       "[[1, 5]]"
      ]
     },
     "execution_count": 8,
     "metadata": {},
     "output_type": "execute_result"
    }
   ],
   "source": [
    "intervals = [[1,4],[4,5]]\n",
    "Solution.merge(intervals)"
   ]
  },
  {
   "cell_type": "markdown",
   "id": "e8fb76de",
   "metadata": {},
   "source": [
    "Runtime: 159 ms, faster than 54.20% of Python online submissions for Merge Intervals.\n",
    "Memory Usage: 18.2 MB, less than 50.69% of Python online submissions for Merge Intervals."
   ]
  },
  {
   "cell_type": "markdown",
   "id": "e659bf4a",
   "metadata": {},
   "source": [
    "---"
   ]
  },
  {
   "cell_type": "markdown",
   "id": "b33f7f42",
   "metadata": {},
   "source": [
    "#### 리스트 병합 문법 ,"
   ]
  },
  {
   "cell_type": "code",
   "execution_count": 29,
   "id": "937cf60d",
   "metadata": {},
   "outputs": [
    {
     "name": "stdout",
     "output_type": "stream",
     "text": [
      "[1, 2, 3, 4, 5, 6]\n"
     ]
    }
   ],
   "source": [
    "list1 = [1,2,3]\n",
    "list2 = [4,5,6]\n",
    "\n",
    "list3 = list1 + list2\n",
    "print(list3)"
   ]
  },
  {
   "cell_type": "code",
   "execution_count": 30,
   "id": "17d3f288",
   "metadata": {},
   "outputs": [
    {
     "name": "stdout",
     "output_type": "stream",
     "text": [
      "[1, 2, 3, 4, 5, 6]\n"
     ]
    }
   ],
   "source": [
    "list1 = [1,2,3]\n",
    "list2 = [4,5,6]\n",
    "\n",
    "list1.extend(list2)\n",
    "print(list1)"
   ]
  },
  {
   "cell_type": "code",
   "execution_count": 31,
   "id": "d6d330fd",
   "metadata": {},
   "outputs": [
    {
     "name": "stdout",
     "output_type": "stream",
     "text": [
      "[1, 2, 3, 4, 5, 6]\n"
     ]
    }
   ],
   "source": [
    "list1 = [1,2,3]\n",
    "list2 = [4,5,6]\n",
    "\n",
    "list1 += list2\n",
    "print(list1)"
   ]
  },
  {
   "cell_type": "code",
   "execution_count": 32,
   "id": "68f16f10",
   "metadata": {},
   "outputs": [
    {
     "name": "stdout",
     "output_type": "stream",
     "text": [
      "[1, 2, 3, [4, 5, 6]]\n"
     ]
    }
   ],
   "source": [
    "list1 = [1,2,3]\n",
    "list2 = [4,5,6]\n",
    "\n",
    "list1 += list2, \n",
    "print(list1)"
   ]
  }
 ],
 "metadata": {
  "kernelspec": {
   "display_name": "Python 3",
   "language": "python",
   "name": "python3"
  },
  "language_info": {
   "codemirror_mode": {
    "name": "ipython",
    "version": 3
   },
   "file_extension": ".py",
   "mimetype": "text/x-python",
   "name": "python",
   "nbconvert_exporter": "python",
   "pygments_lexer": "ipython3",
   "version": "3.8.8"
  }
 },
 "nbformat": 4,
 "nbformat_minor": 5
}
