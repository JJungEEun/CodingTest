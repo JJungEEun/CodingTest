{
 "cells": [
  {
   "cell_type": "markdown",
   "id": "e865bafb",
   "metadata": {},
   "source": [
    "### 58.리스트 정렬 / lc 148. Sort List"
   ]
  },
  {
   "cell_type": "markdown",
   "id": "e00b1da5",
   "metadata": {},
   "source": [
    "노드 선언, linked-list 생성, 출력"
   ]
  },
  {
   "cell_type": "code",
   "execution_count": 33,
   "id": "29318c04",
   "metadata": {},
   "outputs": [],
   "source": [
    "class ListNode(object):\n",
    "    def __init__(self, val=0, next=None):\n",
    "        self.val = val\n",
    "        self.next = next"
   ]
  },
  {
   "cell_type": "code",
   "execution_count": 27,
   "id": "95c4cf3e",
   "metadata": {},
   "outputs": [],
   "source": [
    "def makeNode(List):\n",
    "    node = ListNode(0)\n",
    "    head = node\n",
    "    \n",
    "    for l in List:\n",
    "        head.next = ListNode(l)\n",
    "        head = head.next\n",
    "    \n",
    "    return node.next"
   ]
  },
  {
   "cell_type": "code",
   "execution_count": 30,
   "id": "558c41ad",
   "metadata": {},
   "outputs": [],
   "source": [
    "def printAns(ans):\n",
    "    while ans:\n",
    "        print(ans.val)\n",
    "        ans = ans.next"
   ]
  },
  {
   "cell_type": "markdown",
   "id": "bbb5ef84",
   "metadata": {},
   "source": [
    "### Solution 01"
   ]
  },
  {
   "cell_type": "code",
   "execution_count": 32,
   "id": "9c38c1f8",
   "metadata": {},
   "outputs": [],
   "source": [
    "class Solution(object):\n",
    "    def sortList(head):\n",
    "        sort = []\n",
    "        while head:\n",
    "            sort.append(head.val)\n",
    "            head = head.next\n",
    "        \n",
    "        sort.sort()\n",
    "        ans = ListNode(0)\n",
    "        result = ans\n",
    "        \n",
    "        for s in sort:\n",
    "            result.next = ListNode(s)\n",
    "            result = result.next\n",
    "        \n",
    "        return ans.next"
   ]
  },
  {
   "cell_type": "code",
   "execution_count": 34,
   "id": "c666bcf4",
   "metadata": {},
   "outputs": [
    {
     "name": "stdout",
     "output_type": "stream",
     "text": [
      "1\n",
      "2\n",
      "3\n",
      "4\n"
     ]
    }
   ],
   "source": [
    "l1 = makeNode([4,2,1,3])\n",
    "ans1 = Solution.sortList(l1)\n",
    "\n",
    "printAns(ans1)"
   ]
  },
  {
   "cell_type": "code",
   "execution_count": 35,
   "id": "95aa90dd",
   "metadata": {},
   "outputs": [
    {
     "name": "stdout",
     "output_type": "stream",
     "text": [
      "-1\n",
      "0\n",
      "3\n",
      "4\n",
      "5\n"
     ]
    }
   ],
   "source": [
    "l2 = makeNode([-1,5,3,4,0])\n",
    "ans2 = Solution.sortList(l2)\n",
    "\n",
    "printAns(ans2)"
   ]
  },
  {
   "cell_type": "markdown",
   "id": "21380652",
   "metadata": {},
   "source": [
    "Runtime: 276 ms, faster than 90.28% of Python online submissions for Sort List.\n",
    "Memory Usage: 63.4 MB, less than 9.40% of Python online submissions for Sort List."
   ]
  },
  {
   "cell_type": "markdown",
   "id": "6b77a087",
   "metadata": {},
   "source": [
    "### Solution 02"
   ]
  },
  {
   "cell_type": "code",
   "execution_count": 38,
   "id": "e83881d8",
   "metadata": {},
   "outputs": [],
   "source": [
    "class Solution(object):\n",
    "    def sortList(head):\n",
    "            # 연결 리스트 -> 파이썬 리스트\n",
    "            p = head\n",
    "            lst = []\n",
    "            while p:\n",
    "                lst.append(p.val)\n",
    "                p = p.next\n",
    "\n",
    "            # 정렬\n",
    "            lst.sort()\n",
    "\n",
    "            # 파이썬 리스트 -> 연결 리스트\n",
    "            p = head\n",
    "            for i in range(len(lst)):\n",
    "                p.val = lst[i]\n",
    "                p = p.next\n",
    "            return head\n",
    "       "
   ]
  },
  {
   "cell_type": "code",
   "execution_count": 39,
   "id": "4bafbbc3",
   "metadata": {},
   "outputs": [
    {
     "name": "stdout",
     "output_type": "stream",
     "text": [
      "1\n",
      "2\n",
      "3\n",
      "4\n"
     ]
    }
   ],
   "source": [
    "l1 = makeNode([4,2,1,3])\n",
    "ans1 = Solution.sortList(l1)\n",
    "\n",
    "printAns(ans1)"
   ]
  },
  {
   "cell_type": "code",
   "execution_count": 40,
   "id": "92558997",
   "metadata": {},
   "outputs": [
    {
     "name": "stdout",
     "output_type": "stream",
     "text": [
      "-1\n",
      "0\n",
      "3\n",
      "4\n",
      "5\n"
     ]
    }
   ],
   "source": [
    "l2 = makeNode([-1,5,3,4,0])\n",
    "ans2 = Solution.sortList(l2)\n",
    "\n",
    "printAns(ans2)"
   ]
  },
  {
   "cell_type": "markdown",
   "id": "36766718",
   "metadata": {},
   "source": [
    "Runtime: 191 ms, faster than 97.59% of Python online submissions for Sort List.\n",
    "Memory Usage: 47.2 MB, less than 27.15% of Python online submissions for Sort List. "
   ]
  }
 ],
 "metadata": {
  "kernelspec": {
   "display_name": "Python 3",
   "language": "python",
   "name": "python3"
  },
  "language_info": {
   "codemirror_mode": {
    "name": "ipython",
    "version": 3
   },
   "file_extension": ".py",
   "mimetype": "text/x-python",
   "name": "python",
   "nbconvert_exporter": "python",
   "pygments_lexer": "ipython3",
   "version": "3.8.8"
  }
 },
 "nbformat": 4,
 "nbformat_minor": 5
}
