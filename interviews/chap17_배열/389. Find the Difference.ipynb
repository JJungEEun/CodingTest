{
 "cells": [
  {
   "cell_type": "code",
   "execution_count": 2,
   "id": "fe51e961",
   "metadata": {},
   "outputs": [],
   "source": [
    "def findTheDifference(s,t):\n",
    "        sorted_s = sorted(s)\n",
    "        sorted_t = sorted(t)\n",
    "        for index in range(len(s)):\n",
    "            if sorted_t[index] != sorted_s[index]:\n",
    "                return sorted_t[index]\n",
    "        return sorted_t[-1]"
   ]
  },
  {
   "cell_type": "markdown",
   "id": "d678e887",
   "metadata": {},
   "source": [
    "Runtime: 16 ms, faster than 98.69% of Python online submissions for Find the Difference.\n",
    "Memory Usage: 13.7 MB, less than 5.78% of Python online submissions for Find the Difference."
   ]
  },
  {
   "cell_type": "code",
   "execution_count": null,
   "id": "d12ae5a5",
   "metadata": {},
   "outputs": [],
   "source": [
    "  def findTheDifference(self, s, t):\n",
    "        \n",
    "        slist = list(s)\n",
    "        tlist = list(t)\n",
    "        slist.sort()\n",
    "        tlist.sort()\n",
    "        \n",
    "        if not s: \n",
    "            return t \n",
    "        \n",
    "        \n",
    "        for i in range(len(s)):\n",
    "            if slist[i] != tlist[i]:\n",
    "                return tlist[i]\n",
    "        return tlist[-1]"
   ]
  },
  {
   "cell_type": "markdown",
   "id": "d1541f98",
   "metadata": {},
   "source": [
    "Runtime: 27 ms, faster than 76.61% of Python online submissions for Find the Difference.\n",
    "Memory Usage: 13.4 MB, less than 71.78% of Python online submissions for Find the Difference."
   ]
  }
 ],
 "metadata": {
  "kernelspec": {
   "display_name": "Python 3",
   "language": "python",
   "name": "python3"
  },
  "language_info": {
   "codemirror_mode": {
    "name": "ipython",
    "version": 3
   },
   "file_extension": ".py",
   "mimetype": "text/x-python",
   "name": "python",
   "nbconvert_exporter": "python",
   "pygments_lexer": "ipython3",
   "version": "3.8.8"
  }
 },
 "nbformat": 4,
 "nbformat_minor": 5
}
