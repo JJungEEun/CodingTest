{
 "cells": [
  {
   "cell_type": "markdown",
   "id": "f8296b78",
   "metadata": {},
   "source": [
    "## lc 268. Missing Number"
   ]
  },
  {
   "cell_type": "markdown",
   "id": "503c2f4e",
   "metadata": {},
   "source": [
    "### Solution 01"
   ]
  },
  {
   "cell_type": "code",
   "execution_count": 2,
   "id": "6a348eab",
   "metadata": {},
   "outputs": [],
   "source": [
    "class Solution:\n",
    "    def missingNumber(nums):        \n",
    "        new_nums = set([num for num in range(len(nums) + 1)])\n",
    "        \n",
    "        nums = set(nums)\n",
    "        \n",
    "        differ = new_nums - nums\n",
    "        \n",
    "        if len(differ) == 0:\n",
    "            answer = len(nums) + 1\n",
    "        else:\n",
    "            answer = list(differ)[0]\n",
    "        \n",
    "        return answer"
   ]
  },
  {
   "cell_type": "markdown",
   "id": "ac27e194",
   "metadata": {},
   "source": [
    "Runtime: 213 ms, faster than 31.04% of Python online submissions for Missing Number.\n",
    "Memory Usage: 15.5 MB, less than 6.01% of Python online submissions for Missing Number."
   ]
  },
  {
   "cell_type": "markdown",
   "id": "101165c9",
   "metadata": {},
   "source": [
    "### Solution 02"
   ]
  },
  {
   "cell_type": "code",
   "execution_count": 3,
   "id": "cb52f61a",
   "metadata": {},
   "outputs": [],
   "source": [
    "class Solution:\n",
    "    def missingNumber(nums):        \n",
    "    \n",
    "        return abs(sum(range(len(nums)+1)) - sum(nums))\n",
    "\n"
   ]
  },
  {
   "cell_type": "markdown",
   "id": "8ba21073",
   "metadata": {},
   "source": [
    "Runtime: 170 ms, faster than 51.87% of Python online submissions for Missing Number.\n",
    "Memory Usage: 14.5 MB, less than 86.06% of Python online submissions for Missing Number."
   ]
  },
  {
   "cell_type": "code",
   "execution_count": null,
   "id": "69bb36f1",
   "metadata": {},
   "outputs": [],
   "source": []
  }
 ],
 "metadata": {
  "kernelspec": {
   "display_name": "Python 3",
   "language": "python",
   "name": "python3"
  },
  "language_info": {
   "codemirror_mode": {
    "name": "ipython",
    "version": 3
   },
   "file_extension": ".py",
   "mimetype": "text/x-python",
   "name": "python",
   "nbconvert_exporter": "python",
   "pygments_lexer": "ipython3",
   "version": "3.8.8"
  }
 },
 "nbformat": 4,
 "nbformat_minor": 5
}
