{
 "cells": [
  {
   "cell_type": "markdown",
   "id": "db86aa07",
   "metadata": {},
   "source": [
    "## lc 451. Sort Characters By Frequency"
   ]
  },
  {
   "cell_type": "markdown",
   "id": "7966dbe8",
   "metadata": {},
   "source": [
    "~~~~~\n",
    "Given a string s, sort it in decreasing order based on the frequency of the characters. The frequency of a character is the number of times it appears in the string.\n",
    "\n",
    "Return the sorted string. If there are multiple answers, return any of them."
   ]
  },
  {
   "cell_type": "code",
   "execution_count": 3,
   "id": "62fc1639",
   "metadata": {},
   "outputs": [],
   "source": [
    "import collections\n",
    "class Solution(object):\n",
    "    def frequencySort(s):\n",
    "        \"\"\"\n",
    "        :type s: str\n",
    "        :rtype: str\n",
    "        \"\"\"\n",
    "        \n",
    "        cnt = collections.Counter(s)\n",
    "        ans = \"\"\n",
    "        for k,v in sorted(cnt.items(), key = lambda x: x[1], reverse=True):\n",
    "            ans += k*v\n",
    "            \n",
    "        return ans"
   ]
  },
  {
   "cell_type": "code",
   "execution_count": 4,
   "id": "1699d512",
   "metadata": {},
   "outputs": [
    {
     "data": {
      "text/plain": [
       "'eetr'"
      ]
     },
     "execution_count": 4,
     "metadata": {},
     "output_type": "execute_result"
    }
   ],
   "source": [
    "s = \"tree\"\n",
    "Solution.frequencySort(s)"
   ]
  },
  {
   "cell_type": "code",
   "execution_count": 5,
   "id": "6cd7b470",
   "metadata": {},
   "outputs": [
    {
     "data": {
      "text/plain": [
       "'cccaaa'"
      ]
     },
     "execution_count": 5,
     "metadata": {},
     "output_type": "execute_result"
    }
   ],
   "source": [
    "s = \"cccaaa\"\n",
    "Solution.frequencySort(s)"
   ]
  },
  {
   "cell_type": "code",
   "execution_count": null,
   "id": "99791382",
   "metadata": {},
   "outputs": [],
   "source": []
  }
 ],
 "metadata": {
  "kernelspec": {
   "display_name": "Python 3",
   "language": "python",
   "name": "python3"
  },
  "language_info": {
   "codemirror_mode": {
    "name": "ipython",
    "version": 3
   },
   "file_extension": ".py",
   "mimetype": "text/x-python",
   "name": "python",
   "nbconvert_exporter": "python",
   "pygments_lexer": "ipython3",
   "version": "3.8.8"
  }
 },
 "nbformat": 4,
 "nbformat_minor": 5
}
