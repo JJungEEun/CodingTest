{
 "cells": [
  {
   "cell_type": "markdown",
   "id": "408d50f9",
   "metadata": {},
   "source": [
    "## 60. 삽입 정렬 리스트 / leetcode 147. Insertion SortList"
   ]
  },
  {
   "cell_type": "markdown",
   "id": "12d26f79",
   "metadata": {},
   "source": [
    "연결 리스트를 삽입 정렬로 정렬하라"
   ]
  },
  {
   "cell_type": "markdown",
   "id": "965f5a2c",
   "metadata": {},
   "source": [
    "---"
   ]
  },
  {
   "cell_type": "code",
   "execution_count": 2,
   "id": "e127d377",
   "metadata": {},
   "outputs": [],
   "source": [
    "class ListNode(object):\n",
    "    def __init__(self, val=0, next=None):\n",
    "        self.val = val\n",
    "        self.next = next"
   ]
  },
  {
   "cell_type": "code",
   "execution_count": 3,
   "id": "fde6f6a9",
   "metadata": {},
   "outputs": [],
   "source": [
    "def makeNode(List):\n",
    "    node = ListNode(0)\n",
    "    head = node\n",
    "    \n",
    "    for l in List:\n",
    "        head.next = ListNode(l)\n",
    "        head = head.next\n",
    "    \n",
    "    return node.next"
   ]
  },
  {
   "cell_type": "code",
   "execution_count": 4,
   "id": "d28972e9",
   "metadata": {},
   "outputs": [],
   "source": [
    "def printAns(ans):\n",
    "    while ans:\n",
    "        print(ans.val)\n",
    "        ans = ans.next "
   ]
  },
  {
   "cell_type": "markdown",
   "id": "75087fbc",
   "metadata": {},
   "source": [
    "### Solution 01 : 삽입 정렬"
   ]
  },
  {
   "cell_type": "markdown",
   "id": "da78460d",
   "metadata": {},
   "source": [
    "class Solution(object):\n",
    "    def insertionSortList(head):\n",
    "\n",
    "        cur = node = ListNode(0)\n",
    "        #cur, node: 빈 노드\n",
    "        #cur: 정렬 끝난 리스트노드 추가할 것 #node: 위치 표시(루트 포인터)\n",
    "        \n",
    "        while head:\n",
    "            #head: 정렬를 해야하는 리스트노드 #cur: 정렬를 끝낸 리스트노드\n",
    "            while cur.next and cur.next.val < head.val:\n",
    "                cur = cur.next\n",
    "            cur.next, head.next, head = head, cur.next, head.next\n",
    "        \n",
    "            cur = node\n",
    "            \n",
    "        return node.next"
   ]
  },
  {
   "cell_type": "code",
   "execution_count": 8,
   "id": "3acc6e5b",
   "metadata": {},
   "outputs": [
    {
     "name": "stdout",
     "output_type": "stream",
     "text": [
      "1\n",
      "2\n",
      "3\n",
      "4\n"
     ]
    }
   ],
   "source": [
    "l1 = makeNode([4,2,1,3])\n",
    "ans1 = Solution.insertionSortList(l1)\n",
    "\n",
    "printAns(ans1)"
   ]
  },
  {
   "cell_type": "markdown",
   "id": "a7403e65",
   "metadata": {},
   "source": [
    "##### Runtime: 2099 ms, faster than 24.65% of Python online submissions for Insertion Sort List. Memory Usage: 16.6 MB, less than 97.16% of Python online submissions for Insertion Sort List."
   ]
  },
  {
   "cell_type": "markdown",
   "id": "09828b40",
   "metadata": {},
   "source": [
    "--- "
   ]
  },
  {
   "cell_type": "markdown",
   "id": "34f322d7",
   "metadata": {},
   "source": [
    "### Solution 02: 비교 조건 추가"
   ]
  },
  {
   "cell_type": "code",
   "execution_count": 12,
   "id": "9d4ac6e0",
   "metadata": {},
   "outputs": [],
   "source": [
    "class Solution(object):\n",
    "    def insertionSortList(head):\n",
    "        cur = node = ListNode(0)\n",
    "        \n",
    "        while head:\n",
    "            while cur.next and cur.next.val < head.val:\n",
    "                cur = cur.next\n",
    "            cur.next, head.next, head = head, cur.next, head.next\n",
    "        \n",
    "            if head and cur.val > head.val: #조건 추가\n",
    "                cur = node\n",
    "            \n",
    "        return node.next"
   ]
  },
  {
   "cell_type": "code",
   "execution_count": 13,
   "id": "3ac056d9",
   "metadata": {},
   "outputs": [
    {
     "name": "stdout",
     "output_type": "stream",
     "text": [
      "1\n",
      "2\n",
      "3\n",
      "4\n"
     ]
    }
   ],
   "source": [
    "l1 = makeNode([4,2,1,3])\n",
    "ans1 = Solution.insertionSortList(l1)\n",
    "\n",
    "printAns(ans1)"
   ]
  },
  {
   "cell_type": "markdown",
   "id": "d13b35d5",
   "metadata": {},
   "source": [
    "##### Runtime: 285 ms, faster than 62.56% of Python online submissions for Insertion Sort List. Memory Usage: 16.7 MB, less than 93.84% of Python online submissions for Insertion Sort List."
   ]
  },
  {
   "cell_type": "markdown",
   "id": "3e16555f",
   "metadata": {},
   "source": [
    "###### 필요한 경우만 cur 포인터가 되돌아가도록 처리\n",
    "1. 이동한 다음 hear가 None일 수도 있기 때문에 존재 여부를 확인  \n",
    "2. cur과 head값을 비교\n",
    "\n",
    "위 조건에 맞는 경우에만 되돌아가게 설정 => 불필요한 while문 실행 X\n",
    "\n",
    "ex) cur.val이 head.val보다 작다면 while 구문이 실행되지 않고 바로 교환이 진행되는 것"
   ]
  },
  {
   "cell_type": "markdown",
   "id": "5481038b",
   "metadata": {},
   "source": [
    "한 줄의 조건문으로 기존 대비 10배 이상의 성능을 높임 !"
   ]
  }
 ],
 "metadata": {
  "kernelspec": {
   "display_name": "Python 3",
   "language": "python",
   "name": "python3"
  },
  "language_info": {
   "codemirror_mode": {
    "name": "ipython",
    "version": 3
   },
   "file_extension": ".py",
   "mimetype": "text/x-python",
   "name": "python",
   "nbconvert_exporter": "python",
   "pygments_lexer": "ipython3",
   "version": "3.8.8"
  }
 },
 "nbformat": 4,
 "nbformat_minor": 5
}
