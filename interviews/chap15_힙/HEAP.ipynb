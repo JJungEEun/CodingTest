{
 "cells": [
  {
   "cell_type": "code",
   "execution_count": 1,
   "id": "f3680362",
   "metadata": {},
   "outputs": [],
   "source": [
    "import heapq"
   ]
  },
  {
   "cell_type": "code",
   "execution_count": 2,
   "id": "526fe828",
   "metadata": {},
   "outputs": [],
   "source": [
    "h = []"
   ]
  },
  {
   "cell_type": "markdown",
   "id": "d956620d",
   "metadata": {},
   "source": [
    "### heappush\n",
    "- 힙에 원소 넣기"
   ]
  },
  {
   "cell_type": "code",
   "execution_count": 3,
   "id": "1571b22c",
   "metadata": {},
   "outputs": [
    {
     "name": "stdout",
     "output_type": "stream",
     "text": [
      "[1, 3, 5, 7]\n"
     ]
    }
   ],
   "source": [
    "h = []\n",
    "\n",
    "heapq.heappush(h, 5)\n",
    "heapq.heappush(h, 7)\n",
    "heapq.heappush(h, 1)\n",
    "heapq.heappush(h, 3)\n",
    "\n",
    "print(h)"
   ]
  },
  {
   "cell_type": "markdown",
   "id": "b993509a",
   "metadata": {},
   "source": [
    "- 튜플을 요소로 넣기: 튜플의 첫 번째 원소에 따라 정렬의 우선순위가 설정"
   ]
  },
  {
   "cell_type": "code",
   "execution_count": 4,
   "id": "bd6784c4",
   "metadata": {},
   "outputs": [
    {
     "name": "stdout",
     "output_type": "stream",
     "text": [
      "[(1, 'write spec'), (3, 'create tests'), (5, 'write code'), (7, 'release product')]\n"
     ]
    }
   ],
   "source": [
    "h2 = []\n",
    "\n",
    "heapq.heappush(h2, (5, 'write code'))\n",
    "heapq.heappush(h2, (7, 'release product'))\n",
    "heapq.heappush(h2, (1, 'write spec'))\n",
    "heapq.heappush(h2, (3, 'create tests'))\n",
    "\n",
    "print(h2)"
   ]
  },
  {
   "cell_type": "code",
   "execution_count": 5,
   "id": "8c00d791",
   "metadata": {},
   "outputs": [
    {
     "name": "stdout",
     "output_type": "stream",
     "text": [
      "1\n",
      "[3, 7, 5]\n"
     ]
    }
   ],
   "source": [
    "print(heapq.heappop(h))\n",
    "print(h)"
   ]
  },
  {
   "cell_type": "markdown",
   "id": "1520f05e",
   "metadata": {},
   "source": [
    "### heappop\n",
    "- 가장 작은 원소 삭제: minheap"
   ]
  },
  {
   "cell_type": "code",
   "execution_count": 6,
   "id": "cd03370e",
   "metadata": {},
   "outputs": [
    {
     "name": "stdout",
     "output_type": "stream",
     "text": [
      "(1, 'write spec')\n",
      "(3, 'create tests')\n",
      "[(5, 'write code'), (7, 'release product')]\n"
     ]
    }
   ],
   "source": [
    "for _ in range(0,2):\n",
    "    print(heapq.heappop(h2))\n",
    "    \n",
    "print(h2)"
   ]
  },
  {
   "cell_type": "markdown",
   "id": "c9414fe6",
   "metadata": {},
   "source": [
    "### heapify\n",
    "- 리스트를 힙으로\n",
    "- 리스트 내부의 원소들이 힙 트리 구조에 맞게 재배치, 최솟값이 인덱스 0에 위치\n",
    "- 시간복잡도가 O(n)으로 문제 풀이 시 사용하지 않는 걸 추천"
   ]
  },
  {
   "cell_type": "code",
   "execution_count": 7,
   "id": "21025682",
   "metadata": {},
   "outputs": [
    {
     "name": "stdout",
     "output_type": "stream",
     "text": [
      "[-8, -1, -7, 5, 3, 15, 3, 29, 8]\n"
     ]
    }
   ],
   "source": [
    "heap = [-1, 8, 15, 29, 3, -7, 3, -8, 5]\n",
    "heapq.heapify(heap)\n",
    "print(heap)"
   ]
  },
  {
   "cell_type": "markdown",
   "id": "23a1cfc4",
   "metadata": {},
   "source": [
    "### nlargest, nsmallest\n",
    "- 리스트에서 n번째 큰 값을 반환하거나(nlargest), 작은 값(nsmallest)을 리턴\n",
    "- n==1이라면, max or min\n",
    "- n이 heap의 길이와 유사하다면, sort를 쓰는 것 추천"
   ]
  },
  {
   "cell_type": "code",
   "execution_count": 8,
   "id": "e4262b3a",
   "metadata": {},
   "outputs": [
    {
     "name": "stdout",
     "output_type": "stream",
     "text": [
      "[29, 15, 8]\n",
      "[-8, -7, -1]\n"
     ]
    }
   ],
   "source": [
    "print(heapq.nlargest(3, heap))\n",
    "print(heapq.nsmallest(3, heap))"
   ]
  }
 ],
 "metadata": {
  "kernelspec": {
   "display_name": "Python 3",
   "language": "python",
   "name": "python3"
  },
  "language_info": {
   "codemirror_mode": {
    "name": "ipython",
    "version": 3
   },
   "file_extension": ".py",
   "mimetype": "text/x-python",
   "name": "python",
   "nbconvert_exporter": "python",
   "pygments_lexer": "ipython3",
   "version": "3.8.8"
  }
 },
 "nbformat": 4,
 "nbformat_minor": 5
}
