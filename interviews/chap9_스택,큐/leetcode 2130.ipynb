{
 "cells": [
  {
   "cell_type": "code",
   "execution_count": 1,
   "id": "0dc24542",
   "metadata": {},
   "outputs": [],
   "source": [
    "class ListNode(object):\n",
    "    def __init__(self, val=0, next=None):\n",
    "        self.val = val\n",
    "        self.next = next\n",
    "        \n",
    "class Solution(object):    \n",
    "    def pairSum(self, head):\n",
    "        # 역순으로 정렬하기\n",
    "        def reverse(head):\n",
    "            node, prev = head, None\n",
    "            while node:\n",
    "                next, node.next = node.next, prev\n",
    "                prev, node = node, next  \n",
    "                \n",
    "            return prev\n",
    "            \n",
    "        \n",
    "        ans = []\n",
    "        slow = head\n",
    "        fast = head\n",
    "        \n",
    "        #배열 반만\n",
    "        while fast and fast.next:\n",
    "            slow = slow.next\n",
    "            fast = fast.next.next\n",
    "            \n",
    "        rev = reverse(slow)\n",
    "        \n",
    "        while rev:\n",
    "            ans.append(rev.val + head.val)\n",
    "            head = head.next\n",
    "            rev = rev.next\n",
    "            \n",
    "        ans.sort()\n",
    "        return ans[-1]"
   ]
  },
  {
   "cell_type": "code",
   "execution_count": null,
   "id": "333084c7",
   "metadata": {},
   "outputs": [],
   "source": []
  }
 ],
 "metadata": {
  "kernelspec": {
   "display_name": "Python 3",
   "language": "python",
   "name": "python3"
  },
  "language_info": {
   "codemirror_mode": {
    "name": "ipython",
    "version": 3
   },
   "file_extension": ".py",
   "mimetype": "text/x-python",
   "name": "python",
   "nbconvert_exporter": "python",
   "pygments_lexer": "ipython3",
   "version": "3.8.8"
  }
 },
 "nbformat": 4,
 "nbformat_minor": 5
}
