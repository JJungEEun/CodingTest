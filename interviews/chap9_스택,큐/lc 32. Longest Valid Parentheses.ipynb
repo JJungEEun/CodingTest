{
 "cells": [
  {
   "cell_type": "markdown",
   "id": "13deb5e7",
   "metadata": {},
   "source": [
    "## lc 32. Longest Valid Parentheses\n",
    "\n",
    "\n",
    "Given a string containing just the characters '(' and ')', find the length of the longest valid (well-formed) parentheses substring.\n",
    "\n",
    "    Input: s = \"(()\"\n",
    "    Output: 2\n",
    "    Explanation: The longest valid parentheses substring is \"()\".\n",
    "\n",
    "\n",
    "    Input: s = \")()())\"\n",
    "    Output: 4\n",
    "    Explanation: The longest valid parentheses substring is \"()()\".\n",
    "\n",
    "\n",
    "    Input: s = \"\"\n",
    "    Output: 0"
   ]
  },
  {
   "cell_type": "markdown",
   "id": "f57c4382",
   "metadata": {},
   "source": [
    "#### Solution 01"
   ]
  },
  {
   "cell_type": "code",
   "execution_count": 2,
   "id": "5666127c",
   "metadata": {},
   "outputs": [],
   "source": [
    "class Solution(object):\n",
    "    def longestValidParentheses(s):\n",
    "        \"\"\"\n",
    "        :type s: str\n",
    "        :rtype: int\n",
    "        \"\"\"\n",
    "        \n",
    "        stack, result = [(-1, ')')], 0\n",
    "        for i, paren in enumerate(s):\n",
    "            if paren == ')' and stack[-1][1] == '(':\n",
    "                stack.pop()\n",
    "                result = max(result, i - stack[-1][0])\n",
    "            else:\n",
    "                stack += (i, paren),\n",
    "                \n",
    "        return result"
   ]
  },
  {
   "cell_type": "code",
   "execution_count": 3,
   "id": "0a120676",
   "metadata": {},
   "outputs": [
    {
     "data": {
      "text/plain": [
       "2"
      ]
     },
     "execution_count": 3,
     "metadata": {},
     "output_type": "execute_result"
    }
   ],
   "source": [
    "s = \"(()\"\n",
    "Solution.longestValidParentheses(s)"
   ]
  },
  {
   "cell_type": "code",
   "execution_count": 4,
   "id": "63b6bfce",
   "metadata": {},
   "outputs": [
    {
     "data": {
      "text/plain": [
       "4"
      ]
     },
     "execution_count": 4,
     "metadata": {},
     "output_type": "execute_result"
    }
   ],
   "source": [
    "s = \")()())\"\n",
    "Solution.longestValidParentheses(s)"
   ]
  },
  {
   "cell_type": "markdown",
   "id": "4df3defe",
   "metadata": {},
   "source": [
    "#### Solution 02"
   ]
  },
  {
   "cell_type": "code",
   "execution_count": 5,
   "id": "e4fd4ee4",
   "metadata": {},
   "outputs": [],
   "source": [
    "class Solution(object):\n",
    "    def longestValidParentheses(s):\n",
    "        \"\"\"\n",
    "        :type s: str\n",
    "        :rtype: int\n",
    "        \"\"\"\n",
    "        \n",
    "        \n",
    "        # 1. ((()))\n",
    "        # left = 3, right = 3 => 6\n",
    "        \n",
    "        left, right = 0, 0\n",
    "        ans = 0\n",
    "        \n",
    "        # 문자열을 왼쪽에서 오른쪽으로 순회\n",
    "        for i in range(len(s)):\n",
    "            if s[i] == '(':\n",
    "                left += 1\n",
    "            else:\n",
    "                right += 1\n",
    "        \n",
    "            if left == right: # 괄호 문자열 체크\n",
    "                ans = max(ans, right+left)\n",
    "                \n",
    "            elif right >= left: # 괄호가 남은 것, left right 초기화 \n",
    "                left = right = 0\n",
    "                \n",
    "        \n",
    "        left = right = 0\n",
    "        # 문자열을 오른쪽에서 왼쪽으로 순회\n",
    "        for i in range(len(s)-1, -1, -1):\n",
    "            if s[i] == '(':\n",
    "                left += 1\n",
    "            else:\n",
    "                right += 1\n",
    "            if left == right:\n",
    "                ans = max(ans, right+left)\n",
    "            elif left > right:\n",
    "                left = right = 0\n",
    "        \n",
    "        return ans\n",
    "            \n",
    "        "
   ]
  },
  {
   "cell_type": "code",
   "execution_count": 6,
   "id": "19f68335",
   "metadata": {},
   "outputs": [
    {
     "data": {
      "text/plain": [
       "2"
      ]
     },
     "execution_count": 6,
     "metadata": {},
     "output_type": "execute_result"
    }
   ],
   "source": [
    "s = \"(()\"\n",
    "Solution.longestValidParentheses(s)"
   ]
  },
  {
   "cell_type": "code",
   "execution_count": 7,
   "id": "258825ef",
   "metadata": {},
   "outputs": [
    {
     "data": {
      "text/plain": [
       "4"
      ]
     },
     "execution_count": 7,
     "metadata": {},
     "output_type": "execute_result"
    }
   ],
   "source": [
    "s = \")()())\"\n",
    "Solution.longestValidParentheses(s)"
   ]
  }
 ],
 "metadata": {
  "kernelspec": {
   "display_name": "Python 3",
   "language": "python",
   "name": "python3"
  },
  "language_info": {
   "codemirror_mode": {
    "name": "ipython",
    "version": 3
   },
   "file_extension": ".py",
   "mimetype": "text/x-python",
   "name": "python",
   "nbconvert_exporter": "python",
   "pygments_lexer": "ipython3",
   "version": "3.8.8"
  }
 },
 "nbformat": 4,
 "nbformat_minor": 5
}
