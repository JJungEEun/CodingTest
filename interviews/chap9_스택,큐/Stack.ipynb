{
 "cells": [
  {
   "cell_type": "markdown",
   "id": "4d39023b",
   "metadata": {},
   "source": [
    "### Stack In Py"
   ]
  },
  {
   "cell_type": "code",
   "execution_count": 12,
   "id": "7d12361a",
   "metadata": {},
   "outputs": [
    {
     "name": "stdout",
     "output_type": "stream",
     "text": [
      "[1, 2, 3]\n"
     ]
    }
   ],
   "source": [
    "#스택 선언 using lsit\n",
    "stack = []\n",
    "\n",
    "#append\n",
    "stack.append(1)\n",
    "stack.append(2)\n",
    "stack.append(3)\n",
    "\n",
    "print(stack)"
   ]
  },
  {
   "cell_type": "code",
   "execution_count": 13,
   "id": "636b78f1",
   "metadata": {},
   "outputs": [
    {
     "name": "stdout",
     "output_type": "stream",
     "text": [
      "3\n",
      "2\n",
      "1\n",
      "[]\n"
     ]
    }
   ],
   "source": [
    "#pop\n",
    "print(stack.pop())\n",
    "print(stack.pop())\n",
    "print(stack.pop())\n",
    "\n",
    "print(stack)"
   ]
  },
  {
   "cell_type": "markdown",
   "id": "4f872989",
   "metadata": {},
   "source": [
    "### 연결 리스트를 이용한 스택 ADT 구현"
   ]
  },
  {
   "cell_type": "code",
   "execution_count": 4,
   "id": "acbcd325",
   "metadata": {},
   "outputs": [],
   "source": [
    "class Node:\n",
    "    def __init__(self, item, next):\n",
    "        self.item = item #노드의 값\n",
    "        self.next = next #다음 노드를 가르키는 포인터\n",
    "        \n",
    "class Stack:\n",
    "    def __init__(self):\n",
    "        self.last = None\n",
    "    \n",
    "    def push(self, item):\n",
    "        self.last = Node(item, self.last)\n",
    "        #연결 리스트에 요소를 추가\n",
    "        #가장 마지막 값 next로 지정\n",
    "        #포인터인 last는 가장 마지막으로 이동 \n",
    "        \n",
    "    def pop(self):\n",
    "        item = self.last.item\n",
    "        self.last = self.last.next\n",
    "        return item\n",
    "        #가장 마지막 아이템을 꺼내옴\n",
    "        # last 포인터를 한 칸 앞으로 전진, 이전 추가된 값을 가르키게 함"
   ]
  },
  {
   "cell_type": "code",
   "execution_count": 8,
   "id": "68470b24",
   "metadata": {},
   "outputs": [],
   "source": [
    "stack = Stack()\n",
    "stack.push(1)\n",
    "stack.push(2)\n",
    "stack.push(3)\n",
    "stack.push(4)\n",
    "stack.push(5)"
   ]
  },
  {
   "cell_type": "markdown",
   "id": "980f8ce7",
   "metadata": {},
   "source": [
    "None <- 1 <- 2 <- 3 <- 4 <- 5"
   ]
  },
  {
   "cell_type": "code",
   "execution_count": 7,
   "id": "b1b7bf0d",
   "metadata": {},
   "outputs": [
    {
     "name": "stdout",
     "output_type": "stream",
     "text": [
      "5\n",
      "4\n",
      "3\n",
      "2\n",
      "1\n"
     ]
    }
   ],
   "source": [
    "for _ in range(5):\n",
    "    print(stack.pop())"
   ]
  }
 ],
 "metadata": {
  "kernelspec": {
   "display_name": "Python 3",
   "language": "python",
   "name": "python3"
  },
  "language_info": {
   "codemirror_mode": {
    "name": "ipython",
    "version": 3
   },
   "file_extension": ".py",
   "mimetype": "text/x-python",
   "name": "python",
   "nbconvert_exporter": "python",
   "pygments_lexer": "ipython3",
   "version": "3.8.8"
  }
 },
 "nbformat": 4,
 "nbformat_minor": 5
}
