{
 "cells": [
  {
   "cell_type": "code",
   "execution_count": 1,
   "id": "2763a536",
   "metadata": {},
   "outputs": [],
   "source": [
    "class MyQueue(object):\n",
    "\n",
    "    def __init__(self):\n",
    "        self.q1 = []\n",
    "        self.q2 = []\n",
    "\n",
    "    def push(self, x):\n",
    "        \"\"\"\n",
    "        :type x: int\n",
    "        :rtype: None\n",
    "        \"\"\"\n",
    "        self.q1.append(x)\n",
    "        \n",
    "\n",
    "    def pop(self):\n",
    "        self.peek()\n",
    "        return self.q2.pop()\n",
    "\n",
    "    def peek(self):\n",
    "        if not self.q2:\n",
    "            while self.q1:\n",
    "                self.q2.append(self.q1.pop())\n",
    "        return self.q2[-1]\n",
    "\n",
    "    def empty(self):\n",
    "        return len(self.q1)==0 and len(self.q2)==0\n",
    "    "
   ]
  },
  {
   "cell_type": "code",
   "execution_count": null,
   "id": "1fd1fa9d",
   "metadata": {},
   "outputs": [],
   "source": []
  }
 ],
 "metadata": {
  "kernelspec": {
   "display_name": "Python 3",
   "language": "python",
   "name": "python3"
  },
  "language_info": {
   "codemirror_mode": {
    "name": "ipython",
    "version": 3
   },
   "file_extension": ".py",
   "mimetype": "text/x-python",
   "name": "python",
   "nbconvert_exporter": "python",
   "pygments_lexer": "ipython3",
   "version": "3.8.8"
  }
 },
 "nbformat": 4,
 "nbformat_minor": 5
}
