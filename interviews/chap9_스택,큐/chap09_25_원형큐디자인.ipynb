{
 "cells": [
  {
   "cell_type": "code",
   "execution_count": 1,
   "id": "7f7e6362",
   "metadata": {},
   "outputs": [],
   "source": [
    "class MyCircularQueue(object):\n",
    "\n",
    "    def __init__(self, k):\n",
    "        self.q = [None] * k\n",
    "        self.maxlen = k\n",
    "        self.front = 0\n",
    "        self.rear = 0\n",
    "\n",
    "    def enQueue(self, value):\n",
    "        if self.isFull():\n",
    "            return False\n",
    "        else:\n",
    "            self.q[self.rear] = value\n",
    "            self.rear = (self.rear + 1) % self.maxlen\n",
    "            return True\n",
    "            \n",
    "            \n",
    "    def deQueue(self):\n",
    "        if self.isEmpty():\n",
    "            return False\n",
    "        else:\n",
    "            self.q[self.front] = None\n",
    "            self.front = (self.front+1) % self.maxlen\n",
    "            return True\n",
    "        \n",
    "\n",
    "    def Front(self):\n",
    "        if self.isEmpty():\n",
    "            return -1\n",
    "        else:\n",
    "            return self.q[self.front]\n",
    "        \n",
    "\n",
    "    def Rear(self):\n",
    "        if self.isEmpty():\n",
    "            return -1\n",
    "        else:\n",
    "            return self.q[self.rear-1]\n",
    "\n",
    "    def isEmpty(self):\n",
    "        return self.front == self.rear and self.q[self.front] is None\n",
    "\n",
    "    def isFull(self):\n",
    "        return self.front == self.rear and self.q[self.front] is not None"
   ]
  },
  {
   "cell_type": "code",
   "execution_count": null,
   "id": "25c9ca22",
   "metadata": {},
   "outputs": [],
   "source": []
  }
 ],
 "metadata": {
  "kernelspec": {
   "display_name": "Python 3",
   "language": "python",
   "name": "python3"
  },
  "language_info": {
   "codemirror_mode": {
    "name": "ipython",
    "version": 3
   },
   "file_extension": ".py",
   "mimetype": "text/x-python",
   "name": "python",
   "nbconvert_exporter": "python",
   "pygments_lexer": "ipython3",
   "version": "3.8.8"
  }
 },
 "nbformat": 4,
 "nbformat_minor": 5
}
