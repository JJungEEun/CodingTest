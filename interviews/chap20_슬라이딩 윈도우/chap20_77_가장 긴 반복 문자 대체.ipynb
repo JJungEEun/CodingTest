{
 "cells": [
  {
   "cell_type": "markdown",
   "id": "f89ce111",
   "metadata": {},
   "source": [
    "### 77. 가장 긴 반복 문자 대체 / 424. Longest Repeating Character Replacement"
   ]
  },
  {
   "cell_type": "markdown",
   "id": "e68a1421",
   "metadata": {},
   "source": [
    "---"
   ]
  },
  {
   "cell_type": "markdown",
   "id": "cd373070",
   "metadata": {},
   "source": [
    "##### Solution 01"
   ]
  },
  {
   "cell_type": "code",
   "execution_count": 4,
   "id": "92d12f3a",
   "metadata": {},
   "outputs": [],
   "source": [
    "import collections \n",
    "\n",
    "def characterReplacement(s, k):\n",
    "\n",
    "    left = right = 0\n",
    "    cnts = collections.Counter()\n",
    "    for right in range(1, len(s)+1):\n",
    "        cnts[s[right-1]] += 1\n",
    "\n",
    "        max_char = cnts.most_common(1)[0][1] #left - right까지 등장한 문자들 중 가장 큰 비중을 차지하고 있는 문자의 개수\n",
    "\n",
    "        remain = right - left - max_char #바꿔야할 문자의 수\n",
    "        # AAABBC\n",
    "        # ↑   ↑\n",
    "        # remain = 5 - 0 - 3 = 2\n",
    "\n",
    "        #바꿔야할 문자 > 바꿀 수 있는 문자: left를 증가 시켜 윈도우 크기 줄이기\n",
    "        if remain > k:\n",
    "            cnts[s[left]] -= 1\n",
    "            left += 1\n",
    "\n",
    "    return right - left"
   ]
  },
  {
   "cell_type": "code",
   "execution_count": 5,
   "id": "49b738a1",
   "metadata": {},
   "outputs": [
    {
     "data": {
      "text/plain": [
       "4"
      ]
     },
     "execution_count": 5,
     "metadata": {},
     "output_type": "execute_result"
    }
   ],
   "source": [
    "s = \"ABAB\"\n",
    "k = 2\n",
    "\n",
    "characterReplacement(s, k)"
   ]
  },
  {
   "cell_type": "markdown",
   "id": "2bad7b34",
   "metadata": {},
   "source": [
    "Runtime: 546 ms, faster than 5.04% of Python online submissions for Longest Repeating Character Replacement.\n",
    "Memory Usage: 14.1 MB, less than 11.57% of Python online submissions for Longest Repeating Character Replacement."
   ]
  },
  {
   "cell_type": "markdown",
   "id": "37c1f0e0",
   "metadata": {},
   "source": [
    "##### Solution 02"
   ]
  },
  {
   "cell_type": "code",
   "execution_count": 6,
   "id": "b529f82a",
   "metadata": {},
   "outputs": [],
   "source": [
    "def characterReplacement(s, k):\n",
    "        max_count = 0\n",
    "        max_length = 0\n",
    "        \n",
    "        counter = collections.Counter()\n",
    "        for i, ch in enumerate(s):\n",
    "            counter[ch] += 1\n",
    "            max_count = max(max_count, counter[ch])\n",
    "            \n",
    "            length = max_count + k\n",
    "            if max_length < length:\n",
    "                max_length += 1\n",
    "            else:\n",
    "                counter[s[i-max_length]] -=1\n",
    "        return max_length"
   ]
  },
  {
   "cell_type": "code",
   "execution_count": 7,
   "id": "14061c19",
   "metadata": {},
   "outputs": [
    {
     "data": {
      "text/plain": [
       "4"
      ]
     },
     "execution_count": 7,
     "metadata": {},
     "output_type": "execute_result"
    }
   ],
   "source": [
    "s = \"ABAB\"\n",
    "k = 2\n",
    "\n",
    "characterReplacement(s, k)"
   ]
  },
  {
   "cell_type": "markdown",
   "id": "e21a9ceb",
   "metadata": {},
   "source": [
    "Runtime: 115 ms, faster than 66.70% of Python online submissions for Longest Repeating Character Replacement.\n",
    "Memory Usage: 13.7 MB, less than 83.48% of Python online submissions for Longest Repeating Character Replacement."
   ]
  }
 ],
 "metadata": {
  "kernelspec": {
   "display_name": "Python 3",
   "language": "python",
   "name": "python3"
  },
  "language_info": {
   "codemirror_mode": {
    "name": "ipython",
    "version": 3
   },
   "file_extension": ".py",
   "mimetype": "text/x-python",
   "name": "python",
   "nbconvert_exporter": "python",
   "pygments_lexer": "ipython3",
   "version": "3.8.8"
  }
 },
 "nbformat": 4,
 "nbformat_minor": 5
}
