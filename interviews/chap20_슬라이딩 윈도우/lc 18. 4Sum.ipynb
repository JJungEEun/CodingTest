{
 "cells": [
  {
   "cell_type": "markdown",
   "id": "f0e5ecb1",
   "metadata": {},
   "source": [
    "### 18. 4Sum\n",
    "\n",
    "Share\n",
    "Given an array nums of n integers, return an array of all the unique quadruplets [nums[a], nums[b], nums[c], nums[d]] such that:\n",
    "\n",
    "- 0 <= a, b, c, d < n\n",
    "- a, b, c, and d are distinct.\n",
    "- nums[a] + nums[b] + nums[c] + nums[d] == target\n",
    "- You may return the answer in any order.\n",
    "\n",
    " "
   ]
  },
  {
   "cell_type": "code",
   "execution_count": null,
   "id": "cb6fec82",
   "metadata": {},
   "outputs": [],
   "source": [
    "class Solution(object):\n",
    "        def fourSum(self, nums, target):\n",
    "            res = []\n",
    "            nums.sort()\n",
    "            \n",
    "            for idx, num in enumerate(nums):\n",
    "                if idx > 0 and num == nums[idx-1]: # 중복값 건너뛰기\n",
    "                    continue\n",
    "                \n",
    "                left1, right = idx+1, len(nums)-1\n",
    "                while left1 < right:\n",
    "                    left2, right = left1+1, len(nums)-1\n",
    "                    while left2 < right:\n",
    "                        four_sum = num + nums[left1] + nums[left2] + nums[right]\n",
    "\n",
    "                        if four_sum > target:\n",
    "                            right -=1\n",
    "                        elif four_sum < target:\n",
    "                            left2 += 1\n",
    "                        else:\n",
    "                            res.append([num, nums[left1], nums[left2], nums[right]])\n",
    "                            left2 += 1\n",
    "\n",
    "                            while nums[left2] == nums[left2-1] and left2 < right:\n",
    "                                left2 += 1\n",
    "                                \n",
    "                    left1+=1\n",
    "                    while nums[left1] == nums[left1-1] and left1<right:\n",
    "                        left1+=1\n",
    "            return res\n",
    "        \n",
    "        \n",
    "        \n",
    "        \n",
    "        "
   ]
  },
  {
   "cell_type": "code",
   "execution_count": null,
   "id": "2e40d3f0",
   "metadata": {},
   "outputs": [],
   "source": []
  }
 ],
 "metadata": {
  "kernelspec": {
   "display_name": "Python 3",
   "language": "python",
   "name": "python3"
  },
  "language_info": {
   "codemirror_mode": {
    "name": "ipython",
    "version": 3
   },
   "file_extension": ".py",
   "mimetype": "text/x-python",
   "name": "python",
   "nbconvert_exporter": "python",
   "pygments_lexer": "ipython3",
   "version": "3.8.8"
  }
 },
 "nbformat": 4,
 "nbformat_minor": 5
}
