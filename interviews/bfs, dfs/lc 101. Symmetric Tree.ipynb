{
 "cells": [
  {
   "cell_type": "markdown",
   "id": "a3a6253c",
   "metadata": {},
   "source": [
    "### lc 101. Symmetric Tree\n",
    "---\n",
    "Given the root of a binary tree, check whether it is a mirror of itself (i.e., symmetric around its center).\n",
    "\n",
    "    Input: root = [1,2,2,3,4,4,3]\n",
    "    Output: true\n",
    "    \n",
    "    Input: root = [1,2,2,null,3,null,3]\n",
    "    Output: false"
   ]
  },
  {
   "cell_type": "markdown",
   "id": "2bc45a7c",
   "metadata": {},
   "source": [
    "#### Solution 01"
   ]
  },
  {
   "cell_type": "code",
   "execution_count": 2,
   "id": "0ca40bf8",
   "metadata": {},
   "outputs": [],
   "source": [
    "class Solution(object):\n",
    "    def isSymmetric(self, root):\n",
    "        \"\"\"\n",
    "        :type root: TreeNode\n",
    "        :rtype: bool\n",
    "        \"\"\"\n",
    "        \n",
    "        def dfs(p, q):\n",
    "            if not p and not q:\n",
    "                return True\n",
    "            if not p or not q:\n",
    "                return False\n",
    "            if p and q:\n",
    "                return p.val == q.val and dfs(p.left, q.right) and dfs(p.right, q.left)\n",
    "            \n",
    "        return dfs(root, root)"
   ]
  },
  {
   "cell_type": "markdown",
   "id": "aa3e6616",
   "metadata": {},
   "source": [
    "Runtime: 38 ms, faster than 31.36% of Python online submissions for Symmetric Tree.\n",
    "Memory Usage: 13.9 MB, less than 5.13% of Python online submissions for Symmetric Tree."
   ]
  },
  {
   "cell_type": "markdown",
   "id": "580b6337",
   "metadata": {},
   "source": [
    "##### Solution 01'(Plus)"
   ]
  },
  {
   "cell_type": "code",
   "execution_count": 4,
   "id": "9642eab9",
   "metadata": {},
   "outputs": [],
   "source": [
    "class Solution(object):\n",
    "    def isSymmetric(self, root):\n",
    "        \"\"\"\n",
    "        :type root: TreeNode\n",
    "        :rtype: bool\n",
    "        \"\"\"\n",
    "        \n",
    "        def dfs(p, q):\n",
    "            if not p and not q:\n",
    "                return True\n",
    "            if not p or not q:\n",
    "                return False\n",
    "            if p and q:\n",
    "                return p.val == q.val and dfs(p.left, q.right) and dfs(p.right, q.left)\n",
    "            \n",
    "        return dfs(root.left, root.right) if root else True "
   ]
  },
  {
   "cell_type": "markdown",
   "id": "d7366a93",
   "metadata": {},
   "source": [
    "마지막 문장 하나로 메모리 사용이\n",
    "less than 5.13% -> less than 66.87%로 향상됨"
   ]
  },
  {
   "cell_type": "markdown",
   "id": "6edcc7f1",
   "metadata": {},
   "source": [
    "Runtime: 41 ms, faster than 22.95% of Python online submissions for Symmetric Tree.\n",
    "Memory Usage: 13.6 MB, less than 68.67% of Python online submissions for Symmetric Tree."
   ]
  }
 ],
 "metadata": {
  "kernelspec": {
   "display_name": "Python 3",
   "language": "python",
   "name": "python3"
  },
  "language_info": {
   "codemirror_mode": {
    "name": "ipython",
    "version": 3
   },
   "file_extension": ".py",
   "mimetype": "text/x-python",
   "name": "python",
   "nbconvert_exporter": "python",
   "pygments_lexer": "ipython3",
   "version": "3.8.8"
  }
 },
 "nbformat": 4,
 "nbformat_minor": 5
}
