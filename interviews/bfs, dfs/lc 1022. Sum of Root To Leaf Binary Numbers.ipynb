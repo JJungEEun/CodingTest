{
 "cells": [
  {
   "cell_type": "markdown",
   "id": "25600bab",
   "metadata": {},
   "source": [
    "## lc 1022. Sum of Root To Leaf Binary Numbers\n",
    "\n",
    "You are given the root of a binary tree where each node has a value 0 or 1. Each root-to-leaf path represents a binary number starting with the most significant bit.\n",
    "\n",
    "For example, if the path is 0 -> 1 -> 1 -> 0 -> 1, then this could represent 01101 in binary, which is 13.\n",
    "For all leaves in the tree, consider the numbers represented by the path from the root to that leaf. Return the sum of these numbers.\n",
    "\n",
    "The test cases are generated so that the answer fits in a 32-bits integer.\n",
    "\n",
    "#### Solution 01"
   ]
  },
  {
   "cell_type": "code",
   "execution_count": 4,
   "id": "d089fd81",
   "metadata": {},
   "outputs": [],
   "source": [
    "# Definition for a binary tree node.\n",
    "# class TreeNode(object):\n",
    "#     def __init__(self, val=0, left=None, right=None):\n",
    "#         self.val = val\n",
    "#         self.left = left\n",
    "#         self.right = right\n",
    "class Solution(object):\n",
    "    def sumRootToLeaf(self, root):\n",
    "        \"\"\"\n",
    "        :type root: TreeNode\n",
    "        :rtype: int\n",
    "        \"\"\"\n",
    "        \n",
    "        \n",
    "        # 각 노드의 값이 0 또는 1인 이진 트리\n",
    "        # 각 루트-잎 경로는 최상위 비트로 시작하는 이진수를 의미 \n",
    "        # 이 숫자의 합계를 return \n",
    "        \n",
    "        \n",
    "        stack = []\n",
    "        def dfs(root, s):\n",
    "            \n",
    "            if not root:\n",
    "                return \n",
    "            \n",
    "            val = str(root.val)\n",
    "            \n",
    "            if not root.left and not root.right:\n",
    "                stack.append(int(s+val, 2)) #2진수 숫자\n",
    "                return\n",
    "            \n",
    "            dfs(root.left, s+val) \n",
    "            dfs(root.right, s+val) \n",
    "\n",
    "        dfs(root, \"\")\n",
    "        return(sum(stack)) "
   ]
  },
  {
   "cell_type": "markdown",
   "id": "ac7ea2e8",
   "metadata": {},
   "source": [
    "Runtime: 21 ms, faster than 98.05% of Python online submissions for Sum of Root To Leaf Binary Numbers.\n",
    "Memory Usage: 14.1 MB, less than 37.66% of Python online submissions for Sum of Root To Leaf Binary Numbers."
   ]
  },
  {
   "cell_type": "markdown",
   "id": "91310ff1",
   "metadata": {},
   "source": [
    "#### Solution 02"
   ]
  },
  {
   "cell_type": "code",
   "execution_count": 5,
   "id": "07ff1e48",
   "metadata": {},
   "outputs": [],
   "source": [
    "class Solution(object):\n",
    "    def sumRootToLeaf(self, root, val=0):\n",
    "        \"\"\"\n",
    "        :type root: TreeNode\n",
    "        :rtype: int\n",
    "        \"\"\"\n",
    "        \n",
    "        \n",
    "        # 각 노드의 값이 0 또는 1인 이진 트리\n",
    "        # 각 루트-잎 경로는 최상위 비트로 시작하는 이진수를 의미 \n",
    "        # 이 숫자의 합계를 return \n",
    "        \n",
    "        \n",
    "        if not root: return 0\n",
    "        val = val * 2 + root.val\n",
    "        \n",
    "        if root.left == root.right: return val\n",
    "        \n",
    "        return self.sumRootToLeaf(root.left, val) + self.sumRootToLeaf(root.right, val)\n",
    "        \n",
    "        "
   ]
  },
  {
   "cell_type": "markdown",
   "id": "e0aed4d9",
   "metadata": {},
   "source": [
    "Runtime: 35 ms, faster than 62.99% of Python online submissions for Sum of Root To Leaf Binary Numbers.\n",
    "Memory Usage: 14 MB, less than 57.79% of Python online submissions for Sum of Root To Leaf Binary Numbers."
   ]
  }
 ],
 "metadata": {
  "kernelspec": {
   "display_name": "Python 3",
   "language": "python",
   "name": "python3"
  },
  "language_info": {
   "codemirror_mode": {
    "name": "ipython",
    "version": 3
   },
   "file_extension": ".py",
   "mimetype": "text/x-python",
   "name": "python",
   "nbconvert_exporter": "python",
   "pygments_lexer": "ipython3",
   "version": "3.8.8"
  }
 },
 "nbformat": 4,
 "nbformat_minor": 5
}
