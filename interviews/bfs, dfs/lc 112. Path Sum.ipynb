{
 "cells": [
  {
   "cell_type": "markdown",
   "id": "fe790f2e",
   "metadata": {},
   "source": [
    "### lc 112. Path Sum\n",
    "---\n",
    "\n",
    "Given the root of a binary tree and an integer targetSum, return true if the tree has a root-to-leaf path such that adding up all the values along the path equals targetSum.\n",
    "\n",
    "A leaf is a node with no children.\n",
    "\n",
    "    Input: root = [5,4,8,11,null,13,4,7,2,null,null,null,1], targetSum = 22\n",
    "    Output: true\n",
    "    Explanation: The root-to-leaf path with the target sum is shown.\n",
    "\n",
    "\n",
    "    Input: root = [1,2,3], targetSum = 5\n",
    "    Output: false\n",
    "    Explanation: There two root-to-leaf paths in the tree:\n",
    "    (1 --> 2): The sum is 3.\n",
    "    (1 --> 3): The sum is 4.\n",
    "    There is no root-to-leaf path with sum = 5."
   ]
  },
  {
   "cell_type": "markdown",
   "id": "38ce56a8",
   "metadata": {},
   "source": [
    "### Solution 01"
   ]
  },
  {
   "cell_type": "code",
   "execution_count": 1,
   "id": "e02c0b19",
   "metadata": {},
   "outputs": [],
   "source": [
    "class Solution(object):\n",
    "    def hasPathSum(self, root, targetSum):\n",
    "        \"\"\"\n",
    "        :type root: TreeNode\n",
    "        :type targetSum: int\n",
    "        :rtype: bool\n",
    "        \"\"\"\n",
    "        \n",
    "        if not root:\n",
    "            return False\n",
    "        \n",
    "        if not root.left and not root.right and root.val == targetSum:\n",
    "            return True\n",
    "        \n",
    "        targetSum -= root.val\n",
    "        \n",
    "        return self.hasPathSum(root.left, targetSum) or self.hasPathSum(root.right, targetSum)"
   ]
  },
  {
   "cell_type": "markdown",
   "id": "2c4d020f",
   "metadata": {},
   "source": [
    "Runtime: 45 ms, faster than 55.49% of Python online submissions for Path Sum.\n",
    "Memory Usage: 15.2 MB, less than 90.15% of Python online submissions for Path Sum."
   ]
  },
  {
   "cell_type": "markdown",
   "id": "723b5d7e",
   "metadata": {},
   "source": [
    "### Solution 02"
   ]
  },
  {
   "cell_type": "code",
   "execution_count": 2,
   "id": "550d24de",
   "metadata": {},
   "outputs": [],
   "source": [
    "class Solution(object):\n",
    "    def hasPathSum(self, root, targetSum):\n",
    "        \"\"\"\n",
    "        :type root: TreeNode\n",
    "        :type targetSum: int\n",
    "        :rtype: bool\n",
    "        \"\"\"\n",
    "        \n",
    "        if not root:\n",
    "            return False\n",
    "        else:\n",
    "            next_tS = targetSum - root.val #next targetSum\n",
    "            if (next_tS==0 and not root.left and not root.right):\n",
    "                return True\n",
    "            else:\n",
    "                return self.hasPathSum(root.left, next_tS) or self.hasPathSum(root.right, next_tS)"
   ]
  },
  {
   "cell_type": "markdown",
   "id": "f5629a40",
   "metadata": {},
   "source": [
    "Runtime: 56 ms, faster than 25.17% of Python online submissions for Path Sum.\n",
    "Memory Usage: 15.2 MB, less than 90.15% of Python online submissions for Path Sum."
   ]
  },
  {
   "cell_type": "markdown",
   "id": "53530ee8",
   "metadata": {},
   "source": [
    "미세하지만 메모리 사용량을 줄일 수 있음"
   ]
  }
 ],
 "metadata": {
  "kernelspec": {
   "display_name": "Python 3",
   "language": "python",
   "name": "python3"
  },
  "language_info": {
   "codemirror_mode": {
    "name": "ipython",
    "version": 3
   },
   "file_extension": ".py",
   "mimetype": "text/x-python",
   "name": "python",
   "nbconvert_exporter": "python",
   "pygments_lexer": "ipython3",
   "version": "3.8.8"
  }
 },
 "nbformat": 4,
 "nbformat_minor": 5
}
