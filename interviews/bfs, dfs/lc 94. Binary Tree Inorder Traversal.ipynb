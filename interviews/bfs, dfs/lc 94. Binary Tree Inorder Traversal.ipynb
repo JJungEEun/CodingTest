{
 "cells": [
  {
   "cell_type": "markdown",
   "id": "7dee799b",
   "metadata": {},
   "source": [
    "### lc 94. Binary Tree Inorder Traversal\n",
    "---\n",
    "Given the root of a binary tree, return the inorder traversal of its nodes' values.\n",
    "\n",
    "```\n",
    "Input: root = [1,null,2,3]\n",
    "Output: [1,3,2]\n",
    "```"
   ]
  },
  {
   "cell_type": "markdown",
   "id": "7625c256",
   "metadata": {},
   "source": [
    "#### Solution 01"
   ]
  },
  {
   "cell_type": "code",
   "execution_count": 1,
   "id": "44e8d5f0",
   "metadata": {},
   "outputs": [],
   "source": [
    "class Solution(object):\n",
    "    def inorderTraversal(self, root):\n",
    "        \"\"\"\n",
    "        :type root: TreeNode\n",
    "        :rtype: List[int]\n",
    "        \"\"\"\n",
    "        \n",
    "        reuslt = [] #빈 배열\n",
    "        \n",
    "        def dfs(node):\n",
    "            if node is not None:\n",
    "                dfs(node.left) #왼쪽 탐색\n",
    "                reuslt.append(node.val) \n",
    "                dfs(node.right) #오른쪽 탐색\n",
    "            \n",
    "        dfs(root)\n",
    "        return reuslt"
   ]
  },
  {
   "cell_type": "markdown",
   "id": "6b30971c",
   "metadata": {},
   "source": [
    "Runtime: 13 ms, faster than 96.06% of Python online submissions for Binary Tree Inorder Traversal.\n",
    "Memory Usage: 13.4 MB, less than 73.59% of Python online submissions for Binary Tree Inorder Traversal."
   ]
  },
  {
   "cell_type": "markdown",
   "id": "d0db90b4",
   "metadata": {},
   "source": [
    "#### Solution 02"
   ]
  },
  {
   "cell_type": "code",
   "execution_count": 2,
   "id": "b6a06ef2",
   "metadata": {},
   "outputs": [],
   "source": [
    "class Solution(object):\n",
    "    def inorderTraversal(self, root):\n",
    "        \"\"\"\n",
    "        :type root: TreeNode\n",
    "        :rtype: List[int]\n",
    "        \"\"\"\n",
    "        \n",
    "        result = []\n",
    "        if root is None:\n",
    "            return result\n",
    "        \n",
    "        if root.left is not None:\n",
    "            result = self.inorderTraversal(root.left)\n",
    "        \n",
    "        result.append(root.val)\n",
    "        \n",
    "        if root.right is not None:\n",
    "            result.extend(self.inorderTraversal(root.right))\n",
    "            \n",
    "        return result"
   ]
  },
  {
   "cell_type": "markdown",
   "id": "aaa864ee",
   "metadata": {},
   "source": [
    "Runtime: 19 ms, faster than 81.99% of Python online submissions for Binary Tree Inorder Traversal.\n",
    "Memory Usage: 13.3 MB, less than 73.59% of Python online submissions for Binary Tree Inorder Traversal."
   ]
  },
  {
   "cell_type": "markdown",
   "id": "26317afa",
   "metadata": {},
   "source": [
    "#### Solution 03"
   ]
  },
  {
   "cell_type": "code",
   "execution_count": 3,
   "id": "5d1b7ecd",
   "metadata": {},
   "outputs": [],
   "source": [
    "class Solution(object):\n",
    "    def inorderTraversal(self, root):\n",
    "        \"\"\"\n",
    "        :type root: TreeNode\n",
    "        :rtype: List[int]\n",
    "        \"\"\"\n",
    "        \n",
    "        return  self.inorderTraversal(root.left) + [root.val] + self.inorderTraversal(root.right) if root else []"
   ]
  },
  {
   "cell_type": "markdown",
   "id": "04ec165d",
   "metadata": {},
   "source": [
    "Runtime: 19 ms, faster than 81.99% of Python online submissions for Binary Tree Inorder Traversal.\n",
    "Memory Usage: 13.3 MB, less than 73.59% of Python online submissions for Binary Tree Inorder Traversal."
   ]
  }
 ],
 "metadata": {
  "kernelspec": {
   "display_name": "Python 3",
   "language": "python",
   "name": "python3"
  },
  "language_info": {
   "codemirror_mode": {
    "name": "ipython",
    "version": 3
   },
   "file_extension": ".py",
   "mimetype": "text/x-python",
   "name": "python",
   "nbconvert_exporter": "python",
   "pygments_lexer": "ipython3",
   "version": "3.8.8"
  }
 },
 "nbformat": 4,
 "nbformat_minor": 5
}
