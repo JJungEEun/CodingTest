{
 "cells": [
  {
   "cell_type": "markdown",
   "id": "55453679",
   "metadata": {},
   "source": [
    "### 2331. Evaluate Boolean Binary Tree\n",
    "- Easy\n",
    "\n",
    "---\n",
    "\n",
    "You are given the root of a full binary tree with the following properties:\n",
    "\n",
    "- **Leaf nodes** have either the value 0 or 1, where 0 represents False and 1 represents True.\n",
    "- **Non-leaf nodes** have either the value 2 or 3, where 2 represents the boolean OR and 3 represents the boolean AND.\n",
    "\n",
    "The **evaluation** of a node is as follows:\n",
    "\n",
    "- If the node is a leaf node, the evaluation is the **value** of the node, i.e. True or False.\n",
    "- Otherwise, **evaluate** the node's two children and **apply** the boolean operation of its value with the children's evaluations.\n",
    "\n",
    "Return the boolean result of **evaluating** the root node.\n",
    "\n",
    "**A full binary tree** is a binary tree where each node has either 0 or 2 children.\n",
    "\n",
    "**A leaf node** is a node that has zero children.\n",
    "\n",
    "    Input: root = [2,1,3,null,null,0,1]\n",
    "    Output: true\n",
    "    Explanation: The above diagram illustrates the evaluation process.\n",
    "    The AND node evaluates to False AND True = False.\n",
    "    The OR node evaluates to True OR False = True.\n",
    "    The root node evaluates to True, so we return true.\n",
    "    \n",
    "    \n",
    "    Input: root = [0]\n",
    "    Output: false\n",
    "    Explanation: The root node is a leaf node and it evaluates to false, so we return false."
   ]
  },
  {
   "cell_type": "markdown",
   "id": "e9c3d11a",
   "metadata": {},
   "source": [
    "### Solution 01"
   ]
  },
  {
   "cell_type": "code",
   "execution_count": 1,
   "id": "94bc55ae",
   "metadata": {},
   "outputs": [],
   "source": [
    "class Solution(object):\n",
    "    def evaluateTree(self, root):\n",
    "        \n",
    "        if not root.left:\n",
    "            return root.val\n",
    "        \n",
    "        x = self.evaluateTree(root.left)\n",
    "        y = self.evaluateTree(root.right)\n",
    "        \n",
    "        return x or y if root.val ==2 else x and y"
   ]
  },
  {
   "cell_type": "markdown",
   "id": "288b381c",
   "metadata": {},
   "source": [
    "Runtime: 68 ms, faster than 48.47% of Python online submissions for Evaluate Boolean Binary Tree.\n",
    "Memory Usage: 14.2 MB, less than 55.59% of Python online submissions for Evaluate Boolean Binary Tree."
   ]
  },
  {
   "cell_type": "markdown",
   "id": "47cabb43",
   "metadata": {},
   "source": [
    "### Solution 02"
   ]
  },
  {
   "cell_type": "code",
   "execution_count": null,
   "id": "881a04bb",
   "metadata": {},
   "outputs": [],
   "source": [
    "class Solution(object):\n",
    "    def evaluateTree(self, root):\n",
    "        \n",
    "        if not root.left and not root.right:\n",
    "            return root.val\n",
    "        if root.val == 2:\n",
    "            return self.evaluateTree(root.left) or self.evaluateTree(root.right)\n",
    "        else:\n",
    "            return self.evaluateTree(root.left) and self.evaluateTree(root.right)"
   ]
  },
  {
   "cell_type": "markdown",
   "id": "17dab135",
   "metadata": {},
   "source": [
    "Runtime: 47 ms, faster than 85.76% of Python online submissions for Evaluate Boolean Binary Tree.\n",
    "Memory Usage: 14.4 MB, less than 31.86% of Python online submissions for Evaluate Boolean Binary Tree."
   ]
  },
  {
   "cell_type": "code",
   "execution_count": null,
   "id": "5df95eab",
   "metadata": {},
   "outputs": [],
   "source": []
  }
 ],
 "metadata": {
  "kernelspec": {
   "display_name": "Python 3",
   "language": "python",
   "name": "python3"
  },
  "language_info": {
   "codemirror_mode": {
    "name": "ipython",
    "version": 3
   },
   "file_extension": ".py",
   "mimetype": "text/x-python",
   "name": "python",
   "nbconvert_exporter": "python",
   "pygments_lexer": "ipython3",
   "version": "3.8.8"
  }
 },
 "nbformat": 4,
 "nbformat_minor": 5
}
