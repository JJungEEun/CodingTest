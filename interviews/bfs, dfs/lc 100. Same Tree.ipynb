{
 "cells": [
  {
   "cell_type": "markdown",
   "id": "fa355456",
   "metadata": {},
   "source": [
    "### lc 100. Same Tree\n",
    "---\n",
    "\n",
    "Given the roots of two binary trees p and q, write a function to check if they are the same or not.\n",
    "Two binary trees are considered the same if they are structurally identical, and the nodes have the same value.\n",
    "\n",
    "    Input: p = [1,2,3], q = [1,2,3]\n",
    "    Output: true\n",
    "    \n",
    "    Input: p = [1,2], q = [1,null,2]\n",
    "    Output: false\n",
    "    \n",
    "    Input: p = [1,2,1], q = [1,1,2]\n",
    "    Output: false"
   ]
  },
  {
   "cell_type": "markdown",
   "id": "b11d0fae",
   "metadata": {},
   "source": [
    "#### Solution 01"
   ]
  },
  {
   "cell_type": "code",
   "execution_count": 1,
   "id": "1d3131e9",
   "metadata": {},
   "outputs": [],
   "source": [
    "class Solution(object):\n",
    "    def isSameTree(self, p, q):\n",
    "        \n",
    "        if not p and not q:\n",
    "            return True\n",
    "        elif not p or not q:\n",
    "            return False\n",
    "        else:\n",
    "            return p.val == q.val and self.isSameTree(p.left, q.left) and self.isSameTree(p.right, q.right)"
   ]
  },
  {
   "cell_type": "markdown",
   "id": "bf3e804c",
   "metadata": {},
   "source": [
    "Runtime: 22 ms, faster than 69.55% of Python online submissions for Same Tree.\n",
    "Memory Usage: 13.7 MB, less than 13.52% of Python online submissions for Same Tree."
   ]
  }
 ],
 "metadata": {
  "kernelspec": {
   "display_name": "Python 3",
   "language": "python",
   "name": "python3"
  },
  "language_info": {
   "codemirror_mode": {
    "name": "ipython",
    "version": 3
   },
   "file_extension": ".py",
   "mimetype": "text/x-python",
   "name": "python",
   "nbconvert_exporter": "python",
   "pygments_lexer": "ipython3",
   "version": "3.8.8"
  }
 },
 "nbformat": 4,
 "nbformat_minor": 5
}
