{
 "cells": [
  {
   "cell_type": "markdown",
   "id": "ef429736",
   "metadata": {},
   "source": [
    "## lc 226. Invert Binary Tree\n",
    "---\n",
    "\n",
    "Given the root of a binary tree, invert the tree, and return its root.\n",
    "\n",
    "    Input: root = [4,2,7,1,3,6,9]\n",
    "    Output: [4,7,2,9,6,3,1]\n",
    "    \n",
    "    Input: root = [2,1,3]\n",
    "    Output: [2,3,1]"
   ]
  },
  {
   "cell_type": "markdown",
   "id": "57d99fa3",
   "metadata": {},
   "source": [
    "### Solution 01"
   ]
  },
  {
   "cell_type": "code",
   "execution_count": 4,
   "id": "11e6b5b9",
   "metadata": {},
   "outputs": [],
   "source": [
    "class Solution(object):\n",
    "    def invertTree(self, root):\n",
    "        \"\"\"\n",
    "        :type root: TreeNode\n",
    "        :rtype: TreeNode\n",
    "        \"\"\"\n",
    "        \n",
    "        if root:\n",
    "            root.left, root.right = self.invertTree(root.right), self.invertTree(root.left)\n",
    "        \n",
    "        return root\n",
    "        "
   ]
  },
  {
   "cell_type": "markdown",
   "id": "522a011a",
   "metadata": {},
   "source": [
    "Runtime: 31 ms, faster than 35.02% of Python online submissions for Invert Binary Tree.\n",
    "Memory Usage: 13.2 MB, less than 98.86% of Python online submissions for Invert Binary Tree."
   ]
  },
  {
   "cell_type": "markdown",
   "id": "e130e3d4",
   "metadata": {},
   "source": [
    "### Solution 02"
   ]
  },
  {
   "cell_type": "code",
   "execution_count": 6,
   "id": "84e1fc17",
   "metadata": {},
   "outputs": [],
   "source": [
    "class Solution(object):\n",
    "    def invertTree(self, root):\n",
    "        \"\"\"\n",
    "        :type root: TreeNode\n",
    "        :rtype: TreeNode\n",
    "        \"\"\"\n",
    "        \n",
    "        if not root:\n",
    "            return None\n",
    "        \n",
    "        root.left, root.right = root.right, root.left\n",
    "        self.invertTree(root.left)\n",
    "        self.invertTree(root.right)\n",
    "        \n",
    "        return root     "
   ]
  }
 ],
 "metadata": {
  "kernelspec": {
   "display_name": "Python 3",
   "language": "python",
   "name": "python3"
  },
  "language_info": {
   "codemirror_mode": {
    "name": "ipython",
    "version": 3
   },
   "file_extension": ".py",
   "mimetype": "text/x-python",
   "name": "python",
   "nbconvert_exporter": "python",
   "pygments_lexer": "ipython3",
   "version": "3.8.8"
  }
 },
 "nbformat": 4,
 "nbformat_minor": 5
}
