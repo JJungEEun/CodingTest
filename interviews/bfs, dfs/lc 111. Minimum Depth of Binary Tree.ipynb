{
 "cells": [
  {
   "cell_type": "markdown",
   "id": "3d871680",
   "metadata": {},
   "source": [
    "### lc 111. Minimum Depth of Binary Tree\n",
    "---\n",
    "Given a binary tree, find its minimum depth.\n",
    "\n",
    "The minimum depth is the number of nodes along the shortest path from the root node down to the nearest leaf node.\n",
    "\n",
    "**Note**: A leaf is a node with no children.\n",
    "\n",
    "    Input: root = [3,9,20,null,null,15,7]\n",
    "    Output: 2\n",
    "\n",
    "    Input: root = [2,null,3,null,4,null,5,null,6]\n",
    "    Output: 5"
   ]
  },
  {
   "cell_type": "markdown",
   "id": "8879cf80",
   "metadata": {},
   "source": [
    "## Solution 01"
   ]
  },
  {
   "cell_type": "code",
   "execution_count": 1,
   "id": "e094de5e",
   "metadata": {},
   "outputs": [],
   "source": [
    "class Solution(object):\n",
    "    def minDepth(self, root):\n",
    "        \"\"\"\n",
    "        :type root: TreeNode\n",
    "        :rtype: int\n",
    "        \"\"\"\n",
    "        \n",
    "        if not root:\n",
    "            return 0\n",
    "        left = self.minDepth(root.left)\n",
    "        right = self.minDepth(root.right)\n",
    "        \n",
    "        return left + right + 1 if left == 0 or right ==0 else min(left, right) + 1        "
   ]
  },
  {
   "cell_type": "markdown",
   "id": "16b7759b",
   "metadata": {},
   "source": [
    "Runtime: 1222 ms, faster than 41.35% of Python online submissions for Minimum Depth of Binary Tree.\n",
    "Memory Usage: 94.7 MB, less than 55.36% of Python online submissions for Minimum Depth of Binary Tree."
   ]
  },
  {
   "cell_type": "markdown",
   "id": "bd6e0185",
   "metadata": {},
   "source": [
    "- 양쪽 트리 모두 자식이 있는 경우: 왼쪽 서브 트리의 깊이와 오른쪽 서브 트리의 깊이를 각각 구한 뒤 최소값 return\n",
    "- 한쪽 트리만 자식이 있는 경우: 합을 구함! (한쪽만 계속 내려갈 수도 있으니까)"
   ]
  },
  {
   "cell_type": "markdown",
   "id": "a0f970ff",
   "metadata": {},
   "source": [
    "## solution 02"
   ]
  },
  {
   "cell_type": "code",
   "execution_count": 2,
   "id": "0e01cc36",
   "metadata": {},
   "outputs": [],
   "source": [
    "class Solution(object):\n",
    "    def minDepth(self, root):\n",
    "        \"\"\"\n",
    "        :type root: TreeNode\n",
    "        :rtype: int\n",
    "        \"\"\"\n",
    "        \n",
    "        if not root:\n",
    "            return 0\n",
    "        \n",
    "        q = [root]\n",
    "        cnt = 1\n",
    "        while(q):\n",
    "            for i in range(len(q)):\n",
    "                cur = q.pop(0) \n",
    "                if not cur:\n",
    "                    continue\n",
    "                if cur.left == None and cur.right == None: #현재 노드의 서브 트리가 없는 경우\n",
    "                    return cnt\n",
    "                q.append(cur.left) \n",
    "                q.append(cur.right)\n",
    "            cnt += 1\n",
    "            # q: [TreeNode{val: 9, left: None, right: None}, TreeNode{val: 20, left: TreeNode{val: 15, left: None, right: None}, right: TreeNode{val: 7, left: None, right: None}}]\n",
    "\n",
    "                \n",
    "        return cnt"
   ]
  },
  {
   "cell_type": "markdown",
   "id": "689f70d6",
   "metadata": {},
   "source": [
    "Runtime: 700 ms, faster than 96.93% of Python online submissions for Minimum Depth of Binary Tree.\n",
    "Memory Usage: 92.4 MB, less than 79.39% of Python online submissions for Minimum Depth of Binary Tree."
   ]
  },
  {
   "cell_type": "markdown",
   "id": "16e3aa32",
   "metadata": {},
   "source": [
    "- bfs로 풀이하는 것보다 속도, 메모리 측면에서 더 좋다 (?_"
   ]
  },
  {
   "cell_type": "code",
   "execution_count": null,
   "id": "51d43638",
   "metadata": {},
   "outputs": [],
   "source": []
  }
 ],
 "metadata": {
  "kernelspec": {
   "display_name": "Python 3",
   "language": "python",
   "name": "python3"
  },
  "language_info": {
   "codemirror_mode": {
    "name": "ipython",
    "version": 3
   },
   "file_extension": ".py",
   "mimetype": "text/x-python",
   "name": "python",
   "nbconvert_exporter": "python",
   "pygments_lexer": "ipython3",
   "version": "3.8.8"
  }
 },
 "nbformat": 4,
 "nbformat_minor": 5
}
