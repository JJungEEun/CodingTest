{
 "cells": [
  {
   "cell_type": "markdown",
   "id": "e146040c",
   "metadata": {},
   "source": [
    "## lc 637. Average of Levels in Binary Tree\n",
    "\n",
    "\n",
    "Share\n",
    "Given the root of a binary tree, return the average value of the nodes on each level in the form of an array. Answers within 10-5 of the actual answer will be accepted.\n"
   ]
  },
  {
   "cell_type": "markdown",
   "id": "7d5e675a",
   "metadata": {},
   "source": [
    "#### Solution 01"
   ]
  },
  {
   "cell_type": "code",
   "execution_count": 1,
   "id": "53a4e919",
   "metadata": {},
   "outputs": [],
   "source": [
    "# Definition for a binary tree node.\n",
    "# class TreeNode(object):\n",
    "#     def __init__(self, val=0, left=None, right=None):\n",
    "#         self.val = val\n",
    "#         self.left = left\n",
    "#         self.right = right\n",
    "class Solution(object):\n",
    "    def averageOfLevels(self, root, ave = 0):\n",
    "        \"\"\"\n",
    "        :type root: TreeNode\n",
    "        :rtype: List[float]\n",
    "        \"\"\"\n",
    "        \n",
    "        # 각 레벨의 노드 평균값을 배열 형태로 return \n",
    "        ans = []\n",
    "        lvl = [root]\n",
    "        \n",
    "        while lvl:\n",
    "            ans.append(sum(n.val for n in lvl) / float(len(lvl))) #같은 레벨인 node 평균값 저장\n",
    "            lvl = [c for n in lvl for c in [n.left, n.right] if c]\n",
    "\n",
    "        return ans"
   ]
  },
  {
   "cell_type": "markdown",
   "id": "08c891bb",
   "metadata": {},
   "source": [
    "Runtime: 90 ms, faster than 6.65% of Python online submissions for Average of Levels in Binary Tree.\n",
    "Memory Usage: 17.9 MB, less than 82.86% of Python online submissions for Average of Levels in Binary Tree."
   ]
  },
  {
   "cell_type": "code",
   "execution_count": null,
   "id": "ad96f639",
   "metadata": {},
   "outputs": [],
   "source": []
  }
 ],
 "metadata": {
  "kernelspec": {
   "display_name": "Python 3",
   "language": "python",
   "name": "python3"
  },
  "language_info": {
   "codemirror_mode": {
    "name": "ipython",
    "version": 3
   },
   "file_extension": ".py",
   "mimetype": "text/x-python",
   "name": "python",
   "nbconvert_exporter": "python",
   "pygments_lexer": "ipython3",
   "version": "3.8.8"
  }
 },
 "nbformat": 4,
 "nbformat_minor": 5
}
