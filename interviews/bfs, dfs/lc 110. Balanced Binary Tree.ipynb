{
 "cells": [
  {
   "cell_type": "markdown",
   "id": "9955f6cd",
   "metadata": {},
   "source": [
    "### lc 110. Balanced Binary Tree\n",
    "---\n",
    "Given a binary tree, determine if it is height-balanced.\n",
    "\n",
    "For this problem, a height-balanced binary tree is defined as: \n",
    "\n",
    "**binary tree in which the left and right subtrees of every node differ in height by no more than 1.**\n",
    "\n",
    "    Input: root = [3,9,20,null,null,15,7]\n",
    "    Output: true\n",
    "\n",
    "    Input: root = [1,2,2,3,3,null,null,4,4]\n",
    "    Output: false\n",
    "\n",
    "    Input: root = []\n",
    "    Output: true"
   ]
  },
  {
   "cell_type": "markdown",
   "id": "87937589",
   "metadata": {},
   "source": [
    "### Solution 01"
   ]
  },
  {
   "cell_type": "code",
   "execution_count": 1,
   "id": "dd278e5c",
   "metadata": {},
   "outputs": [],
   "source": [
    "class Solution(object):\n",
    "    def isBalanced(self, root):\n",
    "        \"\"\"\n",
    "        :type root: TreeNode\n",
    "        :rtype: bool\n",
    "        \"\"\"\n",
    "        \n",
    "        # getDepth(): height-balanced binary tree인지\n",
    "        # self.isBalanced(root.left): 왼쪽 서브 자식이 높이 균형이 맞는지 확인\n",
    "        # self.isBalanced(root.right): 오른쪽 자식이 높이 균형이 맞는지 확인\n",
    "        \n",
    "        def getDepth(node):\n",
    "            if not node:\n",
    "                return 0\n",
    "            return 1 + max(getDepth(node.left), getDepth(node.right))\n",
    "        \n",
    "        if not root:\n",
    "            return True\n",
    "        return abs(getDepth(root.left) - getDepth(root.right)) <= 1 and self.isBalanced(root.left) and self.isBalanced(root.right)"
   ]
  },
  {
   "cell_type": "code",
   "execution_count": null,
   "id": "244ce7bc",
   "metadata": {},
   "outputs": [],
   "source": []
  }
 ],
 "metadata": {
  "kernelspec": {
   "display_name": "Python 3",
   "language": "python",
   "name": "python3"
  },
  "language_info": {
   "codemirror_mode": {
    "name": "ipython",
    "version": 3
   },
   "file_extension": ".py",
   "mimetype": "text/x-python",
   "name": "python",
   "nbconvert_exporter": "python",
   "pygments_lexer": "ipython3",
   "version": "3.8.8"
  }
 },
 "nbformat": 4,
 "nbformat_minor": 5
}
