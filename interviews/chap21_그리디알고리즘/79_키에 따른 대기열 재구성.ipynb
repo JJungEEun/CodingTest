{
 "cells": [
  {
   "cell_type": "markdown",
   "id": "1c794f89",
   "metadata": {},
   "source": [
    "### 79. 키에 따른 대기열 재구성 / lc 406. Queue Reconstruction by Height"
   ]
  },
  {
   "cell_type": "markdown",
   "id": "928f7a33",
   "metadata": {},
   "source": [
    "여러 명의 사람들이 줄을 서 있다. 각각의 사람들은 (h,k)의 두 정수 쌍을 갖는데, h는 그 사람의 키, k는 앞에 줄 서 있는 사람들 중 자신의 키 이상인 사람들의 수를 뜻한다. 이 값이 올바르도록 줄을 재정렬하는 알고리즘을 작성해라"
   ]
  },
  {
   "cell_type": "markdown",
   "id": "86a176d3",
   "metadata": {},
   "source": [
    "---"
   ]
  },
  {
   "cell_type": "markdown",
   "id": "32f5b76f",
   "metadata": {},
   "source": [
    "#### Solution 01"
   ]
  },
  {
   "cell_type": "code",
   "execution_count": 2,
   "id": "bb8b2406",
   "metadata": {},
   "outputs": [],
   "source": [
    "def reconstructQueue(people):\n",
    "    \"\"\"\n",
    "    :type people: List[List[int]]\n",
    "    :rtype: List[List[int]]\n",
    "    \"\"\"\n",
    "\n",
    "    heap = []\n",
    "    for person in people:\n",
    "        heapq.heappush(heap, (-person[0], person[1]))\n",
    "\n",
    "    result = []\n",
    "    while heap:\n",
    "        person = heapq.heappop(heap)\n",
    "        result.insert(person[1], [-person[0], person[1]])\n",
    "\n",
    "    return result"
   ]
  },
  {
   "cell_type": "code",
   "execution_count": 4,
   "id": "77a7bfd2",
   "metadata": {},
   "outputs": [
    {
     "data": {
      "text/plain": [
       "[[5, 0], [7, 0], [5, 2], [6, 1], [4, 4], [7, 1]]"
      ]
     },
     "execution_count": 4,
     "metadata": {},
     "output_type": "execute_result"
    }
   ],
   "source": [
    "people = [[7,0],[4,4],[7,1],[5,0],[6,1],[5,2]]\n",
    "reconstructQueue(people)"
   ]
  },
  {
   "cell_type": "code",
   "execution_count": 5,
   "id": "188c27eb",
   "metadata": {},
   "outputs": [
    {
     "data": {
      "text/plain": [
       "[[4, 0], [5, 0], [2, 2], [3, 2], [1, 4], [6, 0]]"
      ]
     },
     "execution_count": 5,
     "metadata": {},
     "output_type": "execute_result"
    }
   ],
   "source": [
    "people = [[6,0],[5,0],[4,0],[3,2],[2,2],[1,4]]\n",
    "reconstructQueue(people)"
   ]
  },
  {
   "cell_type": "markdown",
   "id": "39cffc43",
   "metadata": {},
   "source": [
    "Runtime: 105 ms, faster than 48.67% of Python online submissions for Queue Reconstruction by Height.\n",
    "Memory Usage: 14.2 MB, less than 17.33% of Python online submissions for Queue Reconstruction by Height."
   ]
  },
  {
   "cell_type": "markdown",
   "id": "589e39cd",
   "metadata": {},
   "source": [
    "#### Solution 02"
   ]
  },
  {
   "cell_type": "code",
   "execution_count": 3,
   "id": "e9a6b7ad",
   "metadata": {},
   "outputs": [],
   "source": [
    "def reconstructQueue(people):\n",
    "    \"\"\"\n",
    "    :type people: List[List[int]]\n",
    "    :rtype: List[List[int]]\n",
    "    \"\"\"\n",
    "\n",
    "    people.sort(key = lambda x:(-x[0],x[1]))\n",
    "\n",
    "    output = []\n",
    "    for p in people:\n",
    "        output.insert(p[1], p)\n",
    "    return output"
   ]
  },
  {
   "cell_type": "code",
   "execution_count": 6,
   "id": "5b0317e2",
   "metadata": {},
   "outputs": [
    {
     "data": {
      "text/plain": [
       "[[5, 0], [7, 0], [5, 2], [6, 1], [4, 4], [7, 1]]"
      ]
     },
     "execution_count": 6,
     "metadata": {},
     "output_type": "execute_result"
    }
   ],
   "source": [
    "people = [[7,0],[4,4],[7,1],[5,0],[6,1],[5,2]]\n",
    "reconstructQueue(people)"
   ]
  },
  {
   "cell_type": "code",
   "execution_count": 7,
   "id": "02015397",
   "metadata": {},
   "outputs": [
    {
     "data": {
      "text/plain": [
       "[[4, 0], [5, 0], [2, 2], [3, 2], [1, 4], [6, 0]]"
      ]
     },
     "execution_count": 7,
     "metadata": {},
     "output_type": "execute_result"
    }
   ],
   "source": [
    "people = [[6,0],[5,0],[4,0],[3,2],[2,2],[1,4]]\n",
    "reconstructQueue(people)"
   ]
  },
  {
   "cell_type": "markdown",
   "id": "3bd8e512",
   "metadata": {},
   "source": [
    "Runtime: 110 ms, faster than 44.67% of Python online submissions for Queue Reconstruction by Height.\n",
    "Memory Usage: 14.1 MB, less than 46.67% of Python online submissions for Queue Reconstruction by Height."
   ]
  }
 ],
 "metadata": {
  "kernelspec": {
   "display_name": "Python 3",
   "language": "python",
   "name": "python3"
  },
  "language_info": {
   "codemirror_mode": {
    "name": "ipython",
    "version": 3
   },
   "file_extension": ".py",
   "mimetype": "text/x-python",
   "name": "python",
   "nbconvert_exporter": "python",
   "pygments_lexer": "ipython3",
   "version": "3.8.8"
  }
 },
 "nbformat": 4,
 "nbformat_minor": 5
}
