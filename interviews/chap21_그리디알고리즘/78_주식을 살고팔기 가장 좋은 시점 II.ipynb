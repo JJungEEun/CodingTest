{
 "cells": [
  {
   "cell_type": "markdown",
   "id": "1cecc432",
   "metadata": {},
   "source": [
    "### 78. 주식을 살고팔기 가장 좋은 시점II / lc122. Best Time to Buy and Sell Stock II."
   ]
  },
  {
   "cell_type": "markdown",
   "id": "7d734052",
   "metadata": {},
   "source": [
    "여러 번의 거래로 낼 수 있는 최대 이익을 산출하라"
   ]
  },
  {
   "cell_type": "markdown",
   "id": "aa176195",
   "metadata": {},
   "source": [
    "---"
   ]
  },
  {
   "cell_type": "markdown",
   "id": "23cf9dd0",
   "metadata": {},
   "source": [
    "#### Solution 01: 그리디 알고리즘"
   ]
  },
  {
   "cell_type": "code",
   "execution_count": 1,
   "id": "2b76e077",
   "metadata": {},
   "outputs": [],
   "source": [
    "def maxProfit(prices):\n",
    "    ans = 0\n",
    "    #값이 오르는 경우 매번 그리디 계산\n",
    "    for i in range(0, len(prices)-1):\n",
    "        if prices[i+1] > prices[i]:\n",
    "            ans += prices[i+1] - prices[i]\n",
    "\n",
    "    return ans"
   ]
  },
  {
   "cell_type": "code",
   "execution_count": 2,
   "id": "726c214d",
   "metadata": {},
   "outputs": [
    {
     "data": {
      "text/plain": [
       "7"
      ]
     },
     "execution_count": 2,
     "metadata": {},
     "output_type": "execute_result"
    }
   ],
   "source": [
    "prices = [7,1,5,3,6,4]\n",
    "maxProfit(prices)"
   ]
  },
  {
   "cell_type": "code",
   "execution_count": 3,
   "id": "c6977b1f",
   "metadata": {},
   "outputs": [
    {
     "data": {
      "text/plain": [
       "4"
      ]
     },
     "execution_count": 3,
     "metadata": {},
     "output_type": "execute_result"
    }
   ],
   "source": [
    "prices = [1,2,3,4,5]\n",
    "maxProfit(prices)"
   ]
  },
  {
   "cell_type": "code",
   "execution_count": 4,
   "id": "3f23ed3c",
   "metadata": {},
   "outputs": [
    {
     "data": {
      "text/plain": [
       "0"
      ]
     },
     "execution_count": 4,
     "metadata": {},
     "output_type": "execute_result"
    }
   ],
   "source": [
    "prices = [7,6,4,3,1]\n",
    "maxProfit(prices)"
   ]
  },
  {
   "cell_type": "markdown",
   "id": "f09e6df4",
   "metadata": {},
   "source": [
    "Runtime: 56 ms, faster than 52.85% of Python online submissions for Best Time to Buy and Sell Stock II.\n",
    "Memory Usage: 14.6 MB, less than 21.74% of Python online submissions for Best Time to Buy and Sell Stock II."
   ]
  },
  {
   "cell_type": "markdown",
   "id": "29d0fe0e",
   "metadata": {},
   "source": [
    "#### Solution 02: 파이썬다운 방식"
   ]
  },
  {
   "cell_type": "code",
   "execution_count": 5,
   "id": "abfc4459",
   "metadata": {},
   "outputs": [],
   "source": [
    "def maxProfit(prices):\n",
    "    #0보다 크면 무조건 합산\n",
    "    return sum(max(prices[i+1]-prices[i],0) for i in range(len(prices)-1))"
   ]
  },
  {
   "cell_type": "code",
   "execution_count": 6,
   "id": "2f8ef077",
   "metadata": {},
   "outputs": [
    {
     "data": {
      "text/plain": [
       "7"
      ]
     },
     "execution_count": 6,
     "metadata": {},
     "output_type": "execute_result"
    }
   ],
   "source": [
    "prices = [7,1,5,3,6,4]\n",
    "maxProfit(prices)"
   ]
  },
  {
   "cell_type": "code",
   "execution_count": 7,
   "id": "e8e216b3",
   "metadata": {},
   "outputs": [
    {
     "data": {
      "text/plain": [
       "4"
      ]
     },
     "execution_count": 7,
     "metadata": {},
     "output_type": "execute_result"
    }
   ],
   "source": [
    "prices = [1,2,3,4,5]\n",
    "maxProfit(prices)"
   ]
  },
  {
   "cell_type": "code",
   "execution_count": 8,
   "id": "54eae87a",
   "metadata": {},
   "outputs": [
    {
     "data": {
      "text/plain": [
       "0"
      ]
     },
     "execution_count": 8,
     "metadata": {},
     "output_type": "execute_result"
    }
   ],
   "source": [
    "prices = [7,6,4,3,1]\n",
    "maxProfit(prices)"
   ]
  },
  {
   "cell_type": "markdown",
   "id": "bce92794",
   "metadata": {},
   "source": [
    "Runtime: 59 ms, faster than 46.94% of Python online submissions for Best Time to Buy and Sell Stock II.\n",
    "Memory Usage: 14.6 MB, less than 21.74% of Python online submissions for Best Time to Buy and Sell Stock II."
   ]
  },
  {
   "cell_type": "code",
   "execution_count": null,
   "id": "9e6360f9",
   "metadata": {},
   "outputs": [],
   "source": []
  },
  {
   "cell_type": "code",
   "execution_count": null,
   "id": "4f768593",
   "metadata": {},
   "outputs": [],
   "source": []
  }
 ],
 "metadata": {
  "kernelspec": {
   "display_name": "Python 3",
   "language": "python",
   "name": "python3"
  },
  "language_info": {
   "codemirror_mode": {
    "name": "ipython",
    "version": 3
   },
   "file_extension": ".py",
   "mimetype": "text/x-python",
   "name": "python",
   "nbconvert_exporter": "python",
   "pygments_lexer": "ipython3",
   "version": "3.8.8"
  }
 },
 "nbformat": 4,
 "nbformat_minor": 5
}
