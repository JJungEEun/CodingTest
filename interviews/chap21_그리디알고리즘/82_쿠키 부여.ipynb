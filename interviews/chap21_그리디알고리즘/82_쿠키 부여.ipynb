{
 "cells": [
  {
   "cell_type": "markdown",
   "id": "4ef8a25d",
   "metadata": {},
   "source": [
    "### 82. 쿠키 부여"
   ]
  },
  {
   "cell_type": "markdown",
   "id": "b0a53999",
   "metadata": {},
   "source": [
    "아이들에게 1개씩 쿠키를 나눠줘야 한다. 각 아이 child_i마다 그리드 팩터 $g_i$를 가지고 있으며, 이는 아이가 만족하는 최소 쿠키의 크기를 말한다. 각 쿠키 cookie_j는 $s_j$를 갖고 있으며, $s_j >= g_i$이어야 아이가 만족하며 쿠키를 받는다. 최대 몇 명의 아이들에게 쿠키를 줄 수 있는지 출력하라"
   ]
  },
  {
   "cell_type": "markdown",
   "id": "98a49576",
   "metadata": {},
   "source": [
    "---"
   ]
  },
  {
   "cell_type": "markdown",
   "id": "c0ad2b1d",
   "metadata": {},
   "source": [
    "### Solution 01"
   ]
  },
  {
   "cell_type": "code",
   "execution_count": 1,
   "id": "fdd5d599",
   "metadata": {},
   "outputs": [],
   "source": [
    "def findContentChildren(g, s):\n",
    "    \"\"\"\n",
    "    :type g: List[int]\n",
    "    :type s: List[int]\n",
    "    :rtype: int\n",
    "    \"\"\"\n",
    "\n",
    "    g.sort()\n",
    "    s.sort()\n",
    "\n",
    "    child_i = cookie_j = 0 \n",
    "\n",
    "    while child_i < len(g) and cookie_j < len(s):\n",
    "        if s[cookie_j] >= g[child_i]:\n",
    "            child_i += 1\n",
    "        cookie_j += 1\n",
    "\n",
    "    return child_i"
   ]
  },
  {
   "cell_type": "markdown",
   "id": "8ba5ff92",
   "metadata": {},
   "source": [
    "Runtime: 313 ms, faster than 14.78% of Python online submissions for Assign Cookies.\n",
    "Memory Usage: 14.6 MB, less than 95.91% of Python online submissions for Assign Cookies."
   ]
  },
  {
   "cell_type": "code",
   "execution_count": null,
   "id": "32c17bb8",
   "metadata": {},
   "outputs": [],
   "source": []
  }
 ],
 "metadata": {
  "kernelspec": {
   "display_name": "Python 3",
   "language": "python",
   "name": "python3"
  },
  "language_info": {
   "codemirror_mode": {
    "name": "ipython",
    "version": 3
   },
   "file_extension": ".py",
   "mimetype": "text/x-python",
   "name": "python",
   "nbconvert_exporter": "python",
   "pygments_lexer": "ipython3",
   "version": "3.8.8"
  }
 },
 "nbformat": 4,
 "nbformat_minor": 5
}
