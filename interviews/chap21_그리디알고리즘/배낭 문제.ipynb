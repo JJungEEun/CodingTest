{
 "cells": [
  {
   "cell_type": "code",
   "execution_count": 3,
   "id": "1d0602d5",
   "metadata": {},
   "outputs": [],
   "source": [
    "def fractional_knapsack(cargo):\n",
    "    capacity = 15\n",
    "    pack = []\n",
    "    \n",
    "    # 단가 계산 역순 정렬\n",
    "    for c in cargo:\n",
    "        pack.append((c[0]/c[1], c[0], c[1]))\n",
    "    pack.sort(reverse=True)\n",
    "    \n",
    "    # 단가 순 그리디 계산\n",
    "    total_value = 0.0\n",
    "    for p in pack:\n",
    "        if capacity - p[2] >= 0:\n",
    "            capacity -= p[2]\n",
    "            total_value += p[1]\n",
    "        else:\n",
    "            fraction = capacity / p[2]\n",
    "            total_value += p[1] * fraction\n",
    "            break\n",
    "            \n",
    "    return total_value"
   ]
  },
  {
   "cell_type": "code",
   "execution_count": 5,
   "id": "e19fa0ec",
   "metadata": {},
   "outputs": [
    {
     "data": {
      "text/plain": [
       "17.333333333333332"
      ]
     },
     "execution_count": 5,
     "metadata": {},
     "output_type": "execute_result"
    }
   ],
   "source": [
    "cargo = [\n",
    "    (4, 12),\n",
    "    (2, 1),\n",
    "    (10, 4),\n",
    "    (1, 1),\n",
    "    (2, 2),\n",
    "]\n",
    "\n",
    "fractional_knapsack(cargo)"
   ]
  }
 ],
 "metadata": {
  "kernelspec": {
   "display_name": "Python 3",
   "language": "python",
   "name": "python3"
  },
  "language_info": {
   "codemirror_mode": {
    "name": "ipython",
    "version": 3
   },
   "file_extension": ".py",
   "mimetype": "text/x-python",
   "name": "python",
   "nbconvert_exporter": "python",
   "pygments_lexer": "ipython3",
   "version": "3.8.8"
  }
 },
 "nbformat": 4,
 "nbformat_minor": 5
}
