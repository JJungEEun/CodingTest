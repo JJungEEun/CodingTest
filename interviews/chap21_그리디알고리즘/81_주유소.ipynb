{
 "cells": [
  {
   "cell_type": "markdown",
   "id": "c7a76895",
   "metadata": {},
   "source": [
    "### 81.주유소 / 134. Gas Station"
   ]
  },
  {
   "cell_type": "markdown",
   "id": "93be766f",
   "metadata": {},
   "source": [
    "원형으로 경로가 연결된 주유소 목록이 있다. 각 주유소는 gas[i] 만큼의 기름을 갖고 있으며, 다음 주유소로 이동하는데 cost[i]가 필요하다. 기름이 부족하면 이동할 수 없다고 할 때 모든 주유소를 방문할 수 있는 출발점의 인덱스를 출력하라.\n",
    "\n",
    "출발점이 존재하지 않을 경우 -1을 리턴하며, 출발점은 유일하다"
   ]
  },
  {
   "cell_type": "markdown",
   "id": "380fab09",
   "metadata": {},
   "source": [
    "---"
   ]
  },
  {
   "cell_type": "markdown",
   "id": "1c317289",
   "metadata": {},
   "source": [
    "### Solution 01"
   ]
  },
  {
   "cell_type": "code",
   "execution_count": 1,
   "id": "7aa3d6de",
   "metadata": {},
   "outputs": [],
   "source": [
    "def canCompleteCircuit(gas, cost):\n",
    "    \"\"\"\n",
    "    :type gas: List[int]\n",
    "    :type cost: List[int]\n",
    "    :rtype: int\n",
    "    \"\"\"\n",
    "\n",
    "    if sum(gas) < sum(cost):\n",
    "        return -1\n",
    "\n",
    "    start , fuel = 0, 0\n",
    "    for i in range(0, len(gas)):\n",
    "        if fuel + gas[i] < cost[i]:\n",
    "            start = i + 1\n",
    "            fuel = 0\n",
    "        else:\n",
    "            fuel += gas[i] - cost[i]\n",
    "\n",
    "    return start"
   ]
  },
  {
   "cell_type": "code",
   "execution_count": 2,
   "id": "63596fb8",
   "metadata": {},
   "outputs": [
    {
     "data": {
      "text/plain": [
       "3"
      ]
     },
     "execution_count": 2,
     "metadata": {},
     "output_type": "execute_result"
    }
   ],
   "source": [
    "gas = [1,2,3,4,5]\n",
    "cost = [3,4,5,1,2]\n",
    "\n",
    "canCompleteCircuit(gas, cost)"
   ]
  },
  {
   "cell_type": "code",
   "execution_count": 3,
   "id": "e5f2c58b",
   "metadata": {},
   "outputs": [
    {
     "data": {
      "text/plain": [
       "-1"
      ]
     },
     "execution_count": 3,
     "metadata": {},
     "output_type": "execute_result"
    }
   ],
   "source": [
    "gas = [2,3,4]\n",
    "cost = [3,4,3]\n",
    "\n",
    "canCompleteCircuit(gas, cost)"
   ]
  },
  {
   "cell_type": "markdown",
   "id": "b16455e8",
   "metadata": {},
   "source": [
    "Runtime: 806 ms, faster than 24.27% of Python online submissions for Gas Station.\n",
    "Memory Usage: 19.8 MB, less than 64.47% of Python online submissions for Gas Station."
   ]
  },
  {
   "cell_type": "markdown",
   "id": "f3ff74cc",
   "metadata": {},
   "source": [
    "### Solution 02"
   ]
  },
  {
   "cell_type": "code",
   "execution_count": 4,
   "id": "2f177521",
   "metadata": {},
   "outputs": [],
   "source": [
    "def canCompleteCircuit(gas, cost):\n",
    "        \"\"\"\n",
    "        :type gas: List[int]\n",
    "        :type cost: List[int]\n",
    "        :rtype: int\n",
    "        \"\"\"\n",
    "        \n",
    "        for start in range(len(gas)):\n",
    "            fuel = 0\n",
    "            for i in range(start, len(gas)+start):\n",
    "                index = i % len(gas)\n",
    "                \n",
    "                can_travel = True\n",
    "                if gas[index] + fuel < cost[index]:\n",
    "                    can_travel = False\n",
    "                    break\n",
    "                else:\n",
    "                    fuel += gas[index] - cost[index]\n",
    "            \n",
    "            if can_travel:\n",
    "                return start\n",
    "            \n",
    "        return  -1              "
   ]
  },
  {
   "cell_type": "code",
   "execution_count": 5,
   "id": "a02c74c7",
   "metadata": {},
   "outputs": [
    {
     "data": {
      "text/plain": [
       "3"
      ]
     },
     "execution_count": 5,
     "metadata": {},
     "output_type": "execute_result"
    }
   ],
   "source": [
    "gas = [1,2,3,4,5]\n",
    "cost = [3,4,5,1,2]\n",
    "\n",
    "canCompleteCircuit(gas, cost)"
   ]
  },
  {
   "cell_type": "code",
   "execution_count": 6,
   "id": "b9186da5",
   "metadata": {},
   "outputs": [
    {
     "data": {
      "text/plain": [
       "-1"
      ]
     },
     "execution_count": 6,
     "metadata": {},
     "output_type": "execute_result"
    }
   ],
   "source": [
    "gas = [2,3,4]\n",
    "cost = [3,4,3]\n",
    "\n",
    "canCompleteCircuit(gas, cost)"
   ]
  },
  {
   "cell_type": "markdown",
   "id": "32140477",
   "metadata": {},
   "source": [
    "Time Limit Exceeded"
   ]
  },
  {
   "cell_type": "markdown",
   "id": "f91633a8",
   "metadata": {},
   "source": [
    "### Solution 03"
   ]
  },
  {
   "cell_type": "code",
   "execution_count": 7,
   "id": "8ff42ec2",
   "metadata": {},
   "outputs": [],
   "source": [
    "def canCompleteCircuit(gas, cost):\n",
    "        \"\"\"\n",
    "        :type gas: List[int]\n",
    "        :type cost: List[int]\n",
    "        :rtype: int\n",
    "        \"\"\"\n",
    "        \n",
    "        if sum(gas) < sum(cost):\n",
    "            return -1\n",
    "        \n",
    "        total, start = 0 , 0\n",
    "        for i in range(len(gas)):\n",
    "            total += gas[i] - cost[i]\n",
    "\n",
    "            if total < 0:\n",
    "                total = 0\n",
    "                start = (i + 1) % len(gas)\n",
    "                \n",
    "        return start"
   ]
  },
  {
   "cell_type": "code",
   "execution_count": 8,
   "id": "c16c0a36",
   "metadata": {},
   "outputs": [
    {
     "data": {
      "text/plain": [
       "3"
      ]
     },
     "execution_count": 8,
     "metadata": {},
     "output_type": "execute_result"
    }
   ],
   "source": [
    "gas = [1,2,3,4,5]\n",
    "cost = [3,4,5,1,2]\n",
    "\n",
    "canCompleteCircuit(gas, cost)"
   ]
  },
  {
   "cell_type": "code",
   "execution_count": 9,
   "id": "911d86ca",
   "metadata": {},
   "outputs": [
    {
     "data": {
      "text/plain": [
       "-1"
      ]
     },
     "execution_count": 9,
     "metadata": {},
     "output_type": "execute_result"
    }
   ],
   "source": [
    "gas = [2,3,4]\n",
    "cost = [3,4,3]\n",
    "\n",
    "canCompleteCircuit(gas, cost)"
   ]
  },
  {
   "cell_type": "markdown",
   "id": "4a1257fc",
   "metadata": {},
   "source": [
    "Runtime: 705 ms, faster than 45.41% of Python online submissions for Gas Station.\n",
    "Memory Usage: 19.7 MB, less than 81.98% of Python online submissions for Gas Station."
   ]
  }
 ],
 "metadata": {
  "kernelspec": {
   "display_name": "Python 3",
   "language": "python",
   "name": "python3"
  },
  "language_info": {
   "codemirror_mode": {
    "name": "ipython",
    "version": 3
   },
   "file_extension": ".py",
   "mimetype": "text/x-python",
   "name": "python",
   "nbconvert_exporter": "python",
   "pygments_lexer": "ipython3",
   "version": "3.8.8"
  }
 },
 "nbformat": 4,
 "nbformat_minor": 5
}
