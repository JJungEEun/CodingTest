{
 "cells": [
  {
   "cell_type": "markdown",
   "id": "64cf7ed4",
   "metadata": {},
   "source": [
    "### 80_태스크 스케줄러 / lc 62l. Task Scheduler"
   ]
  },
  {
   "cell_type": "markdown",
   "id": "2155c2d3",
   "metadata": {},
   "source": [
    "A에서 Z로 표현된 태스크가 있다. 각 간격마다 CPU는 한 번의 태스크만 실행할 수 있고, n번의 간격 내에는 동일한 태스크를 실행할 수 없다. 더 이상 태스크를 실행할 수 없는 경우 아이들 상태가 된다. 모든 태스크를 실행하기 위한 최소 간격을 출력하라"
   ]
  },
  {
   "cell_type": "markdown",
   "id": "67439743",
   "metadata": {},
   "source": [
    "---"
   ]
  },
  {
   "cell_type": "markdown",
   "id": "343d63f1",
   "metadata": {},
   "source": [
    "### solution 01"
   ]
  },
  {
   "cell_type": "code",
   "execution_count": 5,
   "id": "c93b1401",
   "metadata": {},
   "outputs": [],
   "source": [
    "import collections\n",
    "def leastInterval(tasks, n):\n",
    "    \"\"\"\n",
    "    :type tasks: List[str]\n",
    "    :type n: int\n",
    "    :rtype: int\n",
    "    \"\"\"\n",
    "    cnt = [value for value in collections.Counter(tasks).values()]\n",
    "    cnt.sort()\n",
    "    room= cnt.pop()-1\n",
    "    idle=(room)*n\n",
    "\n",
    "    while cnt and idle > 0:\n",
    "        idle -= min(room, cnt.pop())\n",
    "\n",
    "    return max(0,idle) + len(tasks)"
   ]
  },
  {
   "cell_type": "code",
   "execution_count": 6,
   "id": "df9e7382",
   "metadata": {},
   "outputs": [
    {
     "data": {
      "text/plain": [
       "8"
      ]
     },
     "execution_count": 6,
     "metadata": {},
     "output_type": "execute_result"
    }
   ],
   "source": [
    "tasks = [\"A\",\"A\",\"A\",\"B\",\"B\",\"B\"]\n",
    "n = 2\n",
    "\n",
    "leastInterval(tasks, n)"
   ]
  },
  {
   "cell_type": "code",
   "execution_count": 7,
   "id": "07e62979",
   "metadata": {},
   "outputs": [
    {
     "data": {
      "text/plain": [
       "6"
      ]
     },
     "execution_count": 7,
     "metadata": {},
     "output_type": "execute_result"
    }
   ],
   "source": [
    "tasks = [\"A\",\"A\",\"A\",\"B\",\"B\",\"B\"]\n",
    "n = 0\n",
    "\n",
    "leastInterval(tasks, n)"
   ]
  },
  {
   "cell_type": "markdown",
   "id": "006d3cbd",
   "metadata": {},
   "source": [
    "Runtime: 784 ms, faster than 19.94% of Python online submissions for Task Scheduler.\n",
    "Memory Usage: 15.5 MB, less than 66.38% of Python online submissions for Task Scheduler."
   ]
  },
  {
   "cell_type": "markdown",
   "id": "f17e8ec0",
   "metadata": {},
   "source": [
    "### Solution 02"
   ]
  },
  {
   "cell_type": "code",
   "execution_count": 8,
   "id": "6ca1b7ae",
   "metadata": {},
   "outputs": [],
   "source": [
    "def leastInterval(tasks, n):\n",
    "    \"\"\"\n",
    "    :type tasks: List[str]\n",
    "    :type n: int\n",
    "    :rtype: int\n",
    "    \"\"\"\n",
    "\n",
    "\n",
    "    cnt = collections.Counter(tasks)\n",
    "    result = 0\n",
    "\n",
    "    while True:\n",
    "        sub_cnt = 0\n",
    "\n",
    "        # 개수 순 추출\n",
    "        for task, _ in cnt.most_common(n+1):\n",
    "            sub_cnt += 1\n",
    "            result += 1\n",
    "\n",
    "            cnt.subtract(task)\n",
    "            # 0 이하인 아이템을 목록에서 완전히 제거\n",
    "            cnt += collections.Counter()\n",
    "\n",
    "        if not cnt:\n",
    "            break\n",
    "\n",
    "        result += n - sub_cnt + 1\n",
    "\n",
    "    return result"
   ]
  },
  {
   "cell_type": "code",
   "execution_count": 9,
   "id": "91260e06",
   "metadata": {},
   "outputs": [
    {
     "data": {
      "text/plain": [
       "8"
      ]
     },
     "execution_count": 9,
     "metadata": {},
     "output_type": "execute_result"
    }
   ],
   "source": [
    "tasks = [\"A\",\"A\",\"A\",\"B\",\"B\",\"B\"]\n",
    "n = 2\n",
    "\n",
    "leastInterval(tasks, n)"
   ]
  },
  {
   "cell_type": "code",
   "execution_count": 10,
   "id": "8cf8b8bf",
   "metadata": {},
   "outputs": [
    {
     "data": {
      "text/plain": [
       "6"
      ]
     },
     "execution_count": 10,
     "metadata": {},
     "output_type": "execute_result"
    }
   ],
   "source": [
    "tasks = [\"A\",\"A\",\"A\",\"B\",\"B\",\"B\"]\n",
    "n = 0\n",
    "\n",
    "leastInterval(tasks, n)"
   ]
  },
  {
   "cell_type": "markdown",
   "id": "8d1c9157",
   "metadata": {},
   "source": [
    "Runtime: 3735 ms, faster than 5.13% of Python online submissions for Task Scheduler.\n",
    "Memory Usage: 15.4 MB, less than 87.46% of Python online submissions for Task Scheduler."
   ]
  },
  {
   "cell_type": "markdown",
   "id": "a21e4760",
   "metadata": {},
   "source": [
    "###  Solution 03"
   ]
  },
  {
   "cell_type": "code",
   "execution_count": 11,
   "id": "50901817",
   "metadata": {},
   "outputs": [],
   "source": [
    "def leastInterval(tasks, n):\n",
    "    \"\"\"\n",
    "    :type tasks: List[str]\n",
    "    :type n: int\n",
    "    :rtype: int\n",
    "    \"\"\"\n",
    "\n",
    "\n",
    "     # frequencies of the tasks\n",
    "    frequencies = [0] * 26\n",
    "    for t in tasks:\n",
    "        frequencies[ord(t) - ord('A')] += 1\n",
    "\n",
    "    frequencies.sort()\n",
    "\n",
    "    # max frequency\n",
    "    f_max = frequencies.pop()\n",
    "    idle_time = (f_max - 1) * n\n",
    "\n",
    "    while frequencies and idle_time > 0:\n",
    "        idle_time -= min(f_max - 1, frequencies.pop())\n",
    "    idle_time = max(0, idle_time)\n",
    "\n",
    "    return idle_time + len(tasks)"
   ]
  },
  {
   "cell_type": "code",
   "execution_count": 12,
   "id": "01d9f7cc",
   "metadata": {},
   "outputs": [
    {
     "data": {
      "text/plain": [
       "8"
      ]
     },
     "execution_count": 12,
     "metadata": {},
     "output_type": "execute_result"
    }
   ],
   "source": [
    "tasks = [\"A\",\"A\",\"A\",\"B\",\"B\",\"B\"]\n",
    "n = 2\n",
    "\n",
    "leastInterval(tasks, n)"
   ]
  },
  {
   "cell_type": "code",
   "execution_count": 13,
   "id": "1359ac2d",
   "metadata": {},
   "outputs": [
    {
     "data": {
      "text/plain": [
       "6"
      ]
     },
     "execution_count": 13,
     "metadata": {},
     "output_type": "execute_result"
    }
   ],
   "source": [
    "tasks = [\"A\",\"A\",\"A\",\"B\",\"B\",\"B\"]\n",
    "n = 0\n",
    "\n",
    "leastInterval(tasks, n)"
   ]
  },
  {
   "cell_type": "markdown",
   "id": "49cf96a2",
   "metadata": {},
   "source": [
    "Runtime: 332 ms, faster than 97.72% of Python online submissions for Task Scheduler.\n",
    "Memory Usage: 15.7 MB, less than 46.72% of Python online submissions for Task Scheduler."
   ]
  },
  {
   "cell_type": "markdown",
   "id": "be81e319",
   "metadata": {},
   "source": [
    "---"
   ]
  },
  {
   "cell_type": "markdown",
   "id": "db2223fb",
   "metadata": {},
   "source": [
    "#### ord()"
   ]
  },
  {
   "cell_type": "markdown",
   "id": "86f0a8d4",
   "metadata": {},
   "source": [
    "하나의 유니코드 문자를 나타내는 문자열이 주어지면 해당 문자의 유니코드 코드 포인트를 나타내는 정수를 돌려줍니다. 예를 들어, ord('a') 는 정수 97 을 반환하고 ord('€') (유로 기호)는 8364 를 반환합니다. 이것은 chr() 의 반대입니다."
   ]
  },
  {
   "cell_type": "code",
   "execution_count": 15,
   "id": "3b81e568",
   "metadata": {},
   "outputs": [
    {
     "data": {
      "text/plain": [
       "65"
      ]
     },
     "execution_count": 15,
     "metadata": {},
     "output_type": "execute_result"
    }
   ],
   "source": [
    "ord(\"A\")"
   ]
  },
  {
   "cell_type": "code",
   "execution_count": 16,
   "id": "645a2624",
   "metadata": {},
   "outputs": [
    {
     "data": {
      "text/plain": [
       "'A'"
      ]
     },
     "execution_count": 16,
     "metadata": {},
     "output_type": "execute_result"
    }
   ],
   "source": [
    "chr(65)"
   ]
  }
 ],
 "metadata": {
  "kernelspec": {
   "display_name": "Python 3",
   "language": "python",
   "name": "python3"
  },
  "language_info": {
   "codemirror_mode": {
    "name": "ipython",
    "version": 3
   },
   "file_extension": ".py",
   "mimetype": "text/x-python",
   "name": "python",
   "nbconvert_exporter": "python",
   "pygments_lexer": "ipython3",
   "version": "3.8.8"
  }
 },
 "nbformat": 4,
 "nbformat_minor": 5
}
