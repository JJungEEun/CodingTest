{
 "cells": [
  {
   "cell_type": "markdown",
   "id": "0901744a",
   "metadata": {},
   "source": [
    "### 231. Power of Two"
   ]
  },
  {
   "cell_type": "code",
   "execution_count": 1,
   "id": "432a7b86",
   "metadata": {},
   "outputs": [],
   "source": [
    "def isPowerOfTwo(n):\n",
    "\n",
    "    if(n<=0) :\n",
    "        return False\n",
    "\n",
    "    return ((n & (n-1)) == 0)"
   ]
  },
  {
   "cell_type": "code",
   "execution_count": 2,
   "id": "cf3b8676",
   "metadata": {},
   "outputs": [
    {
     "data": {
      "text/plain": [
       "True"
      ]
     },
     "execution_count": 2,
     "metadata": {},
     "output_type": "execute_result"
    }
   ],
   "source": [
    "n = 1\n",
    "isPowerOfTwo(n)"
   ]
  },
  {
   "cell_type": "markdown",
   "id": "46898413",
   "metadata": {},
   "source": [
    "Runtime: 27 ms, faster than 53.90% of Python online submissions for Power of Two.\n",
    "Memory Usage: 13 MB, less than 99.27% of Python online submissions for Power of Two."
   ]
  },
  {
   "cell_type": "markdown",
   "id": "df9793bb",
   "metadata": {},
   "source": [
    "n = 8\n",
    "\n",
    "n -> 1 0 0 0\n",
    "\n",
    "n-1 -> 0 1 1 1\n",
    "\n",
    "n & n-1 -> 0 0 0 0"
   ]
  }
 ],
 "metadata": {
  "kernelspec": {
   "display_name": "Python 3",
   "language": "python",
   "name": "python3"
  },
  "language_info": {
   "codemirror_mode": {
    "name": "ipython",
    "version": 3
   },
   "file_extension": ".py",
   "mimetype": "text/x-python",
   "name": "python",
   "nbconvert_exporter": "python",
   "pygments_lexer": "ipython3",
   "version": "3.8.8"
  }
 },
 "nbformat": 4,
 "nbformat_minor": 5
}
