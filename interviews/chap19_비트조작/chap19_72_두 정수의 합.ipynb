{
 "cells": [
  {
   "cell_type": "markdown",
   "id": "e28c1c23",
   "metadata": {},
   "source": [
    "### 371. Sum of Two Integers\n",
    "---\n",
    "\n",
    "Given two integers a and b, return the sum of the two integers without using the operators + and -."
   ]
  },
  {
   "cell_type": "markdown",
   "id": "146ecd8e",
   "metadata": {},
   "source": [
    "#### Solution 01"
   ]
  },
  {
   "cell_type": "code",
   "execution_count": 2,
   "id": "c4642854",
   "metadata": {},
   "outputs": [],
   "source": [
    "class Solution(object):\n",
    "    def getSum(a, b):\n",
    "        \"\"\"\n",
    "        :type a: int\n",
    "        :type b: int\n",
    "        :rtype: int\n",
    "        \"\"\"\n",
    "        \n",
    "        mask = 0xffffffff\n",
    "        sum = (a ^ b) & mask\n",
    "        carry = a & b\n",
    "        \n",
    "        while carry!=0:\n",
    "            a = sum\n",
    "            b = (carry << 1) & mask\n",
    "            sum = (a ^ b) & mask\n",
    "            carry = a & b\n",
    "        \n",
    "        if sum & 0x80000000:\n",
    "            sum -= 0x100000000\n",
    "        \n",
    "        return sum\n",
    "        "
   ]
  },
  {
   "cell_type": "code",
   "execution_count": 3,
   "id": "2b09b221",
   "metadata": {},
   "outputs": [
    {
     "data": {
      "text/plain": [
       "3"
      ]
     },
     "execution_count": 3,
     "metadata": {},
     "output_type": "execute_result"
    }
   ],
   "source": [
    "a = 1\n",
    "b = 2\n",
    "Solution.getSum(a,b)"
   ]
  },
  {
   "cell_type": "code",
   "execution_count": 4,
   "id": "05be171e",
   "metadata": {},
   "outputs": [
    {
     "data": {
      "text/plain": [
       "5"
      ]
     },
     "execution_count": 4,
     "metadata": {},
     "output_type": "execute_result"
    }
   ],
   "source": [
    "a = 2\n",
    "b = 3\n",
    "Solution.getSum(a,b)"
   ]
  },
  {
   "cell_type": "markdown",
   "id": "08238bfc",
   "metadata": {},
   "source": [
    "#### Solution 02"
   ]
  },
  {
   "cell_type": "code",
   "execution_count": 5,
   "id": "f984dec9",
   "metadata": {},
   "outputs": [],
   "source": [
    "class Solution(object):\n",
    "    def getSum(a, b):\n",
    "    \n",
    "        MASK = 0xFFFFFFFF #보수용 mask\n",
    "        INT_MAX = 0x7FFFFFFF # 양의 정수 중 가장 큰 수\n",
    "        \n",
    "        # 이진수로 바꾸고 0으로 채워줌\n",
    "        a_bin = bin(a & MASK)[2:].zfill(32)\n",
    "        b_bin = bin(b & MASK)[2:].zfill(32)\n",
    "        \n",
    "        result = [] # 합계가 들어감\n",
    "        \n",
    "        # 전가산기 구현\n",
    "        carry = 0\n",
    "        SUM = 0\n",
    "        \n",
    "        for i in range(32):\n",
    "            A = int(a_bin[31-i]) # 가장 작은 값부터 시작\n",
    "            B = int(b_bin[31-i])\n",
    "            \n",
    "            Q1 = A & B\n",
    "            Q2 = A^B\n",
    "            Q3 = Q2&carry\n",
    "            SUM = carry ^ Q2\n",
    "            carry = Q1|Q3\n",
    "            \n",
    "            result.append(str(SUM))\n",
    "            \n",
    "        if carry == 1:\n",
    "            result.append('1')\n",
    "        \n",
    "        # 초과 자릿수 처리 \n",
    "        result = int(''.join(result[::-1]),2) & MASK \n",
    "        \n",
    "        # 음수처리\n",
    "        if result > INT_MAX: #최댓값보다 크다는 건 음수라는 뜻\n",
    "            result = ~(result^MASK)\n",
    "        \n",
    "        return result\n",
    "        "
   ]
  },
  {
   "cell_type": "code",
   "execution_count": null,
   "id": "60c2a68e",
   "metadata": {},
   "outputs": [],
   "source": []
  }
 ],
 "metadata": {
  "kernelspec": {
   "display_name": "Python 3",
   "language": "python",
   "name": "python3"
  },
  "language_info": {
   "codemirror_mode": {
    "name": "ipython",
    "version": 3
   },
   "file_extension": ".py",
   "mimetype": "text/x-python",
   "name": "python",
   "nbconvert_exporter": "python",
   "pygments_lexer": "ipython3",
   "version": "3.8.8"
  }
 },
 "nbformat": 4,
 "nbformat_minor": 5
}
