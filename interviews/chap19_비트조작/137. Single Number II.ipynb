{
 "cells": [
  {
   "cell_type": "markdown",
   "id": "9138a483",
   "metadata": {},
   "source": [
    "### 137. Single Number II"
   ]
  },
  {
   "cell_type": "markdown",
   "id": "9b8514cc",
   "metadata": {},
   "source": [
    "---"
   ]
  },
  {
   "cell_type": "markdown",
   "id": "e92256dc",
   "metadata": {},
   "source": [
    "#### Solution 01"
   ]
  },
  {
   "cell_type": "code",
   "execution_count": 33,
   "id": "1b3fb151",
   "metadata": {},
   "outputs": [],
   "source": [
    "def singleNumber(nums):\n",
    "\n",
    "    a = 0\n",
    "    b = 0\n",
    "    for i in nums:\n",
    "        print(\"num\", i)\n",
    "        a = (a^i) & ~b\n",
    "        print(a)\n",
    "        b = (b^i) & ~a\n",
    "        print(b)\n",
    "        \n",
    "    return a"
   ]
  },
  {
   "cell_type": "code",
   "execution_count": 34,
   "id": "3150f878",
   "metadata": {},
   "outputs": [
    {
     "name": "stdout",
     "output_type": "stream",
     "text": [
      "num 2\n",
      "2\n",
      "0\n",
      "num 2\n",
      "0\n",
      "2\n",
      "num 3\n",
      "1\n",
      "0\n",
      "num 2\n",
      "3\n",
      "0\n"
     ]
    },
    {
     "data": {
      "text/plain": [
       "3"
      ]
     },
     "execution_count": 34,
     "metadata": {},
     "output_type": "execute_result"
    }
   ],
   "source": [
    "nums = [2,2,3,2]\n",
    "singleNumber(nums)"
   ]
  },
  {
   "cell_type": "code",
   "execution_count": 42,
   "id": "b5564f6e",
   "metadata": {},
   "outputs": [
    {
     "name": "stdout",
     "output_type": "stream",
     "text": [
      "num 0\n",
      "0\n",
      "0\n",
      "num 1\n",
      "1\n",
      "0\n",
      "num 0\n",
      "1\n",
      "0\n",
      "num 1\n",
      "0\n",
      "1\n",
      "num 0\n",
      "0\n",
      "1\n",
      "num 1\n",
      "0\n",
      "0\n",
      "num 99\n",
      "99\n",
      "0\n"
     ]
    },
    {
     "data": {
      "text/plain": [
       "99"
      ]
     },
     "execution_count": 42,
     "metadata": {},
     "output_type": "execute_result"
    }
   ],
   "source": [
    "nums = [0,1,0,1,0,1,99]\n",
    "singleNumber(nums)"
   ]
  },
  {
   "cell_type": "code",
   "execution_count": 37,
   "id": "85f45ad6",
   "metadata": {},
   "outputs": [
    {
     "data": {
      "text/plain": [
       "2"
      ]
     },
     "execution_count": 37,
     "metadata": {},
     "output_type": "execute_result"
    }
   ],
   "source": [
    "x = 2\n",
    "x & x"
   ]
  },
  {
   "cell_type": "code",
   "execution_count": 41,
   "id": "1aefd053",
   "metadata": {},
   "outputs": [
    {
     "data": {
      "text/plain": [
       "1"
      ]
     },
     "execution_count": 41,
     "metadata": {},
     "output_type": "execute_result"
    }
   ],
   "source": [
    "2 ^ 3"
   ]
  },
  {
   "cell_type": "markdown",
   "id": "e90031fb",
   "metadata": {},
   "source": [
    "Runtime: 62 ms, faster than 51.62% of Python online submissions for Single Number II.\n",
    "Memory Usage: 15 MB, less than 73.45% of Python online submissions for Single Number II."
   ]
  },
  {
   "cell_type": "markdown",
   "id": "e6cbd26f",
   "metadata": {},
   "source": [
    "#### Solution 02"
   ]
  },
  {
   "cell_type": "code",
   "execution_count": 4,
   "id": "8feab13a",
   "metadata": {},
   "outputs": [],
   "source": [
    "def singleNumber(nums):\n",
    "    \n",
    "    return (3*sum(set(nums)) - sum(nums))/2"
   ]
  },
  {
   "cell_type": "code",
   "execution_count": 5,
   "id": "2d8185b2",
   "metadata": {},
   "outputs": [
    {
     "data": {
      "text/plain": [
       "3.0"
      ]
     },
     "execution_count": 5,
     "metadata": {},
     "output_type": "execute_result"
    }
   ],
   "source": [
    "nums = [2,2,3,2]\n",
    "singleNumber(nums)"
   ]
  },
  {
   "cell_type": "code",
   "execution_count": 6,
   "id": "19b8eb33",
   "metadata": {},
   "outputs": [
    {
     "data": {
      "text/plain": [
       "99.0"
      ]
     },
     "execution_count": 6,
     "metadata": {},
     "output_type": "execute_result"
    }
   ],
   "source": [
    "nums = [0,1,0,1,0,1,99]\n",
    "singleNumber(nums)"
   ]
  },
  {
   "cell_type": "markdown",
   "id": "7a58e981",
   "metadata": {},
   "source": [
    "Runtime: 80 ms, faster than 36.28% of Python online submissions for Single Number II.\n",
    "Memory Usage: 15.3 MB, less than 31.56% of Python online submissions for Single Number II."
   ]
  },
  {
   "cell_type": "markdown",
   "id": "0f2b133e",
   "metadata": {},
   "source": [
    "#### Solution 03"
   ]
  },
  {
   "cell_type": "code",
   "execution_count": 8,
   "id": "2de230ef",
   "metadata": {},
   "outputs": [],
   "source": [
    "def singleNumber(nums):  \n",
    "        for i in nums:\n",
    "            if nums.count(i) == 1:\n",
    "                return i"
   ]
  },
  {
   "cell_type": "code",
   "execution_count": 9,
   "id": "133fa504",
   "metadata": {},
   "outputs": [
    {
     "data": {
      "text/plain": [
       "3"
      ]
     },
     "execution_count": 9,
     "metadata": {},
     "output_type": "execute_result"
    }
   ],
   "source": [
    "nums = [2,2,3,2]\n",
    "singleNumber(nums)"
   ]
  },
  {
   "cell_type": "code",
   "execution_count": 10,
   "id": "a5c93ce7",
   "metadata": {},
   "outputs": [
    {
     "data": {
      "text/plain": [
       "99"
      ]
     },
     "execution_count": 10,
     "metadata": {},
     "output_type": "execute_result"
    }
   ],
   "source": [
    "nums = [0,1,0,1,0,1,99]\n",
    "singleNumber(nums)"
   ]
  },
  {
   "cell_type": "markdown",
   "id": "415da928",
   "metadata": {},
   "source": [
    "Runtime: 983 ms, faster than 13.57% of Python online submissions for Single Number II.\n",
    "Memory Usage: 15.1 MB, less than 42.18% of Python online submissions for Single Number II."
   ]
  }
 ],
 "metadata": {
  "kernelspec": {
   "display_name": "Python 3",
   "language": "python",
   "name": "python3"
  },
  "language_info": {
   "codemirror_mode": {
    "name": "ipython",
    "version": 3
   },
   "file_extension": ".py",
   "mimetype": "text/x-python",
   "name": "python",
   "nbconvert_exporter": "python",
   "pygments_lexer": "ipython3",
   "version": "3.8.8"
  }
 },
 "nbformat": 4,
 "nbformat_minor": 5
}
