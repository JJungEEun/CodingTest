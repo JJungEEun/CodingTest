{
 "cells": [
  {
   "cell_type": "markdown",
   "id": "06f977f7",
   "metadata": {},
   "source": [
    "### 74.1비트의 개수 / 191. Number of 1 Bits"
   ]
  },
  {
   "cell_type": "markdown",
   "id": "62890644",
   "metadata": {},
   "source": [
    "부호없는 정수형을 입력받아 1비트의 개수를 출력하라"
   ]
  },
  {
   "cell_type": "markdown",
   "id": "88b26988",
   "metadata": {},
   "source": [
    "---"
   ]
  },
  {
   "cell_type": "markdown",
   "id": "7d618ac7",
   "metadata": {},
   "source": [
    "##### Solution 01"
   ]
  },
  {
   "cell_type": "code",
   "execution_count": 1,
   "id": "52d29187",
   "metadata": {},
   "outputs": [],
   "source": [
    "def hammingWeight(n):\n",
    "        return bin(n).count('1')"
   ]
  },
  {
   "cell_type": "markdown",
   "id": "72971352",
   "metadata": {},
   "source": [
    "Runtime: 24 ms, faster than 61.59% of Python online submissions for Number of 1 Bits.\n",
    "Memory Usage: 13.3 MB, less than 63.13% of Python online submissions for Number of 1 Bits."
   ]
  },
  {
   "cell_type": "markdown",
   "id": "3eae3781",
   "metadata": {},
   "source": [
    "##### Solution 02"
   ]
  },
  {
   "cell_type": "code",
   "execution_count": 4,
   "id": "52bfd394",
   "metadata": {},
   "outputs": [],
   "source": [
    "def hammingWeight(n):\n",
    "        cnt = 0\n",
    "        while n:\n",
    "            n &= n -1\n",
    "            cnt += 1\n",
    "        return cnt"
   ]
  },
  {
   "cell_type": "markdown",
   "id": "0b0685e1",
   "metadata": {},
   "source": [
    "Runtime: 52 ms, faster than 5.33% of Python online submissions for Number of 1 Bits.\n",
    "Memory Usage: 13.3 MB, less than 85.93% of Python online submissions for Number of 1 Bits."
   ]
  }
 ],
 "metadata": {
  "kernelspec": {
   "display_name": "Python 3",
   "language": "python",
   "name": "python3"
  },
  "language_info": {
   "codemirror_mode": {
    "name": "ipython",
    "version": 3
   },
   "file_extension": ".py",
   "mimetype": "text/x-python",
   "name": "python",
   "nbconvert_exporter": "python",
   "pygments_lexer": "ipython3",
   "version": "3.8.8"
  }
 },
 "nbformat": 4,
 "nbformat_minor": 5
}
