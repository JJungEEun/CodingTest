{
 "cells": [
  {
   "cell_type": "markdown",
   "id": "58d39407",
   "metadata": {},
   "source": [
    "### 71. 해밍거리 / 461. Hamming Distance"
   ]
  },
  {
   "cell_type": "markdown",
   "id": "b6838100",
   "metadata": {},
   "source": [
    "두 정수를 입력받아 몇 비트가 다른지 계산하라"
   ]
  },
  {
   "cell_type": "markdown",
   "id": "aff33d1b",
   "metadata": {},
   "source": [
    "##### Solution 01"
   ]
  },
  {
   "cell_type": "code",
   "execution_count": 1,
   "id": "a5eab7a8",
   "metadata": {},
   "outputs": [],
   "source": [
    "def hammingDistance(x, y):\n",
    "        return bin(x^y).count(\"1\")"
   ]
  },
  {
   "cell_type": "code",
   "execution_count": 2,
   "id": "4298065c",
   "metadata": {},
   "outputs": [
    {
     "data": {
      "text/plain": [
       "2"
      ]
     },
     "execution_count": 2,
     "metadata": {},
     "output_type": "execute_result"
    }
   ],
   "source": [
    "x = 1\n",
    "y = 4\n",
    "hammingDistance(x,y)"
   ]
  },
  {
   "cell_type": "markdown",
   "id": "29e3764b",
   "metadata": {},
   "source": [
    "Runtime: 14 ms, faster than 90.11% of Python online submissions for Hamming Distance.\n",
    "Memory Usage: 13.5 MB, less than 35.44% of Python online submissions for Hamming Distance."
   ]
  }
 ],
 "metadata": {
  "kernelspec": {
   "display_name": "Python 3",
   "language": "python",
   "name": "python3"
  },
  "language_info": {
   "codemirror_mode": {
    "name": "ipython",
    "version": 3
   },
   "file_extension": ".py",
   "mimetype": "text/x-python",
   "name": "python",
   "nbconvert_exporter": "python",
   "pygments_lexer": "ipython3",
   "version": "3.8.8"
  }
 },
 "nbformat": 4,
 "nbformat_minor": 5
}
