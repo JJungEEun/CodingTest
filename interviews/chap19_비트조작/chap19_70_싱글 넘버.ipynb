{
 "cells": [
  {
   "cell_type": "markdown",
   "id": "600cc625",
   "metadata": {},
   "source": [
    "### 70.싱글 넘버 / 136. Single Number"
   ]
  },
  {
   "cell_type": "markdown",
   "id": "28c8735e",
   "metadata": {},
   "source": [
    "#### Solution 1"
   ]
  },
  {
   "cell_type": "code",
   "execution_count": 4,
   "id": "fd3f2607",
   "metadata": {},
   "outputs": [],
   "source": [
    "import collections \n",
    "\n",
    "def singleNumber(nums):\n",
    "        cnt = collections.Counter(nums)\n",
    "        for k, v in cnt.items():\n",
    "            if v == 1:\n",
    "                return k    "
   ]
  },
  {
   "cell_type": "code",
   "execution_count": 5,
   "id": "4cb4f955",
   "metadata": {},
   "outputs": [
    {
     "data": {
      "text/plain": [
       "1"
      ]
     },
     "execution_count": 5,
     "metadata": {},
     "output_type": "execute_result"
    }
   ],
   "source": [
    "nums = [2,2,1]\n",
    "singleNumber(nums)"
   ]
  },
  {
   "cell_type": "code",
   "execution_count": 7,
   "id": "528eb8f0",
   "metadata": {},
   "outputs": [
    {
     "data": {
      "text/plain": [
       "4"
      ]
     },
     "execution_count": 7,
     "metadata": {},
     "output_type": "execute_result"
    }
   ],
   "source": [
    "nums = [4,1,2,1,2]\n",
    "singleNumber(nums)"
   ]
  },
  {
   "cell_type": "code",
   "execution_count": 8,
   "id": "67861c26",
   "metadata": {},
   "outputs": [
    {
     "data": {
      "text/plain": [
       "1"
      ]
     },
     "execution_count": 8,
     "metadata": {},
     "output_type": "execute_result"
    }
   ],
   "source": [
    "nums = [1]\n",
    "singleNumber(nums)"
   ]
  },
  {
   "cell_type": "markdown",
   "id": "329bcdda",
   "metadata": {},
   "source": [
    "Runtime: 109 ms, faster than 87.67% of Python online submissions for Single Number.\n",
    "Memory Usage: 16.7 MB, less than 7.23% of Python online submissions for Single Number."
   ]
  },
  {
   "cell_type": "markdown",
   "id": "834939f0",
   "metadata": {},
   "source": [
    "#### Solution 2"
   ]
  },
  {
   "cell_type": "code",
   "execution_count": 14,
   "id": "d78e4825",
   "metadata": {},
   "outputs": [],
   "source": [
    " def singleNumber(ums):\n",
    "        result = 0\n",
    "        for num in nums:\n",
    "            result ^= num\n",
    "        return result"
   ]
  },
  {
   "cell_type": "code",
   "execution_count": 15,
   "id": "cb4f5dd6",
   "metadata": {},
   "outputs": [
    {
     "data": {
      "text/plain": [
       "1"
      ]
     },
     "execution_count": 15,
     "metadata": {},
     "output_type": "execute_result"
    }
   ],
   "source": [
    "nums = [2,2,1]\n",
    "singleNumber(nums)"
   ]
  },
  {
   "cell_type": "code",
   "execution_count": 16,
   "id": "f697b759",
   "metadata": {},
   "outputs": [
    {
     "data": {
      "text/plain": [
       "4"
      ]
     },
     "execution_count": 16,
     "metadata": {},
     "output_type": "execute_result"
    }
   ],
   "source": [
    "nums = [4,1,2,1,2]\n",
    "singleNumber(nums)"
   ]
  },
  {
   "cell_type": "code",
   "execution_count": 17,
   "id": "710367fa",
   "metadata": {},
   "outputs": [
    {
     "data": {
      "text/plain": [
       "1"
      ]
     },
     "execution_count": 17,
     "metadata": {},
     "output_type": "execute_result"
    }
   ],
   "source": [
    "nums = [1]\n",
    "singleNumber(nums)"
   ]
  },
  {
   "cell_type": "markdown",
   "id": "71954b00",
   "metadata": {},
   "source": [
    "Runtime: 191 ms, faster than 35.50% of Python online submissions for Single Number.\n",
    "Memory Usage: 15.6 MB, less than 65.39% of Python online submissions for Single Number."
   ]
  },
  {
   "cell_type": "markdown",
   "id": "685aed58",
   "metadata": {},
   "source": [
    "#### Solution3"
   ]
  },
  {
   "cell_type": "code",
   "execution_count": 23,
   "id": "f42b57a6",
   "metadata": {},
   "outputs": [],
   "source": [
    "def singleNumber(nums):       \n",
    "    if len(nums) == 1:\n",
    "        return nums[0]\n",
    "\n",
    "    for i in range(len(nums)):\n",
    "        temp = nums[0]\n",
    "        nums[:] = nums[1:]\n",
    "        if temp not in nums:\n",
    "            return temp\n",
    "        else:\n",
    "            nums.remove(temp)"
   ]
  },
  {
   "cell_type": "code",
   "execution_count": 24,
   "id": "bed771be",
   "metadata": {},
   "outputs": [
    {
     "data": {
      "text/plain": [
       "1"
      ]
     },
     "execution_count": 24,
     "metadata": {},
     "output_type": "execute_result"
    }
   ],
   "source": [
    "nums = [2,2,1]\n",
    "singleNumber(nums)"
   ]
  },
  {
   "cell_type": "code",
   "execution_count": 25,
   "id": "48ee86ae",
   "metadata": {},
   "outputs": [
    {
     "data": {
      "text/plain": [
       "4"
      ]
     },
     "execution_count": 25,
     "metadata": {},
     "output_type": "execute_result"
    }
   ],
   "source": [
    "nums = [4,1,2,1,2]\n",
    "singleNumber(nums)"
   ]
  },
  {
   "cell_type": "code",
   "execution_count": 26,
   "id": "7e758c29",
   "metadata": {},
   "outputs": [
    {
     "data": {
      "text/plain": [
       "1"
      ]
     },
     "execution_count": 26,
     "metadata": {},
     "output_type": "execute_result"
    }
   ],
   "source": [
    "nums = [1]\n",
    "singleNumber(nums)"
   ]
  },
  {
   "cell_type": "markdown",
   "id": "f2ada320",
   "metadata": {},
   "source": [
    "Runtime: 3772 ms, faster than 12.62% of Python online submissions for Single Number.\n",
    "Memory Usage: 15.1 MB, less than 99.33% of Python online submissions for Single Number."
   ]
  }
 ],
 "metadata": {
  "kernelspec": {
   "display_name": "Python 3",
   "language": "python",
   "name": "python3"
  },
  "language_info": {
   "codemirror_mode": {
    "name": "ipython",
    "version": 3
   },
   "file_extension": ".py",
   "mimetype": "text/x-python",
   "name": "python",
   "nbconvert_exporter": "python",
   "pygments_lexer": "ipython3",
   "version": "3.8.8"
  }
 },
 "nbformat": 4,
 "nbformat_minor": 5
}
