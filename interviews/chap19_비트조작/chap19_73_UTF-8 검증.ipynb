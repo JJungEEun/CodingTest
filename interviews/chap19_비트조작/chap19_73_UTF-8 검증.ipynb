{
 "cells": [
  {
   "cell_type": "markdown",
   "id": "6f4330f7",
   "metadata": {},
   "source": [
    "### 73.UTF-8 검증 / 393. UTF-8 Validation"
   ]
  },
  {
   "cell_type": "markdown",
   "id": "bfbb5034",
   "metadata": {},
   "source": [
    "입력값이 UTF-8 문자열이 맞는지 검증하라"
   ]
  },
  {
   "cell_type": "markdown",
   "id": "01b84305",
   "metadata": {},
   "source": [
    "#### Solution 01"
   ]
  },
  {
   "cell_type": "code",
   "execution_count": 1,
   "id": "e3736078",
   "metadata": {},
   "outputs": [],
   "source": [
    "def validUtf8(data):\n",
    "        def check(size):\n",
    "            for i in range(start+1, start+size+1):\n",
    "                if i >= len(data) or (data[i]>>6) != 0b10:\n",
    "                    return False\n",
    "            return True\n",
    "        \n",
    "        start = 0\n",
    "        while start < len(data):\n",
    "            first = data[start]\n",
    "            if (first >> 3) == 0b11110 and check(3):\n",
    "                start += 4\n",
    "            elif (first >> 4) == 0b1110 and check(2):\n",
    "                start += 3\n",
    "            elif (first >> 5) == 0b110 and check(1):\n",
    "                start += 2\n",
    "            elif (first >> 7) == 0:\n",
    "                start += 1\n",
    "            else:\n",
    "                return False\n",
    "        return True"
   ]
  },
  {
   "cell_type": "code",
   "execution_count": 2,
   "id": "0913eaee",
   "metadata": {},
   "outputs": [
    {
     "data": {
      "text/plain": [
       "True"
      ]
     },
     "execution_count": 2,
     "metadata": {},
     "output_type": "execute_result"
    }
   ],
   "source": [
    "data = [197,130,1]\n",
    "validUtf8(data)"
   ]
  }
 ],
 "metadata": {
  "kernelspec": {
   "display_name": "Python 3",
   "language": "python",
   "name": "python3"
  },
  "language_info": {
   "codemirror_mode": {
    "name": "ipython",
    "version": 3
   },
   "file_extension": ".py",
   "mimetype": "text/x-python",
   "name": "python",
   "nbconvert_exporter": "python",
   "pygments_lexer": "ipython3",
   "version": "3.8.8"
  }
 },
 "nbformat": 4,
 "nbformat_minor": 5
}
