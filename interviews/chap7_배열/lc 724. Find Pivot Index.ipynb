{
 "cells": [
  {
   "cell_type": "markdown",
   "id": "ea43e1d5",
   "metadata": {},
   "source": [
    "### 724. Find Pivot Index"
   ]
  },
  {
   "cell_type": "markdown",
   "id": "77785ed9",
   "metadata": {},
   "source": [
    "### Solution 01"
   ]
  },
  {
   "cell_type": "code",
   "execution_count": 1,
   "id": "33997130",
   "metadata": {},
   "outputs": [],
   "source": [
    "class Solution(object):\n",
    "    def pivotIndex(nums):\n",
    "        \"\"\"\n",
    "        :type nums: List[int]\n",
    "        :rtype: int\n",
    "        \"\"\"\n",
    "        \n",
    "        for i in range(0, len(nums)):\n",
    "            if sum(nums[:i]) == sum(nums[i+1:]):\n",
    "                return i\n",
    "            \n",
    "        return -1"
   ]
  },
  {
   "cell_type": "code",
   "execution_count": 2,
   "id": "56b28945",
   "metadata": {},
   "outputs": [
    {
     "data": {
      "text/plain": [
       "3"
      ]
     },
     "execution_count": 2,
     "metadata": {},
     "output_type": "execute_result"
    }
   ],
   "source": [
    "nums = [1,7,3,6,5,6]\n",
    "Solution.pivotIndex(nums)"
   ]
  },
  {
   "cell_type": "markdown",
   "id": "d5a6b3f6",
   "metadata": {},
   "source": [
    "### Solution 02"
   ]
  },
  {
   "cell_type": "markdown",
   "id": "0c082c3f",
   "metadata": {},
   "source": [
    "Runtime: 4787 ms, faster than 15.63% of Python online submissions for Find Pivot Index.\n",
    "Memory Usage: 14.5 MBm less than 65.46% of Python online submissions for Find Pivot Index."
   ]
  },
  {
   "cell_type": "code",
   "execution_count": 4,
   "id": "0a56f20e",
   "metadata": {},
   "outputs": [],
   "source": [
    "class Solution(object):\n",
    "    def pivotIndex(nums):\n",
    "        \"\"\"\n",
    "        :type nums: List[int]\n",
    "        :rtype: int\n",
    "        \"\"\"\n",
    "        \n",
    "        S = sum(nums)\n",
    "        leftsum = 0\n",
    "        \n",
    "        for i, x in enumerate(nums):\n",
    "            if leftsum == (S - leftsum - x):\n",
    "                return i\n",
    "            leftsum += x\n",
    "        return -1"
   ]
  },
  {
   "cell_type": "code",
   "execution_count": 5,
   "id": "ac5dcf7f",
   "metadata": {},
   "outputs": [
    {
     "data": {
      "text/plain": [
       "3"
      ]
     },
     "execution_count": 5,
     "metadata": {},
     "output_type": "execute_result"
    }
   ],
   "source": [
    "nums = [1,7,3,6,5,6]\n",
    "Solution.pivotIndex(nums)"
   ]
  },
  {
   "cell_type": "markdown",
   "id": "d3da3901",
   "metadata": {},
   "source": [
    "Runtime: 168 ms, faster than 69.65% of Python online submissions for Find Pivot Index.\n",
    "Memory Usage: 14.3 MB, less than 95.48% of Python online submissions for Find Pivot Index."
   ]
  },
  {
   "cell_type": "code",
   "execution_count": null,
   "id": "ba5309e7",
   "metadata": {},
   "outputs": [],
   "source": []
  }
 ],
 "metadata": {
  "kernelspec": {
   "display_name": "Python 3",
   "language": "python",
   "name": "python3"
  },
  "language_info": {
   "codemirror_mode": {
    "name": "ipython",
    "version": 3
   },
   "file_extension": ".py",
   "mimetype": "text/x-python",
   "name": "python",
   "nbconvert_exporter": "python",
   "pygments_lexer": "ipython3",
   "version": "3.8.8"
  }
 },
 "nbformat": 4,
 "nbformat_minor": 5
}
