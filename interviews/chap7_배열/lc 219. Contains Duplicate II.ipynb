{
 "cells": [
  {
   "cell_type": "markdown",
   "id": "968bcec7",
   "metadata": {},
   "source": [
    "## lc 219. Contains Duplicate II\n",
    "\n",
    "Given an integer array nums and an integer k, return true if there are two distinct indices i and j in the array such that nums[i] == nums[j] and abs(i - j) <= k."
   ]
  },
  {
   "cell_type": "code",
   "execution_count": 1,
   "id": "943b6a88",
   "metadata": {},
   "outputs": [],
   "source": [
    "class Solution(object):\n",
    "    def containsNearbyDuplicate(self, nums, k):\n",
    "        \"\"\"\n",
    "        :type nums: List[int]\n",
    "        :type k: int\n",
    "        :rtype: bool\n",
    "        \"\"\"\n",
    "    \n",
    "        if len(set(nums)) == len(nums):\n",
    "                return False    \n",
    "        \n",
    "        \n",
    "        for i in range(len(nums)):\n",
    "            if len(nums[i:i+k+1])!=len(set(nums[i:i+k+1])):\n",
    "                return True\n",
    "        return False"
   ]
  },
  {
   "cell_type": "markdown",
   "id": "82def1d9",
   "metadata": {},
   "source": [
    "Runtime: 860 ms, faster than 42.58% of Python online submissions for Contains Duplicate II.\n",
    "Memory Usage: 23.7 MB, less than 87.03% of Python online submissions for Contains Duplicate II."
   ]
  }
 ],
 "metadata": {
  "kernelspec": {
   "display_name": "Python 3",
   "language": "python",
   "name": "python3"
  },
  "language_info": {
   "codemirror_mode": {
    "name": "ipython",
    "version": 3
   },
   "file_extension": ".py",
   "mimetype": "text/x-python",
   "name": "python",
   "nbconvert_exporter": "python",
   "pygments_lexer": "ipython3",
   "version": "3.8.8"
  }
 },
 "nbformat": 4,
 "nbformat_minor": 5
}
