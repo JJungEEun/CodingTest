{
 "cells": [
  {
   "cell_type": "markdown",
   "id": "c047b029",
   "metadata": {},
   "source": [
    "## 31. Next Permutation\n",
    "\n",
    "A permutation of an array of integers is an arrangement of its members into a sequence or linear order.\n",
    "\n",
    "- For example, for arr = [1,2,3], the following are all the permutations of arr: [1,2,3], [1,3,2], [2, 1, 3], [2, 3, 1], [3,1,2], [3,2,1].\n",
    "The next permutation of an array of integers is the next lexicographically greater permutation of its integer. More formally, if all the permutations of the array are sorted in one container according to their lexicographical order, then the next permutation of that array is the permutation that follows it in the sorted container. If such arrangement is not possible, the array must be rearranged as the lowest possible order (i.e., sorted in ascending order).\n",
    "\n",
    "- For example, the next permutation of arr = [1,2,3] is [1,3,2].\n",
    "- Similarly, the next permutation of arr = [2,3,1] is [3,1,2].\n",
    "- While the next permutation of arr = [3,2,1] is [1,2,3] because [3,2,1] does not have a lexicographical larger rearrangement.\n",
    "\n",
    "Given an array of integers nums, find the next permutation of nums.\n",
    "\n",
    "The replacement must be in place and use only constant extra memory."
   ]
  },
  {
   "cell_type": "markdown",
   "id": "f16200c9",
   "metadata": {},
   "source": [
    "**다음 순열 찾는 방법**\n",
    "\n",
    "    [1, 6, 9, 5, 4, 2, 1]\n",
    "    [1, 9, 6, 5, 4, 2, 1]\n",
    "    [1, 9, 1, 2, 4, 5, 6]\n",
    "\n",
    "1. 먼저 끝에서부터 요소를 찾아 처음으로 오름차순을 깨는 요소의 위치를 찾기. (i)\n",
    "2. i 이후 요소부터 nums[i]보다 큰 바로 다음숫자를 찾기(j)\n",
    "3. i와 j를 swap합니다.\n",
    "4. i 이후의 모든 요소를 정렬        \n",
    "        "
   ]
  },
  {
   "cell_type": "code",
   "execution_count": 1,
   "id": "220a2145",
   "metadata": {},
   "outputs": [],
   "source": [
    "class Solution(object):\n",
    "     def nextPermutation(nums):\n",
    "        \n",
    "        # 역배열 순열에서 이 역배열을 깨는 최초의 수(i)를 찾기 \n",
    "        i = len(nums) - 2\n",
    "        \n",
    "        while i > -1:\n",
    "            if nums[i] < nums[i + 1]:   \n",
    "                break\n",
    "            i -= 1\n",
    "            \n",
    "        #  i보다 큰 인덱스 중에서 이 최초의 수(역배열 깨는 수) 바로 다음으로 큰 수를 찾기(j)\n",
    "        j = i\n",
    "        min_large = sys.maxsize\n",
    "        for k in range(i, len(nums)):\n",
    "            if nums[k] > nums[i]:\n",
    "                min(min_large, nums[k]) \n",
    "                j = k\n",
    "        \n",
    "        # swap\n",
    "        temp = nums[j]\n",
    "        nums[j] = nums[i]\n",
    "        nums[i] = temp\n",
    "                \n",
    "        # 스왑을 하고 난 후 이 i 인덱스 이후의 순열들을 정렬\n",
    "        nums[i + 1:] = sorted(nums[i + 1:])\n",
    "\n",
    "        "
   ]
  }
 ],
 "metadata": {
  "kernelspec": {
   "display_name": "Python 3",
   "language": "python",
   "name": "python3"
  },
  "language_info": {
   "codemirror_mode": {
    "name": "ipython",
    "version": 3
   },
   "file_extension": ".py",
   "mimetype": "text/x-python",
   "name": "python",
   "nbconvert_exporter": "python",
   "pygments_lexer": "ipython3",
   "version": "3.8.8"
  }
 },
 "nbformat": 4,
 "nbformat_minor": 5
}
