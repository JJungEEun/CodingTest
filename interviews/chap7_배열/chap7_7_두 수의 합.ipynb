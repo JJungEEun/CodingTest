{
 "cells": [
  {
   "cell_type": "markdown",
   "id": "d06f0411",
   "metadata": {},
   "source": [
    "# 두 수의 합"
   ]
  },
  {
   "cell_type": "markdown",
   "id": "82096eb2",
   "metadata": {},
   "source": [
    "### 덧셈하여 타겟을 만들 수 있는 배열의 두 숫자 엔덱스를 리턴하라"
   ]
  },
  {
   "cell_type": "markdown",
   "id": "075a922d",
   "metadata": {},
   "source": [
    "example 1)\n",
    "\n",
    "Input: nums = [2,7,11,15], target = 9\n",
    "    \n",
    "Output: [0,1]"
   ]
  },
  {
   "cell_type": "markdown",
   "id": "970b27a7",
   "metadata": {},
   "source": [
    "### 01) My Solution"
   ]
  },
  {
   "cell_type": "code",
   "execution_count": 1,
   "id": "6b82c3a2",
   "metadata": {},
   "outputs": [],
   "source": [
    "def twoSum(nums, target):\n",
    "    ans = []\n",
    "    for i in range(0, len(nums)):\n",
    "        left, right = i, len(nums)-1\n",
    "        while left < right:\n",
    "            if nums[left] + nums[right] == target:\n",
    "                ans.append(left)\n",
    "                ans.append(right)\n",
    "            right -= 1\n",
    "                \n",
    "        return ans"
   ]
  },
  {
   "cell_type": "code",
   "execution_count": 4,
   "id": "95eed3d0",
   "metadata": {},
   "outputs": [
    {
     "data": {
      "text/plain": [
       "[0, 1]"
      ]
     },
     "execution_count": 4,
     "metadata": {},
     "output_type": "execute_result"
    }
   ],
   "source": [
    "nums = [2,7,11,15]\n",
    "target = 9\n",
    "\n",
    "twoSum(nums, target)"
   ]
  },
  {
   "cell_type": "markdown",
   "id": "bfb70c9d",
   "metadata": {},
   "source": [
    "Runtime: 6028 ms / Memory Usage: 13.9 MB\n",
    "        \n",
    "투 포인터와 반복문을 사용해서 문제를 풀었다.\n",
    "하지만 runtime과 memory가 엉망진창이다"
   ]
  },
  {
   "cell_type": "markdown",
   "id": "352a2803",
   "metadata": {},
   "source": [
    "### 02) 브루트 포스로 계산"
   ]
  },
  {
   "cell_type": "code",
   "execution_count": 5,
   "id": "e7be4bce",
   "metadata": {},
   "outputs": [],
   "source": [
    "def twoSum(nums, target):\n",
    "    for i in range(len(nums)):\n",
    "        for j in range(i+1, len(nums)):\n",
    "            if nums[i] + nums[j] == target:\n",
    "                return [i, j]"
   ]
  },
  {
   "cell_type": "code",
   "execution_count": 6,
   "id": "32623215",
   "metadata": {},
   "outputs": [
    {
     "data": {
      "text/plain": [
       "[0, 1]"
      ]
     },
     "execution_count": 6,
     "metadata": {},
     "output_type": "execute_result"
    }
   ],
   "source": [
    "nums = [2,7,11,15]\n",
    "target = 9\n",
    "\n",
    "twoSum(nums, target)"
   ]
  },
  {
   "cell_type": "markdown",
   "id": "bd9514ea",
   "metadata": {},
   "source": [
    "Runtine: 4845 ms / Memory Usage14.1 MB"
   ]
  },
  {
   "cell_type": "markdown",
   "id": "80b88d06",
   "metadata": {},
   "source": [
    "브루트 포스 또한 내 풀이와 같이 느리다. \n",
    "시간은 O(n^2)이다 "
   ]
  },
  {
   "cell_type": "markdown",
   "id": "190d0a1b",
   "metadata": {},
   "source": [
    "### 03) in을 이용한 탐색"
   ]
  },
  {
   "cell_type": "code",
   "execution_count": 38,
   "id": "4646f3b7",
   "metadata": {},
   "outputs": [],
   "source": [
    "def twoSum(nums, target):\n",
    "    for i, n in enumerate(nums):\n",
    "        complement = target - n\n",
    "        if complement in nums[i+1:]:\n",
    "            return [nums.index(n), nums[i+1:].index(complement)+(i+1)]"
   ]
  },
  {
   "cell_type": "code",
   "execution_count": 39,
   "id": "dd9de2ac",
   "metadata": {},
   "outputs": [
    {
     "data": {
      "text/plain": [
       "[0, 1]"
      ]
     },
     "execution_count": 39,
     "metadata": {},
     "output_type": "execute_result"
    }
   ],
   "source": [
    "nums = [2,7,11,15]\n",
    "target = 9\n",
    "\n",
    "twoSum(nums, target)"
   ]
  },
  {
   "cell_type": "markdown",
   "id": "95cbcd92",
   "metadata": {},
   "source": [
    "Runtime: 556 ms / Memory Usage: 14 MB\n",
    "\n",
    "시간 복잡도는 위에 1, 2번과 동일하게 O(n^2)이지만 in 연산이 훨씬 가볍고 빠르다"
   ]
  },
  {
   "cell_type": "code",
   "execution_count": null,
   "id": "679cb3e8",
   "metadata": {},
   "outputs": [],
   "source": []
  }
 ],
 "metadata": {
  "kernelspec": {
   "display_name": "Python 3",
   "language": "python",
   "name": "python3"
  },
  "language_info": {
   "codemirror_mode": {
    "name": "ipython",
    "version": 3
   },
   "file_extension": ".py",
   "mimetype": "text/x-python",
   "name": "python",
   "nbconvert_exporter": "python",
   "pygments_lexer": "ipython3",
   "version": "3.8.8"
  }
 },
 "nbformat": 4,
 "nbformat_minor": 5
}
