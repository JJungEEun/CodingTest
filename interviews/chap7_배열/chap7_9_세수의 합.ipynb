{
 "cells": [
  {
   "cell_type": "markdown",
   "id": "c496e5dd",
   "metadata": {},
   "source": [
    "# 세 수의 합"
   ]
  },
  {
   "cell_type": "markdown",
   "id": "ef515c6d",
   "metadata": {},
   "source": [
    "### 배열을 입력받아 합으로 0을 만들 수 있는 3개의 앨리먼트를 출력해라"
   ]
  },
  {
   "cell_type": "markdown",
   "id": "ea2af223",
   "metadata": {},
   "source": [
    "example)\n",
    "\n",
    "Input: nums = [-1,0,1,2,-1,-4]\n",
    "    \n",
    "Output: [[-1,-1,2],[-1,0,1]]"
   ]
  },
  {
   "cell_type": "markdown",
   "id": "3908923e",
   "metadata": {},
   "source": [
    "### 0) My Solution"
   ]
  },
  {
   "cell_type": "code",
   "execution_count": 5,
   "id": "04fba041",
   "metadata": {},
   "outputs": [],
   "source": [
    "def threeSum(nums):\n",
    "    result = []\n",
    "    nums.sort()\n",
    "        \n",
    "    for i in range(0, len(nums)):\n",
    "        left, right =  i+1, len(nums)-1\n",
    "        while (left < right):\n",
    "            sum = nums[i] + nums[left] + nums[right]\n",
    "                \n",
    "            if (sum < 0):\n",
    "                left += 1\n",
    "            elif (sum > 0):\n",
    "                right -= 1\n",
    "            else:\n",
    "                ans = [nums[i], nums[left], nums[right]]\n",
    "                if ans in result:\n",
    "                    pass \n",
    "                else:\n",
    "                    result.append([nums[i], nums[left], nums[right]])\n",
    "                left += 1\n",
    "    return result"
   ]
  },
  {
   "cell_type": "code",
   "execution_count": 6,
   "id": "e2e36d2c",
   "metadata": {},
   "outputs": [
    {
     "data": {
      "text/plain": [
       "[[-1, -1, 2], [-1, 0, 1]]"
      ]
     },
     "execution_count": 6,
     "metadata": {},
     "output_type": "execute_result"
    }
   ],
   "source": [
    "nums = [-1,0,1,2,-1,-4]\n",
    "threeSum(nums)"
   ]
  },
  {
   "cell_type": "markdown",
   "id": "52fb8382",
   "metadata": {},
   "source": [
    "Runtime: 7052 ms / Memory Usage: 16.8 MB\n",
    "문제를 풀긴 했지만 시간이 너무 오래걸린다 \n",
    "최적화할 수 있는 방법 필요할 듯"
   ]
  },
  {
   "cell_type": "markdown",
   "id": "ec760ca9",
   "metadata": {},
   "source": [
    "### 1) 투 포인터로 합 계산"
   ]
  },
  {
   "cell_type": "code",
   "execution_count": 19,
   "id": "be4276e8",
   "metadata": {},
   "outputs": [],
   "source": [
    "def threeSum(nums):\n",
    "    \n",
    "    results = []\n",
    "    nums.sort()\n",
    "    \n",
    "    #중복값 건너뛰기\n",
    "    for i in range(len(nums)-2):\n",
    "        if i >0 and nums[i] == nums[i-1]:\n",
    "            continue\n",
    "    \n",
    "        #투포인터 이동하며 sum 계산하기\n",
    "        left, right = i+1, len(nums)-1\n",
    "        while left<right:\n",
    "            sum = nums[i] + nums[left] + nums[right]\n",
    "            if sum < 0:\n",
    "                left += 1\n",
    "            elif sum > 0:\n",
    "                right -= 1\n",
    "            else:\n",
    "                results.append([nums[i], nums[left], nums[right]])\n",
    "                left +=1\n",
    "                right-=1\n",
    "    return results"
   ]
  },
  {
   "cell_type": "code",
   "execution_count": 20,
   "id": "1294bbf2",
   "metadata": {},
   "outputs": [
    {
     "data": {
      "text/plain": [
       "[[-1, -1, 2], [-1, 0, 1]]"
      ]
     },
     "execution_count": 20,
     "metadata": {},
     "output_type": "execute_result"
    }
   ],
   "source": [
    "nums = [-1,0,1,2,-1,-4]\n",
    "threeSum(nums)"
   ]
  },
  {
   "cell_type": "code",
   "execution_count": 24,
   "id": "b82934bd",
   "metadata": {},
   "outputs": [],
   "source": [
    "def threeSum(nums):\n",
    "    results = []\n",
    "    nums.sort()\n",
    "\n",
    "    #중복값 건너뛰기\n",
    "    for i in range(len(nums)-2):\n",
    "        if i >0 and nums[i] == nums[i-1]:\n",
    "            continue\n",
    "\n",
    "        #투포인터 이동하며 sum 계산하기\n",
    "        left, right = i+1, len(nums)-1\n",
    "        while left<right:\n",
    "            sum = nums[i] + nums[left] + nums[right]\n",
    "            if sum < 0:\n",
    "                left += 1\n",
    "            elif sum > 0:\n",
    "                right -= 1\n",
    "            else:\n",
    "                results.append([nums[i], nums[left], nums[right]])\n",
    "\n",
    "                #left, right 동일한 값 있을 경우\n",
    "                while left< right and nums[left] == nums[left +1]:\n",
    "                    left += 1\n",
    "                while left < right and nums[right] == nums[right-1]:\n",
    "                    right-=1\n",
    "                left +=1\n",
    "                right -= 1\n",
    "    return results"
   ]
  },
  {
   "cell_type": "code",
   "execution_count": 25,
   "id": "70f0f2af",
   "metadata": {},
   "outputs": [
    {
     "data": {
      "text/plain": [
       "[[-1, -1, 2], [-1, 0, 1]]"
      ]
     },
     "execution_count": 25,
     "metadata": {},
     "output_type": "execute_result"
    }
   ],
   "source": [
    "nums = [-1,0,1,2,-1,-4]\n",
    "threeSum(nums)"
   ]
  },
  {
   "cell_type": "markdown",
   "id": "54ba6d58",
   "metadata": {},
   "source": [
    "Runtime: 905 ms / Memory Usage: 16.9 MB\n",
    "        \n",
    "중복값 건너뛰기, 동일한 값 확인 부분을 추가하면 더 효율적으로 코드를 짤 수 있음"
   ]
  },
  {
   "cell_type": "markdown",
   "id": "d4d7fc1a",
   "metadata": {},
   "source": [
    "### 2) 브르투 포스로 계산"
   ]
  },
  {
   "cell_type": "code",
   "execution_count": 29,
   "id": "52605ebe",
   "metadata": {},
   "outputs": [],
   "source": [
    "def threeSum(nums):\n",
    "    result = []\n",
    "    nums.sort()\n",
    "    \n",
    "    #브르투 포스 n^3 반복\n",
    "    for i in range(len(nums)-2):\n",
    "        #중복값 건너뛰기\n",
    "        if i >0 and nums[i] == nums[i-1]:\n",
    "            continue\n",
    "        for j in range(i+1, len(nums)-1):\n",
    "            if j >  i+1 and nums[j] == nums[j-1]:\n",
    "                continue\n",
    "            for k in range(j+1, len(nums)):\n",
    "                if k >j+1 and nums[k] == nums[k-1]:\n",
    "                    continue\n",
    "                if nums[i] + nums[j] + nums[k] == 0:\n",
    "                    result.append([nums[i], nums[j], nums[k]])\n",
    "    \n",
    "    return result"
   ]
  },
  {
   "cell_type": "code",
   "execution_count": 30,
   "id": "330d9ca1",
   "metadata": {},
   "outputs": [
    {
     "data": {
      "text/plain": [
       "[[-1, -1, 2], [-1, 0, 1]]"
      ]
     },
     "execution_count": 30,
     "metadata": {},
     "output_type": "execute_result"
    }
   ],
   "source": [
    "nums = [-1,0,1,2,-1,-4]\n",
    "threeSum(nums)"
   ]
  },
  {
   "cell_type": "markdown",
   "id": "64b8c0cd",
   "metadata": {},
   "source": [
    "타임아웃으로 실패"
   ]
  },
  {
   "cell_type": "code",
   "execution_count": null,
   "id": "badda856",
   "metadata": {},
   "outputs": [],
   "source": []
  }
 ],
 "metadata": {
  "kernelspec": {
   "display_name": "Python 3",
   "language": "python",
   "name": "python3"
  },
  "language_info": {
   "codemirror_mode": {
    "name": "ipython",
    "version": 3
   },
   "file_extension": ".py",
   "mimetype": "text/x-python",
   "name": "python",
   "nbconvert_exporter": "python",
   "pygments_lexer": "ipython3",
   "version": "3.8.8"
  }
 },
 "nbformat": 4,
 "nbformat_minor": 5
}
