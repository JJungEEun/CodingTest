{
 "cells": [
  {
   "cell_type": "markdown",
   "id": "443d3d4a",
   "metadata": {},
   "source": [
    "## lc 217. Contains Duplicate\n",
    "---\n",
    "\n",
    "Given an integer array nums, return true if any value appears **at least twice** in the array, and return false if every element is distinct.\n",
    "\n",
    "\n",
    "    Input: nums = [1,2,3,1]\n",
    "    Output: true\n",
    "\n",
    "    Input: nums = [1,2,3,4]\n",
    "    Output: false\n",
    "\n",
    "    Input: nums = [1,1,1,3,3,4,3,2,4,2]\n",
    "    Output: true\n"
   ]
  },
  {
   "cell_type": "markdown",
   "id": "140734bd",
   "metadata": {},
   "source": [
    "### Solution 01"
   ]
  },
  {
   "cell_type": "code",
   "execution_count": 1,
   "id": "b4daa629",
   "metadata": {},
   "outputs": [],
   "source": [
    "class Solution(object):\n",
    "    def containsDuplicate(self, nums):\n",
    "        \"\"\"\n",
    "        :type nums: List[int]\n",
    "        :rtype: bool\n",
    "        \"\"\"\n",
    "        \n",
    "        nums.sort()\n",
    "        for i in range(0, len(nums)-1):\n",
    "            if nums[i] == nums[i+1]:\n",
    "                return True\n",
    "    \n",
    "        return False"
   ]
  },
  {
   "cell_type": "markdown",
   "id": "f66481b5",
   "metadata": {},
   "source": [
    "Runtime: 576 ms, faster than 48.30% of Python online submissions for Contains Duplicate.\n",
    "Memory Usage: 22.4 MB, less than 93.42% of Python online submissions for Contains Duplicate."
   ]
  },
  {
   "cell_type": "markdown",
   "id": "eef52f49",
   "metadata": {},
   "source": [
    "### Solution 02"
   ]
  },
  {
   "cell_type": "code",
   "execution_count": 3,
   "id": "e0aac592",
   "metadata": {},
   "outputs": [],
   "source": [
    "class Solution(object):\n",
    "    def containsDuplicate(self, nums):\n",
    "        \"\"\"\n",
    "        :type nums: List[int]\n",
    "        :rtype: bool\n",
    "        \"\"\"\n",
    "        \n",
    "        num_dict = {}\n",
    "        \n",
    "        for i in nums:\n",
    "            if i not in num_dict:\n",
    "                num_dict[i] = 1\n",
    "                \n",
    "            else:\n",
    "                return True\n",
    "            \n",
    "        return False"
   ]
  },
  {
   "cell_type": "markdown",
   "id": "75dc6ed5",
   "metadata": {},
   "source": [
    "Runtime: 675 ms, faster than 26.80% of Python online submissions for Contains Duplicate.\n",
    "Memory Usage: 24.1 MB, less than 8.79% of Python online submissions for Contains Duplicate."
   ]
  }
 ],
 "metadata": {
  "kernelspec": {
   "display_name": "Python 3",
   "language": "python",
   "name": "python3"
  },
  "language_info": {
   "codemirror_mode": {
    "name": "ipython",
    "version": 3
   },
   "file_extension": ".py",
   "mimetype": "text/x-python",
   "name": "python",
   "nbconvert_exporter": "python",
   "pygments_lexer": "ipython3",
   "version": "3.8.8"
  }
 },
 "nbformat": 4,
 "nbformat_minor": 5
}
