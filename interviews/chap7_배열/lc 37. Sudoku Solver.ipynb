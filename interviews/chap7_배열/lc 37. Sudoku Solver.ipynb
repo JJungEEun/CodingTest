{
 "cells": [
  {
   "cell_type": "markdown",
   "id": "761bf32d",
   "metadata": {},
   "source": [
    "## 37. Sudoku Solver\n",
    "\n",
    "Write a program to solve a Sudoku puzzle by filling the empty cells.\n",
    "\n",
    "A sudoku solution must satisfy all of the following rules:\n",
    "\n",
    "1. Each of the digits 1-9 must occur exactly once in each row.\n",
    "2. Each of the digits 1-9 must occur exactly once in each column.\n",
    "3. Each of the digits 1-9 must occur exactly once in each of the 9 3x3 sub-boxes of the grid.\n",
    "The '.' character indicates empty cells.\n",
    "\n",
    "**Constraints:**\n",
    "\n",
    "- board.length == 9\n",
    "- board[i].length == 9\n",
    "- board[i][j] is a digit or '.'.\n",
    "- It is guaranteed that the input board has only one solution."
   ]
  },
  {
   "cell_type": "markdown",
   "id": "b2408bc8",
   "metadata": {},
   "source": [
    "    Input: board = \n",
    "    [[\"5\",\"3\",\".\",\".\",\"7\",\".\",\".\",\".\",\".\"],\n",
    "    [\"6\",\".\",\".\",\"1\",\"9\",\"5\",\".\",\".\",\".\"],\n",
    "    [\".\",\"9\",\"8\",\".\",\".\",\".\",\".\",\"6\",\".\"],\n",
    "    [\"8\",\".\",\".\",\".\",\"6\",\".\",\".\",\".\",\"3\"],\n",
    "    [\"4\",\".\",\".\",\"8\",\".\",\"3\",\".\",\".\",\"1\"],\n",
    "    [\"7\",\".\",\".\",\".\",\"2\",\".\",\".\",\".\",\"6\"],\n",
    "    [\".\",\"6\",\".\",\".\",\".\",\".\",\"2\",\"8\",\".\"],\n",
    "    [\".\",\".\",\".\",\"4\",\"1\",\"9\",\".\",\".\",\"5\"],\n",
    "    [\".\",\".\",\".\",\".\",\"8\",\".\",\".\",\"7\",\"9\"]]\n",
    "    \n",
    "    Output: \n",
    "    [[\"5\",\"3\",\"4\",\"6\",\"7\",\"8\",\"9\",\"1\",\"2\"],\n",
    "    [\"6\",\"7\",\"2\",\"1\",\"9\",\"5\",\"3\",\"4\",\"8\"],\n",
    "    [\"1\",\"9\",\"8\",\"3\",\"4\",\"2\",\"5\",\"6\",\"7\"],\n",
    "    [\"8\",\"5\",\"9\",\"7\",\"6\",\"1\",\"4\",\"2\",\"3\"],\n",
    "    [\"4\",\"2\",\"6\",\"8\",\"5\",\"3\",\"7\",\"9\",\"1\"],\n",
    "    [\"7\",\"1\",\"3\",\"9\",\"2\",\"4\",\"8\",\"5\",\"6\"],\n",
    "    [\"9\",\"6\",\"1\",\"5\",\"3\",\"7\",\"2\",\"8\",\"4\"],\n",
    "    [\"2\",\"8\",\"7\",\"4\",\"1\",\"9\",\"6\",\"3\",\"5\"],\n",
    "    [\"3\",\"4\",\"5\",\"2\",\"8\",\"6\",\"1\",\"7\",\"9\"]]\n",
    "    \n",
    "    Explanation: The input board is shown above and the only valid solution is shown below:"
   ]
  },
  {
   "cell_type": "markdown",
   "id": "dab5be98",
   "metadata": {},
   "source": [
    "### Soltuion 01"
   ]
  },
  {
   "cell_type": "code",
   "execution_count": 3,
   "id": "df50f752",
   "metadata": {},
   "outputs": [],
   "source": [
    "class Solution(object):\n",
    "    def solveSudoku(self, board):\n",
    "        \"\"\"\n",
    "        :type board: List[List[str]]\n",
    "        :rtype: None Do not return anything, modify board in-place instead.\n",
    "        \"\"\"\n",
    "        \n",
    "        def backtrack(board, row, col):\n",
    "            # 다음 빈 공간으로 이동\n",
    "            while board[row][col] != '.':\n",
    "                col += 1\n",
    "                if col == 9: col, row = 0 , row+1\n",
    "                if row == 9: return True\n",
    "            \n",
    "            # Try all options, backtracking if not work\n",
    "            for k in range(1,10):\n",
    "                if isValidSudokuMove(board, row, col, str(k)):\n",
    "                    board[row][col] = str(k) # options을 통과하면 해당 자리를 k로 변경\n",
    "                    if backtrack(board, row, col):\n",
    "                        return True\n",
    "            \n",
    "            board[row][col] = '.'\n",
    "            return False\n",
    "        \n",
    "        def isValidSudokuMove(board, row, col, cand):\n",
    "            # row\n",
    "            if any(board[row][j] == cand for j in range(9)): return False\n",
    "            # col\n",
    "            if any(board[i][col] == cand for i in range(9)): return False\n",
    "            \n",
    "            # box(3*3)\n",
    "            br, bc = 3*(row//3), 3*(col//3) # (0,2) 자리가 들어오면 (0,0)~(3,3)를 살펴보기 위함\n",
    "            if any(board[i][j] == cand for i in range(br, br+3) for j in range(bc,bc+3)): return False\n",
    "            \n",
    "            return True\n",
    "        \n",
    "        \n",
    "        \n",
    "        backtrack(board,0,0)"
   ]
  },
  {
   "cell_type": "markdown",
   "id": "964d25c2",
   "metadata": {},
   "source": [
    "Runtime: 1260 ms, faster than 14.52% of Python online submissions for Sudoku Solver.\n",
    "Memory Usage: 13.6 MB, less than 65.98% of Python online submissions for Sudoku Solver."
   ]
  },
  {
   "cell_type": "markdown",
   "id": "3d36b196",
   "metadata": {},
   "source": [
    "### Solution 02"
   ]
  },
  {
   "cell_type": "code",
   "execution_count": 4,
   "id": "e9011ec1",
   "metadata": {},
   "outputs": [],
   "source": [
    "class Solution(object):\n",
    "    def solveSudoku(self, board):\n",
    "        \"\"\"\n",
    "        :type board: List[List[str]]\n",
    "        :rtype: None Do not return anything, modify board in-place instead.\n",
    "        \"\"\"\n",
    "        \n",
    "        lstKeys = []\n",
    "\n",
    "        rowVals = [[True] * 10 for i in range(9)]\n",
    "        colVals = [[True] * 10 for i in range(9)]\n",
    "        boxVals = [[True] * 10 for i in range(9)]\n",
    "\n",
    "        for i in range(9):\n",
    "            for j in range(9):\n",
    "                theDigit = board[i][j]\n",
    "                k = i // 3 * 3 + j // 3\n",
    "                if theDigit == '.':\n",
    "                    lstKeys.append((i, j, k))\n",
    "                else:\n",
    "                    # at this point all the cells must be True, otherwise the input is invalid\n",
    "                    theDigit = int(theDigit)\n",
    "                    rowVals[i][theDigit] = colVals[j][theDigit] = boxVals[k][theDigit] = False \n",
    "                    # row, col, box에 저장된 수는 False로 변경\n",
    "                    # ex) (3,3) = 6\n",
    "                    # rowvals[3][6] = colVals[3][6] = boxVals[4][6] = False\n",
    "\n",
    "        def SudokuSolver(indx):\n",
    "            if indx == lstKeys_len: return True\n",
    "\n",
    "            r, c, b = lstKeys[indx]\n",
    "            cands = []\n",
    "            for n in range(1, 10):\n",
    "                if rowVals[r][n] and colVals[c][n] and boxVals[b][n]: #(r,c)이 True인 값 탐색 \n",
    "                    # rowvals[0]의 값이 [F,F,F,F,T,F,F,F,T,T]라면 현재 row에 들어갈 수 있는 값은 4,8,9\n",
    "                    cands.append(n)\n",
    "            \n",
    "            for n in cands: #4,8,9 중 가능한 값 탐색\n",
    "                rowVals[r][n] = colVals[c][n] = boxVals[b][n] = False\n",
    "\n",
    "                if SudokuSolver(indx + 1):\n",
    "                    board[r][c] = str(n) \n",
    "                    return True\n",
    "                \n",
    "                rowVals[r][n] = colVals[c][n] = boxVals[b][n] = True\n",
    "\n",
    "            return False\n",
    "\n",
    "        \n",
    "        lstKeys_len = len(lstKeys)\n",
    "\n",
    "        SudokuSolver(0)"
   ]
  },
  {
   "cell_type": "markdown",
   "id": "77acc498",
   "metadata": {},
   "source": [
    "Runtime: 189 ms, faster than 78.42% of Python online submissions for Sudoku Solver.\n",
    "Memory Usage: 13.8 MB, less than 22.82% of Python online submissions for Sudoku Solver."
   ]
  }
 ],
 "metadata": {
  "kernelspec": {
   "display_name": "Python 3",
   "language": "python",
   "name": "python3"
  },
  "language_info": {
   "codemirror_mode": {
    "name": "ipython",
    "version": 3
   },
   "file_extension": ".py",
   "mimetype": "text/x-python",
   "name": "python",
   "nbconvert_exporter": "python",
   "pygments_lexer": "ipython3",
   "version": "3.8.8"
  }
 },
 "nbformat": 4,
 "nbformat_minor": 5
}
