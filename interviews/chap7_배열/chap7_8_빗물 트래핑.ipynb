{
 "cells": [
  {
   "cell_type": "markdown",
   "id": "d1318e2e",
   "metadata": {},
   "source": [
    "## 빗물 트래핑"
   ]
  },
  {
   "cell_type": "markdown",
   "id": "1f635b61",
   "metadata": {},
   "source": [
    "### 투 포인터를 최대로 이용"
   ]
  },
  {
   "cell_type": "code",
   "execution_count": 2,
   "id": "fd4ef996",
   "metadata": {},
   "outputs": [],
   "source": [
    "class Solution:\n",
    "    def trap(self, height):\n",
    "        if not height:\n",
    "            return 0\n",
    "\n",
    "        volume = 0\n",
    "        left, right = 0, len(height) - 1\n",
    "        left_max, right_max = height[left], height[right]\n",
    "\n",
    "        while left < right:\n",
    "            left_max, right_max = max(height[left], left_max), max(height[right], right_max)\n",
    "            # 더 높은 쪽을 향해 투 포인터 이동\n",
    "            if left_max <= right_max:\n",
    "                volume += left_max - height[left]\n",
    "                left += 1\n",
    "            else:\n",
    "                volume += right_max - height[right]\n",
    "                right -= 1\n",
    "        return volume"
   ]
  },
  {
   "cell_type": "markdown",
   "id": "b00f1b1c",
   "metadata": {},
   "source": [
    "### Stack 쌓기"
   ]
  },
  {
   "cell_type": "code",
   "execution_count": 3,
   "id": "5e869e47",
   "metadata": {},
   "outputs": [],
   "source": [
    "def trap(self, height):\n",
    "    stack = []\n",
    "    volume = 0\n",
    "\n",
    "    for i in range(len(height)):\n",
    "        # ① 변곡점을 만나는 경우     \n",
    "        while stack and height[i] > height[stack[-1]]:\n",
    "            # ②스택에서 꺼낸다\n",
    "            top = stack.pop()\n",
    "\n",
    "            if not len(stack):\n",
    "                break\n",
    "\n",
    "            # 이전과의 차이만큼 물 높이 처리\n",
    "            distance = i - stack[-1] - 1\n",
    "            waters = min(height[i], height[stack[-1]]) - height[top]\n",
    "\n",
    "            volume += distance * waters\n",
    "\n",
    "        stack.append(i)\n",
    "    return volume"
   ]
  },
  {
   "cell_type": "code",
   "execution_count": null,
   "id": "920c8657",
   "metadata": {},
   "outputs": [],
   "source": []
  }
 ],
 "metadata": {
  "kernelspec": {
   "display_name": "Python 3",
   "language": "python",
   "name": "python3"
  },
  "language_info": {
   "codemirror_mode": {
    "name": "ipython",
    "version": 3
   },
   "file_extension": ".py",
   "mimetype": "text/x-python",
   "name": "python",
   "nbconvert_exporter": "python",
   "pygments_lexer": "ipython3",
   "version": "3.8.8"
  }
 },
 "nbformat": 4,
 "nbformat_minor": 5
}
