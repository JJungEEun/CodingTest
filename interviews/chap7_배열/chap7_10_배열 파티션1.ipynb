{
 "cells": [
  {
   "cell_type": "markdown",
   "id": "e5953c70",
   "metadata": {},
   "source": [
    "# 배열 파티션"
   ]
  },
  {
   "cell_type": "markdown",
   "id": "75114128",
   "metadata": {},
   "source": [
    "### n개의 페어를 이용한 min(a, b)의 합으로 만들 수 있는 가장 큰 수를 출력하라"
   ]
  },
  {
   "cell_type": "markdown",
   "id": "4ce39db5",
   "metadata": {},
   "source": [
    "Example)\n",
    "\n",
    "Input: nums = [1,4,3,2]\n",
    "    \n",
    "Output: 4\n",
    "    \n",
    "Explanation: All possible pairings (ignoring the ordering of elements) are:\n",
    "1. (1, 4), (2, 3) -> min(1, 4) + min(2, 3) = 1 + 2 = 3\n",
    "2. (1, 3), (2, 4) -> min(1, 3) + min(2, 4) = 1 + 2 = 3\n",
    "3. (1, 2), (3, 4) -> min(1, 2) + min(3, 4) = 1 + 3 = 4\n",
    "So the maximum possible sum is 4."
   ]
  },
  {
   "cell_type": "markdown",
   "id": "07bcb5eb",
   "metadata": {},
   "source": [
    "### 0) My Solution"
   ]
  },
  {
   "cell_type": "code",
   "execution_count": 5,
   "id": "5b822333",
   "metadata": {},
   "outputs": [],
   "source": [
    "def arrayPairSum(nums):\n",
    "        nums.sort()\n",
    "        return sum(nums[::2])"
   ]
  },
  {
   "cell_type": "code",
   "execution_count": 6,
   "id": "cdc9ca3e",
   "metadata": {},
   "outputs": [
    {
     "data": {
      "text/plain": [
       "4"
      ]
     },
     "execution_count": 6,
     "metadata": {},
     "output_type": "execute_result"
    }
   ],
   "source": [
    "nums = [1,4,3,2]\n",
    "arrayPairSum(nums)"
   ]
  },
  {
   "cell_type": "code",
   "execution_count": 10,
   "id": "512d0aeb",
   "metadata": {},
   "outputs": [
    {
     "data": {
      "text/plain": [
       "[1, 3]"
      ]
     },
     "execution_count": 10,
     "metadata": {},
     "output_type": "execute_result"
    }
   ],
   "source": [
    "nums = [1,2,3,4]\n",
    "\n",
    "nums[::2]"
   ]
  },
  {
   "cell_type": "markdown",
   "id": "d3c1b8d4",
   "metadata": {},
   "source": [
    "Runtime: 367 ms / Memory15.4 MB"
   ]
  },
  {
   "cell_type": "markdown",
   "id": "51f5822f",
   "metadata": {},
   "source": [
    "### 1) 오름차순"
   ]
  },
  {
   "cell_type": "code",
   "execution_count": 11,
   "id": "b21fae86",
   "metadata": {},
   "outputs": [],
   "source": [
    "def arrayPairSum(nums):\n",
    "    sum = 0\n",
    "    pair = []\n",
    "    nums.sort()\n",
    "    \n",
    "    for n in nums:\n",
    "        #앞에서부터 2개의 pair 생성\n",
    "        pair.append(n)\n",
    "        if len(pair) == 2:\n",
    "            sum += min(pair)\n",
    "            pair =[]\n",
    "    return sum"
   ]
  },
  {
   "cell_type": "code",
   "execution_count": 12,
   "id": "c8c56f4c",
   "metadata": {},
   "outputs": [
    {
     "data": {
      "text/plain": [
       "4"
      ]
     },
     "execution_count": 12,
     "metadata": {},
     "output_type": "execute_result"
    }
   ],
   "source": [
    "nums = [1,4,3,2]\n",
    "arrayPairSum(nums)"
   ]
  },
  {
   "cell_type": "markdown",
   "id": "39418421",
   "metadata": {},
   "source": [
    "Runtime: 321 ms / Memory:15.6 MB"
   ]
  },
  {
   "cell_type": "markdown",
   "id": "7db91892",
   "metadata": {},
   "source": [
    "### 2) 짝수번째 값 계산"
   ]
  },
  {
   "cell_type": "code",
   "execution_count": 13,
   "id": "62f8da58",
   "metadata": {},
   "outputs": [],
   "source": [
    "def arrayPairSum(nums):\n",
    "    sum = 0\n",
    "    nums.sort()\n",
    "    \n",
    "    for i, n in enumerate(nums):\n",
    "        if i%2 ==0:\n",
    "            sum += n\n",
    "    return sum"
   ]
  },
  {
   "cell_type": "code",
   "execution_count": 14,
   "id": "b85b89fc",
   "metadata": {},
   "outputs": [
    {
     "data": {
      "text/plain": [
       "4"
      ]
     },
     "execution_count": 14,
     "metadata": {},
     "output_type": "execute_result"
    }
   ],
   "source": [
    "nums = [1,4,3,2]\n",
    "arrayPairSum(nums)"
   ]
  },
  {
   "cell_type": "markdown",
   "id": "c178aee7",
   "metadata": {},
   "source": [
    "Runtime: 479 ms / Memory:15.5 MB"
   ]
  }
 ],
 "metadata": {
  "kernelspec": {
   "display_name": "Python 3",
   "language": "python",
   "name": "python3"
  },
  "language_info": {
   "codemirror_mode": {
    "name": "ipython",
    "version": 3
   },
   "file_extension": ".py",
   "mimetype": "text/x-python",
   "name": "python",
   "nbconvert_exporter": "python",
   "pygments_lexer": "ipython3",
   "version": "3.8.8"
  }
 },
 "nbformat": 4,
 "nbformat_minor": 5
}
