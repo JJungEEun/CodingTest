{
 "cells": [
  {
   "cell_type": "markdown",
   "id": "0c34dd7c",
   "metadata": {},
   "source": [
    "# 자신을 제외한 배열의 곱"
   ]
  },
  {
   "cell_type": "markdown",
   "id": "26f0d39f",
   "metadata": {},
   "source": [
    "### 배열을 입력받아 output[i]가 자신을 제외한 나머지 모든 요소의 곱셈 결과가 되도록 출력하라"
   ]
  },
  {
   "cell_type": "markdown",
   "id": "034f0899",
   "metadata": {},
   "source": [
    "Example 1:\n",
    "\n",
    "Input: nums = [1,2,3,4]\n",
    "    \n",
    "Output: [24,12,8,6]"
   ]
  },
  {
   "cell_type": "markdown",
   "id": "a0b86e28",
   "metadata": {},
   "source": [
    "### 1) 왼쪽 곱셈 결과에 오른쪽 값을 차례대로 곱셈"
   ]
  },
  {
   "cell_type": "code",
   "execution_count": 11,
   "id": "0dc59c24",
   "metadata": {},
   "outputs": [],
   "source": [
    "def productExceptSelf(nums):\n",
    "    out = []\n",
    "    p = 1\n",
    "        \n",
    "    for i in range(0, len(nums)):\n",
    "        out.append(p)\n",
    "        p = p * nums[i]\n",
    "    p=1\n",
    "       \n",
    "    for i in range(len(nums)-1,0-1,-1):\n",
    "        print(out[i], p)\n",
    "        out[i] = out[i] * p\n",
    "        p = p * nums[i]\n",
    "        \n",
    "    return out"
   ]
  },
  {
   "cell_type": "code",
   "execution_count": 12,
   "id": "5ce63598",
   "metadata": {},
   "outputs": [
    {
     "name": "stdout",
     "output_type": "stream",
     "text": [
      "6 1\n",
      "2 4\n",
      "1 12\n",
      "1 24\n"
     ]
    },
    {
     "data": {
      "text/plain": [
       "[24, 12, 8, 6]"
      ]
     },
     "execution_count": 12,
     "metadata": {},
     "output_type": "execute_result"
    }
   ],
   "source": [
    "nums = [1,2,3,4]\n",
    "productExceptSelf(nums)"
   ]
  },
  {
   "cell_type": "markdown",
   "id": "7b676c85",
   "metadata": {},
   "source": [
    "#### PLUS 01(22.05.24)"
   ]
  },
  {
   "cell_type": "code",
   "execution_count": 1,
   "id": "683a386a",
   "metadata": {},
   "outputs": [],
   "source": [
    "from functools import reduce\n",
    "\n",
    "class Solution(object):\n",
    "    def productExceptSelf(nums):\n",
    "        \"\"\"\n",
    "        :type nums: List[int]\n",
    "        :rtype: List[int]\n",
    "        \"\"\"\n",
    "\n",
    "        def multiply(arr):   \n",
    "            return reduce(lambda x, y: x * y, arr)\n",
    "        \n",
    "        ans = []\n",
    "        for i in range(0, len(nums)):\n",
    "            ans.append(multiply(nums[:i]+nums[i+1:]))\n",
    "        \n",
    "        return (ans)"
   ]
  },
  {
   "cell_type": "code",
   "execution_count": 2,
   "id": "3203794c",
   "metadata": {},
   "outputs": [
    {
     "data": {
      "text/plain": [
       "[24, 12, 8, 6]"
      ]
     },
     "execution_count": 2,
     "metadata": {},
     "output_type": "execute_result"
    }
   ],
   "source": [
    "nums = [1,2,3,4]\n",
    "Solution.productExceptSelf(nums)"
   ]
  },
  {
   "cell_type": "code",
   "execution_count": 3,
   "id": "8de28d56",
   "metadata": {},
   "outputs": [
    {
     "data": {
      "text/plain": [
       "[0, 0, 9, 0, 0]"
      ]
     },
     "execution_count": 3,
     "metadata": {},
     "output_type": "execute_result"
    }
   ],
   "source": [
    "nums = [-1,1,0,-3,3]\n",
    "Solution.productExceptSelf(nums)"
   ]
  },
  {
   "cell_type": "markdown",
   "id": "c7603b5f",
   "metadata": {},
   "source": [
    "Time Limit Exceeded"
   ]
  },
  {
   "cell_type": "markdown",
   "id": "89db64dd",
   "metadata": {},
   "source": [
    "---\n",
    "**reduce**\n",
    "\n",
    "<mark>reduce</mark>: 리스트의 두 아이템(원소)에 함수를 왼쪽에서 오른쪽으로 누적으로 적용해서 하나의 단일 값으로 줄인다."
   ]
  },
  {
   "cell_type": "code",
   "execution_count": 4,
   "id": "c3375d9a",
   "metadata": {},
   "outputs": [
    {
     "name": "stdout",
     "output_type": "stream",
     "text": [
      "The sum of the list elements is : 17\n",
      "The maximum element of the list is : 6\n"
     ]
    }
   ],
   "source": [
    "# python code to demonstrate working of reduce()\n",
    "\n",
    "# importing functools for reduce()\n",
    "import functools\n",
    "\n",
    "# initializing list\n",
    "lis = [1, 3, 5, 6, 2, ]\n",
    "\n",
    "# using reduce to compute sum of list\n",
    "print(\"The sum of the list elements is : \", end=\"\")\n",
    "print(functools.reduce(lambda a, b: a+b, lis))\n",
    "\n",
    "# using reduce to compute maximum element from list\n",
    "print(\"The maximum element of the list is : \", end=\"\")\n",
    "print(functools.reduce(lambda a, b: a if a > b else b, lis))\n",
    "\n",
    "# https://www.geeksforgeeks.org/reduce-in-python/"
   ]
  },
  {
   "cell_type": "code",
   "execution_count": 5,
   "id": "cd0e4c66",
   "metadata": {},
   "outputs": [
    {
     "name": "stdout",
     "output_type": "stream",
     "text": [
      "The Product of the list elements is: 180\n"
     ]
    }
   ],
   "source": [
    "print(\"The Product of the list elements is: \", end=\"\")\n",
    "print(functools.reduce(lambda a, b: a*b, lis))"
   ]
  },
  {
   "cell_type": "code",
   "execution_count": null,
   "id": "c042f247",
   "metadata": {},
   "outputs": [],
   "source": []
  }
 ],
 "metadata": {
  "kernelspec": {
   "display_name": "Python 3",
   "language": "python",
   "name": "python3"
  },
  "language_info": {
   "codemirror_mode": {
    "name": "ipython",
    "version": 3
   },
   "file_extension": ".py",
   "mimetype": "text/x-python",
   "name": "python",
   "nbconvert_exporter": "python",
   "pygments_lexer": "ipython3",
   "version": "3.8.8"
  }
 },
 "nbformat": 4,
 "nbformat_minor": 5
}
