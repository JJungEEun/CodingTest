{
 "cells": [
  {
   "cell_type": "markdown",
   "id": "0fe7246b",
   "metadata": {},
   "source": [
    "## 26. Remove Duplicates from Sorted Array\n",
    "---\n",
    "**중복을 제거하고 Array의 원소를 구해라. 기존 배열에 순서대로 해당 값을 나열해야한다**\n",
    "~~~~~~~~~~~~~~\n",
    "Add to List\n",
    "\n",
    "Share\n",
    "Given an integer array nums sorted in non-decreasing order, remove the duplicates in-place such that each unique element appears only once. The relative order of the elements should be kept the same.\n",
    "\n",
    "Since it is impossible to change the length of the array in some languages, you must instead have the result be placed in the first part of the array nums. More formally, if there are k elements after removing the duplicates, then the first k elements of nums should hold the final result. It does not matter what you leave beyond the first k elements.\n",
    "\n",
    "Return k after placing the final result in the first k slots of nums.\n",
    "\n",
    "Do not allocate extra space for another array. You must do this by modifying the input array in-place with O(1) extra memory.\n",
    "\n",
    "\n"
   ]
  },
  {
   "cell_type": "markdown",
   "id": "1ff8ed63",
   "metadata": {},
   "source": [
    "- 기존 배열은 건드리지 않고 중복을 제거한 배열의 길이를 구해야함\n",
    "- 배열에 값을 원소들로 바꾸면 됨"
   ]
  },
  {
   "cell_type": "markdown",
   "id": "6256fe53",
   "metadata": {},
   "source": [
    "#### solution 01"
   ]
  },
  {
   "cell_type": "code",
   "execution_count": 2,
   "id": "e14594e1",
   "metadata": {},
   "outputs": [],
   "source": [
    "class Solution(object):\n",
    "    def removeDuplicates(nums):\n",
    "        \"\"\"\n",
    "        :type nums: List[int]\n",
    "        :rtype: int\n",
    "        \"\"\"\n",
    "        \n",
    "        tmp = list(set(nums))\n",
    "        tmp.sort()\n",
    "        \n",
    "        for i,v in enumerate(tmp):\n",
    "            nums[i] = v\n",
    "        \n",
    "        return (len(tmp))"
   ]
  },
  {
   "cell_type": "code",
   "execution_count": 3,
   "id": "c4e8f7d7",
   "metadata": {},
   "outputs": [
    {
     "data": {
      "text/plain": [
       "2"
      ]
     },
     "execution_count": 3,
     "metadata": {},
     "output_type": "execute_result"
    }
   ],
   "source": [
    "nums = [1,1,2]\n",
    "Solution.removeDuplicates(nums)"
   ]
  },
  {
   "cell_type": "markdown",
   "id": "fcf1f515",
   "metadata": {},
   "source": [
    "Runtime: 96 ms, faster than 59.37% of Python online submissions for Remove Duplicates from Sorted Array.\n",
    "Memory Usage: 14.2 MB, less than 98.85% of Python online submissions for Remove Duplicates from Sorted Array."
   ]
  },
  {
   "cell_type": "markdown",
   "id": "76a4b8e8",
   "metadata": {},
   "source": [
    "#### Solution 02"
   ]
  },
  {
   "cell_type": "code",
   "execution_count": 4,
   "id": "9417ddc0",
   "metadata": {},
   "outputs": [],
   "source": [
    "class Solution(object):\n",
    "    def removeDuplicates(nums):\n",
    "        \"\"\"\n",
    "        :type nums: List[int]\n",
    "        :rtype: int\n",
    "        \"\"\"\n",
    "        \n",
    "        index = 0   \n",
    "        for i in range(1, len(nums)):\n",
    "            if nums[index] != nums[i]:\n",
    "                index += 1\n",
    "                nums[index] = nums[i]\n",
    "        return  index + 1"
   ]
  },
  {
   "cell_type": "markdown",
   "id": "927cb436",
   "metadata": {},
   "source": [
    "Runtime: 88 ms, faster than 66.91% of Python online submissions for Remove Duplicates from Sorted Array.\n",
    "Memory Usage: 15.1 MB, less than 20.32% of Python online submissions for Remove Duplicates from Sorted Array."
   ]
  },
  {
   "cell_type": "code",
   "execution_count": null,
   "id": "d0e56ec7",
   "metadata": {},
   "outputs": [],
   "source": []
  }
 ],
 "metadata": {
  "kernelspec": {
   "display_name": "Python 3",
   "language": "python",
   "name": "python3"
  },
  "language_info": {
   "codemirror_mode": {
    "name": "ipython",
    "version": 3
   },
   "file_extension": ".py",
   "mimetype": "text/x-python",
   "name": "python",
   "nbconvert_exporter": "python",
   "pygments_lexer": "ipython3",
   "version": "3.8.8"
  }
 },
 "nbformat": 4,
 "nbformat_minor": 5
}
