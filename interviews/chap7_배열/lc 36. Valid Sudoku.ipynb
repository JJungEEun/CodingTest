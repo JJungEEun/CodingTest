{
 "cells": [
  {
   "cell_type": "markdown",
   "id": "76df95d6",
   "metadata": {},
   "source": [
    "### 36. Valid Sudoku\n",
    "\n",
    "Share\n",
    "Determine if a 9 x 9 Sudoku board is valid. Only the filled cells need to be validated **according to the following rules:**\n",
    "\n",
    "1. Each row must contain the digits 1-9 without repetition.\n",
    "2. Each column must contain the digits 1-9 without repetition.\n",
    "3. Each of the nine 3 x 3 sub-boxes of the grid must contain the digits 1-9 without repetition.\n",
    "**Note:**\n",
    "\n",
    "- A Sudoku board (partially filled) could be valid but is not necessarily solvable.\n",
    "- Only the filled cells need to be validated according to the mentioned rules.\n",
    "\n",
    "\n",
    "**[Input&Output]**\n",
    "\n",
    "    Input: board = \n",
    "    [[\"5\",\"3\",\".\",\".\",\"7\",\".\",\".\",\".\",\".\"]\n",
    "    ,[\"6\",\".\",\".\",\"1\",\"9\",\"5\",\".\",\".\",\".\"]\n",
    "    ,[\".\",\"9\",\"8\",\".\",\".\",\".\",\".\",\"6\",\".\"]\n",
    "    ,[\"8\",\".\",\".\",\".\",\"6\",\".\",\".\",\".\",\"3\"]\n",
    "    ,[\"4\",\".\",\".\",\"8\",\".\",\"3\",\".\",\".\",\"1\"]\n",
    "    ,[\"7\",\".\",\".\",\".\",\"2\",\".\",\".\",\".\",\"6\"]\n",
    "    ,[\".\",\"6\",\".\",\".\",\".\",\".\",\"2\",\"8\",\".\"]\n",
    "    ,[\".\",\".\",\".\",\"4\",\"1\",\"9\",\".\",\".\",\"5\"]\n",
    "    ,[\".\",\".\",\".\",\".\",\"8\",\".\",\".\",\"7\",\"9\"]]\n",
    "    Output: true\n",
    "    Example 2:\n",
    "\n",
    "    Input: board = \n",
    "    [[\"8\",\"3\",\".\",\".\",\"7\",\".\",\".\",\".\",\".\"]\n",
    "    ,[\"6\",\".\",\".\",\"1\",\"9\",\"5\",\".\",\".\",\".\"]\n",
    "    ,[\".\",\"9\",\"8\",\".\",\".\",\".\",\".\",\"6\",\".\"]\n",
    "    ,[\"8\",\".\",\".\",\".\",\"6\",\".\",\".\",\".\",\"3\"]\n",
    "    ,[\"4\",\".\",\".\",\"8\",\".\",\"3\",\".\",\".\",\"1\"]\n",
    "    ,[\"7\",\".\",\".\",\".\",\"2\",\".\",\".\",\".\",\"6\"]\n",
    "    ,[\".\",\"6\",\".\",\".\",\".\",\".\",\"2\",\"8\",\".\"]\n",
    "    ,[\".\",\".\",\".\",\"4\",\"1\",\"9\",\".\",\".\",\"5\"]\n",
    "    ,[\".\",\".\",\".\",\".\",\"8\",\".\",\".\",\"7\",\"9\"]]\n",
    "    Output: false\n",
    "    Explanation: Same as Example 1, except with the 5 in the top left corner being modified to 8. Since there are two 8's in the top left 3x3 sub-box, it is invalid."
   ]
  },
  {
   "cell_type": "markdown",
   "id": "119c0419",
   "metadata": {},
   "source": [
    "#### My Solution"
   ]
  },
  {
   "cell_type": "code",
   "execution_count": 3,
   "id": "d7ced75e",
   "metadata": {},
   "outputs": [],
   "source": [
    "class Solution(object):\n",
    "    def isValidSudoku(self, board):\n",
    "        \"\"\"\n",
    "        :type board: List[List[str]]\n",
    "        :rtype: bool\n",
    "        \"\"\"\n",
    "        \n",
    "        box = []\n",
    "        row = []\n",
    "        col = []\n",
    "        \n",
    "        # check duplicates\n",
    "        def has_duplicates(seq):\n",
    "            for s in seq:\n",
    "                seen = []\n",
    "                unique_list = [x for x in s if x not in seen and not seen.append(x)]                      \n",
    "                if len(s) != len(unique_list): \n",
    "                    return False           \n",
    "            return True\n",
    "        \n",
    "        # make box (3*3)\n",
    "        for i in (0, 3, 6):\n",
    "            for j in (0, 3, 6):\n",
    "                box.append([board[x][y] for x in range(i, i + 3) for y in range(j, j + 3) if board[x][y] != '.'])\n",
    "        # make col, row\n",
    "        for i in range(0,9):\n",
    "            row.append([board[x][i] for x in range(0,9) if board[x][i] != '.'])\n",
    "            col.append([board[i][x] for x in range(0,9) if board[i][x] != '.'])\n",
    "         \n",
    "        return (has_duplicates(row) and has_duplicates(col) and has_duplicates(box))"
   ]
  },
  {
   "cell_type": "markdown",
   "id": "983ab1b1",
   "metadata": {},
   "source": [
    "Runtime: 109 ms, faster than 60.57% of Python online submissions for Valid Sudoku.\n",
    "Memory Usage: 13.5 MB, less than 69.63% of Python online submissions for Valid Sudoku."
   ]
  },
  {
   "cell_type": "markdown",
   "id": "73c1a2d9",
   "metadata": {},
   "source": [
    "### Solution 01"
   ]
  },
  {
   "cell_type": "code",
   "execution_count": 1,
   "id": "1fe27a8e",
   "metadata": {},
   "outputs": [],
   "source": [
    "class Solution(object):\n",
    "    def isValidSudoku(self, board):\n",
    "        \"\"\"\n",
    "        :type board: List[List[str]]\n",
    "        :rtype: bool\n",
    "        \"\"\"\n",
    "        \n",
    "        big = set()\n",
    "        \n",
    "        for i in range(0,9):\n",
    "            for j in range(0,9):\n",
    "                if board[i][j] != '.':\n",
    "                    cur = board[i][j]\n",
    "                    if (i,cur) in big or (cur,j) in big or (i/3,j/3,cur) in big:\n",
    "                        return False\n",
    "                    \n",
    "                    big.add((i,cur)) # row\n",
    "                    big.add((cur,j)) #col\n",
    "                    big.add((i/3,j/3,cur)) #3*3      \n",
    "                    \n",
    "        #'Row8 has 5 already' is stored as (8,'5')\n",
    "        #'Column5 has 8 already' is stored as ('8',5)\n",
    "                    \n",
    "        return True"
   ]
  },
  {
   "cell_type": "markdown",
   "id": "efa6b639",
   "metadata": {},
   "source": [
    "Runtime: 202 ms, faster than 5.09% of Python online submissions for Valid Sudoku.\n",
    "Memory Usage: 13.6 MB, less than 44.93% of Python online submissions for Valid Sudoku."
   ]
  },
  {
   "cell_type": "markdown",
   "id": "eedaa7ee",
   "metadata": {},
   "source": [
    "### Solution 02  (Plus solution 01)"
   ]
  },
  {
   "cell_type": "code",
   "execution_count": 5,
   "id": "5bf5b021",
   "metadata": {},
   "outputs": [],
   "source": [
    "class Solution(object):\n",
    "    def isValidSudoku(self, board):\n",
    "        \"\"\"\n",
    "        :type board: List[List[str]]\n",
    "        :rtype: bool\n",
    "        \"\"\"\n",
    "        \n",
    "        seen = sum(([(c, i), (j, c), (i/3, j/3, c)]\n",
    "                for i, row in enumerate(board)\n",
    "                for j, c in enumerate(row)\n",
    "                if c != '.'), [])\n",
    "            \n",
    "        return len(seen) == len(set(seen))"
   ]
  },
  {
   "cell_type": "markdown",
   "id": "0a0d71f0",
   "metadata": {},
   "source": [
    "Runtime: 64 ms, faster than 99.30% of Python online submissions for Valid Sudoku.\n",
    "Memory Usage: 13.5 MB, less than 45.14% of Python online submissions for Valid Sudoku."
   ]
  },
  {
   "cell_type": "markdown",
   "id": "916e907d",
   "metadata": {},
   "source": [
    "[(u'5', 0), (0, u'5'), (0, 0, u'5'), (u'3', 0), (1, u'3'), (0, 0, u'3'), (u'7', 0), (4, u'7'), (0, 1, u'7'), (u'6', 1), (0, u'6'), (0, 0, u'6'), (u'1', 1), (3, u'1'), (0, 1, u'1'), (u'9', 1), (4, u'9'), (0, 1, u'9'), (u'5', 1), (5, u'5'), (0, 1, u'5'), (u'9', 2), (1, u'9'), (0, 0, u'9'), (u'8', 2), (2, u'8'), (0, 0, u'8'), (u'6', 2), (7, u'6'), (0, 2, u'6'), (u'8', 3), (0, u'8'), (1, 0, u'8'), (u'6', 3), (4, u'6'), (1, 1, u'6'), (u'3', 3), (8, u'3'), (1, 2, u'3'), (u'4', 4), (0, u'4'), (1, 0, u'4'), (u'8', 4), (3, u'8'), (1, 1, u'8'), (u'3', 4), (5, u'3'), (1, 1, u'3'), (u'1', 4), (8, u'1'), (1, 2, u'1'), (u'7', 5), (0, u'7'), (1, 0, u'7'), (u'2', 5), (4, u'2'), (1, 1, u'2'), (u'6', 5), (8, u'6'), (1, 2, u'6'), (u'6', 6), (1, u'6'), (2, 0, u'6'), (u'2', 6), (6, u'2'), (2, 2, u'2'), (u'8', 6), (7, u'8'), (2, 2, u'8'), (u'4', 7), (3, u'4'), (2, 1, u'4'), (u'1', 7), (4, u'1'), (2, 1, u'1'), (u'9', 7), (5, u'9'), (2, 1, u'9'), (u'5', 7), (8, u'5'), (2, 2, u'5'), (u'8', 8), (4, u'8'), (2, 1...\n"
   ]
  }
 ],
 "metadata": {
  "kernelspec": {
   "display_name": "Python 3",
   "language": "python",
   "name": "python3"
  },
  "language_info": {
   "codemirror_mode": {
    "name": "ipython",
    "version": 3
   },
   "file_extension": ".py",
   "mimetype": "text/x-python",
   "name": "python",
   "nbconvert_exporter": "python",
   "pygments_lexer": "ipython3",
   "version": "3.8.8"
  }
 },
 "nbformat": 4,
 "nbformat_minor": 5
}
