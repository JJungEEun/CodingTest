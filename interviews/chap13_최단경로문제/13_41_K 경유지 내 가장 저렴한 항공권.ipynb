{
 "cells": [
  {
   "cell_type": "markdown",
   "id": "b557ac48",
   "metadata": {},
   "source": [
    "# 41 경유지 내 가장 저렴한 항공권 / lc 787. Cheapest Flights Within K Stops"
   ]
  },
  {
   "cell_type": "markdown",
   "id": "3de531c7",
   "metadata": {},
   "source": [
    "시작점에서 도착점까지 가장 저렴한 가격을 계산하되, k개의 경유지 이내에 도착하는 가격을 리턴하라.\n",
    "경로가 존재하지 않을 경우 -1 리턴한다"
   ]
  },
  {
   "cell_type": "markdown",
   "id": "77708024",
   "metadata": {},
   "source": [
    "### 다익스트라 알고리즘 응용"
   ]
  },
  {
   "cell_type": "code",
   "execution_count": 7,
   "id": "d4325936",
   "metadata": {},
   "outputs": [],
   "source": [
    "def findCheapestPrice(self, n, flights, src, dst, K):\n",
    "\n",
    "\n",
    "    graph = collections.defaultdict(list)\n",
    "    for u, v, w in flights:\n",
    "        graph[u].append([v, w])\n",
    "\n",
    "    Q = [(0, src, K)]\n",
    "    while Q:\n",
    "\n",
    "        price, node, k = heapq.heappop(Q)\n",
    "        if node == dst:\n",
    "            return price\n",
    "        if k >=0:   \n",
    "            for v, w in graph[node] :\n",
    "                if k <= K:\n",
    "                    heapq.heappush(Q, (price+w, v, k + 1))\n",
    "    return -1   "
   ]
  },
  {
   "cell_type": "markdown",
   "id": "83af7828",
   "metadata": {},
   "source": [
    "하지만 runtime error가 발생했다.\n",
    "방문을 체크해 중복되는 사이클을 없애보자"
   ]
  },
  {
   "cell_type": "markdown",
   "id": "72d7f9f2",
   "metadata": {},
   "source": [
    "### 방문 체크"
   ]
  },
  {
   "cell_type": "code",
   "execution_count": 8,
   "id": "ce303280",
   "metadata": {},
   "outputs": [],
   "source": [
    "def findCheapestPrice(self, n, flights, src, dst, K):\n",
    "\n",
    "\n",
    "    graph = collections.defaultdict(list)\n",
    "    for u, v, w in flights:\n",
    "        graph[u].append([v, w])\n",
    "\n",
    "    #방문 체크\n",
    "    visit = {}\n",
    "    Q = [(0, src, 0)]\n",
    "    while Q:\n",
    "\n",
    "        price, node, k = heapq.heappop(Q)\n",
    "        if node == dst:\n",
    "            return price\n",
    "        #재방문할 수 있으나, visit에 저장된 경유지 수 > 현재 경유지 수인 경우만 재방문 가능\n",
    "        #최소 경유지 수 \n",
    "        if node not in visit or visit[node] > k:    \n",
    "            #visit[node] = 경유지수 \n",
    "            visit[node] = k\n",
    "            for v, w in graph[node] :\n",
    "                if k <= K:\n",
    "                    heapq.heappush(Q, (price+w, v, k + 1))\n",
    "    return -1   "
   ]
  }
 ],
 "metadata": {
  "kernelspec": {
   "display_name": "Python 3",
   "language": "python",
   "name": "python3"
  },
  "language_info": {
   "codemirror_mode": {
    "name": "ipython",
    "version": 3
   },
   "file_extension": ".py",
   "mimetype": "text/x-python",
   "name": "python",
   "nbconvert_exporter": "python",
   "pygments_lexer": "ipython3",
   "version": "3.8.8"
  }
 },
 "nbformat": 4,
 "nbformat_minor": 5
}
