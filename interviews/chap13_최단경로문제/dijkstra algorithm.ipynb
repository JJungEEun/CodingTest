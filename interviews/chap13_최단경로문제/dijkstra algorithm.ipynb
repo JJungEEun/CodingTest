{
 "cells": [
  {
   "cell_type": "code",
   "execution_count": 1,
   "id": "44458bd7",
   "metadata": {},
   "outputs": [],
   "source": [
    "from queue import PriorityQueue"
   ]
  },
  {
   "cell_type": "code",
   "execution_count": 2,
   "id": "a0c6acd6",
   "metadata": {},
   "outputs": [],
   "source": [
    "class Graph:\n",
    "    def __init__(self, num):\n",
    "        self.v = num # 정점의 수\n",
    "        self.edges = [[-1 for i in range(num)] for j in range(num)] #간선행렬\n",
    "        self.visited = [] #방문한 간선\n",
    "        \n",
    "    def add_edge(self, u, v, weight):\n",
    "        self.edges[u][v] = weight\n",
    "        self.edges[v][u] = weight"
   ]
  },
  {
   "cell_type": "code",
   "execution_count": 3,
   "id": "ed505021",
   "metadata": {},
   "outputs": [],
   "source": [
    "def dijkstra(graph, start_vertex):\n",
    "    #크기 목록(전체 목록을 무한대로 초기화)\n",
    "    D = {v:float('inf') for v in range(graph.v)} \n",
    "    #시작 정점 0으로 설정: 본인에서 본인까지 거리\n",
    "    D[start_vertex] = 0 \n",
    "\n",
    "    #우선순위 큐 선언\n",
    "    pq = PriorityQueue()\n",
    "    pq.put((0, start_vertex))\n",
    "\n",
    "    #루트 돌며 최단 거리 확인\n",
    "    while not pq.empty():\n",
    "        # 해당 거리와 정점 가져오기\n",
    "        (dist, current_vertex) = pq.get()\n",
    "        # 방문한 노드 \n",
    "        graph.visited.append(current_vertex)\n",
    "\n",
    "        for neighbor in range(graph.v):\n",
    "            if graph.edges[current_vertex][neighbor] != -1:\n",
    "                distance = graph.edges[current_vertex][neighbor]\n",
    "                if neighbor not in graph.visited:\n",
    "                    old_cost = D[neighbor] # 기존 비용\n",
    "                    new_cost = D[current_vertex] + distance # 새 비용\n",
    "                    if new_cost < old_cost: # 새 비용이 최단 거리라면 업데이트\n",
    "                        pq.put((new_cost, neighbor))\n",
    "                        D[neighbor] = new_cost\n",
    "    return D"
   ]
  },
  {
   "cell_type": "code",
   "execution_count": 4,
   "id": "64578f31",
   "metadata": {},
   "outputs": [],
   "source": [
    "g = Graph(9)\n",
    "g.add_edge(0, 1, 10)\n",
    "g.add_edge(0, 2, 30)\n",
    "g.add_edge(0, 3, 15)\n",
    "g.add_edge(1, 4, 20)\n",
    "g.add_edge(2, 5, 5)\n",
    "g.add_edge(3, 2, 5)\n",
    "g.add_edge(3, 5, 20)\n",
    "g.add_edge(4, 5, 20)\n",
    "g.add_edge(5, 3 , 20)"
   ]
  },
  {
   "cell_type": "code",
   "execution_count": 5,
   "id": "a2f07093",
   "metadata": {},
   "outputs": [
    {
     "name": "stdout",
     "output_type": "stream",
     "text": [
      "{0: 0, 1: 10, 2: 20, 3: 15, 4: 30, 5: 25, 6: inf, 7: inf, 8: inf}\n"
     ]
    }
   ],
   "source": [
    "D = dijkstra(g, 0)\n",
    "\n",
    "print(D)"
   ]
  },
  {
   "cell_type": "code",
   "execution_count": 6,
   "id": "2d70ed70",
   "metadata": {},
   "outputs": [
    {
     "name": "stdout",
     "output_type": "stream",
     "text": [
      "Distance from vertex 0 to vertex 0 is 0\n",
      "Distance from vertex 0 to vertex 1 is 10\n",
      "Distance from vertex 0 to vertex 2 is 20\n",
      "Distance from vertex 0 to vertex 3 is 15\n",
      "Distance from vertex 0 to vertex 4 is 30\n",
      "Distance from vertex 0 to vertex 5 is 25\n",
      "Distance from vertex 0 to vertex 6 is inf\n",
      "Distance from vertex 0 to vertex 7 is inf\n",
      "Distance from vertex 0 to vertex 8 is inf\n"
     ]
    }
   ],
   "source": [
    "for vertex in range(len(D)):\n",
    "    print(\"Distance from vertex 0 to vertex\", vertex, \"is\", D[vertex])"
   ]
  },
  {
   "cell_type": "markdown",
   "id": "97caf7f5",
   "metadata": {},
   "source": [
    "-|A|B|C|D|E|F|\n",
    "---|---|---|---|---|---|---|\n",
    "d|0|10|20|15|30|25|"
   ]
  },
  {
   "cell_type": "code",
   "execution_count": null,
   "id": "e12a9a29",
   "metadata": {},
   "outputs": [],
   "source": []
  }
 ],
 "metadata": {
  "kernelspec": {
   "display_name": "Python 3",
   "language": "python",
   "name": "python3"
  },
  "language_info": {
   "codemirror_mode": {
    "name": "ipython",
    "version": 3
   },
   "file_extension": ".py",
   "mimetype": "text/x-python",
   "name": "python",
   "nbconvert_exporter": "python",
   "pygments_lexer": "ipython3",
   "version": "3.8.8"
  }
 },
 "nbformat": 4,
 "nbformat_minor": 5
}
