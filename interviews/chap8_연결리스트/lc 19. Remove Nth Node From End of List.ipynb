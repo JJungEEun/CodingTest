{
 "cells": [
  {
   "cell_type": "markdown",
   "id": "46504b2b",
   "metadata": {},
   "source": [
    "### 19. Remove Nth Node From End of List\n",
    "---\n",
    "Given the head of a linked list, remove the nth node from the end of the list and return its head.\n",
    "\n",
    "    Input: head = [1,2,3,4,5], n = 2\n",
    "    Output: [1,2,3,5]\n",
    "    \n",
    "    Input: head = [1], n = 1\n",
    "    Output: []"
   ]
  },
  {
   "cell_type": "code",
   "execution_count": 1,
   "id": "6b5e440b",
   "metadata": {},
   "outputs": [],
   "source": [
    "# Definition for singly-linked list.\n",
    "class ListNode(object):\n",
    "    def __init__(self, val=0, next=None):\n",
    "        self.val = val\n",
    "        self.next = next\n",
    "        \n",
    "class Solution(object):\n",
    "    def removeNthFromEnd(self, head, n):\n",
    "        fast = slow = head\n",
    "        \n",
    "        for _ in range(n): #fst와 slow의 n만큼의 차이를 발생시킨다\n",
    "            fast = fast.next \n",
    "          \n",
    "        # fast: [3,4,5]\n",
    "        # slow: [1,2,3,4,5]\n",
    "        # ↑\n",
    "        \n",
    "        if not fast:\n",
    "            return head.next\n",
    "        \n",
    "        while fast.next: #fast 끝까지 이동\n",
    "            fast = fast.next\n",
    "            slow = slow.next\n",
    "            \n",
    "        # fast: [5]\n",
    "        # slow: [3,4,5]\n",
    "        slow.next = slow.next.next\n",
    "        # slow.next 삭제\n",
    "        # slow: 3 -> 4 -> 5\n",
    "        # slow: 3 -> 5\n",
    "        \n",
    "        return head"
   ]
  },
  {
   "cell_type": "code",
   "execution_count": null,
   "id": "fdbbbf13",
   "metadata": {},
   "outputs": [],
   "source": []
  }
 ],
 "metadata": {
  "kernelspec": {
   "display_name": "Python 3",
   "language": "python",
   "name": "python3"
  },
  "language_info": {
   "codemirror_mode": {
    "name": "ipython",
    "version": 3
   },
   "file_extension": ".py",
   "mimetype": "text/x-python",
   "name": "python",
   "nbconvert_exporter": "python",
   "pygments_lexer": "ipython3",
   "version": "3.8.8"
  }
 },
 "nbformat": 4,
 "nbformat_minor": 5
}
