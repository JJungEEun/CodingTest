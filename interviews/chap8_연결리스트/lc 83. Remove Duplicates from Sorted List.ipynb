{
 "cells": [
  {
   "cell_type": "markdown",
   "id": "a284cab3",
   "metadata": {},
   "source": [
    "## lc 83. Remove Duplicates from Sorted List\n",
    "\n",
    "Given the head of a sorted linked list, delete all duplicates such that each element appears only once. Return the linked list **sorted** as well.\n",
    "\n",
    "    Input: head = [1,1,2]\n",
    "    Output: [1,2]\n",
    "\n",
    "    Input: head = [1,1,2,3,3]\n",
    "    Output: [1,2,3]"
   ]
  },
  {
   "cell_type": "markdown",
   "id": "7fe2ccef",
   "metadata": {},
   "source": [
    "### Solution 01"
   ]
  },
  {
   "cell_type": "code",
   "execution_count": 1,
   "id": "ff49f4da",
   "metadata": {},
   "outputs": [],
   "source": [
    "class Solution(object):\n",
    "    def deleteDuplicates(self, head):\n",
    "        \"\"\"\n",
    "        :type head: ListNode\n",
    "        :rtype: ListNode\n",
    "        \"\"\"\n",
    "        \n",
    "        cur = head\n",
    "        while cur:\n",
    "            if cur.next and cur.val == cur.next.val:\n",
    "                cur.next = cur.next.next\n",
    "            else:\n",
    "                cur = cur.next\n",
    "                \n",
    "\n",
    "        return head\n",
    "            "
   ]
  },
  {
   "cell_type": "markdown",
   "id": "7a0ee0c6",
   "metadata": {},
   "source": [
    "Runtime: 38 ms, faster than 65.39% of Python online submissions for Remove Duplicates from Sorted List.\n",
    "Memory Usage: 13.6 MB, less than 38.59% of Python online submissions for Remove Duplicates from Sorted List."
   ]
  }
 ],
 "metadata": {
  "kernelspec": {
   "display_name": "Python 3",
   "language": "python",
   "name": "python3"
  },
  "language_info": {
   "codemirror_mode": {
    "name": "ipython",
    "version": 3
   },
   "file_extension": ".py",
   "mimetype": "text/x-python",
   "name": "python",
   "nbconvert_exporter": "python",
   "pygments_lexer": "ipython3",
   "version": "3.8.8"
  }
 },
 "nbformat": 4,
 "nbformat_minor": 5
}
