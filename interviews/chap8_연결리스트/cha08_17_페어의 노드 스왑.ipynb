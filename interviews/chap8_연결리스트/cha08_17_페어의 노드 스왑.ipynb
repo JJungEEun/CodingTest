{
 "cells": [
  {
   "cell_type": "markdown",
   "id": "2a9dbf07",
   "metadata": {},
   "source": [
    "### 페어의 노드 스왑\n",
    "**연결 리스트를 입력받아 페어 단위로 스왑하라**\n",
    "\n",
    "```\n",
    "1->2->3->4\n",
    "\n",
    "2->1->4->3\n",
    "```"
   ]
  },
  {
   "cell_type": "markdown",
   "id": "e70eb35c",
   "metadata": {},
   "source": [
    "### Solution 01) 값만 교환"
   ]
  },
  {
   "cell_type": "code",
   "execution_count": 9,
   "id": "765b9286",
   "metadata": {},
   "outputs": [],
   "source": [
    "def swapPairs(self, head):\n",
    "    \"\"\"\n",
    "    :type head: ListNode\n",
    "    :rtype: ListNode\n",
    "    \"\"\"\n",
    "    cur = head\n",
    "\n",
    "    while cur and cur.next:\n",
    "        # 값만 교환\n",
    "        cur.val, cur.next.val = cur.next.val, cur.val\n",
    "        cur = cur.next.next\n",
    "\n",
    "\n",
    "    return head"
   ]
  },
  {
   "cell_type": "markdown",
   "id": "f6b9db9a",
   "metadata": {},
   "source": [
    "Runtime: 24 ms, faster than 55.00% of Python online submissions for Swap Nodes in Pairs.\n",
    "Memory Usage: 13.6 MB, less than 11.60% of Python online submissions for Swap Nodes in Pairs."
   ]
  },
  {
   "cell_type": "markdown",
   "id": "e1d4c971",
   "metadata": {},
   "source": [
    "### Solution 02) 반복구조로 스왑"
   ]
  },
  {
   "cell_type": "code",
   "execution_count": 11,
   "id": "0d5160d6",
   "metadata": {},
   "outputs": [],
   "source": [
    "def swapPairs(self, head):\n",
    "    root = prev = ListNode(None)\n",
    "    prev.next = head\n",
    "    \n",
    "    while head and head.next:\n",
    "        # b가 a(head)를 가리키도록\n",
    "        b = head.next\n",
    "        head.next = b.next\n",
    "        b.next = head\n",
    "\n",
    "        # prev가 b를 가리키도록\n",
    "        prev.next = b\n",
    "\n",
    "        # 다음 번 비교를 위해 이동\n",
    "        head = head.next\n",
    "        prev = prev.next.next\n",
    "    return root.next"
   ]
  },
  {
   "cell_type": "markdown",
   "id": "824e3de8",
   "metadata": {},
   "source": [
    "1 -> 2-> **3 -> 4** -> 5 -> 6\n",
    "\n",
    "```python\n",
    "b = a.next #4\n",
    "a.next = b.next #3->5->6\n",
    "b.next = a #4->3->5->6\n",
    "```\n",
    "---\n",
    "  \n",
    "```python\n",
    "b = a.next #4\n",
    "a.next = b.next #3->5->6\n",
    "b.next = a #4->3->5->6\n",
    "\n",
    "prev.next = b # 1->2->4->3->5->6\n",
    "```\n"
   ]
  }
 ],
 "metadata": {
  "kernelspec": {
   "display_name": "Python 3",
   "language": "python",
   "name": "python3"
  },
  "language_info": {
   "codemirror_mode": {
    "name": "ipython",
    "version": 3
   },
   "file_extension": ".py",
   "mimetype": "text/x-python",
   "name": "python",
   "nbconvert_exporter": "python",
   "pygments_lexer": "ipython3",
   "version": "3.8.8"
  }
 },
 "nbformat": 4,
 "nbformat_minor": 5
}
