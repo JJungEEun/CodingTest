{
 "cells": [
  {
   "cell_type": "markdown",
   "id": "c65bd791",
   "metadata": {},
   "source": [
    "### 두 정렬 리스트의 병합 / leetcode 21 Merge Two Sorted Lists"
   ]
  },
  {
   "cell_type": "markdown",
   "id": "26265676",
   "metadata": {},
   "source": [
    "정렬되어 있는 두 연결 리스트를 합쳐라"
   ]
  },
  {
   "cell_type": "code",
   "execution_count": 1,
   "id": "74f8c282",
   "metadata": {},
   "outputs": [],
   "source": [
    "class ListNode:\n",
    "    def __init__(self, x):\n",
    "        self.val = x\n",
    "        self.next = None"
   ]
  },
  {
   "cell_type": "code",
   "execution_count": 2,
   "id": "bc82f26c",
   "metadata": {},
   "outputs": [],
   "source": [
    "def mergeTwoLists(l1, l2):\n",
    "    if (not l1) or (l2 and l1.val > l2.val):\n",
    "        l1, l2 = l2, l1\n",
    "\n",
    "    if l1:\n",
    "        l1.next = mergeTwoLists(l1.next, l2)\n",
    "    \n",
    "    return l1"
   ]
  },
  {
   "cell_type": "code",
   "execution_count": 3,
   "id": "1cec94ab",
   "metadata": {},
   "outputs": [],
   "source": [
    "lst1 = ListNode(1)\n",
    "lst1.next = ListNode(2)\n",
    "lst1.next.next = ListNode(4)    # So lst1 is basically 1 -> 6 -> 3 -> None\n",
    "\n",
    "lst2 = ListNode(1)\n",
    "lst2.next = ListNode(3)\n",
    "lst2.next.next = ListNode(4)    # And lst2 is basically 4 -> 5 -> 2 -> None"
   ]
  },
  {
   "cell_type": "code",
   "execution_count": 4,
   "id": "a22d5975",
   "metadata": {},
   "outputs": [
    {
     "name": "stdout",
     "output_type": "stream",
     "text": [
      "1\n",
      "1\n",
      "2\n",
      "3\n",
      "4\n",
      "4\n",
      "None\n"
     ]
    }
   ],
   "source": [
    "merged_list = mergeTwoLists(lst1, lst2)\n",
    "while merged_list:\n",
    "    print(str(merged_list.val))\n",
    "    merged_list = merged_list.next\n",
    "print(merged_list)"
   ]
  }
 ],
 "metadata": {
  "kernelspec": {
   "display_name": "Python 3",
   "language": "python",
   "name": "python3"
  },
  "language_info": {
   "codemirror_mode": {
    "name": "ipython",
    "version": 3
   },
   "file_extension": ".py",
   "mimetype": "text/x-python",
   "name": "python",
   "nbconvert_exporter": "python",
   "pygments_lexer": "ipython3",
   "version": "3.8.8"
  }
 },
 "nbformat": 4,
 "nbformat_minor": 5
}
