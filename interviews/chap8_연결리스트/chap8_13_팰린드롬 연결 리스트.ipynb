{
 "cells": [
  {
   "cell_type": "markdown",
   "id": "0dc1ef13",
   "metadata": {},
   "source": [
    "# 팰린드롬 연결 리스트"
   ]
  },
  {
   "cell_type": "markdown",
   "id": "93c5aa48",
   "metadata": {},
   "source": [
    "### My Solution"
   ]
  },
  {
   "cell_type": "code",
   "execution_count": null,
   "id": "0252c758",
   "metadata": {},
   "outputs": [],
   "source": [
    "# Definition for singly-linked list.\n",
    "class ListNode(object):\n",
    "    def __init__(self, val=0, next=None):\n",
    "        self.val = val\n",
    "        self.next = next\n",
    "        \n",
    "class Solution(object):\n",
    "    def isPalindrome(self, head):\n",
    "        \"\"\"\n",
    "        :type head: ListNode\n",
    "        :rtype: bool\n",
    "        \"\"\"\n",
    "        # Function to initialize head \n",
    "\n",
    "            \n",
    "        if head.val is None:\n",
    "            return True\n",
    "            \n",
    "        arr = []\n",
    "        arr.append(head.val)\n",
    "        while(head.next):\n",
    "            head = head.next\n",
    "            arr.append(head.val)\n",
    "            \n",
    "        \n",
    "        if arr == arr[::-1]:\n",
    "            return True\n",
    "        else:\n",
    "            return False"
   ]
  },
  {
   "cell_type": "markdown",
   "id": "c9d96cff",
   "metadata": {},
   "source": [
    "### 1) List 변환"
   ]
  },
  {
   "cell_type": "code",
   "execution_count": 1,
   "id": "2418b68f",
   "metadata": {},
   "outputs": [],
   "source": [
    "# Definition for singly-linked list.\n",
    "class ListNode(object):\n",
    "    def __init__(self, val=0, next=None):\n",
    "        self.val = val\n",
    "        self.next = next\n",
    "        \n",
    "class Solution(object):\n",
    "    def isPalindrome(self, head):\n",
    "        \"\"\"\n",
    "        :type head: ListNode\n",
    "        :rtype: bool\n",
    "        \"\"\"\n",
    "        # Function to initialize head \n",
    "\n",
    "        q = [] \n",
    "        if not head:\n",
    "            return True\n",
    "        \n",
    "        node = head\n",
    "        while node is not None:\n",
    "            q.append(node.val)\n",
    "            node = node.next\n",
    "            \n",
    "        \n",
    "        while len(q) > 1:\n",
    "            if q.pop(0) != q.pop():\n",
    "                return False\n",
    "            \n",
    "        return True"
   ]
  },
  {
   "cell_type": "markdown",
   "id": "bd6ca2e9",
   "metadata": {},
   "source": [
    "### 2) 데크를 이용한 최적화"
   ]
  },
  {
   "cell_type": "code",
   "execution_count": 2,
   "id": "a00954bc",
   "metadata": {},
   "outputs": [],
   "source": [
    "class Solution(object):\n",
    "    def isPalindrome(self, head):\n",
    "        \"\"\"\n",
    "        :type head: ListNode\n",
    "        :rtype: bool\n",
    "        \"\"\"\n",
    "        # Function to initialize head \n",
    "\n",
    "        q = collections.deque()\n",
    "        \n",
    "        if not head:\n",
    "            return True\n",
    "        \n",
    "        node = head\n",
    "        while node is not None:\n",
    "            q.append(node.val)\n",
    "            node = node.next\n",
    "            \n",
    "        while len(q)>1:\n",
    "            if q.popleft() != q.pop():\n",
    "                return False\n",
    "            \n",
    "        return True"
   ]
  },
  {
   "cell_type": "markdown",
   "id": "8ee56908",
   "metadata": {},
   "source": [
    "### 3) 런너를 이용한 우아한 풀이"
   ]
  },
  {
   "cell_type": "code",
   "execution_count": 3,
   "id": "cc72d75b",
   "metadata": {},
   "outputs": [],
   "source": [
    "class Solution(object):\n",
    "    def isPalindrome(self, head):\n",
    "        \"\"\"\n",
    "        :type head: ListNode\n",
    "        :rtype: bool\n",
    "        \"\"\"\n",
    "        # Function to initialize head \n",
    "\n",
    "        rev = None\n",
    "        slow = fast = head\n",
    "        \n",
    "        while fast and fast.next:\n",
    "            fast = fast.next.next\n",
    "            rev, rev.next, slow = slow, rev, slow.next\n",
    "            \n",
    "        if fast:\n",
    "            slow = slow.next\n",
    "            \n",
    "        while rev and rev.val == slow.val:\n",
    "            slow, rev = slow.next, rev.next\n",
    "            \n",
    "        return not rev\n",
    "            "
   ]
  },
  {
   "cell_type": "code",
   "execution_count": null,
   "id": "dca9e085",
   "metadata": {},
   "outputs": [],
   "source": []
  }
 ],
 "metadata": {
  "kernelspec": {
   "display_name": "Python 3",
   "language": "python",
   "name": "python3"
  },
  "language_info": {
   "codemirror_mode": {
    "name": "ipython",
    "version": 3
   },
   "file_extension": ".py",
   "mimetype": "text/x-python",
   "name": "python",
   "nbconvert_exporter": "python",
   "pygments_lexer": "ipython3",
   "version": "3.8.8"
  }
 },
 "nbformat": 4,
 "nbformat_minor": 5
}
