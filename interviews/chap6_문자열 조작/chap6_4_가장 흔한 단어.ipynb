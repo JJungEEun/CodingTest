{
 "cells": [
  {
   "cell_type": "markdown",
   "id": "29fd30a7",
   "metadata": {},
   "source": [
    "# 가장 흔한 단어"
   ]
  },
  {
   "cell_type": "markdown",
   "id": "f3a5f4df",
   "metadata": {},
   "source": [
    "### 금지된 단어를 제외하고 가장 흔하게 등장하는 단어를 출력해라  (대소문자 구분 X, 구두점 무시)"
   ]
  },
  {
   "cell_type": "markdown",
   "id": "50a8925e",
   "metadata": {},
   "source": [
    "Example 1)\n",
    "\n",
    "Input: paragraph = \"Bob hit a ball, the hit BALL flew far after it was hit.\", banned = [\"hit\"]\n",
    "\n",
    "Output: \"ball\""
   ]
  },
  {
   "cell_type": "markdown",
   "id": "a5c60ab0",
   "metadata": {},
   "source": [
    "### 0) My Solution"
   ]
  },
  {
   "cell_type": "code",
   "execution_count": 66,
   "id": "2126ac13",
   "metadata": {},
   "outputs": [],
   "source": [
    "import collections\n",
    "import re\n",
    "from typing import List\n",
    "\n",
    "\n",
    "def mostCommonWord(paragraph, banned):\n",
    "    d = {}\n",
    "    for i in re.sub(r'[^\\w]', ' ', paragraph).lower().split():\n",
    "        if i not in banned:\n",
    "            if i in d:\n",
    "                d[i] += 1\n",
    "            else:\n",
    "                d[i] = 1\n",
    "    d = sorted(d, key= lambda x :d[x], reverse=True)\n",
    "\n",
    "    return d[0]"
   ]
  },
  {
   "cell_type": "code",
   "execution_count": 67,
   "id": "3d364be9",
   "metadata": {},
   "outputs": [
    {
     "data": {
      "text/plain": [
       "'ball'"
      ]
     },
     "execution_count": 67,
     "metadata": {},
     "output_type": "execute_result"
    }
   ],
   "source": [
    "paragraph = \"Bob hit a ball, the hit BALL flew far after it was hit.\"\n",
    "banned = [\"hit\"]\n",
    "\n",
    "mostCommonWord(paragraph, banned)"
   ]
  },
  {
   "cell_type": "markdown",
   "id": "ac9dd101",
   "metadata": {},
   "source": [
    "Runtime: 19 ms Memory Usage: 13.6 MB"
   ]
  },
  {
   "cell_type": "markdown",
   "id": "65d8d01e",
   "metadata": {},
   "source": [
    "### 1) 리스트 컴프리헨션, Counter 객체 사용"
   ]
  },
  {
   "cell_type": "code",
   "execution_count": 45,
   "id": "e5a720b8",
   "metadata": {},
   "outputs": [],
   "source": [
    "import collections\n",
    "import re\n",
    "from typing import List\n",
    "\n",
    "\n",
    "def mostCommonWord(paragraph: str, banned: List[str]) -> str:\n",
    "    words = [word for word in re.sub(r'[^\\w]', ' ', paragraph).lower().split()\n",
    "                 if word not in banned]\n",
    "\n",
    "    counts = collections.Counter(words)\n",
    "    print(counts)\n",
    "    # 가장 흔하게 등장하는 단어의 첫 번째 인덱스 리턴\n",
    "    return counts.most_common(1)[0][0]"
   ]
  },
  {
   "cell_type": "code",
   "execution_count": 46,
   "id": "2f283634",
   "metadata": {},
   "outputs": [
    {
     "name": "stdout",
     "output_type": "stream",
     "text": [
      "Counter({'ball': 2, 'bob': 1, 'a': 1, 'the': 1, 'flew': 1, 'far': 1, 'after': 1, 'it': 1, 'was': 1})\n"
     ]
    },
    {
     "data": {
      "text/plain": [
       "'ball'"
      ]
     },
     "execution_count": 46,
     "metadata": {},
     "output_type": "execute_result"
    }
   ],
   "source": [
    "paragraph = \"Bob hit a ball, the hit BALL flew far after it was hit.\"\n",
    "banned = [\"hit\"]\n",
    "\n",
    "mostCommonWord(paragraph, banned)"
   ]
  },
  {
   "cell_type": "code",
   "execution_count": 60,
   "id": "ddbd373a",
   "metadata": {},
   "outputs": [
    {
     "name": "stdout",
     "output_type": "stream",
     "text": [
      "Counter({'hit': 3, 'ball': 2, 'bob': 1, 'a': 1, 'the': 1, 'flew': 1, 'far': 1, 'after': 1, 'it': 1, 'was': 1})\n"
     ]
    }
   ],
   "source": [
    "paragraph = \"Bob hit a ball, the hit BALL flew far after it was hit.\"\n",
    "words = [word for word in re.sub(r'[^\\w]', ' ', paragraph).lower().split()]\n",
    "\n",
    "for letter in words:\n",
    "    cnt = collections.Counter(words)\n",
    "    \n",
    "print(cnt)"
   ]
  },
  {
   "cell_type": "markdown",
   "id": "50a94e24",
   "metadata": {},
   "source": [
    "Runtime: 28 ms\n",
    "Memory Usage: 13.4 MB"
   ]
  }
 ],
 "metadata": {
  "kernelspec": {
   "display_name": "Python 3",
   "language": "python",
   "name": "python3"
  },
  "language_info": {
   "codemirror_mode": {
    "name": "ipython",
    "version": 3
   },
   "file_extension": ".py",
   "mimetype": "text/x-python",
   "name": "python",
   "nbconvert_exporter": "python",
   "pygments_lexer": "ipython3",
   "version": "3.8.8"
  }
 },
 "nbformat": 4,
 "nbformat_minor": 5
}
