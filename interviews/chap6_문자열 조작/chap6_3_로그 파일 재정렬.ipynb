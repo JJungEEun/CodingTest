{
 "cells": [
  {
   "cell_type": "markdown",
   "id": "2d8ccc37",
   "metadata": {},
   "source": [
    "## 로그 파일 재정렬"
   ]
  },
  {
   "cell_type": "markdown",
   "id": "c2b64d18",
   "metadata": {},
   "source": [
    "### 로그를 재정렬해여라 \n",
    "### 1. 로그의 가장 앞 부분은 식별자이다 \n",
    "### 2. 문자로 구성된 로그가 숫자 로그보다 앞에 온다\n",
    "### 3. 식별자는 순서에 영향을 끼치지 않지만, 문자가 동일할 경우 식별자 순으로 한다\n",
    "### 4. 숫자 로그는 입력 순서대로 한다"
   ]
  },
  {
   "cell_type": "markdown",
   "id": "f1958961",
   "metadata": {},
   "source": [
    "example)\n",
    "\n",
    "Input: logs = [\"dig1 8 1 5 1\",\"let1 art can\",\"dig2 3 6\",\"let2 own kit dig\",\"let3 art zero\"]\n",
    "\n",
    "Output: [\"let1 art can\",\"let3 art zero\",\"let2 own kit dig\",\"dig1 8 1 5 1\",\"dig2 3 6\"]"
   ]
  },
  {
   "cell_type": "markdown",
   "id": "32173cdb",
   "metadata": {},
   "source": [
    "### 1) 람다와 + 연산자를 이용"
   ]
  },
  {
   "cell_type": "code",
   "execution_count": 5,
   "id": "2841a7b2",
   "metadata": {},
   "outputs": [],
   "source": [
    "def reorderLogFiles(logs):\n",
    "    letters, digits = [], []\n",
    "    \n",
    "    for log in logs:\n",
    "        if log.split()[1].isdigit():\n",
    "            digits.append(log)\n",
    "        else:\n",
    "            letters.append(log)\n",
    "            \n",
    "    letters.sort(key= lambda x: (x.split()[1:], x.split()[0]))     \n",
    "    return letters + digits"
   ]
  },
  {
   "cell_type": "code",
   "execution_count": 6,
   "id": "8a4683d1",
   "metadata": {},
   "outputs": [
    {
     "data": {
      "text/plain": [
       "['let1 art can',\n",
       " 'let3 art zero',\n",
       " 'let2 own kit dig',\n",
       " 'dig1 8 1 5 1',\n",
       " 'dig2 3 6']"
      ]
     },
     "execution_count": 6,
     "metadata": {},
     "output_type": "execute_result"
    }
   ],
   "source": [
    "logs = [\"dig1 8 1 5 1\",\"let1 art can\",\"dig2 3 6\",\"let2 own kit dig\",\"let3 art zero\"]\n",
    "reorderLogFiles(logs)"
   ]
  }
 ],
 "metadata": {
  "kernelspec": {
   "display_name": "Python 3",
   "language": "python",
   "name": "python3"
  },
  "language_info": {
   "codemirror_mode": {
    "name": "ipython",
    "version": 3
   },
   "file_extension": ".py",
   "mimetype": "text/x-python",
   "name": "python",
   "nbconvert_exporter": "python",
   "pygments_lexer": "ipython3",
   "version": "3.8.8"
  }
 },
 "nbformat": 4,
 "nbformat_minor": 5
}
