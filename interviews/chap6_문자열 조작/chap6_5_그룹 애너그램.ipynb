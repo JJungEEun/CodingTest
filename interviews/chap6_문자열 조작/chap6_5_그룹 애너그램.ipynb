{
 "cells": [
  {
   "cell_type": "markdown",
   "id": "23b29e17",
   "metadata": {},
   "source": [
    "# 그룹 애너그램"
   ]
  },
  {
   "cell_type": "markdown",
   "id": "6912dc0b",
   "metadata": {},
   "source": [
    "### 문자열 배열을 받아 애너그램 단위로 그룹핑해라"
   ]
  },
  {
   "cell_type": "markdown",
   "id": "c6aa09aa",
   "metadata": {},
   "source": [
    "Example 1)\n",
    "\n",
    "Input: strs = [\"eat\",\"tea\",\"tan\",\"ate\",\"nat\",\"bat\"]\n",
    "\n",
    "Output: [[\"bat\"],[\"nat\",\"tan\"],[\"ate\",\"eat\",\"tea\"]]"
   ]
  },
  {
   "cell_type": "markdown",
   "id": "397dffe9",
   "metadata": {},
   "source": [
    "### 0) My Solution"
   ]
  },
  {
   "cell_type": "code",
   "execution_count": 16,
   "id": "61cbea22",
   "metadata": {},
   "outputs": [],
   "source": [
    "import collections\n",
    "\n",
    "def groupAnagrams(strs):\n",
    "    words = [''.join(sorted(word)) for word in strs]\n",
    "    d = collections.defaultdict(list)\n",
    "    for s, w in zip(strs, words):\n",
    "        d[w].append(s)\n",
    "        \n",
    "    return d.values()"
   ]
  },
  {
   "cell_type": "code",
   "execution_count": 17,
   "id": "66681ee6",
   "metadata": {},
   "outputs": [
    {
     "data": {
      "text/plain": [
       "dict_values([['eat', 'tea', 'ate'], ['tan', 'nat'], ['bat']])"
      ]
     },
     "execution_count": 17,
     "metadata": {},
     "output_type": "execute_result"
    }
   ],
   "source": [
    "strs = [\"eat\",\"tea\",\"tan\",\"ate\",\"nat\",\"bat\"]    \n",
    "groupAnagrams(strs)"
   ]
  },
  {
   "cell_type": "markdown",
   "id": "0d760750",
   "metadata": {},
   "source": [
    "Runtime: 101 ms\n",
    "Memory Usage: 18.4 MB"
   ]
  },
  {
   "cell_type": "markdown",
   "id": "cd2fff3c",
   "metadata": {},
   "source": [
    "### 02) 정렬하여 딕셔너리에 추가"
   ]
  },
  {
   "cell_type": "code",
   "execution_count": 21,
   "id": "9977bb70",
   "metadata": {},
   "outputs": [],
   "source": [
    "def groupAnagrams(strs):\n",
    "    anagrams = collections.defaultdict(list)\n",
    "    \n",
    "    for word in strs:\n",
    "        anagrams[''.join(sorted(word))].append(word)\n",
    "                \n",
    "    return list(anagrams.values())"
   ]
  },
  {
   "cell_type": "code",
   "execution_count": 22,
   "id": "0d851c5f",
   "metadata": {},
   "outputs": [
    {
     "data": {
      "text/plain": [
       "[['eat', 'tea', 'ate'], ['tan', 'nat'], ['bat']]"
      ]
     },
     "execution_count": 22,
     "metadata": {},
     "output_type": "execute_result"
    }
   ],
   "source": [
    "strs = [\"eat\",\"tea\",\"tan\",\"ate\",\"nat\",\"bat\"]    \n",
    "groupAnagrams(strs)"
   ]
  },
  {
   "cell_type": "markdown",
   "id": "296ab293",
   "metadata": {},
   "source": [
    "Runtime: 103 ms\n",
    "Memory Usage: 17.7 MB"
   ]
  },
  {
   "cell_type": "markdown",
   "id": "55ac9b3e",
   "metadata": {},
   "source": [
    " "
   ]
  },
  {
   "cell_type": "markdown",
   "id": "eef6099d",
   "metadata": {},
   "source": [
    "### 여러 가지 정렬 방법"
   ]
  },
  {
   "cell_type": "code",
   "execution_count": 26,
   "id": "02f192c7",
   "metadata": {},
   "outputs": [
    {
     "data": {
      "text/plain": [
       "[1, 2, 5, 7, 9]"
      ]
     },
     "execution_count": 26,
     "metadata": {},
     "output_type": "execute_result"
    }
   ],
   "source": [
    "a = [2, 5, 1, 9, 7]\n",
    "sorted(a)"
   ]
  },
  {
   "cell_type": "code",
   "execution_count": 27,
   "id": "d2bed545",
   "metadata": {},
   "outputs": [
    {
     "data": {
      "text/plain": [
       "['a', 'b', 'd', 'f', 'z']"
      ]
     },
     "execution_count": 27,
     "metadata": {},
     "output_type": "execute_result"
    }
   ],
   "source": [
    "b = 'zbdaf'\n",
    "sorted(b)"
   ]
  },
  {
   "cell_type": "code",
   "execution_count": 28,
   "id": "458720fb",
   "metadata": {},
   "outputs": [
    {
     "data": {
      "text/plain": [
       "'abdfz'"
      ]
     },
     "execution_count": 28,
     "metadata": {},
     "output_type": "execute_result"
    }
   ],
   "source": [
    "\"\".join(sorted(b))"
   ]
  },
  {
   "cell_type": "code",
   "execution_count": 31,
   "id": "051fe140",
   "metadata": {},
   "outputs": [
    {
     "data": {
      "text/plain": [
       "[1, 2, 5, 7, 9]"
      ]
     },
     "execution_count": 31,
     "metadata": {},
     "output_type": "execute_result"
    }
   ],
   "source": [
    "a.sort()\n",
    "a"
   ]
  },
  {
   "cell_type": "code",
   "execution_count": 34,
   "id": "356e2cd8",
   "metadata": {},
   "outputs": [
    {
     "name": "stdout",
     "output_type": "stream",
     "text": [
      "None\n"
     ]
    }
   ],
   "source": [
    "A =a.sort()\n",
    "print(A)"
   ]
  },
  {
   "cell_type": "code",
   "execution_count": 35,
   "id": "4fc0c8b3",
   "metadata": {},
   "outputs": [
    {
     "data": {
      "text/plain": [
       "['d', 'bb', 'ccc', 'aaaa']"
      ]
     },
     "execution_count": 35,
     "metadata": {},
     "output_type": "execute_result"
    }
   ],
   "source": [
    "c = ['ccc', 'aaaa', 'd', 'bb']\n",
    "sorted(c, key=len)"
   ]
  },
  {
   "cell_type": "code",
   "execution_count": 36,
   "id": "2f1b2c6f",
   "metadata": {},
   "outputs": [
    {
     "name": "stdout",
     "output_type": "stream",
     "text": [
      "['abc', 'cfc', 'cde']\n"
     ]
    }
   ],
   "source": [
    "a =['cde', 'cfc', 'abc']\n",
    "\n",
    "def fn(s):\n",
    "    return s[0], s[-1]\n",
    "\n",
    "print(sorted(a, key=fn))"
   ]
  },
  {
   "cell_type": "code",
   "execution_count": 37,
   "id": "adecdc94",
   "metadata": {},
   "outputs": [
    {
     "data": {
      "text/plain": [
       "['abc', 'cde', 'cfc']"
      ]
     },
     "execution_count": 37,
     "metadata": {},
     "output_type": "execute_result"
    }
   ],
   "source": [
    "sorted(a)"
   ]
  },
  {
   "cell_type": "code",
   "execution_count": 39,
   "id": "e3edd302",
   "metadata": {},
   "outputs": [
    {
     "data": {
      "text/plain": [
       "['abc', 'cfc', 'cde']"
      ]
     },
     "execution_count": 39,
     "metadata": {},
     "output_type": "execute_result"
    }
   ],
   "source": [
    "sorted(a, key=lambda s: (s[0], s[-1]))"
   ]
  }
 ],
 "metadata": {
  "kernelspec": {
   "display_name": "Python 3",
   "language": "python",
   "name": "python3"
  },
  "language_info": {
   "codemirror_mode": {
    "name": "ipython",
    "version": 3
   },
   "file_extension": ".py",
   "mimetype": "text/x-python",
   "name": "python",
   "nbconvert_exporter": "python",
   "pygments_lexer": "ipython3",
   "version": "3.8.8"
  }
 },
 "nbformat": 4,
 "nbformat_minor": 5
}
