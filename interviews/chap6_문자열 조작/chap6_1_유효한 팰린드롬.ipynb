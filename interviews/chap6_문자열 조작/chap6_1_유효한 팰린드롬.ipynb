{
 "cells": [
  {
   "cell_type": "markdown",
   "id": "27d1f85d",
   "metadata": {},
   "source": [
    "# 유효한 팰린드롬"
   ]
  },
  {
   "cell_type": "markdown",
   "id": "105bc0ec",
   "metadata": {},
   "source": [
    "### 주어진 문자열이 팰린드롬인지 확인해라 (대소문자 구분 X, 영문자와 숫자만을 대상)"
   ]
  },
  {
   "cell_type": "markdown",
   "id": "f41b0028",
   "metadata": {},
   "source": [
    "example)\n",
    "\n",
    "Input: s = \"A man, a plan, a canal: Panama\"\n",
    "    \n",
    "Output: true"
   ]
  },
  {
   "cell_type": "markdown",
   "id": "1f2555c7",
   "metadata": {},
   "source": [
    "## 0) My Solution"
   ]
  },
  {
   "cell_type": "code",
   "execution_count": 3,
   "id": "82432491",
   "metadata": {},
   "outputs": [],
   "source": [
    "import re\n",
    "\n",
    "def isPalindrome(s):\n",
    "    strs = re.sub(r'[^a-z0-9]', '', s.lower())\n",
    "    #re.sub('찾을 패턴', '찾은 패턴을 변경할 내용', '원본')\n",
    "    #^ = not\n",
    "    \n",
    "    return strs == strs[::-1]"
   ]
  },
  {
   "cell_type": "code",
   "execution_count": 4,
   "id": "8a146626",
   "metadata": {},
   "outputs": [
    {
     "data": {
      "text/plain": [
       "True"
      ]
     },
     "execution_count": 4,
     "metadata": {},
     "output_type": "execute_result"
    }
   ],
   "source": [
    "s = \"A man, a plan, a canal: Panama\"\n",
    "isPalindrome(s)"
   ]
  },
  {
   "cell_type": "code",
   "execution_count": 5,
   "id": "658d2345",
   "metadata": {},
   "outputs": [
    {
     "data": {
      "text/plain": [
       "False"
      ]
     },
     "execution_count": 5,
     "metadata": {},
     "output_type": "execute_result"
    }
   ],
   "source": [
    "s = \"race a car\"\n",
    "isPalindrome(s)"
   ]
  },
  {
   "cell_type": "code",
   "execution_count": 8,
   "id": "b524f079",
   "metadata": {},
   "outputs": [
    {
     "data": {
      "text/plain": [
       "True"
      ]
     },
     "execution_count": 8,
     "metadata": {},
     "output_type": "execute_result"
    }
   ],
   "source": [
    "s = \" \"\n",
    "isPalindrome(s)"
   ]
  },
  {
   "cell_type": "markdown",
   "id": "6b96fa2f",
   "metadata": {},
   "source": [
    "runtime: 28ms memory: 16MB"
   ]
  },
  {
   "cell_type": "markdown",
   "id": "1390bfde",
   "metadata": {},
   "source": [
    "## 01) 유효한 팰린드롬"
   ]
  },
  {
   "cell_type": "code",
   "execution_count": 9,
   "id": "aa7cefc1",
   "metadata": {},
   "outputs": [],
   "source": [
    "def isPalindrome(s):\n",
    "    strs = []\n",
    "    \n",
    "    for char in s:\n",
    "        if char.isalnum(): #isalnum(): 영문자, 숫자 여부 판별 함수\n",
    "            strs.append(char.lower())\n",
    "        \n",
    "    #팰린드롬 여부 판별\n",
    "    while len(strs) > 1:\n",
    "        if strs.pop(0) != strs.pop():\n",
    "            #strs.pop(0): 맨 뒷부분 pop\n",
    "            return False\n",
    "        \n",
    "    return True"
   ]
  },
  {
   "cell_type": "code",
   "execution_count": 10,
   "id": "13bd08e0",
   "metadata": {},
   "outputs": [
    {
     "data": {
      "text/plain": [
       "True"
      ]
     },
     "execution_count": 10,
     "metadata": {},
     "output_type": "execute_result"
    }
   ],
   "source": [
    "s = \"A man, a plan, a canal: Panama\"\n",
    "isPalindrome(s)"
   ]
  },
  {
   "cell_type": "code",
   "execution_count": 11,
   "id": "8627525a",
   "metadata": {},
   "outputs": [
    {
     "data": {
      "text/plain": [
       "False"
      ]
     },
     "execution_count": 11,
     "metadata": {},
     "output_type": "execute_result"
    }
   ],
   "source": [
    "s = \"race a car\"\n",
    "isPalindrome(s)"
   ]
  },
  {
   "cell_type": "code",
   "execution_count": 12,
   "id": "4a9dac53",
   "metadata": {},
   "outputs": [
    {
     "data": {
      "text/plain": [
       "True"
      ]
     },
     "execution_count": 12,
     "metadata": {},
     "output_type": "execute_result"
    }
   ],
   "source": [
    "s = \" \"\n",
    "isPalindrome(s)"
   ]
  },
  {
   "cell_type": "markdown",
   "id": "f3e162a6",
   "metadata": {},
   "source": [
    "runtime: 290ms memory: 15.1MB"
   ]
  },
  {
   "cell_type": "markdown",
   "id": "71ebba81",
   "metadata": {},
   "source": [
    "## 02) 데크 자료형 이용한 최적화"
   ]
  },
  {
   "cell_type": "code",
   "execution_count": 18,
   "id": "a8f5a8a6",
   "metadata": {},
   "outputs": [],
   "source": [
    "import collections\n",
    "\n",
    "def isPalindrome(s):\n",
    "    #자료형 데크로 선언\n",
    "    strs: Deque = collections.deque()\n",
    "    \n",
    "    for char in s:\n",
    "        if char.isalnum():\n",
    "            strs.append(char.lower())\n",
    "    \n",
    "    while len(strs) > 1:\n",
    "        if strs.popleft() != strs.pop():\n",
    "            return False\n",
    "        \n",
    "    return True"
   ]
  },
  {
   "cell_type": "markdown",
   "id": "f8c72709",
   "metadata": {},
   "source": [
    "1번의 리스트만으로도 해결할 수 있지만 runtime이 250ms가 걸렸다\n",
    "\n",
    "list-pop(0): O(n) / deque-popleft(): O(1)\n",
    "\n",
    "list-구현: O(n^2) / deque-구현: O(n)"
   ]
  },
  {
   "cell_type": "code",
   "execution_count": 19,
   "id": "e4e6df73",
   "metadata": {},
   "outputs": [
    {
     "data": {
      "text/plain": [
       "True"
      ]
     },
     "execution_count": 19,
     "metadata": {},
     "output_type": "execute_result"
    }
   ],
   "source": [
    "s = \"A man, a plan, a canal: Panama\"\n",
    "isPalindrome(s)"
   ]
  },
  {
   "cell_type": "code",
   "execution_count": 20,
   "id": "3255fc7d",
   "metadata": {},
   "outputs": [
    {
     "data": {
      "text/plain": [
       "False"
      ]
     },
     "execution_count": 20,
     "metadata": {},
     "output_type": "execute_result"
    }
   ],
   "source": [
    "s = \"race a car\"\n",
    "isPalindrome(s)"
   ]
  },
  {
   "cell_type": "code",
   "execution_count": 21,
   "id": "ce36d5a4",
   "metadata": {},
   "outputs": [
    {
     "data": {
      "text/plain": [
       "True"
      ]
     },
     "execution_count": 21,
     "metadata": {},
     "output_type": "execute_result"
    }
   ],
   "source": [
    "s = \" \"\n",
    "isPalindrome(s)"
   ]
  },
  {
   "cell_type": "markdown",
   "id": "df8587da",
   "metadata": {},
   "source": [
    "runtime: 50 ms memory: 15 MB"
   ]
  },
  {
   "cell_type": "markdown",
   "id": "ac04c7a6",
   "metadata": {},
   "source": [
    "## 03) 슬라이싱 사용"
   ]
  },
  {
   "cell_type": "code",
   "execution_count": 23,
   "id": "0a334157",
   "metadata": {},
   "outputs": [],
   "source": [
    "def isPalindrome(s):\n",
    "    s = s.lower()\n",
    "    #정규식으로 불필요한 문자\n",
    "    s = re.sub('[^a-z0-9]', '', s)\n",
    "    \n",
    "    return s == s[::-1] #슬라이싱"
   ]
  },
  {
   "cell_type": "code",
   "execution_count": 24,
   "id": "95347591",
   "metadata": {},
   "outputs": [
    {
     "data": {
      "text/plain": [
       "True"
      ]
     },
     "execution_count": 24,
     "metadata": {},
     "output_type": "execute_result"
    }
   ],
   "source": [
    "s = \"A man, a plan, a canal: Panama\"\n",
    "isPalindrome(s)"
   ]
  },
  {
   "cell_type": "code",
   "execution_count": 25,
   "id": "19506f89",
   "metadata": {},
   "outputs": [
    {
     "data": {
      "text/plain": [
       "False"
      ]
     },
     "execution_count": 25,
     "metadata": {},
     "output_type": "execute_result"
    }
   ],
   "source": [
    "s = \"race a car\"\n",
    "isPalindrome(s)"
   ]
  },
  {
   "cell_type": "code",
   "execution_count": 26,
   "id": "cfb329aa",
   "metadata": {},
   "outputs": [
    {
     "data": {
      "text/plain": [
       "True"
      ]
     },
     "execution_count": 26,
     "metadata": {},
     "output_type": "execute_result"
    }
   ],
   "source": [
    "s = \" \"\n",
    "isPalindrome(s)"
   ]
  },
  {
   "cell_type": "markdown",
   "id": "4c37951f",
   "metadata": {},
   "source": [
    "runtime: 40 ms memory: 16.1 MB"
   ]
  }
 ],
 "metadata": {
  "kernelspec": {
   "display_name": "Python 3",
   "language": "python",
   "name": "python3"
  },
  "language_info": {
   "codemirror_mode": {
    "name": "ipython",
    "version": 3
   },
   "file_extension": ".py",
   "mimetype": "text/x-python",
   "name": "python",
   "nbconvert_exporter": "python",
   "pygments_lexer": "ipython3",
   "version": "3.8.8"
  }
 },
 "nbformat": 4,
 "nbformat_minor": 5
}
