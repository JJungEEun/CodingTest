{
 "cells": [
  {
   "cell_type": "markdown",
   "id": "545d02ff",
   "metadata": {},
   "source": [
    "## 문자열 뒤집기"
   ]
  },
  {
   "cell_type": "markdown",
   "id": "31690382",
   "metadata": {},
   "source": [
    "### 문자열을 뒤집는 함수 작성(입력값: 문자 배열, 리턴 없이 리스트 내부를 직접 조작할 것)"
   ]
  },
  {
   "cell_type": "markdown",
   "id": "69a004d8",
   "metadata": {},
   "source": [
    "example)\n",
    "        \n",
    "\n",
    "Input: s = [\"h\",\"e\",\"l\",\"l\",\"o\"]\n",
    "    \n",
    "Output: [\"o\",\"l\",\"l\",\"e\",\"h\"]"
   ]
  },
  {
   "cell_type": "markdown",
   "id": "22be701d",
   "metadata": {},
   "source": [
    "### 0) My Solution"
   ]
  },
  {
   "cell_type": "code",
   "execution_count": 2,
   "id": "5b4a61f7",
   "metadata": {},
   "outputs": [],
   "source": [
    "def reverseString(s):\n",
    "    s. reverse()\n",
    "    \n",
    "    return s"
   ]
  },
  {
   "cell_type": "code",
   "execution_count": 4,
   "id": "613bec3e",
   "metadata": {},
   "outputs": [
    {
     "data": {
      "text/plain": [
       "['o', 'l', 'l', 'e', 'h']"
      ]
     },
     "execution_count": 4,
     "metadata": {},
     "output_type": "execute_result"
    }
   ],
   "source": [
    "s = [\"h\",\"e\",\"l\",\"l\",\"o\"]\n",
    "reverseString(s)   "
   ]
  },
  {
   "cell_type": "markdown",
   "id": "28ec18c5",
   "metadata": {},
   "source": [
    "runtime: 171 ms memory: 21.2 MB"
   ]
  },
  {
   "cell_type": "markdown",
   "id": "3d02f0ec",
   "metadata": {},
   "source": [
    "### 1) 투 포인터를 이용한 스왑"
   ]
  },
  {
   "cell_type": "code",
   "execution_count": 2,
   "id": "a3053981",
   "metadata": {},
   "outputs": [],
   "source": [
    "def reverseString(s):\n",
    "    left, right = 0, len(s) -1\n",
    "    \n",
    "    while left < right:\n",
    "        s[left], s[right] = s[right], s[left]\n",
    "        left += 1\n",
    "        right -= 1\n",
    "        \n",
    "    return s"
   ]
  },
  {
   "cell_type": "code",
   "execution_count": 3,
   "id": "6cd54802",
   "metadata": {},
   "outputs": [
    {
     "data": {
      "text/plain": [
       "['o', 'l', 'l', 'e', 'h']"
      ]
     },
     "execution_count": 3,
     "metadata": {},
     "output_type": "execute_result"
    }
   ],
   "source": [
    "s = [\"h\",\"e\",\"l\",\"l\",\"o\"]\n",
    "reverseString(s)  "
   ]
  },
  {
   "cell_type": "markdown",
   "id": "c7f164a0",
   "metadata": {},
   "source": [
    "runtime: 241 ms memory: 21.4 MB"
   ]
  },
  {
   "cell_type": "markdown",
   "id": "8fec5f33",
   "metadata": {},
   "source": [
    "### 2) 파이썬다운 방식: My Solution과 같아 생략"
   ]
  }
 ],
 "metadata": {
  "kernelspec": {
   "display_name": "Python 3",
   "language": "python",
   "name": "python3"
  },
  "language_info": {
   "codemirror_mode": {
    "name": "ipython",
    "version": 3
   },
   "file_extension": ".py",
   "mimetype": "text/x-python",
   "name": "python",
   "nbconvert_exporter": "python",
   "pygments_lexer": "ipython3",
   "version": "3.8.8"
  }
 },
 "nbformat": 4,
 "nbformat_minor": 5
}
