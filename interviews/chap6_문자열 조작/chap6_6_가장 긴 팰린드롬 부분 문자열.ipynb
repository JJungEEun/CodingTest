{
 "cells": [
  {
   "cell_type": "markdown",
   "id": "9d7a3649",
   "metadata": {},
   "source": [
    "# 가장 긴 팰린드롬 부분 문자열"
   ]
  },
  {
   "cell_type": "markdown",
   "id": "19199dc8",
   "metadata": {},
   "source": [
    "### 가장 긴 팰린드롬 부분 문자열을 출력하라"
   ]
  },
  {
   "cell_type": "markdown",
   "id": "5e7c859a",
   "metadata": {},
   "source": [
    "Input: s = \"babad\"\n",
    "\n",
    "Output: \"bab\"\n",
    "\n",
    "Explanation: \"aba\" is also a valid answer."
   ]
  },
  {
   "cell_type": "markdown",
   "id": "46bb986b",
   "metadata": {},
   "source": [
    "### 중앙을 중심으로 확장하는 풀이"
   ]
  },
  {
   "cell_type": "code",
   "execution_count": 19,
   "id": "c9b53758",
   "metadata": {},
   "outputs": [],
   "source": [
    "def longestPalindrome(s: str) -> str:\n",
    "    # 팰린드롬 판별 및 투 포인터 확장\n",
    "        def expand(left: int, right: int) -> str:\n",
    "            print(\"1: \", left, right)\n",
    "            while left >= 0 and right < len(s) and s[left] == s[right]:\n",
    "                left -= 1\n",
    "                right += 1\n",
    "            print(\"return: \", s[left+1:right])\n",
    "            return s[left + 1:right]\n",
    "\n",
    "        # 해당 사항이 없을때 빠르게 리턴\n",
    "        if len(s) < 2 or s == s[::-1]:\n",
    "            return s\n",
    "\n",
    "        result = ''\n",
    "        # 슬라이딩 윈도우 우측으로 이동\n",
    "        for i in range(len(s) - 1):\n",
    "            result = max(result,\n",
    "                         expand(i, i + 1),\n",
    "                         expand(i, i + 2),\n",
    "                         key=len)\n",
    "        return result"
   ]
  },
  {
   "cell_type": "code",
   "execution_count": 20,
   "id": "92c6910f",
   "metadata": {},
   "outputs": [
    {
     "name": "stdout",
     "output_type": "stream",
     "text": [
      "1:  0 1\n",
      "return:  \n",
      "1:  0 2\n",
      "return:  bab\n",
      "1:  1 2\n",
      "return:  \n",
      "1:  1 3\n",
      "return:  aba\n",
      "1:  2 3\n",
      "return:  \n",
      "1:  2 4\n",
      "return:  a\n",
      "1:  3 4\n",
      "return:  \n",
      "1:  3 5\n",
      "return:  d\n"
     ]
    },
    {
     "data": {
      "text/plain": [
       "'bab'"
      ]
     },
     "execution_count": 20,
     "metadata": {},
     "output_type": "execute_result"
    }
   ],
   "source": [
    "s = \"babad\"\n",
    "longestPalindrome(s)"
   ]
  },
  {
   "cell_type": "code",
   "execution_count": null,
   "id": "efbca12d",
   "metadata": {},
   "outputs": [],
   "source": []
  }
 ],
 "metadata": {
  "kernelspec": {
   "display_name": "Python 3",
   "language": "python",
   "name": "python3"
  },
  "language_info": {
   "codemirror_mode": {
    "name": "ipython",
    "version": 3
   },
   "file_extension": ".py",
   "mimetype": "text/x-python",
   "name": "python",
   "nbconvert_exporter": "python",
   "pygments_lexer": "ipython3",
   "version": "3.8.8"
  }
 },
 "nbformat": 4,
 "nbformat_minor": 5
}
