{
 "cells": [
  {
   "cell_type": "markdown",
   "id": "7d5942dc",
   "metadata": {},
   "source": [
    "### 14. Longest Common Prefix\n",
    "\n",
    "---\n",
    "~~~\n",
    "\n",
    "Add to List\n",
    "\n",
    "Share\n",
    "Write a function to find the longest common prefix string amongst an array of strings.\n",
    "\n",
    "If there is no common prefix, return an empty string \"\".\n",
    "\n",
    " "
   ]
  },
  {
   "cell_type": "markdown",
   "id": "ac830e8e",
   "metadata": {},
   "source": [
    "#### Solution 01"
   ]
  },
  {
   "cell_type": "code",
   "execution_count": 3,
   "id": "2be346f0",
   "metadata": {},
   "outputs": [],
   "source": [
    "class Solution(object):\n",
    "    def longestCommonPrefix(strs):\n",
    "        \"\"\"\n",
    "        :type strs: List[str]\n",
    "        :rtype: str\n",
    "        \"\"\"\n",
    "        pre = strs[0]\n",
    "        \n",
    "        for i in strs:\n",
    "            while not i.startswith(pre):\n",
    "                pre = pre[:-1]\n",
    "        \n",
    "        return pre"
   ]
  },
  {
   "cell_type": "code",
   "execution_count": 4,
   "id": "fb4986fc",
   "metadata": {},
   "outputs": [
    {
     "data": {
      "text/plain": [
       "''"
      ]
     },
     "execution_count": 4,
     "metadata": {},
     "output_type": "execute_result"
    }
   ],
   "source": [
    "strs = [\"dog\",\"racecar\",\"car\"]\n",
    "Solution.longestCommonPrefix(strs)"
   ]
  },
  {
   "cell_type": "code",
   "execution_count": 5,
   "id": "a26c815e",
   "metadata": {},
   "outputs": [
    {
     "data": {
      "text/plain": [
       "'fl'"
      ]
     },
     "execution_count": 5,
     "metadata": {},
     "output_type": "execute_result"
    }
   ],
   "source": [
    "strs = [\"flower\",\"flow\",\"flight\"]\n",
    "Solution.longestCommonPrefix(strs)"
   ]
  },
  {
   "cell_type": "markdown",
   "id": "53b1dc8b",
   "metadata": {},
   "source": [
    "Runtime: 40 ms, faster than 27.57% of Python online submissions for Longest Common Prefix.\n",
    "Memory Usage: 13.7 MB, less than 59.92% of Python online submissions for Longest Common Prefix."
   ]
  },
  {
   "cell_type": "markdown",
   "id": "cd6eec78",
   "metadata": {},
   "source": [
    "#### Solution 02"
   ]
  },
  {
   "cell_type": "code",
   "execution_count": 8,
   "id": "e9b2878d",
   "metadata": {},
   "outputs": [],
   "source": [
    "class Solution(object):\n",
    "    def longestCommonPrefix(strs):\n",
    "        \"\"\"\n",
    "        :type strs: List[str]\n",
    "        :rtype: str\n",
    "        \"\"\"\n",
    "        if not strs:\n",
    "            return \"\"\n",
    "        \n",
    "        shortest = min(strs, key = len)\n",
    "        \n",
    "        for i, c in enumerate(shortest):\n",
    "            for word in strs:\n",
    "                if word[i] != c:\n",
    "                    return shortest[:i]\n",
    "        return shortest"
   ]
  },
  {
   "cell_type": "code",
   "execution_count": 9,
   "id": "9aa3dc8e",
   "metadata": {},
   "outputs": [
    {
     "data": {
      "text/plain": [
       "''"
      ]
     },
     "execution_count": 9,
     "metadata": {},
     "output_type": "execute_result"
    }
   ],
   "source": [
    "strs = [\"dog\",\"racecar\",\"car\"]\n",
    "Solution.longestCommonPrefix(strs)"
   ]
  },
  {
   "cell_type": "code",
   "execution_count": 10,
   "id": "d2e6de37",
   "metadata": {},
   "outputs": [
    {
     "data": {
      "text/plain": [
       "'fl'"
      ]
     },
     "execution_count": 10,
     "metadata": {},
     "output_type": "execute_result"
    }
   ],
   "source": [
    "strs = [\"flower\",\"flow\",\"flight\"]\n",
    "Solution.longestCommonPrefix(strs)"
   ]
  },
  {
   "cell_type": "code",
   "execution_count": null,
   "id": "94c88948",
   "metadata": {},
   "outputs": [],
   "source": []
  }
 ],
 "metadata": {
  "kernelspec": {
   "display_name": "Python 3",
   "language": "python",
   "name": "python3"
  },
  "language_info": {
   "codemirror_mode": {
    "name": "ipython",
    "version": 3
   },
   "file_extension": ".py",
   "mimetype": "text/x-python",
   "name": "python",
   "nbconvert_exporter": "python",
   "pygments_lexer": "ipython3",
   "version": "3.8.8"
  }
 },
 "nbformat": 4,
 "nbformat_minor": 5
}
