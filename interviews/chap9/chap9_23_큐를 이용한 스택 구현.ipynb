{
 "cells": [
  {
   "cell_type": "code",
   "execution_count": null,
   "id": "b6095bb5",
   "metadata": {},
   "outputs": [],
   "source": [
    "class MyStack(object):\n",
    "    def __init__(self):\n",
    "        self.q = collections.deque()\n",
    "\n",
    "    def push(self, x):\n",
    "        self.q.append(x)\n",
    "        for _ in range(len(self.q)-1):\n",
    "            self.q.append(self.q.popleft())\n",
    "        \n",
    "\n",
    "    def pop(self):\n",
    "        return self.q.popleft()\n",
    "\n",
    "    def top(self):\n",
    "        return self.q[0]\n",
    "        \n",
    "\n",
    "    def empty(self):\n",
    "        return len(self.q)==0"
   ]
  }
 ],
 "metadata": {
  "kernelspec": {
   "display_name": "Python 3",
   "language": "python",
   "name": "python3"
  },
  "language_info": {
   "codemirror_mode": {
    "name": "ipython",
    "version": 3
   },
   "file_extension": ".py",
   "mimetype": "text/x-python",
   "name": "python",
   "nbconvert_exporter": "python",
   "pygments_lexer": "ipython3",
   "version": "3.8.8"
  }
 },
 "nbformat": 4,
 "nbformat_minor": 5
}
