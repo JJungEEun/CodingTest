{
 "cells": [
  {
   "cell_type": "code",
   "execution_count": 1,
   "id": "0f9338d4",
   "metadata": {},
   "outputs": [],
   "source": [
    "def dailyTemperatures(self, T):\n",
    "    stack = []\n",
    "    ans = [0]*len(T)\n",
    "    \n",
    "    for i, t in enumerate(T):\n",
    "        while stack and t>T[stack[-1]]:\n",
    "            last = stack.pop()\n",
    "            ans[last] = i - last\n",
    "        stack.append(i)\n",
    "        \n",
    "    return ans"
   ]
  },
  {
   "cell_type": "code",
   "execution_count": null,
   "id": "52a92092",
   "metadata": {},
   "outputs": [],
   "source": []
  }
 ],
 "metadata": {
  "kernelspec": {
   "display_name": "Python 3",
   "language": "python",
   "name": "python3"
  },
  "language_info": {
   "codemirror_mode": {
    "name": "ipython",
    "version": 3
   },
   "file_extension": ".py",
   "mimetype": "text/x-python",
   "name": "python",
   "nbconvert_exporter": "python",
   "pygments_lexer": "ipython3",
   "version": "3.8.8"
  }
 },
 "nbformat": 4,
 "nbformat_minor": 5
}
