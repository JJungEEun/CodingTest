{
 "cells": [
  {
   "cell_type": "code",
   "execution_count": 7,
   "id": "25dea79c",
   "metadata": {},
   "outputs": [],
   "source": [
    "import collections\n",
    "\n",
    "class Node(object):\n",
    "    def __init__(self):\n",
    "        self.word = False\n",
    "        self.child = collections.defaultdict(Node) #자식들을 저장하는 dict"
   ]
  },
  {
   "cell_type": "code",
   "execution_count": 10,
   "id": "251ea0b4",
   "metadata": {},
   "outputs": [],
   "source": [
    "class Trie(object):\n",
    "    def __init__(self):\n",
    "        self.head = Node() #빈 Node head로 설정\n",
    "        \n",
    "    def insert(self, word):\n",
    "        cur = self.head #현 문자를 가르키는 포인터 설정\n",
    "        for char in word:\n",
    "            #defaultdict 사용해 if문 필요 X\n",
    "#             if char not in cur.childe:\n",
    "#                 cur.child[char] = Node[char] \n",
    "            cur = cur.child[char]\n",
    "        cur.word = True\n",
    "    \n",
    "    def search(self, word):\n",
    "        cur = self.head\n",
    "        for char in word:\n",
    "            if char not in cur.child:\n",
    "                return False\n",
    "            cur = cur.child[char]\n",
    "        return cur.word"
   ]
  },
  {
   "cell_type": "code",
   "execution_count": 13,
   "id": "2c5ebfb4",
   "metadata": {},
   "outputs": [
    {
     "name": "stdout",
     "output_type": "stream",
     "text": [
      "True\n",
      "False\n",
      "False\n"
     ]
    }
   ],
   "source": [
    "trie = Trie()\n",
    "trie.insert('apple')\n",
    "trie.insert('appear')\n",
    "print(trie.search('apple')) #True\n",
    "print(trie.search('app')) #False\n",
    "trie.insert('appeal')\n",
    "print(trie.search('app')) #False"
   ]
  }
 ],
 "metadata": {
  "kernelspec": {
   "display_name": "Python 3",
   "language": "python",
   "name": "python3"
  },
  "language_info": {
   "codemirror_mode": {
    "name": "ipython",
    "version": 3
   },
   "file_extension": ".py",
   "mimetype": "text/x-python",
   "name": "python",
   "nbconvert_exporter": "python",
   "pygments_lexer": "ipython3",
   "version": "3.8.8"
  }
 },
 "nbformat": 4,
 "nbformat_minor": 5
}
