{
 "cells": [
  {
   "cell_type": "markdown",
   "id": "d10337b3",
   "metadata": {},
   "source": [
    "### leetcode 648. Replace Words"
   ]
  },
  {
   "cell_type": "markdown",
   "id": "ba7ed862",
   "metadata": {},
   "source": [
    "---"
   ]
  },
  {
   "cell_type": "markdown",
   "id": "de3302fa",
   "metadata": {},
   "source": [
    "#### Solution 01"
   ]
  },
  {
   "cell_type": "code",
   "execution_count": 3,
   "id": "64de1827",
   "metadata": {},
   "outputs": [],
   "source": [
    "class Solution(object):\n",
    "    def replaceWords(dictionary, sentence):\n",
    "        words = sentence.split(\" \")\n",
    "        for i in range(len(words)):\n",
    "            for d in dictionary:\n",
    "                if words[i].startswith(d):\n",
    "                    words[i] = d\n",
    "        \n",
    "        return \" \".join(words)"
   ]
  },
  {
   "cell_type": "code",
   "execution_count": 4,
   "id": "67fffc97",
   "metadata": {},
   "outputs": [
    {
     "name": "stdout",
     "output_type": "stream",
     "text": [
      "the cat was rat by the bat\n"
     ]
    }
   ],
   "source": [
    "dictionary = [\"cat\",\"bat\",\"rat\"]\n",
    "sentence = \"the cattle was rattled by the battery\"\n",
    "\n",
    "ans = Solution.replaceWords(dictionary, sentence)\n",
    "print(ans)"
   ]
  },
  {
   "cell_type": "code",
   "execution_count": 5,
   "id": "66c38919",
   "metadata": {},
   "outputs": [
    {
     "name": "stdout",
     "output_type": "stream",
     "text": [
      "a a b c\n"
     ]
    }
   ],
   "source": [
    "dictionary = [\"a\",\"b\",\"c\"]\n",
    "sentence = \"aadsfasf absbs bbab cadsfafs\"\n",
    "\n",
    "ans = Solution.replaceWords(dictionary, sentence)\n",
    "print(ans)"
   ]
  },
  {
   "cell_type": "markdown",
   "id": "20b21c7a",
   "metadata": {},
   "source": [
    "###### Runtime: 247 ms, faster than 60.82% of Python online submissions for Replace Words. Memory Usage: 22.5 MB, less than 92.40% of Python online submissions for Replace Words.\n"
   ]
  },
  {
   "cell_type": "markdown",
   "id": "3227006c",
   "metadata": {},
   "source": [
    "<br>"
   ]
  },
  {
   "cell_type": "markdown",
   "id": "000579a9",
   "metadata": {},
   "source": [
    "#### Solution 2"
   ]
  },
  {
   "cell_type": "code",
   "execution_count": 11,
   "id": "eaf87757",
   "metadata": {},
   "outputs": [],
   "source": [
    "import collections\n",
    "\n",
    "class TrieNode:\n",
    "    def __init__(self):\n",
    "        self.child = collections.defaultdict(TrieNode)\n",
    "        self.word = False\n",
    "        \n",
    "class Solution(object):\n",
    "    def replaceWords(dictionary, sentence):\n",
    "    \n",
    "        root = TrieNode()\n",
    "        \n",
    "        #trie 삽입\n",
    "        def insert(word):\n",
    "            node = root\n",
    "            for char in word:\n",
    "                node = node.child[char]\n",
    "            node.word = True\n",
    "        \n",
    "        #접미사\n",
    "        def startsWith(prefix):\n",
    "            node = root\n",
    "            s = \"\"\n",
    "            for char in prefix:\n",
    "                # node에 없을 경우 break\n",
    "                if char not in node.child:\n",
    "                    break\n",
    "                s += char\n",
    "                node = node.child[char]\n",
    "                # node.word == True\n",
    "                if node.word:\n",
    "                    break\n",
    "                    \n",
    "            if node.word:\n",
    "                return s\n",
    "            else:\n",
    "                return prefix\n",
    "        \n",
    "        # dict 삽입\n",
    "        for dict in dictionary:\n",
    "            insert(dict)\n",
    "        \n",
    "        res = []\n",
    "        for word in sentence.split(\" \"):\n",
    "            res.append(startsWith(word))\n",
    "            \n",
    "        return \" \".join(res)"
   ]
  },
  {
   "cell_type": "code",
   "execution_count": 12,
   "id": "f211db76",
   "metadata": {},
   "outputs": [
    {
     "name": "stdout",
     "output_type": "stream",
     "text": [
      "the cat was rat by the bat\n"
     ]
    }
   ],
   "source": [
    "dictionary = [\"cat\",\"bat\",\"rat\"]\n",
    "sentence = \"the cattle was rattled by the battery\"\n",
    "\n",
    "ans = Solution.replaceWords(dictionary, sentence)\n",
    "print(ans)"
   ]
  },
  {
   "cell_type": "code",
   "execution_count": 13,
   "id": "ce2b469f",
   "metadata": {},
   "outputs": [
    {
     "name": "stdout",
     "output_type": "stream",
     "text": [
      "a a b c\n"
     ]
    }
   ],
   "source": [
    "dictionary = [\"a\",\"b\",\"c\"]\n",
    "sentence = \"aadsfasf absbs bbab cadsfafs\"\n",
    "\n",
    "ans = Solution.replaceWords(dictionary, sentence)\n",
    "print(ans)"
   ]
  },
  {
   "cell_type": "code",
   "execution_count": 14,
   "id": "33ba537a",
   "metadata": {},
   "outputs": [
    {
     "name": "stdout",
     "output_type": "stream",
     "text": [
      "a a a a a a a a bbb baba a\n"
     ]
    }
   ],
   "source": [
    "dictionary = [\"a\", \"aa\", \"aaa\", \"aaaa\"]\n",
    "sentence = \"a aa a aaaa aaa aaa aaa aaaaaa bbb baba ababa\"\n",
    "\n",
    "ans = Solution.replaceWords(dictionary, sentence)\n",
    "print(ans)"
   ]
  },
  {
   "cell_type": "markdown",
   "id": "c57fce25",
   "metadata": {},
   "source": [
    "###### Runtime: 162 ms, faster than 77.78% of Python online submissions for Replace Words. Memory Usage: 54.5 MB, less than 17.54% of Python online submissions for Replace Words."
   ]
  }
 ],
 "metadata": {
  "kernelspec": {
   "display_name": "Python 3",
   "language": "python",
   "name": "python3"
  },
  "language_info": {
   "codemirror_mode": {
    "name": "ipython",
    "version": 3
   },
   "file_extension": ".py",
   "mimetype": "text/x-python",
   "name": "python",
   "nbconvert_exporter": "python",
   "pygments_lexer": "ipython3",
   "version": "3.8.8"
  }
 },
 "nbformat": 4,
 "nbformat_minor": 5
}
