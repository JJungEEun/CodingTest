{
 "cells": [
  {
   "cell_type": "markdown",
   "id": "6e72e88d",
   "metadata": {},
   "source": [
    "### 56. 트라이 구현 / lc 208. Implement Trie (Prefix Tree)"
   ]
  },
  {
   "cell_type": "markdown",
   "id": "52cedbc7",
   "metadata": {},
   "source": [
    "트라이의 insert, search, startsWith 메소드를 구현하라"
   ]
  },
  {
   "cell_type": "markdown",
   "id": "0c4f156f",
   "metadata": {},
   "source": [
    "#### 딕셔너리를 이용해 간결한 트라이 구현"
   ]
  },
  {
   "cell_type": "code",
   "execution_count": 23,
   "id": "e0480bff",
   "metadata": {},
   "outputs": [],
   "source": [
    "import collections\n",
    "\n",
    "class TrieNode:\n",
    "    def __init__(self):\n",
    "        self.word = False\n",
    "        self.children = collections.defaultdict(TrieNode)\n",
    "\n",
    "class Trie(object):\n",
    "\n",
    "    def __init__(self):\n",
    "        self.root = TrieNode()\n",
    "        \n",
    "\n",
    "    def insert(self, word):\n",
    "        node = self.root\n",
    "        for char in word:\n",
    "            node = node.children[char]\n",
    "        node.word = True        \n",
    "\n",
    "    def search(self, word):\n",
    "        node = self.root\n",
    "        for char in word:\n",
    "            if char not in node.children:\n",
    "                return False\n",
    "            node = node.children[char]\n",
    "        return node.word\n",
    "        \n",
    "\n",
    "    def startsWith(self, prefix):\n",
    "        node = self.root\n",
    "        for char in prefix:\n",
    "            if char not in node.children:\n",
    "                return False\n",
    "            node = node.children[char]\n",
    "        return True"
   ]
  },
  {
   "cell_type": "code",
   "execution_count": 24,
   "id": "1a8fb251",
   "metadata": {},
   "outputs": [
    {
     "name": "stdout",
     "output_type": "stream",
     "text": [
      "None\n",
      "True\n",
      "False\n",
      "True\n",
      "None\n",
      "True\n"
     ]
    }
   ],
   "source": [
    "obj = Trie()\n",
    "print(obj.insert(\"apple\"))\n",
    "print(obj.search(\"apple\"))\n",
    "print(obj.search(\"app\"))\n",
    "print(obj.startsWith(\"app\"))\n",
    "print(obj.insert(\"app\"))\n",
    "print(obj.search(\"app\"))"
   ]
  },
  {
   "cell_type": "markdown",
   "id": "a07e5ade",
   "metadata": {},
   "source": [
    "Runtime: 176 ms, faster than 88.80% of Python online submissions for Implement Trie (Prefix Tree).\n",
    "Memory Usage: 41 MB, less than 22.60% of Python online submissions for Implement Trie (Prefix Tree)."
   ]
  },
  {
   "cell_type": "markdown",
   "id": "0f710a3d",
   "metadata": {},
   "source": [
    "#### SET을 이용한"
   ]
  },
  {
   "cell_type": "code",
   "execution_count": 14,
   "id": "13a6ad23",
   "metadata": {},
   "outputs": [],
   "source": [
    "class Trie(object):\n",
    "    def __init__(self):\n",
    "        self.list = set()\n",
    "\n",
    "    def insert(self, word):\n",
    "        self.list.add(word)\n",
    "        \n",
    "    def search(self, word):\n",
    "        if word in self.list:\n",
    "            return True\n",
    "        else:\n",
    "            return False\n",
    "\n",
    "    def startsWith(self, prefix):\n",
    "        l = len(prefix)\n",
    "        for word in self.list:\n",
    "            if prefix == word[0:l]:\n",
    "                return True\n",
    "        return False"
   ]
  },
  {
   "cell_type": "code",
   "execution_count": 15,
   "id": "aad58557",
   "metadata": {},
   "outputs": [
    {
     "name": "stdout",
     "output_type": "stream",
     "text": [
      "None\n",
      "True\n",
      "False\n",
      "True\n",
      "None\n",
      "True\n"
     ]
    }
   ],
   "source": [
    "obj = Trie()\n",
    "print(obj.insert(\"apple\"))\n",
    "print(obj.search(\"apple\"))\n",
    "print(obj.search(\"app\"))\n",
    "print(obj.startsWith(\"app\"))\n",
    "print(obj.insert(\"app\"))\n",
    "print(obj.search(\"app\"))"
   ]
  },
  {
   "cell_type": "markdown",
   "id": "680589d7",
   "metadata": {},
   "source": [
    "Runtime: 797 ms, faster than 7.24% of Python online submissions for Implement Trie (Prefix Tree).\n",
    "Memory Usage: 21.6 MB, less than 94.45% of Python online submissions for Implement Trie (Prefix Tree)."
   ]
  },
  {
   "cell_type": "code",
   "execution_count": null,
   "id": "7270d665",
   "metadata": {},
   "outputs": [],
   "source": []
  }
 ],
 "metadata": {
  "kernelspec": {
   "display_name": "Python 3",
   "language": "python",
   "name": "python3"
  },
  "language_info": {
   "codemirror_mode": {
    "name": "ipython",
    "version": 3
   },
   "file_extension": ".py",
   "mimetype": "text/x-python",
   "name": "python",
   "nbconvert_exporter": "python",
   "pygments_lexer": "ipython3",
   "version": "3.8.8"
  }
 },
 "nbformat": 4,
 "nbformat_minor": 5
}
