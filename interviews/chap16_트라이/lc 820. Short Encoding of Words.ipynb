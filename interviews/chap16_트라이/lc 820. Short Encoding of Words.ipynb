{
 "cells": [
  {
   "cell_type": "markdown",
   "id": "43f36875",
   "metadata": {},
   "source": [
    "**820. Short Encoding of Words**"
   ]
  },
  {
   "cell_type": "markdown",
   "id": "1bf28c65",
   "metadata": {},
   "source": [
    "A valid encoding of an array of words is any reference string s and array of indices indices such that:\n",
    "\n",
    "- words.length == indices.length\n",
    "- The reference string s ends with the '#' character.\n",
    "- For each index indices[i], the substring of s starting from indices[i] and up to (but not including) the next '#' character is equal to words[i].\n",
    "\n",
    "\n",
    "Given an array of words, return the length of the shortest reference string s possible of any valid encoding of words. "
   ]
  },
  {
   "cell_type": "code",
   "execution_count": 6,
   "id": "26815408",
   "metadata": {},
   "outputs": [],
   "source": [
    "class Trie:\n",
    "    def __init__(self):\n",
    "        self.root = {}\n",
    "    \n",
    "    def insert(self, word):\n",
    "        prev = self.root\n",
    "        for i in word:\n",
    "            if i not in prev:\n",
    "                prev[i] = {}\n",
    "            prev = prev[i]\n",
    "            \n",
    "    def count(self, root, level):\n",
    "        if len(root) == 0: return level\n",
    "        count = 0\n",
    "        for i in root.keys():\n",
    "            count += self.count(root[i], level + 1)\n",
    "        return count\n",
    "        \n",
    "class Solution:\n",
    "    def minimumLengthEncoding(words):\n",
    "        words = map(lambda x:x[::-1], words)\n",
    "        t = Trie()\n",
    "        for word in words:\n",
    "            t.insert(word)\n",
    "        return t.count(t.root,1)"
   ]
  },
  {
   "cell_type": "code",
   "execution_count": 7,
   "id": "5c601111",
   "metadata": {},
   "outputs": [
    {
     "data": {
      "text/plain": [
       "10"
      ]
     },
     "execution_count": 7,
     "metadata": {},
     "output_type": "execute_result"
    }
   ],
   "source": [
    "words = [\"time\", \"me\", \"bell\"]\n",
    "Solution.minimumLengthEncoding(words)"
   ]
  },
  {
   "cell_type": "code",
   "execution_count": 8,
   "id": "3f975228",
   "metadata": {},
   "outputs": [
    {
     "data": {
      "text/plain": [
       "2"
      ]
     },
     "execution_count": 8,
     "metadata": {},
     "output_type": "execute_result"
    }
   ],
   "source": [
    "words = [\"t\"]\n",
    "Solution.minimumLengthEncoding(words)"
   ]
  }
 ],
 "metadata": {
  "kernelspec": {
   "display_name": "Python 3",
   "language": "python",
   "name": "python3"
  },
  "language_info": {
   "codemirror_mode": {
    "name": "ipython",
    "version": 3
   },
   "file_extension": ".py",
   "mimetype": "text/x-python",
   "name": "python",
   "nbconvert_exporter": "python",
   "pygments_lexer": "ipython3",
   "version": "3.8.8"
  }
 },
 "nbformat": 4,
 "nbformat_minor": 5
}
